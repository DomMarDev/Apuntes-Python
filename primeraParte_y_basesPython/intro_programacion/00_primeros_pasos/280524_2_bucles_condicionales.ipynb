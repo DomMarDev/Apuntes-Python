{
 "cells": [
  {
   "cell_type": "markdown",
   "metadata": {},
   "source": [
    "# Bulces condicionales"
   ]
  },
  {
   "cell_type": "markdown",
   "metadata": {},
   "source": [
    "## Sentencia While (Mientras)"
   ]
  },
  {
   "cell_type": "markdown",
   "metadata": {},
   "source": [
    "La sentencia *While* se basa en repetir un bloque de código a partir de la evaluación de una condición lógica, siempre que ésta sea *True*"
   ]
  },
  {
   "cell_type": "code",
   "execution_count": 91,
   "metadata": {},
   "outputs": [
    {
     "name": "stdout",
     "output_type": "stream",
     "text": [
      "0\n",
      "1\n",
      "2\n",
      "3\n",
      "4\n",
      "5\n",
      "6\n",
      "7\n",
      "8\n",
      "9\n",
      "Fin del programa\n"
     ]
    }
   ],
   "source": [
    "# Ejemplo\n",
    "variable1 = 0\n",
    "while variable1 < 10:\n",
    "    print(variable1)\n",
    "    variable1 += 1  # es lo mismo que escribir variable1 +1\n",
    "    # La variable de control hay que actualizarla, para evitar bucle infinito\n",
    "\n",
    "print('Fin del programa')"
   ]
  },
  {
   "cell_type": "markdown",
   "metadata": {},
   "source": [
    "añadir sentencia else, una vez la condicion me devulve true, qqué hace el programa?"
   ]
  },
  {
   "cell_type": "markdown",
   "metadata": {},
   "source": [
    "## Sentencia *else* en bucle *While*"
   ]
  },
  {
   "cell_type": "markdown",
   "metadata": {},
   "source": [
    "Podemos añadir una cláusula *else* para indicar qué sucede cuando la condición deja de cumplirse (*False*)"
   ]
  },
  {
   "cell_type": "code",
   "execution_count": 92,
   "metadata": {},
   "outputs": [
    {
     "name": "stdout",
     "output_type": "stream",
     "text": [
      "0\n",
      "1\n",
      "2\n",
      "3\n",
      "4\n",
      "5\n",
      "6\n",
      "7\n",
      "8\n",
      "9\n",
      "10\n",
      "Ya hemos acabado el bucle condicional\n"
     ]
    }
   ],
   "source": [
    "variable2= 0\n",
    "\n",
    "while variable2 <= 10:\n",
    "    print(variable2)\n",
    "    variable2 +=1\n",
    "else:\n",
    "    print('Ya hemos acabado el bucle condicional')"
   ]
  },
  {
   "cell_type": "markdown",
   "metadata": {},
   "source": [
    "Sentencia para romper o detener el bucle completo con *break*"
   ]
  },
  {
   "cell_type": "markdown",
   "metadata": {},
   "source": [
    "## Sentencia *break*"
   ]
  },
  {
   "cell_type": "markdown",
   "metadata": {},
   "source": [
    "La sentencia *break* interrumpe la ejecución del bucle *While* en el momento en que nosotros decidamos. No se ejecutará la sentencia *else*, ya que forma parte del bucle de *While*\n"
   ]
  },
  {
   "cell_type": "code",
   "execution_count": 93,
   "metadata": {},
   "outputs": [
    {
     "name": "stdout",
     "output_type": "stream",
     "text": [
      "0\n",
      "1\n",
      "2\n",
      "3\n",
      "4\n"
     ]
    }
   ],
   "source": [
    "variable3 = 0\n",
    "\n",
    "while variable3 <= 10:\n",
    "    if variable3 == 5:\n",
    "        break\n",
    "    print(variable3)\n",
    "    variable3 +=1\n",
    "else: # el else con el break no se ejecuta en este caso\n",
    "    print('Ya hemos acabado el bucle condicional')\n",
    "    "
   ]
  },
  {
   "cell_type": "markdown",
   "metadata": {},
   "source": [
    "## Sentencia *continue*"
   ]
  },
  {
   "cell_type": "markdown",
   "metadata": {},
   "source": [
    "*Continue* salta la iteración actual en caso de cumplirse la condición, pero sin romper la ejecución del bucle"
   ]
  },
  {
   "cell_type": "code",
   "execution_count": 94,
   "metadata": {},
   "outputs": [
    {
     "name": "stdout",
     "output_type": "stream",
     "text": [
      "1\n",
      "2\n",
      "3\n",
      "4\n",
      "6\n",
      "7\n",
      "8\n",
      "9\n",
      "10\n",
      "11\n",
      "Fin del bucle\n"
     ]
    }
   ],
   "source": [
    "variable4 = 0\n",
    "\n",
    "while variable4 <= 10:\n",
    "    variable4 += 1\n",
    "    if variable4 == 5:\n",
    "        continue\n",
    "    print(variable4)\n",
    "    # variable4 += 1 , esto aqui no se puede solo porque con el continue nunca se llegaría a sumar 1 a la variable a partir de 4\n",
    "    \n",
    "else:\n",
    "    print('Fin del bucle')"
   ]
  },
  {
   "cell_type": "markdown",
   "metadata": {},
   "source": [
    "## Uso de banderas o flags"
   ]
  },
  {
   "cell_type": "code",
   "execution_count": 95,
   "metadata": {},
   "outputs": [
    {
     "name": "stdout",
     "output_type": "stream",
     "text": [
      "Fin del programa\n"
     ]
    }
   ],
   "source": [
    "control = True\n",
    "\n",
    "while control:\n",
    "    numero = int(input('Introduce un número (0 para salir)'))\n",
    "\n",
    "    if numero == 0:\n",
    "        control = False # Esto es la bandera\n",
    "    elif numero % 2 == 0:\n",
    "        print('El número es par')\n",
    "    else:\n",
    "        print('El número es impar')\n",
    "else:\n",
    "    print('Fin del programa')\n"
   ]
  },
  {
   "cell_type": "markdown",
   "metadata": {},
   "source": [
    "1. Programa que nos de la tablas de multiplicar del 1 al 9."
   ]
  },
  {
   "cell_type": "code",
   "execution_count": 96,
   "metadata": {},
   "outputs": [
    {
     "name": "stdout",
     "output_type": "stream",
     "text": [
      "\n",
      "La tabla del 1:\n",
      "1 * 1 = 1\n",
      "1 * 2 = 2\n",
      "1 * 3 = 3\n",
      "1 * 4 = 4\n",
      "1 * 5 = 5\n",
      "1 * 6 = 6\n",
      "1 * 7 = 7\n",
      "1 * 8 = 8\n",
      "1 * 9 = 9\n",
      "1 * 10 = 10\n",
      "\n",
      "La tabla del 2:\n",
      "2 * 1 = 2\n",
      "2 * 2 = 4\n",
      "2 * 3 = 6\n",
      "2 * 4 = 8\n",
      "2 * 5 = 10\n",
      "2 * 6 = 12\n",
      "2 * 7 = 14\n",
      "2 * 8 = 16\n",
      "2 * 9 = 18\n",
      "2 * 10 = 20\n",
      "\n",
      "La tabla del 3:\n",
      "3 * 1 = 3\n",
      "3 * 2 = 6\n",
      "3 * 3 = 9\n",
      "3 * 4 = 12\n",
      "3 * 5 = 15\n",
      "3 * 6 = 18\n",
      "3 * 7 = 21\n",
      "3 * 8 = 24\n",
      "3 * 9 = 27\n",
      "3 * 10 = 30\n",
      "\n",
      "La tabla del 4:\n",
      "4 * 1 = 4\n",
      "4 * 2 = 8\n",
      "4 * 3 = 12\n",
      "4 * 4 = 16\n",
      "4 * 5 = 20\n",
      "4 * 6 = 24\n",
      "4 * 7 = 28\n",
      "4 * 8 = 32\n",
      "4 * 9 = 36\n",
      "4 * 10 = 40\n",
      "\n",
      "La tabla del 5:\n",
      "5 * 1 = 5\n",
      "5 * 2 = 10\n",
      "5 * 3 = 15\n",
      "5 * 4 = 20\n",
      "5 * 5 = 25\n",
      "5 * 6 = 30\n",
      "5 * 7 = 35\n",
      "5 * 8 = 40\n",
      "5 * 9 = 45\n",
      "5 * 10 = 50\n",
      "\n",
      "La tabla del 6:\n",
      "6 * 1 = 6\n",
      "6 * 2 = 12\n",
      "6 * 3 = 18\n",
      "6 * 4 = 24\n",
      "6 * 5 = 30\n",
      "6 * 6 = 36\n",
      "6 * 7 = 42\n",
      "6 * 8 = 48\n",
      "6 * 9 = 54\n",
      "6 * 10 = 60\n",
      "\n",
      "La tabla del 7:\n",
      "7 * 1 = 7\n",
      "7 * 2 = 14\n",
      "7 * 3 = 21\n",
      "7 * 4 = 28\n",
      "7 * 5 = 35\n",
      "7 * 6 = 42\n",
      "7 * 7 = 49\n",
      "7 * 8 = 56\n",
      "7 * 9 = 63\n",
      "7 * 10 = 70\n",
      "\n",
      "La tabla del 8:\n",
      "8 * 1 = 8\n",
      "8 * 2 = 16\n",
      "8 * 3 = 24\n",
      "8 * 4 = 32\n",
      "8 * 5 = 40\n",
      "8 * 6 = 48\n",
      "8 * 7 = 56\n",
      "8 * 8 = 64\n",
      "8 * 9 = 72\n",
      "8 * 10 = 80\n",
      "\n",
      "La tabla del 9:\n",
      "9 * 1 = 9\n",
      "9 * 2 = 18\n",
      "9 * 3 = 27\n",
      "9 * 4 = 36\n",
      "9 * 5 = 45\n",
      "9 * 6 = 54\n",
      "9 * 7 = 63\n",
      "9 * 8 = 72\n",
      "9 * 9 = 81\n",
      "9 * 10 = 90\n",
      "\n",
      "La tabla del 10:\n",
      "10 * 1 = 10\n",
      "10 * 2 = 20\n",
      "10 * 3 = 30\n",
      "10 * 4 = 40\n",
      "10 * 5 = 50\n",
      "10 * 6 = 60\n",
      "10 * 7 = 70\n",
      "10 * 8 = 80\n",
      "10 * 9 = 90\n",
      "10 * 10 = 100\n",
      "Fin del programa\n"
     ]
    }
   ],
   "source": [
    "numero =0\n",
    "multiplicador = 0\n",
    "\n",
    "while numero < 10:\n",
    "    numero +=1\n",
    "    print(f'\\nLa tabla del {numero}:')\n",
    "    multiplicador=0\n",
    "    while multiplicador <10:\n",
    "        multiplicador +=1\n",
    "        resultado = numero * multiplicador\n",
    "        print(f'{numero} * {multiplicador} = {resultado}')       \n",
    "else:\n",
    "     print('Fin del programa')\n",
    "    "
   ]
  },
  {
   "cell_type": "code",
   "execution_count": 97,
   "metadata": {},
   "outputs": [
    {
     "name": "stdout",
     "output_type": "stream",
     "text": [
      "\n",
      "Tabla del 1\n",
      "1 * 1 = 1\n",
      "1 * 2 = 2\n",
      "1 * 3 = 3\n",
      "1 * 4 = 4\n",
      "1 * 5 = 5\n",
      "1 * 6 = 6\n",
      "1 * 7 = 7\n",
      "1 * 8 = 8\n",
      "1 * 9 = 9\n",
      "1 * 10 = 10\n",
      "\n",
      "Tabla del 2\n",
      "2 * 1 = 2\n",
      "2 * 2 = 4\n",
      "2 * 3 = 6\n",
      "2 * 4 = 8\n",
      "2 * 5 = 10\n",
      "2 * 6 = 12\n",
      "2 * 7 = 14\n",
      "2 * 8 = 16\n",
      "2 * 9 = 18\n",
      "2 * 10 = 20\n",
      "\n",
      "Tabla del 3\n",
      "3 * 1 = 3\n",
      "3 * 2 = 6\n",
      "3 * 3 = 9\n",
      "3 * 4 = 12\n",
      "3 * 5 = 15\n",
      "3 * 6 = 18\n",
      "3 * 7 = 21\n",
      "3 * 8 = 24\n",
      "3 * 9 = 27\n",
      "3 * 10 = 30\n",
      "\n",
      "Tabla del 4\n",
      "4 * 1 = 4\n",
      "4 * 2 = 8\n",
      "4 * 3 = 12\n",
      "4 * 4 = 16\n",
      "4 * 5 = 20\n",
      "4 * 6 = 24\n",
      "4 * 7 = 28\n",
      "4 * 8 = 32\n",
      "4 * 9 = 36\n",
      "4 * 10 = 40\n",
      "\n",
      "Tabla del 5\n",
      "5 * 1 = 5\n",
      "5 * 2 = 10\n",
      "5 * 3 = 15\n",
      "5 * 4 = 20\n",
      "5 * 5 = 25\n",
      "5 * 6 = 30\n",
      "5 * 7 = 35\n",
      "5 * 8 = 40\n",
      "5 * 9 = 45\n",
      "5 * 10 = 50\n",
      "\n",
      "Tabla del 6\n",
      "6 * 1 = 6\n",
      "6 * 2 = 12\n",
      "6 * 3 = 18\n",
      "6 * 4 = 24\n",
      "6 * 5 = 30\n",
      "6 * 6 = 36\n",
      "6 * 7 = 42\n",
      "6 * 8 = 48\n",
      "6 * 9 = 54\n",
      "6 * 10 = 60\n",
      "\n",
      "Tabla del 7\n",
      "7 * 1 = 7\n",
      "7 * 2 = 14\n",
      "7 * 3 = 21\n",
      "7 * 4 = 28\n",
      "7 * 5 = 35\n",
      "7 * 6 = 42\n",
      "7 * 7 = 49\n",
      "7 * 8 = 56\n",
      "7 * 9 = 63\n",
      "7 * 10 = 70\n",
      "\n",
      "Tabla del 8\n",
      "8 * 1 = 8\n",
      "8 * 2 = 16\n",
      "8 * 3 = 24\n",
      "8 * 4 = 32\n",
      "8 * 5 = 40\n",
      "8 * 6 = 48\n",
      "8 * 7 = 56\n",
      "8 * 8 = 64\n",
      "8 * 9 = 72\n",
      "8 * 10 = 80\n",
      "\n",
      "Tabla del 9\n",
      "9 * 1 = 9\n",
      "9 * 2 = 18\n",
      "9 * 3 = 27\n",
      "9 * 4 = 36\n",
      "9 * 5 = 45\n",
      "9 * 6 = 54\n",
      "9 * 7 = 63\n",
      "9 * 8 = 72\n",
      "9 * 9 = 81\n",
      "9 * 10 = 90\n"
     ]
    }
   ],
   "source": [
    "# Profe\n",
    "\n",
    "tabla =1\n",
    "\n",
    "while tabla <10:\n",
    "    print(f'\\nTabla del {tabla}')\n",
    "\n",
    "    numero = 1\n",
    "    while numero <= 10:\n",
    "        resultado = tabla * numero\n",
    "        print(f'{tabla} * {numero} = {resultado}')\n",
    "        numero +=1\n",
    "    tabla +=1\n"
   ]
  },
  {
   "cell_type": "code",
   "execution_count": 98,
   "metadata": {},
   "outputs": [
    {
     "name": "stdout",
     "output_type": "stream",
     "text": [
      "\n",
      "La tabla del 1\n",
      " 1 * 1 = 1\n",
      " 1 * 2 = 2\n",
      " 1 * 3 = 3\n",
      " 1 * 4 = 4\n",
      " 1 * 5 = 5\n",
      " 1 * 6 = 6\n",
      " 1 * 7 = 7\n",
      " 1 * 8 = 8\n",
      " 1 * 9 = 9\n",
      " 1 * 10 = 10\n",
      "\n",
      "La tabla del 2\n",
      " 2 * 1 = 2\n",
      " 2 * 2 = 4\n",
      " 2 * 3 = 6\n",
      " 2 * 4 = 8\n",
      " 2 * 5 = 10\n",
      " 2 * 6 = 12\n",
      " 2 * 7 = 14\n",
      " 2 * 8 = 16\n",
      " 2 * 9 = 18\n",
      " 2 * 10 = 20\n",
      "\n",
      "La tabla del 3\n",
      " 3 * 1 = 3\n",
      " 3 * 2 = 6\n",
      " 3 * 3 = 9\n",
      " 3 * 4 = 12\n",
      " 3 * 5 = 15\n",
      " 3 * 6 = 18\n",
      " 3 * 7 = 21\n",
      " 3 * 8 = 24\n",
      " 3 * 9 = 27\n",
      " 3 * 10 = 30\n",
      "\n",
      "La tabla del 4\n",
      " 4 * 1 = 4\n",
      " 4 * 2 = 8\n",
      " 4 * 3 = 12\n",
      " 4 * 4 = 16\n",
      " 4 * 5 = 20\n",
      " 4 * 6 = 24\n",
      " 4 * 7 = 28\n",
      " 4 * 8 = 32\n",
      " 4 * 9 = 36\n",
      " 4 * 10 = 40\n",
      "\n",
      "La tabla del 5\n",
      " 5 * 1 = 5\n",
      " 5 * 2 = 10\n",
      " 5 * 3 = 15\n",
      " 5 * 4 = 20\n",
      " 5 * 5 = 25\n",
      " 5 * 6 = 30\n",
      " 5 * 7 = 35\n",
      " 5 * 8 = 40\n",
      " 5 * 9 = 45\n",
      " 5 * 10 = 50\n",
      "\n",
      "La tabla del 6\n",
      " 6 * 1 = 6\n",
      " 6 * 2 = 12\n",
      " 6 * 3 = 18\n",
      " 6 * 4 = 24\n",
      " 6 * 5 = 30\n",
      " 6 * 6 = 36\n",
      " 6 * 7 = 42\n",
      " 6 * 8 = 48\n",
      " 6 * 9 = 54\n",
      " 6 * 10 = 60\n",
      "\n",
      "La tabla del 7\n",
      " 7 * 1 = 7\n",
      " 7 * 2 = 14\n",
      " 7 * 3 = 21\n",
      " 7 * 4 = 28\n",
      " 7 * 5 = 35\n",
      " 7 * 6 = 42\n",
      " 7 * 7 = 49\n",
      " 7 * 8 = 56\n",
      " 7 * 9 = 63\n",
      " 7 * 10 = 70\n",
      "\n",
      "La tabla del 8\n",
      " 8 * 1 = 8\n",
      " 8 * 2 = 16\n",
      " 8 * 3 = 24\n",
      " 8 * 4 = 32\n",
      " 8 * 5 = 40\n",
      " 8 * 6 = 48\n",
      " 8 * 7 = 56\n",
      " 8 * 8 = 64\n",
      " 8 * 9 = 72\n",
      " 8 * 10 = 80\n",
      "\n",
      "La tabla del 9\n",
      " 9 * 1 = 9\n",
      " 9 * 2 = 18\n",
      " 9 * 3 = 27\n",
      " 9 * 4 = 36\n",
      " 9 * 5 = 45\n",
      " 9 * 6 = 54\n",
      " 9 * 7 = 63\n",
      " 9 * 8 = 72\n",
      " 9 * 9 = 81\n",
      " 9 * 10 = 90\n",
      "\n",
      "La tabla del 10\n",
      " 10 * 1 = 10\n",
      " 10 * 2 = 20\n",
      " 10 * 3 = 30\n",
      " 10 * 4 = 40\n",
      " 10 * 5 = 50\n",
      " 10 * 6 = 60\n",
      " 10 * 7 = 70\n",
      " 10 * 8 = 80\n",
      " 10 * 9 = 90\n",
      " 10 * 10 = 100\n"
     ]
    }
   ],
   "source": [
    "# Otra forma, con bucles for\n",
    "\n",
    "for numero1 in range(1,11):\n",
    "    print(f'\\nLa tabla del {numero1}')\n",
    "    for numero2 in range(1,11):\n",
    "        print(f' {numero1} * {numero2} = {numero1 * numero2}')\n"
   ]
  },
  {
   "cell_type": "markdown",
   "metadata": {},
   "source": [
    "### Ejercicios con bucles"
   ]
  },
  {
   "cell_type": "markdown",
   "metadata": {},
   "source": [
    "1. Escribe un programa que pida al usuario una palabra y la muestre por pantalla 10 veces (con bucle for y bucle while) "
   ]
  },
  {
   "cell_type": "code",
   "execution_count": 99,
   "metadata": {},
   "outputs": [
    {
     "name": "stdout",
     "output_type": "stream",
     "text": [
      " 1 Domingo\n",
      " 2 Domingo\n",
      " 3 Domingo\n",
      " 4 Domingo\n",
      " 5 Domingo\n",
      " 6 Domingo\n",
      " 7 Domingo\n",
      " 8 Domingo\n",
      " 9 Domingo\n",
      " 10 Domingo\n",
      "fin del bucle for\n",
      "\n",
      " 1 Domingo\n",
      " 2 Domingo\n",
      " 3 Domingo\n",
      " 4 Domingo\n",
      " 5 Domingo\n",
      " 6 Domingo\n",
      " 7 Domingo\n",
      " 8 Domingo\n",
      " 9 Domingo\n",
      " 10 Domingo\n",
      "fin del bucle while\n"
     ]
    }
   ],
   "source": [
    "palabra = input('Introduce una palabra para que te la repita 10 veces')\n",
    "#Con bucle for\n",
    "\n",
    "for indice in range(1,11):\n",
    "    print(f' {indice} {palabra}')\n",
    "\n",
    "print('fin del bucle for\\n')\n",
    "\n",
    "#Bucle while\n",
    "contador = 0\n",
    "while contador <10:\n",
    "    contador += 1\n",
    "    print(f' {contador} {palabra}')\n",
    "    \n",
    "print('fin del bucle while')"
   ]
  },
  {
   "cell_type": "code",
   "execution_count": 102,
   "metadata": {},
   "outputs": [
    {
     "name": "stdout",
     "output_type": "stream",
     "text": [
      "Juan\n",
      "Juan\n",
      "Juan\n",
      "Juan\n",
      "Juan\n",
      "Juan\n",
      "Juan\n",
      "Juan\n",
      "Juan\n",
      "Juan\n",
      "\n",
      "\n",
      "Juan\n",
      "Juan\n",
      "Juan\n",
      "Juan\n",
      "Juan\n",
      "Juan\n",
      "Juan\n",
      "Juan\n",
      "Juan\n",
      "Juan\n"
     ]
    }
   ],
   "source": [
    "# Profe\n",
    "\n",
    "# Bucle while\n",
    "palabra = input('Introduzca una palabra')\n",
    "\n",
    "contador = 0\n",
    "while contador < 10:\n",
    "    print(palabra)\n",
    "    contador +=1\n",
    "\n",
    "print('\\n')\n",
    "\n",
    "# Bucle for\n",
    "for i in range(10):\n",
    "    print(palabra)"
   ]
  },
  {
   "cell_type": "markdown",
   "metadata": {},
   "source": [
    "2. Escribir un programa que pida al usuario un número entero positivo y muestre por pantalla todos los números impares desde 1 hasta ese número separados por comas."
   ]
  },
  {
   "cell_type": "code",
   "execution_count": 3,
   "metadata": {},
   "outputs": [
    {
     "name": "stdout",
     "output_type": "stream",
     "text": [
      "1,3,5,7,9,11,13,15,17,19,21,23,25,\n",
      "Fin del programa\n"
     ]
    }
   ],
   "source": [
    "\n",
    "numero = input('Dame un número para darte los impares desde 1 hasta ese número')\n",
    "numero = int(numero)\n",
    "impar=0\n",
    "while impar != numero:\n",
    "      impar= impar +1\n",
    "      resultado= impar % 2 == 1\n",
    "      if resultado == True:\n",
    "       print(impar, end=',')\n",
    "\n",
    "print('\\nFin del programa')\n"
   ]
  },
  {
   "cell_type": "code",
   "execution_count": 4,
   "metadata": {},
   "outputs": [
    {
     "name": "stdout",
     "output_type": "stream",
     "text": [
      "1,3,5,7,9,"
     ]
    }
   ],
   "source": [
    "#Profe\n",
    "\n",
    "#con bucle for\n",
    "numero = int(input('Dame un número entero positivo'))\n",
    "\n",
    "for i in range(1, numero, 2):\n",
    "    print(i, end = ',')"
   ]
  },
  {
   "cell_type": "code",
   "execution_count": 5,
   "metadata": {},
   "outputs": [
    {
     "name": "stdout",
     "output_type": "stream",
     "text": [
      "1,3,5,7,9,"
     ]
    }
   ],
   "source": [
    "# Bucle while profe\n",
    "numero = int(input('Dame un número entero positivo'))\n",
    "\n",
    "i=1\n",
    "\n",
    "while i < numero:\n",
    "    print(i, end= ',')\n",
    "    i += 2\n"
   ]
  },
  {
   "cell_type": "code",
   "execution_count": 11,
   "metadata": {},
   "outputs": [
    {
     "name": "stdout",
     "output_type": "stream",
     "text": [
      "1, 3, 5, 7, 9\n",
      "<class 'str'>\n"
     ]
    },
    {
     "data": {
      "text/plain": [
       "'1, 3, 5, 7, 9'"
      ]
     },
     "execution_count": 11,
     "metadata": {},
     "output_type": "execute_result"
    }
   ],
   "source": [
    "# Bucle por compresión. String por compresión.\n",
    "numero = int(input('Dame un número entero positivo'))\n",
    "resultado= ', '.join(str(i) for i in range(1, numero,2)) #aquí estamos concatenando y lo estamos poniendo en una string.\n",
    "print(resultado)\n",
    "print(type(resultado))\n",
    "resultado"
   ]
  },
  {
   "cell_type": "markdown",
   "metadata": {},
   "source": [
    "3. Escribir un programa que alamacene las asignaturas de un ciclo (por ejemplo Matematicas, Física, Química, Historia y Lengua) en una lista, pregunte al usuario la nota que ha sacado en cada asignatura y elimine de la lista las asignaturas aprobadas (>5). Al final el programa debe mostrar por pantalla las asignaturas que el usuario tiene que repetir."
   ]
  },
  {
   "cell_type": "code",
   "execution_count": 63,
   "metadata": {},
   "outputs": [
    {
     "name": "stdout",
     "output_type": "stream",
     "text": [
      "Has de repetir Física, Química, Historia, Lengua\n",
      "Fin del programa\n"
     ]
    }
   ],
   "source": [
    "asignaturas = ['Matematicas', 'Física', 'Química', 'Historia', 'Lengua']\n",
    "\n",
    "notas = []\n",
    "\n",
    "for notaAsignatura in asignaturas:\n",
    "     nota = int(input('cual es la nota en ' + notaAsignatura))\n",
    "     \n",
    "     if nota > 5:\n",
    "       notas.append(notaAsignatura) \n",
    "       \n",
    "for asignaturaEliminada in notas:\n",
    "    asignaturas.remove(asignaturaEliminada)\n",
    "     \n",
    "print(f'Has de repetir ' + ', '.join(asignaturas))\n",
    "\n",
    "print('Fin del programa')"
   ]
  },
  {
   "cell_type": "code",
   "execution_count": 73,
   "metadata": {},
   "outputs": [
    {
     "name": "stdout",
     "output_type": "stream",
     "text": [
      "Has de repetir Física, Química, Lengua\n",
      "Fin del programa\n"
     ]
    }
   ],
   "source": [
    "asignaturas = ['Matematicas', 'Física', 'Química', 'Historia', 'Lengua']\n",
    "\n",
    "notas = []\n",
    "\n",
    "contador= 0\n",
    "\n",
    "while contador < len(asignaturas):\n",
    "    \n",
    "    nota = int(input('cual es la nota en ' + asignaturas[contador]))\n",
    "    if nota > 5:\n",
    "        notas.append(asignaturas[contador])\n",
    "          \n",
    "    contador +=1 \n",
    "\n",
    "for asignaturaEliminada in notas:\n",
    "    asignaturas.remove(asignaturaEliminada) \n",
    "\n",
    "print(f'Has de repetir ' + ', '.join(asignaturas))\n",
    "\n",
    "print('Fin del programa')"
   ]
  },
  {
   "cell_type": "code",
   "execution_count": 2,
   "metadata": {},
   "outputs": [
    {
     "name": "stdout",
     "output_type": "stream",
     "text": [
      "No tienes que repetir nada\n"
     ]
    }
   ],
   "source": [
    "# Profe\n",
    "\n",
    "asignaturas = ['Matematicas', 'Física', 'Química', 'Historia', 'Lengua']\n",
    "\n",
    "aprovadas = [] # lista vacía donde añades la lista de asignaturas aprovadas \n",
    "\n",
    "for asignatura in asignaturas:\n",
    "    resultado = float(input(f'¿Qué nota ha sacado en {asignatura}?'))\n",
    "    if resultado > 5:\n",
    "        aprovadas.append(asignatura)\n",
    "\n",
    "for asignatura in aprovadas: #Compruebas que la asignaturas de aprovadas esté dentro y luego la borras\n",
    "    asignaturas.remove(asignatura)\n",
    "\n",
    "if len(asignaturas) > 0:\n",
    "    print(f'Tienes que repetir: {', '.join(asignaturas)}.')\n",
    "else:\n",
    "    print('No tienes que repetir nada.')\n",
    "\n",
    "\n"
   ]
  }
 ],
 "metadata": {
  "kernelspec": {
   "display_name": "Python 3",
   "language": "python",
   "name": "python3"
  },
  "language_info": {
   "codemirror_mode": {
    "name": "ipython",
    "version": 3
   },
   "file_extension": ".py",
   "mimetype": "text/x-python",
   "name": "python",
   "nbconvert_exporter": "python",
   "pygments_lexer": "ipython3",
   "version": "3.12.3"
  }
 },
 "nbformat": 4,
 "nbformat_minor": 2
}
