{
 "cells": [
  {
   "cell_type": "markdown",
   "metadata": {},
   "source": [
    " Llevamos siempre con la Programación Orientada a Objetos . En Python el elemento más arriba es el elemento object.\n",
    "\n",
    " Qué es un objeto?\n",
    " representamos cualquier objeto del mundo real, pero necesitas abstracción.\n",
    "\n",
    "Por ejemplo una tarjeta de crétido real:\n",
    "     chip, numero, cvv, titular...\n",
    "    - Tiene una serie de característica: ser de  tipo debito rédito / color, titular ... (ATRIBUTOS)\n",
    "    - Tiene unos usos o utilidades: Activarla, desactivar, realizar un pago (MÉTODOS)\n",
    "\n",
    "Con la POO, declararemos una clase y de ahí crearemos objetos con atributos y métodos sobre ese objeto.\n",
    "    Ej: tarjeta bbva, santander etc, pero todas provienen de la clase Tarjeta\n",
    "\n",
    "Esto permite y está relacionado con la programación funcional o modular:\n",
    "    - Llamabamos funciones para no repetir un código\n",
    "    - Ahora enclapsulamos en una clase y crearemos objetos a partir de una clase\n",
    "        Clase calculadora con características báscias y de ahi crear una cientídica o financiera.\n",
    "        Simplificamos nuestro código\n",
    "\n",
    "La POO tuvo su auge, pero ahora ya no se trabaja tanto porque no es la panacea.\n",
    "    Problemas de programación -> resolver con programación funcional o POO\n",
    "\n",
    "Al complicarse el código muchas veces la POO te soluciona cosas en un determinado momento.\n",
    "\n",
    "Con programación funcional en proyectos grandes el código se ensucia un poco y se usa la POO.\n",
    "\n",
    "La POO se crean \"moldes\" que luego reaprovecharemos y podemos hacer tantos como queramos.\n",
    "    Los métodos se definien igual que las funciones.\n",
    "\n",
    "Definimos una clase coche y ponemos sus atributos y métods -> está encapsulado\n",
    "    -Llamar: mi_coche = coche() ya lo tienes."
   ]
  },
  {
   "cell_type": "markdown",
   "metadata": {},
   "source": [
    "# Programación orientada a objetos POO"
   ]
  },
  {
   "cell_type": "markdown",
   "metadata": {},
   "source": [
    "## Creando la clase *Cat*\n",
    "\n",
    "por convención la primera letra en mayúscula\n",
    "es recomendable poner lo que generas en al clase con ''' '''\n",
    "función propia init para asignarle los atributos por defecto (no es obligatorio, pero recomendable)\n",
    "como mínimo tiene parámetro self, por convención. Instanciar mi gato se la envía a self.\n",
    "se pasan dos parámetros como nombre y edad y los definimos con self.nombre y self.edad\n",
    "\n",
    "al hacer instancia a esa clase se asignan esos parámetros (solf.nombre y self.edad)\n",
    "\n",
    "vamos a generar acciones que van a realizar: como maullar o saltar\n",
    "\n",
    "Clase gato (Cat) con dos atributos (nombre y edad) y dos métodos (maulla y salta)\n",
    "\n",
    "metodo innit, siempre que creemos una instancia siempre le va a asignar esos parámetros."
   ]
  },
  {
   "cell_type": "code",
   "execution_count": 153,
   "metadata": {},
   "outputs": [],
   "source": [
    "class Cat:\n",
    "    ''' Creación del modelo de un gato'''\n",
    "    def __init__(self, nombre, edad):\n",
    "        ''' iniciamos los atributos nombre y edad'''\n",
    "        self.nombre = nombre\n",
    "        self.edad = edad\n",
    "    \n",
    "    def maulla(self):\n",
    "        ''' Simulamos el gato maullido en respuesta a una orden'''\n",
    "        print(f'{self.nombre}está ahora maullando')\n",
    "    \n",
    "    def salta(self):\n",
    "        ''' Simulamos un gato saltando en respuesta a una orden'''\n",
    "        print(f'{self.nombre} está asltando a su cama!')"
   ]
  },
  {
   "cell_type": "code",
   "execution_count": 154,
   "metadata": {},
   "outputs": [
    {
     "name": "stdout",
     "output_type": "stream",
     "text": [
      "<class '__main__.Cat'>\n"
     ]
    },
    {
     "data": {
      "text/plain": [
       "['__class__',\n",
       " '__delattr__',\n",
       " '__dict__',\n",
       " '__dir__',\n",
       " '__doc__',\n",
       " '__eq__',\n",
       " '__format__',\n",
       " '__ge__',\n",
       " '__getattribute__',\n",
       " '__getstate__',\n",
       " '__gt__',\n",
       " '__hash__',\n",
       " '__init__',\n",
       " '__init_subclass__',\n",
       " '__le__',\n",
       " '__lt__',\n",
       " '__module__',\n",
       " '__ne__',\n",
       " '__new__',\n",
       " '__reduce__',\n",
       " '__reduce_ex__',\n",
       " '__repr__',\n",
       " '__setattr__',\n",
       " '__sizeof__',\n",
       " '__str__',\n",
       " '__subclasshook__',\n",
       " '__weakref__',\n",
       " 'maulla',\n",
       " 'salta']"
      ]
     },
     "execution_count": 154,
     "metadata": {},
     "output_type": "execute_result"
    }
   ],
   "source": [
    "print(Cat)\n",
    "dir(Cat) # para ver los métodos que tiene"
   ]
  },
  {
   "cell_type": "markdown",
   "metadata": {},
   "source": [
    "Creando la primera instancia a la clase Cat"
   ]
  },
  {
   "cell_type": "code",
   "execution_count": 155,
   "metadata": {},
   "outputs": [
    {
     "name": "stdout",
     "output_type": "stream",
     "text": [
      "<__main__.Cat object at 0x0000024A46EE1E80>\n"
     ]
    }
   ],
   "source": [
    "my_cat = Cat('Dobby', 3) # Se pasan los atributos nombre y edad . esto es una instancia?\n",
    "\n",
    "print(my_cat) # te dice que es un objeto de la clase Cat + una dirección de memoria"
   ]
  },
  {
   "cell_type": "code",
   "execution_count": 156,
   "metadata": {},
   "outputs": [
    {
     "name": "stdout",
     "output_type": "stream",
     "text": [
      " Mi gato se llama Dobby.\n",
      "Mi gato tiene 3 años.\n"
     ]
    },
    {
     "data": {
      "text/plain": [
       "False"
      ]
     },
     "execution_count": 156,
     "metadata": {},
     "output_type": "execute_result"
    }
   ],
   "source": [
    "# Acceso a los atributos de la clase Cat. con el . te autocompleta los atributos.\n",
    "\n",
    "print(f' Mi gato se llama {my_cat.nombre}.')\n",
    "print(f'Mi gato tiene {my_cat.edad} años.')\n",
    "\n",
    "# Cómo saber si tiene un atributo en particular. Devuelve True o False\n",
    "\n",
    "hasattr(my_cat, 'salta')\n",
    "\n",
    "hasattr(my_cat, 'color')"
   ]
  },
  {
   "cell_type": "code",
   "execution_count": 157,
   "metadata": {},
   "outputs": [
    {
     "name": "stdout",
     "output_type": "stream",
     "text": [
      "Dobbyestá ahora maullando\n",
      "Dobby está asltando a su cama!\n"
     ]
    }
   ],
   "source": [
    "# Llamando a los métodos\n",
    "\n",
    "my_cat.maulla()\n",
    "my_cat.salta()\n",
    "# es como si llamaramos a una función."
   ]
  },
  {
   "cell_type": "code",
   "execution_count": 158,
   "metadata": {},
   "outputs": [
    {
     "name": "stdout",
     "output_type": "stream",
     "text": [
      "<__main__.Cat object at 0x0000024A46EE1E80>\n",
      "<__main__.Cat object at 0x0000024A46D41EB0>\n"
     ]
    }
   ],
   "source": [
    "# Creando múltiples instancias\n",
    "\n",
    "other_cat = Cat('William', 4)\n",
    "print(my_cat)\n",
    "print(other_cat)\n",
    "\n",
    "# Son instancias del objeto Cat. Tienen una dirección de memoria RAM muy cercana la una de la otra."
   ]
  },
  {
   "cell_type": "markdown",
   "metadata": {},
   "source": [
    "Vamos a crear la clase *Coche*"
   ]
  },
  {
   "cell_type": "code",
   "execution_count": 159,
   "metadata": {},
   "outputs": [],
   "source": [
    "class Coche:\n",
    "    ''' Inicializamos la clase Coche'''\n",
    "    def __init__(self, marca, modelo, anyo):\n",
    "        ''' Inicializamos los atributos para describir el coche'''\n",
    "        self.marca = marca\n",
    "        self.modelo = modelo\n",
    "        self.anyo = anyo\n",
    "\n",
    "    def __str__(self): # __str__ método mágico str, te devolverá una str\n",
    "        coche_usuario = f'{self.anyo} | {self.marca} | {self.modelo}'\n",
    "        return coche_usuario.title()"
   ]
  },
  {
   "cell_type": "code",
   "execution_count": 160,
   "metadata": {},
   "outputs": [
    {
     "name": "stdout",
     "output_type": "stream",
     "text": [
      "2002 | Renault | Clio\n"
     ]
    }
   ],
   "source": [
    "# Creamos una instancia a la clase Coche\n",
    "\n",
    "mi_coche = Coche('renault', 'clio', 2002)\n",
    "print(mi_coche)\n",
    "\n",
    "# como hemos añadido el método especial string, ahora nos va a devolver una string."
   ]
  },
  {
   "cell_type": "markdown",
   "metadata": {},
   "source": [
    "## Estableciendo valores predeterminados para un atributo\n",
    "\n",
    "También podemos pasar valores determinados por el usuario."
   ]
  },
  {
   "cell_type": "markdown",
   "metadata": {},
   "source": [
    "Los definimos por el método init\n",
    "\n",
    "vamos a crear una clase *Motocicleta* estableciendo un valor predeterminado para uno de los atributos de la clase."
   ]
  },
  {
   "cell_type": "code",
   "execution_count": 161,
   "metadata": {},
   "outputs": [],
   "source": [
    "class Motocicleta:\n",
    "    ''' Iniciamos la clase Motocicleta'''\n",
    "    def __init__(self, marca, modelo, anyo):\n",
    "        self.marca = marca\n",
    "        self.modelo = modelo\n",
    "        self.anyo = anyo\n",
    "        self.lectura_kilometros = 0 # Asignamos un valor inicial de 0. en un atributo de la clase\n",
    "    \n",
    "    def __str__(self): # Siempre has de pasar el self!!!!!!!!!!\n",
    "        moto_usuario = f'{self.anyo} | {self.marca} | {self.modelo}'\n",
    "        return moto_usuario.title()\n",
    "    \n",
    "    def kilometraje(self): # Siempre has de pasar el self!!!!!!!!!!\n",
    "        kilometros = f'Esta motocicleta tiene {self.lectura_kilometros} kilometros.'\n",
    "        return kilometros\n"
   ]
  },
  {
   "cell_type": "code",
   "execution_count": 162,
   "metadata": {},
   "outputs": [
    {
     "name": "stdout",
     "output_type": "stream",
     "text": [
      "2022 | Harley Davison | Nightster\n",
      "Esta motocicleta tiene 0 kilometros.\n"
     ]
    }
   ],
   "source": [
    "# Instanciamos la clase Motocicleta\n",
    "mi_moto = Motocicleta('Harley davison', 'Nightster', '2022')\n",
    "\n",
    "print(mi_moto)\n",
    "\n",
    "print(mi_moto.kilometraje())"
   ]
  },
  {
   "cell_type": "markdown",
   "metadata": {},
   "source": [
    "Como modificamos el atributo por fedecto?"
   ]
  },
  {
   "cell_type": "code",
   "execution_count": 163,
   "metadata": {},
   "outputs": [
    {
     "name": "stdout",
     "output_type": "stream",
     "text": [
      "Esta motocicleta tiene 1000 kilometros.\n"
     ]
    }
   ],
   "source": [
    "# Modificamos el valor del atributo de forma directa (la forma más fácil)\n",
    "\n",
    "mi_moto.lectura_kilometros = int(input('Introduce los km que tiene la motocicleta:'))\n",
    "print(mi_moto.kilometraje())"
   ]
  },
  {
   "cell_type": "markdown",
   "metadata": {},
   "source": [
    "### Modificando un valor de un atributo a través de un método"
   ]
  },
  {
   "cell_type": "code",
   "execution_count": 164,
   "metadata": {},
   "outputs": [],
   "source": [
    "class Auto:\n",
    "   ''' Iniciamos la clase Coche(Auto)'''\n",
    "\n",
    "   def __init__(self, marca, modelo, anyo):\n",
    "      self.marca = marca\n",
    "      self.modelo = modelo\n",
    "      self.anyo = anyo\n",
    "      self.lectura_kilometros = 10_000 # Coche de segunda mano con 10.000 km\n",
    "    \n",
    "   def __str__(self): # Siempre has de pasar el self!!!!!!!!!!\n",
    "        coche_usuario = f'{self.anyo} | {self.marca} | {self.modelo}'\n",
    "        return coche_usuario.title()\n",
    "   def actualizar_kilometros(self, actualizacion):\n",
    "      if actualizacion >= self.lectura_kilometros:\n",
    "               self.lectura_kilometros = actualizacion\n",
    "               kilometros = f'Este coche tiene {self.lectura_kilometros} kilometros.'\n",
    "      else:\n",
    "              kilometros = 'Los kilometetros actuales no pueden ser inferiores.'\n",
    "      \n",
    "      return kilometros"
   ]
  },
  {
   "cell_type": "code",
   "execution_count": 165,
   "metadata": {},
   "outputs": [
    {
     "name": "stdout",
     "output_type": "stream",
     "text": [
      "2022 | Renault | Clio\n",
      "Este coche tiene 100000 kilometros.\n"
     ]
    }
   ],
   "source": [
    "mi_coche = Auto('renault', 'clio', 2022)\n",
    "print(mi_coche)\n",
    "\n",
    "kilometros_actuales = int(input('Introduce los km del coche:'))\n",
    "print(mi_coche.actualizar_kilometros(kilometros_actuales))"
   ]
  },
  {
   "cell_type": "markdown",
   "metadata": {},
   "source": [
    "# Ejercicios POO"
   ]
  },
  {
   "cell_type": "markdown",
   "metadata": {},
   "source": [
    "1. Ejercicio 1: Realizar un programa que conste de una clase llamada Alumno que tenga como atributos el nombre y la nota del alumno. Definir los métodos para inicializar sus atributos, imprimirlos y mostrar un mensaje con el resultado de la nota y si ha aprobado o no."
   ]
  },
  {
   "cell_type": "code",
   "execution_count": 200,
   "metadata": {},
   "outputs": [
    {
     "name": "stdout",
     "output_type": "stream",
     "text": [
      "Jose está suspendido con un 4.\n"
     ]
    }
   ],
   "source": [
    "class Alumno:\n",
    "    '''Inicializamos la clase Alumno'''\n",
    "    def __init__(self, nombre, nota):\n",
    "        self.nombre = nombre\n",
    "        self.nota = nota\n",
    "    \n",
    "    def __str__(self):\n",
    "        \n",
    "        if self.nota >= 5:\n",
    "            resultado = f'{self.nombre.title()} está aprobado con un {self.nota}.'\n",
    "        else:\n",
    "            resultado = f'{self.nombre.title()} está suspendido con un {self.nota}.'\n",
    "        \n",
    "        return resultado\n",
    "\n",
    "nombre= input('Dame el nombre del alumno:')\n",
    "nota = int(input(f'Introduce la nota de {nombre}:'))         \n",
    "\n",
    "mi_alumno = Alumno(nombre, nota)\n",
    "print(mi_alumno)"
   ]
  },
  {
   "cell_type": "markdown",
   "metadata": {},
   "source": [
    "Profe -> Archivo ejercicio1.py y ejercicio1_v2.py\n"
   ]
  },
  {
   "cell_type": "markdown",
   "metadata": {},
   "source": [
    "2. Ejercico 2: Realizar un programa que tenga una clase Persona con las siguientes características. La clase tendrá como atributos el nombre y la edad de una persona. Implementar los métodos necesarios para inicializar los atributos, mostrar los datos e indicar si la persona es mayor de edad o no."
   ]
  },
  {
   "cell_type": "code",
   "execution_count": 9,
   "metadata": {},
   "outputs": [
    {
     "name": "stdout",
     "output_type": "stream",
     "text": [
      "El campo de nombre no puede estar vacío!\n",
      "Pepe tiene 18 años y es mayor de edad.\n"
     ]
    }
   ],
   "source": [
    "class Persona:\n",
    "    def __init__(self):\n",
    "        \n",
    "        while True:\n",
    "                self.nombre = input('Introduzca el nombre de la persona:').lower()\n",
    "                if not self.nombre:\n",
    "                    print('El campo de nombre no puede estar vacío!')\n",
    "                else:\n",
    "                    break\n",
    "        \n",
    "        while True:\n",
    "            try:\n",
    "                self.edad = int(input(f'Introduzca la edad de {self.nombre.title()}:'))\n",
    "                break\n",
    "            except ValueError:\n",
    "                print('Vuelva a introducir la edad.')        \n",
    "    \n",
    "    def __str__(self):\n",
    "\n",
    "        if self.edad >= 18:\n",
    "            resultado = f'{self.nombre.title()} tiene {self.edad} años y es mayor de edad.'\n",
    "        else:\n",
    "            resultado = f'{self.nombre.title()} tiene {self.edad} años y no es mayor de edad.'\n",
    "        \n",
    "        return resultado\n",
    "\n",
    "persona = Persona()\n",
    "\n",
    "print(persona)        "
   ]
  },
  {
   "cell_type": "markdown",
   "metadata": {},
   "source": [
    "Profe -> Archivo ejercicio2.py"
   ]
  },
  {
   "cell_type": "markdown",
   "metadata": {},
   "source": [
    "3. Ejercicio 3: Desarrollar un programa que cargue los datos de un triángulo. Implementar una clase con los métodos para incicializar los atributos, imprimir el valor del lado con un tamaño mayor y el tipo de triángulo que es (equilátero, isósceles o escaleno)."
   ]
  },
  {
   "cell_type": "code",
   "execution_count": 27,
   "metadata": {},
   "outputs": [
    {
     "name": "stdout",
     "output_type": "stream",
     "text": [
      "Vuelva a introducir el lado A.\n",
      "Vuelva a introducir el lado A.\n",
      "Vuelva a introducir el lado A.\n",
      " El lado mayor del triángulo mide 5.0 unidades.\n",
      " El triángulo es escaleno.\n"
     ]
    }
   ],
   "source": [
    "class Triangulo:\n",
    "    def __init__(self):\n",
    "        while True:\n",
    "            try:\n",
    "                self.ladoA = float(input(f'Introduzca la longitud del lado A:'))\n",
    "                break\n",
    "            except ValueError:\n",
    "                print('Vuelva a introducir el lado A.')\n",
    "        \n",
    "        while True:\n",
    "            try:\n",
    "                self.ladoB = float(input(f'Introduzca la longitud del lado B:'))\n",
    "                break\n",
    "            except ValueError:\n",
    "                print('Vuelva a introducir el lado B.')\n",
    "        while True:\n",
    "            try:\n",
    "                self.ladoC = float(input(f'Introduzca la longitud del lado C:'))\n",
    "                break\n",
    "            except ValueError:\n",
    "                print('Vuelva a introducir el lado C.')\n",
    "    \n",
    "    def lado_mayor(self):\n",
    "        \n",
    "        lista_lados = [self.ladoA, self.ladoB, self.ladoC]\n",
    "\n",
    "        lado_mayor = max(lista_lados)\n",
    "\n",
    "        return f' El lado mayor del triángulo mide {lado_mayor} unidades.'\n",
    " \n",
    "    def tipo_triangulo(self):\n",
    "\n",
    "        if self.ladoA == self.ladoB == self.ladoC:\n",
    "            resultado_tipo = f'El triángulo es equilátero (sus lados miden {self.ladoA} unidades).'\n",
    "\n",
    "        elif self.ladoA != self.ladoB and self.ladoB != self.ladoC and self.ladoA != self.ladoC:\n",
    "            resultado_tipo = f'El triángulo es escaleno.'\n",
    "        else:\n",
    "            resultado_tipo = f'El triángulo es isósceles.'\n",
    "        \n",
    "        return f'{resultado_tipo}'\n",
    "   \n",
    "mi_triangulo = Triangulo()  \n",
    "\n",
    "print(f'{mi_triangulo.lado_mayor()}\\n {mi_triangulo.tipo_triangulo()}')"
   ]
  },
  {
   "cell_type": "markdown",
   "metadata": {},
   "source": [
    "Profe -> ejercicio3.py"
   ]
  },
  {
   "cell_type": "markdown",
   "metadata": {},
   "source": [
    "4. Ejercicio 4: Realizar un programa en el que declaremos dos valores enteros. Después crea métodos para la suma, la resta, la multiplicación y la división. Llamaremos a la clase Calculadora."
   ]
  },
  {
   "cell_type": "code",
   "execution_count": 6,
   "metadata": {},
   "outputs": [
    {
     "name": "stdout",
     "output_type": "stream",
     "text": [
      "El resultado de la suma es 0.0\n"
     ]
    }
   ],
   "source": [
    "class Calculadora:\n",
    "    def __init__(self):\n",
    "        self.numeros = []\n",
    "\n",
    "        for i in range(1,3):\n",
    "            while True:\n",
    "                try:\n",
    "                    self.numeros.append(float(input(f'Introduzca el número {i}:')))\n",
    "                    break\n",
    "                except ValueError:\n",
    "                    print('Introduzca un valor numérico correcto.') \n",
    "            \n",
    "\n",
    "\n",
    "    def operaciones(self):\n",
    "\n",
    "        self.opcion = input('Introduce la opcion: 1) suma 2) resta 3) multi 4) div')\n",
    "\n",
    "        if self.opcion == '1':\n",
    "                    resultado = self.numeros[0] + self.numeros[1]\n",
    "                    print(f'El resultado de la suma es {resultado}')\n",
    "\n",
    "        elif self.opcion == '2':\n",
    "                    resultado = self.numeros[0] - self.numeros[1]\n",
    "                    print(f'El resultado de la resta es {resultado}')\n",
    "   \n",
    "        elif self.opcion == '3':\n",
    "                    resultado = self.numeros[0] * self.numeros[1]\n",
    "                    print(f'El resultado de la suma es {resultado}')\n",
    "\n",
    "        elif self.opcion == '4':        \n",
    "                    while True:\n",
    "                        try:\n",
    "                            resultado = self.numeros[0] / self.numeros[1]\n",
    "                            print(f'El resultado de la suma es {resultado}')\n",
    "                            break\n",
    "                        except ZeroDivisionError:\n",
    "                            self.numeros[1] = float(input('Vuelve a introducir un segundo número'))\n",
    "        else:\n",
    "            print('Opción no contemplada')\n",
    "\n",
    "\n",
    "mi_calculadora = Calculadora()\n",
    "\n",
    "mi_calculadora.operaciones()\n",
    "\n"
   ]
  },
  {
   "cell_type": "markdown",
   "metadata": {},
   "source": [
    "Profe -> ejercicio4.py"
   ]
  },
  {
   "cell_type": "markdown",
   "metadata": {},
   "source": [
    "5. Ejercicio 5: Escribir un progrma que genere una lista de 10 fechas aleatorias en el año actual y las ordena de la forma cronológica.\n",
    "\n",
    "Usar la libreria estandar de Python\n",
    "\n",
    "https://pymotw.com/3/\n",
    "\n",
    "datetime — Date and Time Value Manipulation\n",
    "random — Pseudorandom Number Generators"
   ]
  },
  {
   "cell_type": "code",
   "execution_count": 169,
   "metadata": {},
   "outputs": [
    {
     "name": "stdout",
     "output_type": "stream",
     "text": [
      "Lista de días ordenados cronológicamente:\n",
      " Día 0: 2024-01-13\n",
      " Día 1: 2024-05-13\n",
      " Día 2: 2024-07-25\n",
      " Día 3: 2024-09-11\n",
      " Día 4: 2024-09-13\n",
      " Día 5: 2024-09-30\n",
      " Día 6: 2024-10-05\n",
      " Día 7: 2024-10-28\n",
      " Día 8: 2024-11-29\n",
      " Día 9: 2024-12-13\n"
     ]
    }
   ],
   "source": [
    "import datetime\n",
    "import random\n",
    "\n",
    "class DiasAleatorios:\n",
    "    def __init__(self):\n",
    "        self.listaDias= []\n",
    "      \n",
    "        # Obtener la fecha de hoy para luego rescatar el año con tt.tm_year\n",
    "        today = datetime.date.today()\n",
    "        tt = today.timetuple()\n",
    "\n",
    "        # Bucle for para sumar días a partir del primero del año de forma aleatoria usando: \n",
    "        #   1) Asignar el día 0 : datetime.date(tt.tm_year, 1, 1)\n",
    "        #   2) Sumar día aleatório: datetime.timedelta(days = X) # 0,365 para bisiestos/ 0,364 para normales\n",
    "        #   3) Función random.uniform(), To generate numbers in a specific numerical range.\n",
    "        # Se recogen los días en la listaDias.\n",
    "        # numero_dias = int(input('Dime el número de días que quieres que te ordene de menor a mayor:'))\n",
    "        for day in range(10):\n",
    "            day0 = datetime.date(tt.tm_year, 1, 1)\n",
    "            dayEnd = day0 + datetime.timedelta(days = random.uniform(0,365))\n",
    "            self.listaDias.append(dayEnd)\n",
    "            \n",
    "    # Se Ordena la lista cronológicamente usando la función sorted() y enumerate para realizar un bucle e imprimir los días.\n",
    "    def ordenar_dias(self):\n",
    "        print('Lista de días ordenados cronológicamente:')\n",
    "        self.listaDias = sorted(self.listaDias) # sorted(self.listaDias, reverse=True) para invertir la lista.\n",
    "        for i, dia in enumerate(self.listaDias):\n",
    "            print(f' Día {i}: {dia}')\n",
    "\n",
    "dias = DiasAleatorios()\n",
    "\n",
    "dias.ordenar_dias()\n"
   ]
  }
 ],
 "metadata": {
  "kernelspec": {
   "display_name": "Python 3",
   "language": "python",
   "name": "python3"
  },
  "language_info": {
   "codemirror_mode": {
    "name": "ipython",
    "version": 3
   },
   "file_extension": ".py",
   "mimetype": "text/x-python",
   "name": "python",
   "nbconvert_exporter": "python",
   "pygments_lexer": "ipython3",
   "version": "3.12.3"
  }
 },
 "nbformat": 4,
 "nbformat_minor": 2
}
