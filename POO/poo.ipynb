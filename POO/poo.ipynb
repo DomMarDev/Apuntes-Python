{
 "cells": [
  {
   "cell_type": "markdown",
   "metadata": {},
   "source": [
    " Llevamos siempre con la Programación Orientada a Objetos . En Python el elemento más arriba es el elemento object.\n",
    "\n",
    " Qué es un objeto?\n",
    " representamos cualquier objeto del mundo real, pero necesitas abstracción.\n",
    "\n",
    "Por ejemplo una tarjeta de crétido real:\n",
    "     chip, numero, cvv, titular...\n",
    "    - Tiene una serie de característica: ser de  tipo debito rédito / color, titular ... (ATRIBUTOS)\n",
    "    - Tiene unos usos o utilidades: Activarla, desactivar, realizar un pago (MÉTODOS)\n",
    "\n",
    "Con la POO, declararemos una clase y de ahí crearemos objetos con atributos y métodos sobre ese objeto.\n",
    "    Ej: tarjeta bbva, santander etc, pero todas provienen de la clase Tarjeta\n",
    "\n",
    "Esto permite y está relacionado con la programación funcional o modular:\n",
    "    - Llamabamos funciones para no repetir un código\n",
    "    - Ahora enclapsulamos en una clase y crearemos objetos a partir de una clase\n",
    "        Clase calculadora con características báscias y de ahi crear una cientídica o financiera.\n",
    "        Simplificamos nuestro código\n",
    "\n",
    "La POO tuvo su auge, pero ahora ya no se trabaja tanto porque no es la panacea.\n",
    "    Problemas de programación -> resolver con programación funcional o POO\n",
    "\n",
    "Al complicarse el código muchas veces la POO te soluciona cosas en un determinado momento.\n",
    "\n",
    "Con programación funcional en proyectos grandes el código se ensucia un poco y se usa la POO.\n",
    "\n",
    "La POO se crean \"moldes\" que luego reaprovecharemos y podemos hacer tantos como queramos.\n",
    "    Los métodos se definien igual que las funciones.\n",
    "\n",
    "Definimos una clase coche y ponemos sus atributos y métods -> está encapsulado\n",
    "    -Llamar: mi_coche = coche() ya lo tienes."
   ]
  },
  {
   "cell_type": "markdown",
   "metadata": {},
   "source": [
    "# Programación orientada a objetos POO"
   ]
  },
  {
   "cell_type": "markdown",
   "metadata": {},
   "source": [
    "La programación Orientada a Objetos (**POO**) es uno de los enfoques más eficaces a la hora de escribir software. En **POO** se escriben \"*clases*\" que representan cosas y situaciones del mundo real, y creamos \"*objetos*\" basados en estas clases. Cuando escribimos una clase, definimos el comportamiento general que puede tener una categoría completa de objetos.\n",
    "\n",
    "Cuando creamos objetos individuales de una clase, cada objeto asume automáticamente el comportamiento general; después, podemos dar a cada objeto los rasgos únicos que queramos. La creación de un objeto a partir de una clase recibe el nombre de \"**instanciación**\", o sea, trabajamos con **instancias** de una clase."
   ]
  },
  {
   "cell_type": "markdown",
   "metadata": {},
   "source": [
    "## Creando y usando la clase *Cat*\n",
    "\n",
    "por convención la primera letra en mayúscula\n",
    "es recomendable poner lo que generas en al clase con ''' '''\n",
    "función propia init para asignarle los atributos por defecto (no es obligatorio, pero recomendable)\n",
    "como mínimo tiene parámetro self, por convención. Instanciar mi gato se la envía a self.\n",
    "se pasan dos parámetros como nombre y edad y los definimos con self.nombre y self.edad\n",
    "\n",
    "al hacer instancia a esa clase se asignan esos parámetros (solf.nombre y self.edad)\n",
    "\n",
    "vamos a generar acciones que van a realizar: como maullar o saltar\n",
    "\n",
    "Clase gato (Cat) con dos atributos (nombre y edad) y dos métodos (maulla y salta)\n",
    "\n",
    "metodo innit, siempre que creemos una instancia siempre le va a asignar esos parámetros.\n",
    "\n",
    "\n",
    "1) Podemos modelar prácticamente cualquier cosa usando clases. Vamos a empezar con un ejemplo sencillo:\n",
    "\n",
    "- Vamos a crear la clase *cat*, que va a representar a cualquier gato.\n",
    "- Cosas que sabemos de los gatos:\n",
    "  - tienen un nombre y una edad.\n",
    "  - maúllan y saltan.\n",
    "\n",
    "Estos dos datos y los dos comportamientos van a ir en nuestra clase *cat*, porque son comunes a la mayoría de los gatos. Una vez escrita esta clase, la vamos a usar para crear *instancias individuales* que representen gatos específicos. *Por convención, los nombres con inicial en mayúscula hacen referencia a clases en Python.*"
   ]
  },
  {
   "cell_type": "code",
   "execution_count": 2,
   "metadata": {},
   "outputs": [],
   "source": [
    "class Cat:\n",
    "    ''' Creación del modelo de un gato'''\n",
    "    def __init__(self, nombre, edad):\n",
    "        ''' iniciamos los atributos nombre y edad'''\n",
    "        self.nombre = nombre\n",
    "        self.edad = edad\n",
    "    \n",
    "    def maulla(self):\n",
    "        ''' Simulamos el gato maullido en respuesta a una orden'''\n",
    "        print(f'{self.nombre}está ahora maullando')\n",
    "    \n",
    "    def salta(self):\n",
    "        ''' Simulamos un gato saltando en respuesta a una orden'''\n",
    "        print(f'{self.nombre} está asltando a su cama!')"
   ]
  },
  {
   "cell_type": "code",
   "execution_count": 3,
   "metadata": {},
   "outputs": [
    {
     "name": "stdout",
     "output_type": "stream",
     "text": [
      "<class '__main__.Cat'>\n",
      "<class 'type'>\n"
     ]
    }
   ],
   "source": [
    "print(Cat)\n",
    "dir(Cat) # nos devuelve todos los atributos y métodos de la clase\n",
    "print(Cat.__class__)"
   ]
  },
  {
   "cell_type": "markdown",
   "metadata": {},
   "source": [
    "#### Hacer una instancia a una clase"
   ]
  },
  {
   "cell_type": "markdown",
   "metadata": {},
   "source": [
    "Creando la primera instancia a la clase Cat"
   ]
  },
  {
   "cell_type": "code",
   "execution_count": 25,
   "metadata": {},
   "outputs": [
    {
     "name": "stdout",
     "output_type": "stream",
     "text": [
      "<__main__.Cat object at 0x000002A14BB49070>\n"
     ]
    }
   ],
   "source": [
    "my_cat = Cat('Dobby', 3) # Se pasan los atributos nombre y edad . esto es una instancia?\n",
    "\n",
    "print(my_cat) # te dice que es un objeto de la clase Cat + una dirección de memoria"
   ]
  },
  {
   "cell_type": "markdown",
   "metadata": {},
   "source": [
    "#### Acceder a los atributos de clase"
   ]
  },
  {
   "cell_type": "code",
   "execution_count": 26,
   "metadata": {},
   "outputs": [
    {
     "name": "stdout",
     "output_type": "stream",
     "text": [
      " Mi gato se llama Dobby.\n",
      "Mi gato tiene 3 años.\n"
     ]
    },
    {
     "data": {
      "text/plain": [
       "False"
      ]
     },
     "execution_count": 26,
     "metadata": {},
     "output_type": "execute_result"
    }
   ],
   "source": [
    "# Acceso a los atributos de la clase Cat. con el . te autocompleta los atributos.\n",
    "\n",
    "print(f' Mi gato se llama {my_cat.nombre}.')\n",
    "print(f'Mi gato tiene {my_cat.edad} años.')\n",
    "\n",
    "# Cómo saber si tiene un atributo en particular. Devuelve True o False\n",
    "\n",
    "hasattr(my_cat, 'salta')\n",
    "\n",
    "hasattr(my_cat, 'color')"
   ]
  },
  {
   "cell_type": "markdown",
   "metadata": {},
   "source": [
    "Para acceder a los atributos de clase, usamos la notación del punto: *instancia.atributo*"
   ]
  },
  {
   "cell_type": "markdown",
   "metadata": {},
   "source": [
    "#### Llamadas a métodos"
   ]
  },
  {
   "cell_type": "code",
   "execution_count": 27,
   "metadata": {},
   "outputs": [
    {
     "name": "stdout",
     "output_type": "stream",
     "text": [
      "Dobbyestá ahora maullando\n",
      "Dobby está asltando a su cama!\n"
     ]
    }
   ],
   "source": [
    "# Llamando a los métodos\n",
    "\n",
    "my_cat.maulla()\n",
    "my_cat.salta()\n",
    "# es como si llamaramos a una función."
   ]
  },
  {
   "cell_type": "markdown",
   "metadata": {},
   "source": [
    "Después de crear una instancia a partir de la clase, podemos usar la notación del punto para llamar a cualquier otro método definido. Cuando Python lee la línea (*my_cat.maulla()*), busca ese método en la clase y ejecuta su código."
   ]
  },
  {
   "cell_type": "markdown",
   "metadata": {},
   "source": [
    "#### Crear múltiples instancias"
   ]
  },
  {
   "cell_type": "markdown",
   "metadata": {},
   "source": [
    "Podemos crear tantas instancias como queramos a partir de una clase, siempre y cuando le demos un nombre de variable único o bien ocupe un lugar único en una lista o un diccionario."
   ]
  },
  {
   "cell_type": "code",
   "execution_count": 28,
   "metadata": {},
   "outputs": [
    {
     "name": "stdout",
     "output_type": "stream",
     "text": [
      "<__main__.Cat object at 0x000002A14BB49070>\n",
      "<__main__.Cat object at 0x000002A14BB075C0>\n"
     ]
    }
   ],
   "source": [
    "# Creando múltiples instancias\n",
    "\n",
    "other_cat = Cat('William', 4)\n",
    "print(my_cat)\n",
    "print(other_cat)\n",
    "\n",
    "# Son instancias del objeto Cat. Tienen una dirección de memoria RAM muy cercana la una de la otra."
   ]
  },
  {
   "cell_type": "markdown",
   "metadata": {},
   "source": [
    "### Trabajando con clases e instancias\n",
    "\n",
    "A modo de ejemplo vamos a crear otra clase, en este caso la clase *Coche* y vamos a definir unos atributos y un método que resumirá las características de esta clase."
   ]
  },
  {
   "cell_type": "markdown",
   "metadata": {},
   "source": [
    "Vamos a crear la clase *Coche*"
   ]
  },
  {
   "cell_type": "code",
   "execution_count": 29,
   "metadata": {},
   "outputs": [],
   "source": [
    "class Coche:\n",
    "    ''' Inicializamos la clase Coche'''\n",
    "    def __init__(self, marca, modelo, anyo):\n",
    "        ''' Inicializamos los atributos para describir el coche'''\n",
    "        self.marca = marca\n",
    "        self.modelo = modelo\n",
    "        self.anyo = anyo\n",
    "\n",
    "    def __str__(self): # __str__ método mágico str, te devolverá una str\n",
    "        coche_usuario = f'{self.anyo} | {self.marca} | {self.modelo}'\n",
    "        return coche_usuario.title()\n",
    "    \n",
    "    # def descripcion(self):\n",
    "    #    coche_usuario = f'{self.anyo} | {self.marca} | {self.modelo}'\n",
    "    #    return coche_usuario.title()"
   ]
  },
  {
   "cell_type": "markdown",
   "metadata": {},
   "source": [
    "En la clase *Coche* definimos el método \\_\\_init\\_\\_() con el parámetro *self* primero, y agregamos otros tres parámetros: *marca*, *modelo* y *anyo*. De esta forma, asignamos estos parámetros a los atributos asociados con instancias creadas a partir de esta clase."
   ]
  },
  {
   "cell_type": "markdown",
   "metadata": {},
   "source": [
    "#### Hacer una instancia a una clase"
   ]
  },
  {
   "cell_type": "code",
   "execution_count": 30,
   "metadata": {},
   "outputs": [
    {
     "name": "stdout",
     "output_type": "stream",
     "text": [
      "2002 | Renault | Clio\n"
     ]
    }
   ],
   "source": [
    "# Creamos una instancia a la clase Coche\n",
    "\n",
    "mi_coche = Coche('renault', 'clio', 2002)\n",
    "# print(mi_coche.descripcion())\n",
    "print(mi_coche)\n",
    "\n",
    "# como hemos añadido el método especial string, ahora nos va a devolver una string."
   ]
  },
  {
   "cell_type": "markdown",
   "metadata": {},
   "source": [
    "* Definimos también un método (*descripcion*)que cree una cadena para describir al coche usando los valores de los atributos de la instancia.\n",
    "* Fuera de la clase, creamos una instancia *mi_coche* pasándole los atributos a la clase y después llamando al método *descripcion* para que nos muestre una descripción detallada de la instancia."
   ]
  },
  {
   "cell_type": "markdown",
   "metadata": {},
   "source": [
    "## Estableciendo valores predeterminados para un atributo (método _\\_\\_init\\_\\_() )\n",
    "\n",
    "También podemos pasar valores determinados por el usuario."
   ]
  },
  {
   "cell_type": "markdown",
   "metadata": {},
   "source": [
    "Los definimos por el método init\n",
    "\n",
    "Una función que forma parte de una clase es lo que se llama un *método*. Se aplica todo lo relacionado con las funciones, pero se llaman de diferente forma.\n",
    "\n",
    "El método \\_\\_init\\_\\_() es un método especial que Python ejecuta automáticamente siempre que creemos una nueva instancia basada en la clase que hemos definido (en nuestro caso *Cat*). Este método tiene dos guiones bajos a cada lado, una convención que ayuda a evitar que los nombres de métodos predeterminados entren en conflicto con los nuestros.\n",
    "\n",
    "Definimos el método \\_\\_init\\_\\_() en nuestro caso con tres parámetros: *self, nombre, edad*. El parámetro *self* es necesario en la definición de un método y debe ir antes que cualquier otro. \n",
    "\n",
    "Debe incluirse en la definición porque, cuando Python llame a éste método más adelante (para crear una instancia de *Cat*), la llamada pasará automáticamente el argumento *self*, que es una referencia a la propia instancia. De esta forma, damos acceso a cada instancia individual a los atributos y métodos de esa clase. En nuestro caso, cuando realizemos una instancia a la clase *Cat*, sólo le pasaremos los argumentos *nombre* y *edad*.\n",
    "\n",
    "Las dos variables definidas en el cuerpo del método \\_\\_init\\_\\_() tienen el prefijo *self*. Cualquier variable con el prefijo *self* estará disponible para los métodos de la clase; podremos acceder a estas variables a través de cualquier instancia creada desde la clase. \n",
    "\n",
    "También podemos definir otros métodos (en nuestro caso *maulla* y *salta*). Si estos métodos no necesitan información adicional para ejecutarse, simplemente los definiremos para que tengan un parámetro, *self*.\n",
    "\n",
    "Cuando Python lee la primera línea, llama al método \\_\\_init\\_\\_() de *Cat* con los argumentos que le pasamos, configurando los atributos *nombre* y *edad* con los valores que le hemos proporcionado."
   ]
  },
  {
   "cell_type": "markdown",
   "metadata": {},
   "source": [
    "Cuando creamos una instancia, podemos definir atributos sin pasarlos como parámetros. Estos atributos se pueden definir en el método \\_\\_init\\_\\_(), donde se les asigna un valor predeterminado. Vamos a crear otro ejemplo estableciendo un valor predeterminado para uno de los atributos de clase. En este ejemplo vamos a crear la clase *Motocicleta*\n",
    "\n",
    "Vamos a crear una clase *Motocicleta* estableciendo un valor predeterminado para uno de los atributos de la clase."
   ]
  },
  {
   "cell_type": "code",
   "execution_count": 31,
   "metadata": {},
   "outputs": [],
   "source": [
    "class Motocicleta:\n",
    "    ''' Iniciamos la clase Motocicleta'''\n",
    "    def __init__(self, marca, modelo, anyo):\n",
    "        self.marca = marca\n",
    "        self.modelo = modelo\n",
    "        self.anyo = anyo\n",
    "        self.lectura_kilometros = 0 # Asignamos un valor inicial de 0. en un atributo de la clase\n",
    "    \n",
    "    def __str__(self): # Siempre has de pasar el self!!!!!!!!!!\n",
    "        moto_usuario = f'{self.anyo} | {self.marca} | {self.modelo}'\n",
    "        return moto_usuario.title()\n",
    "    \n",
    "    def kilometraje(self): # Siempre has de pasar el self!!!!!!!!!!\n",
    "        kilometros = f'Esta motocicleta tiene {self.lectura_kilometros} kilometros.'\n",
    "        return kilometros\n"
   ]
  },
  {
   "cell_type": "markdown",
   "metadata": {},
   "source": [
    "#### Acceder a los atributos de clase"
   ]
  },
  {
   "cell_type": "code",
   "execution_count": 32,
   "metadata": {},
   "outputs": [
    {
     "name": "stdout",
     "output_type": "stream",
     "text": [
      "2022 | Harley Davison | Nightster\n",
      "Esta motocicleta tiene 0 kilometros.\n"
     ]
    }
   ],
   "source": [
    "# Instanciamos la clase Motocicleta\n",
    "mi_moto = Motocicleta('Harley davison', 'Nightster', '2022')\n",
    "\n",
    "print(mi_moto)\n",
    "\n",
    "print(mi_moto.kilometraje())"
   ]
  },
  {
   "cell_type": "markdown",
   "metadata": {},
   "source": [
    "Como modificamos el atributo por defecto?"
   ]
  },
  {
   "cell_type": "markdown",
   "metadata": {},
   "source": [
    "#### Modificar el valor de un atributo directamente\n",
    "\n",
    "Es la forma más fácil, accediendo al atributo a través de la instancia."
   ]
  },
  {
   "cell_type": "code",
   "execution_count": 33,
   "metadata": {},
   "outputs": [
    {
     "name": "stdout",
     "output_type": "stream",
     "text": [
      "Esta motocicleta tiene 100 kilometros.\n"
     ]
    }
   ],
   "source": [
    "# Modificamos el valor del atributo de forma directa (la forma más fácil)\n",
    "\n",
    "mi_moto.lectura_kilometros = int(input('Introduce los km que tiene la motocicleta:'))\n",
    "print(mi_moto.kilometraje())"
   ]
  },
  {
   "cell_type": "markdown",
   "metadata": {},
   "source": [
    "### Modificando un valor de un atributo a través de un método"
   ]
  },
  {
   "cell_type": "code",
   "execution_count": 34,
   "metadata": {},
   "outputs": [],
   "source": [
    "class Auto:\n",
    "   ''' Iniciamos la clase Coche(Auto)'''\n",
    "\n",
    "   def __init__(self, marca, modelo, anyo):\n",
    "      self.marca = marca\n",
    "      self.modelo = modelo\n",
    "      self.anyo = anyo\n",
    "      self.lectura_kilometros = 10_000 # Coche de segunda mano con 10.000 km\n",
    "    \n",
    "   def __str__(self): # Siempre has de pasar el self!!!!!!!!!!\n",
    "        coche_usuario = f'{self.anyo} | {self.marca} | {self.modelo}'\n",
    "        return coche_usuario.title()\n",
    "   \n",
    "   def actualizar_kilometros(self, actualizacion):\n",
    "      # Podemos ampliar este método impidiendo que se actualicen los km si son inferiores\n",
    "      if actualizacion >= self.lectura_kilometros:\n",
    "               self.lectura_kilometros = actualizacion\n",
    "               kilometros = f'Este coche tiene {self.lectura_kilometros} kilometros.'\n",
    "      else:\n",
    "              kilometros = 'Los kilometetros actuales no pueden ser inferiores.'\n",
    "      \n",
    "      return kilometros"
   ]
  },
  {
   "cell_type": "code",
   "execution_count": 35,
   "metadata": {},
   "outputs": [
    {
     "name": "stdout",
     "output_type": "stream",
     "text": [
      "2022 | Renault | Clio\n"
     ]
    },
    {
     "name": "stdout",
     "output_type": "stream",
     "text": [
      "Los kilometetros actuales no pueden ser inferiores.\n"
     ]
    }
   ],
   "source": [
    "mi_coche = Auto('renault', 'clio', 2022)\n",
    "print(mi_coche)\n",
    "\n",
    "kilometros_actuales = int(input('Introduce los km del coche:'))\n",
    "print(mi_coche.actualizar_kilometros(kilometros_actuales))"
   ]
  },
  {
   "cell_type": "markdown",
   "metadata": {},
   "source": [
    "## Herencia\n",
    "* Hasta ahora clases únicas e instanciabamos una sólo.\n",
    "* Podemos crear una clase a partir de una que ya tenemos creada, haciendo uso de la *herencia*. Cuando una clase hereda de otra, coge los atributos y métodos de la primera. La clase original se denomina *clase base* y la nueva es la *clase derivada*. La clase derivada puede heredar algunos o todos los atributos y métodos de su clase base, pero también tiene la libertad para definir nuevos atributos y métodos propios."
   ]
  },
  {
   "cell_type": "markdown",
   "metadata": {},
   "source": [
    "### Uso del método \\_\\_init\\_\\_() para una clase derivada\n",
    "\n",
    "Llamamos al método \\_\\_init\\_\\_() de la clase base, para inicializar todos los atributos definidos de ésta última para que estén disponibles en la clase derivada."
   ]
  },
  {
   "cell_type": "code",
   "execution_count": 41,
   "metadata": {},
   "outputs": [],
   "source": [
    "# Definimos una clase principal (Cotxe)\n",
    "\n",
    "class Cotxe:\n",
    "    def __init__(self, marca, modelo, anyo):\n",
    "        self.marca = marca\n",
    "        self.modelo = modelo \n",
    "        self.anyo = anyo\n",
    "        self.lectura_kilometros = 1000\n",
    "    \n",
    "    def __str__(self):\n",
    "        coche_usuario = f'{self.anyo} | {self.marca} | {self.marca} | {self.lectura_kilometros}'\n",
    "        return coche_usuario.title()\n",
    "    \n",
    "    def actualizacion_kilometros(self, actualizacion):\n",
    "        # Podemos ampliar este método impidiendo que se actualicen los km si son inferiores\n",
    "        if actualizacion >= self.lectura_kilometros:\n",
    "            self.lectura_kilometros = actualizacion\n",
    "            kilometros = f'Este coche tiene {self.lectura_kilometros} kilometros'\n",
    "        else:\n",
    "            kilometros = f'Los kilometros actuales no pueden ser inferiores'\n",
    "        \n",
    "        return kilometros\n",
    "\n",
    "# Vamos a crear una clase para un coche eléctrico que herede los atributos y métodos de la clase Coche y le creamos atributos propios de la subclase\n",
    "    # Clase derivada de Cotxe que hereda todos sus atributos\n",
    "\n",
    "# class Coche_electrico(Cotxe): # vas a iniciar con los métodos iniciados de las uperclase Cotxe\n",
    "#     def __init__(self, marca, modelo, anyo):\n",
    "#         super().__init__(marca, modelo, anyo)\n",
    "#         \n",
    "#         # Creamos un atributo propio del coche eléctrico \n",
    "#         self.modelo_bateria = input('Introduzca el modelo de la batería de su coche: ')\n",
    "    \n",
    "      # Creamos un método para saber el tipo de batería\n",
    "#     def tipo_bateria(self):\n",
    "#         return f'Tipo de batería: {self.modelo_bateria}'\n"
   ]
  },
  {
   "cell_type": "code",
   "execution_count": 43,
   "metadata": {},
   "outputs": [
    {
     "name": "stdout",
     "output_type": "stream",
     "text": [
      "2023 | Toyota | Toyota | 1000\n",
      "Tipo de batería: 123\n",
      "Coche_electrico\n"
     ]
    }
   ],
   "source": [
    "# miCocheElectrico = Coche_electrico('Toyota', 'Auris', 2023)\n",
    "print(miCocheElectrico)\n",
    "print(miCocheElectrico.tipo_bateria())\n",
    "print(type(miCocheElectrico).__name__)  # nos permite saber el nombre de la clase de la instancia usando el atributo especial .__name__"
   ]
  },
  {
   "cell_type": "markdown",
   "metadata": {},
   "source": [
    "Algunas cosas a tener en cuenta a la hora de realizar clases derivadas:\n",
    "- La clase base se tiene que declarar antes de la clase derivada.\n",
    "- La clase derivada llevará como parámetro entre paréntesis la clase base en su declaración.\n",
    "- La función *super()* es una función especial que nos permite llamar a un método de la clase base. Además, podemos crear el método \\_\\_init\\_\\_() de la clase base y añadir nuevos atributos sin tener que declararlos todos de nuevo.\n",
    "- El nombre *super* viene de una convención de llamar a la clase base *superclase* y a la derivada *subclase*"
   ]
  },
  {
   "cell_type": "markdown",
   "metadata": {},
   "source": [
    "Método super para evitar volver a copiar lo de self.marca, self.modelo etc. también es para que no se sobreescriban los atributos y además si añades uno más (como modelo batería) también lo necesitas"
   ]
  },
  {
   "cell_type": "markdown",
   "metadata": {},
   "source": [
    "Coge los métodos de Cotxe (heredados)\n",
    "Si no sabemos qué clase estamos instanciando con el método ´.__name__´:\n",
    "\n",
    "* `print(type(miCocheElectrico.__name__))`\n",
    "\n",
    "Siempre tienes que declarar clase padre y luego la hija.\n",
    "\n",
    "La clase hija siempre tiene que llevar el `super().__init__(atributos)`\n",
    "\n",
    "Generar instancias como atributos."
   ]
  },
  {
   "cell_type": "markdown",
   "metadata": {},
   "source": [
    "### Instancias como atributos\n",
    "\n",
    "Podemos agrupar toda una serie de métodos en una nueva clase y crear un atributo que herede los atributos de esa nueva clase. Ponemos como ejemplo el atributo de batería del ejemplo anterior.\n",
    "    Ejemplo si metes más cosas que un model ode batería:"
   ]
  },
  {
   "cell_type": "code",
   "execution_count": 44,
   "metadata": {},
   "outputs": [],
   "source": [
    "class Bateria:\n",
    "    def __init__(self, modelo_bateria = 'M140'):\n",
    "        self.modelo_bateria = modelo_bateria\n",
    "    \n",
    "    def __str__(self):\n",
    "        modelo_bateria = input('Introduzca un modelo de batería (Enter para modelo estándar): ')\n",
    "        if modelo_bateria:\n",
    "            self.modelo_bateria = modelo_bateria\n",
    "        \n",
    "        return f'El modelo de batería que llebva este coche es: {self.modelo_bateria}'\n"
   ]
  },
  {
   "cell_type": "code",
   "execution_count": 45,
   "metadata": {},
   "outputs": [],
   "source": [
    "# Vamos a crear una clase para un coche eléctrico que herede los atributos y métodos de la clase Coche y el atributo batería herede los atributos de la clase batería\n",
    "\n",
    "class Coche_electrico(Cotxe):\n",
    "    def __init__(self, marca, modelo, anyo):\n",
    "        super().__init__(marca, modelo, anyo)\n",
    "        \n",
    "        # Creamos el atributo modelo_batería a partir de la clase Batería\n",
    "        self.modelo_bateria = Bateria()"
   ]
  },
  {
   "cell_type": "code",
   "execution_count": 47,
   "metadata": {},
   "outputs": [
    {
     "name": "stdout",
     "output_type": "stream",
     "text": [
      "2024 | Toyota | Toyota | 1000\n",
      "El modelo de batería que llebva este coche es: 123\n",
      "Este coche tiene 10000 kilometros\n"
     ]
    }
   ],
   "source": [
    "# Mostramos salidas\n",
    "\n",
    "miCocheElectrico = Coche_electrico('Toyota', 'Auris', 2024)\n",
    "print(miCocheElectrico)\n",
    "\n",
    "print(miCocheElectrico.modelo_bateria)\n",
    "\n",
    "kilometros_actuales = int(input('Kilometros del coche: '))\n",
    "print(miCocheElectrico.actualizacion_kilometros(kilometros_actuales))"
   ]
  },
  {
   "cell_type": "markdown",
   "metadata": {},
   "source": [
    "# Ejercicios POO"
   ]
  },
  {
   "cell_type": "markdown",
   "metadata": {},
   "source": [
    "1. Ejercicio 1: Realizar un programa que conste de una clase llamada Alumno que tenga como atributos el nombre y la nota del alumno. Definir los métodos para inicializar sus atributos, imprimirlos y mostrar un mensaje con el resultado de la nota y si ha aprobado o no."
   ]
  },
  {
   "cell_type": "code",
   "execution_count": null,
   "metadata": {},
   "outputs": [
    {
     "name": "stdout",
     "output_type": "stream",
     "text": [
      "Jose está suspendido con un 4.\n"
     ]
    }
   ],
   "source": [
    "class Alumno:\n",
    "    '''Inicializamos la clase Alumno'''\n",
    "    def __init__(self, nombre, nota):\n",
    "        self.nombre = nombre\n",
    "        self.nota = nota\n",
    "    \n",
    "    def __str__(self):\n",
    "        \n",
    "        if self.nota >= 5:\n",
    "            resultado = f'{self.nombre.title()} está aprobado con un {self.nota}.'\n",
    "        else:\n",
    "            resultado = f'{self.nombre.title()} está suspendido con un {self.nota}.'\n",
    "        \n",
    "        return resultado\n",
    "\n",
    "nombre= input('Dame el nombre del alumno:')\n",
    "nota = int(input(f'Introduce la nota de {nombre}:'))         \n",
    "\n",
    "mi_alumno = Alumno(nombre, nota)\n",
    "print(mi_alumno)"
   ]
  },
  {
   "cell_type": "markdown",
   "metadata": {},
   "source": [
    "Profe -> Archivo ejercicio1.py y ejercicio1_v2.py\n"
   ]
  },
  {
   "cell_type": "markdown",
   "metadata": {},
   "source": [
    "2. Ejercico 2: Realizar un programa que tenga una clase Persona con las siguientes características. La clase tendrá como atributos el nombre y la edad de una persona. Implementar los métodos necesarios para inicializar los atributos, mostrar los datos e indicar si la persona es mayor de edad o no."
   ]
  },
  {
   "cell_type": "code",
   "execution_count": null,
   "metadata": {},
   "outputs": [
    {
     "name": "stdout",
     "output_type": "stream",
     "text": [
      "El campo de nombre no puede estar vacío!\n",
      "Pepe tiene 18 años y es mayor de edad.\n"
     ]
    }
   ],
   "source": [
    "class Persona:\n",
    "    def __init__(self):\n",
    "        \n",
    "        while True:\n",
    "                self.nombre = input('Introduzca el nombre de la persona:').lower()\n",
    "                if not self.nombre:\n",
    "                    print('El campo de nombre no puede estar vacío!')\n",
    "                else:\n",
    "                    break\n",
    "        \n",
    "        while True:\n",
    "            try:\n",
    "                self.edad = int(input(f'Introduzca la edad de {self.nombre.title()}:'))\n",
    "                break\n",
    "            except ValueError:\n",
    "                print('Vuelva a introducir la edad.')        \n",
    "    \n",
    "    def __str__(self):\n",
    "\n",
    "        if self.edad >= 18:\n",
    "            resultado = f'{self.nombre.title()} tiene {self.edad} años y es mayor de edad.'\n",
    "        else:\n",
    "            resultado = f'{self.nombre.title()} tiene {self.edad} años y no es mayor de edad.'\n",
    "        \n",
    "        return resultado\n",
    "\n",
    "persona = Persona()\n",
    "\n",
    "print(persona)        "
   ]
  },
  {
   "cell_type": "markdown",
   "metadata": {},
   "source": [
    "Profe -> Archivo ejercicio2.py"
   ]
  },
  {
   "cell_type": "markdown",
   "metadata": {},
   "source": [
    "3. Ejercicio 3: Desarrollar un programa que cargue los datos de un triángulo. Implementar una clase con los métodos para incicializar los atributos, imprimir el valor del lado con un tamaño mayor y el tipo de triángulo que es (equilátero, isósceles o escaleno)."
   ]
  },
  {
   "cell_type": "code",
   "execution_count": null,
   "metadata": {},
   "outputs": [
    {
     "name": "stdout",
     "output_type": "stream",
     "text": [
      "Vuelva a introducir el lado A.\n",
      "Vuelva a introducir el lado A.\n",
      "Vuelva a introducir el lado A.\n",
      " El lado mayor del triángulo mide 5.0 unidades.\n",
      " El triángulo es escaleno.\n"
     ]
    }
   ],
   "source": [
    "class Triangulo:\n",
    "    def __init__(self):\n",
    "        while True:\n",
    "            try:\n",
    "                self.ladoA = float(input(f'Introduzca la longitud del lado A:'))\n",
    "                break\n",
    "            except ValueError:\n",
    "                print('Vuelva a introducir el lado A.')\n",
    "        \n",
    "        while True:\n",
    "            try:\n",
    "                self.ladoB = float(input(f'Introduzca la longitud del lado B:'))\n",
    "                break\n",
    "            except ValueError:\n",
    "                print('Vuelva a introducir el lado B.')\n",
    "        while True:\n",
    "            try:\n",
    "                self.ladoC = float(input(f'Introduzca la longitud del lado C:'))\n",
    "                break\n",
    "            except ValueError:\n",
    "                print('Vuelva a introducir el lado C.')\n",
    "    \n",
    "    def lado_mayor(self):\n",
    "        \n",
    "        lista_lados = [self.ladoA, self.ladoB, self.ladoC]\n",
    "\n",
    "        lado_mayor = max(lista_lados)\n",
    "\n",
    "        return f' El lado mayor del triángulo mide {lado_mayor} unidades.'\n",
    " \n",
    "    def tipo_triangulo(self):\n",
    "\n",
    "        if self.ladoA == self.ladoB == self.ladoC:\n",
    "            resultado_tipo = f'El triángulo es equilátero (sus lados miden {self.ladoA} unidades).'\n",
    "\n",
    "        elif self.ladoA != self.ladoB and self.ladoB != self.ladoC and self.ladoA != self.ladoC:\n",
    "            resultado_tipo = f'El triángulo es escaleno.'\n",
    "        else:\n",
    "            resultado_tipo = f'El triángulo es isósceles.'\n",
    "        \n",
    "        return f'{resultado_tipo}'\n",
    "   \n",
    "mi_triangulo = Triangulo()  \n",
    "\n",
    "print(f'{mi_triangulo.lado_mayor()}\\n {mi_triangulo.tipo_triangulo()}')"
   ]
  },
  {
   "cell_type": "markdown",
   "metadata": {},
   "source": [
    "Profe -> ejercicio3.py"
   ]
  },
  {
   "cell_type": "markdown",
   "metadata": {},
   "source": [
    "4. Ejercicio 4: Realizar un programa en el que declaremos dos valores enteros. Después crea métodos para la suma, la resta, la multiplicación y la división. Llamaremos a la clase Calculadora."
   ]
  },
  {
   "cell_type": "code",
   "execution_count": null,
   "metadata": {},
   "outputs": [
    {
     "name": "stdout",
     "output_type": "stream",
     "text": [
      "El resultado de la suma es 0.0\n"
     ]
    }
   ],
   "source": [
    "class Calculadora:\n",
    "    def __init__(self):\n",
    "        self.numeros = []\n",
    "\n",
    "        for i in range(1,3):\n",
    "            while True:\n",
    "                try:\n",
    "                    self.numeros.append(float(input(f'Introduzca el número {i}:')))\n",
    "                    break\n",
    "                except ValueError:\n",
    "                    print('Introduzca un valor numérico correcto.') \n",
    "            \n",
    "\n",
    "\n",
    "    def operaciones(self):\n",
    "\n",
    "        self.opcion = input('Introduce la opcion: 1) suma 2) resta 3) multi 4) div')\n",
    "\n",
    "        if self.opcion == '1':\n",
    "                    resultado = self.numeros[0] + self.numeros[1]\n",
    "                    print(f'El resultado de la suma es {resultado}')\n",
    "\n",
    "        elif self.opcion == '2':\n",
    "                    resultado = self.numeros[0] - self.numeros[1]\n",
    "                    print(f'El resultado de la resta es {resultado}')\n",
    "   \n",
    "        elif self.opcion == '3':\n",
    "                    resultado = self.numeros[0] * self.numeros[1]\n",
    "                    print(f'El resultado de la suma es {resultado}')\n",
    "\n",
    "        elif self.opcion == '4':        \n",
    "                    while True:\n",
    "                        try:\n",
    "                            resultado = self.numeros[0] / self.numeros[1]\n",
    "                            print(f'El resultado de la suma es {resultado}')\n",
    "                            break\n",
    "                        except ZeroDivisionError:\n",
    "                            self.numeros[1] = float(input('Vuelve a introducir un segundo número'))\n",
    "        else:\n",
    "            print('Opción no contemplada')\n",
    "\n",
    "\n",
    "mi_calculadora = Calculadora()\n",
    "\n",
    "mi_calculadora.operaciones()\n",
    "\n"
   ]
  },
  {
   "cell_type": "markdown",
   "metadata": {},
   "source": [
    "Profe -> ejercicio4.py"
   ]
  },
  {
   "cell_type": "markdown",
   "metadata": {},
   "source": [
    "5. Ejercicio 5: Escribir un progrma que genere una lista de 10 fechas aleatorias en el año actual y las ordena de la forma cronológica.\n",
    "\n",
    "Usar la libreria estandar de Python\n",
    "\n",
    "https://pymotw.com/3/\n",
    "\n",
    "* datetime — Date and Time Value Manipulation\n",
    "* random — Pseudorandom Number Generators"
   ]
  },
  {
   "cell_type": "code",
   "execution_count": null,
   "metadata": {},
   "outputs": [
    {
     "name": "stdout",
     "output_type": "stream",
     "text": [
      "Lista de días ordenados cronológicamente:\n",
      " Día 0: 2024-02-28\n",
      " Día 1: 2024-03-12\n",
      " Día 2: 2024-03-13\n",
      " Día 3: 2024-08-26\n",
      " Día 4: 2024-09-05\n",
      " Día 5: 2024-10-08\n",
      " Día 6: 2024-10-13\n",
      " Día 7: 2024-10-21\n",
      " Día 8: 2024-12-04\n",
      " Día 9: 2024-12-22\n"
     ]
    }
   ],
   "source": [
    "import datetime\n",
    "import random\n",
    "\n",
    "class DiasAleatorios:\n",
    "    def __init__(self):\n",
    "        self.listaDias= []\n",
    "      \n",
    "        # Obtener la fecha de hoy para luego rescatar el año con tt.tm_year\n",
    "        today = datetime.date.today()\n",
    "        tt = today.timetuple()\n",
    "\n",
    "        # Bucle for para sumar días a partir del primero del año de forma aleatoria usando: \n",
    "        #   1) Asignar el día 0 : datetime.date(tt.tm_year, 1, 1)\n",
    "        #   2) Sumar día aleatório: datetime.timedelta(days = X) # 0,365 para bisiestos/ 0,364 para normales\n",
    "        #   3) Función random.uniform(), To generate numbers in a specific numerical range.\n",
    "        # Se recogen los días en la listaDias.\n",
    "        # numero_dias = int(input('Dime el número de días que quieres que te ordene de menor a mayor:'))\n",
    "        for day in range(10):\n",
    "            day0 = datetime.date(tt.tm_year, 1, 1)\n",
    "            dayEnd = day0 + datetime.timedelta(days = random.uniform(0,365))\n",
    "            self.listaDias.append(dayEnd)\n",
    "            \n",
    "    # Se Ordena la lista cronológicamente usando la función sorted(), enumerate para generar una tupla para que se recorra en un bucle e imprimir los días.\n",
    "    def ordenar_dias(self):\n",
    "        print('Lista de días ordenados cronológicamente:')\n",
    "        self.listaDias = sorted(self.listaDias) # sorted(self.listaDias, reverse=True) para invertir la lista.\n",
    "        for i, dia in enumerate(self.listaDias):\n",
    "            print(f' Día {i}: {dia}')\n",
    "        \n",
    "\n",
    "\n",
    "dias = DiasAleatorios()\n",
    "\n",
    "dias.ordenar_dias()"
   ]
  },
  {
   "cell_type": "markdown",
   "metadata": {},
   "source": [
    "Profe -> ejercicio5.py"
   ]
  },
  {
   "cell_type": "markdown",
   "metadata": {},
   "source": [
    "6. Ejercicio 6: Hacer lo mismo que en configuracion_coche, pero con el programa de la biblioteca donde usaremos tamién clases."
   ]
  }
 ],
 "metadata": {
  "kernelspec": {
   "display_name": "Python 3",
   "language": "python",
   "name": "python3"
  },
  "language_info": {
   "codemirror_mode": {
    "name": "ipython",
    "version": 3
   },
   "file_extension": ".py",
   "mimetype": "text/x-python",
   "name": "python",
   "nbconvert_exporter": "python",
   "pygments_lexer": "ipython3",
   "version": "3.11.9"
  }
 },
 "nbformat": 4,
 "nbformat_minor": 2
}
