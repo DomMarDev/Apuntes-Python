{
 "cells": [
  {
   "cell_type": "markdown",
   "id": "a0343b75-76db-4586-a616-882a43c34ac0",
   "metadata": {},
   "source": [
    "# Operaciones con dataframes"
   ]
  },
  {
   "cell_type": "code",
   "execution_count": 23,
   "id": "691e4761-b743-419b-a32d-bbfc86e3b478",
   "metadata": {},
   "outputs": [
    {
     "data": {
      "text/plain": [
       "DatetimeIndex(['2023-07-15', '2023-07-16', '2023-07-17', '2023-07-18',\n",
       "               '2023-07-19', '2023-07-20', '2023-07-21', '2023-07-22',\n",
       "               '2023-07-23', '2023-07-24', '2023-07-25', '2023-07-26',\n",
       "               '2023-07-27', '2023-07-28', '2023-07-29', '2023-07-30',\n",
       "               '2023-07-31', '2023-08-01', '2023-08-02', '2023-08-03'],\n",
       "              dtype='datetime64[ns]', freq='D')"
      ]
     },
     "execution_count": 23,
     "metadata": {},
     "output_type": "execute_result"
    }
   ],
   "source": [
    "import pandas as pd\n",
    "import numpy as np\n",
    "\n",
    "#rango de fechas para usar el índice de un DATAFRAME\n",
    "index = pd.date_range('7/15/2023', periods= 20)  # mes dia y año. periodos de 20 días\n",
    "index"
   ]
  },
  {
   "cell_type": "code",
   "execution_count": 24,
   "id": "efe73433-6ef4-48f5-82cc-c0b9fc3cacca",
   "metadata": {},
   "outputs": [
    {
     "data": {
      "text/html": [
       "<div>\n",
       "<style scoped>\n",
       "    .dataframe tbody tr th:only-of-type {\n",
       "        vertical-align: middle;\n",
       "    }\n",
       "\n",
       "    .dataframe tbody tr th {\n",
       "        vertical-align: top;\n",
       "    }\n",
       "\n",
       "    .dataframe thead th {\n",
       "        text-align: right;\n",
       "    }\n",
       "</style>\n",
       "<table border=\"1\" class=\"dataframe\">\n",
       "  <thead>\n",
       "    <tr style=\"text-align: right;\">\n",
       "      <th></th>\n",
       "      <th>A</th>\n",
       "      <th>B</th>\n",
       "      <th>C</th>\n",
       "      <th>D</th>\n",
       "    </tr>\n",
       "  </thead>\n",
       "  <tbody>\n",
       "    <tr>\n",
       "      <th>2023-07-15</th>\n",
       "      <td>-0.461642</td>\n",
       "      <td>-0.238392</td>\n",
       "      <td>0.561323</td>\n",
       "      <td>-1.045905</td>\n",
       "    </tr>\n",
       "    <tr>\n",
       "      <th>2023-07-16</th>\n",
       "      <td>-0.682662</td>\n",
       "      <td>-0.131702</td>\n",
       "      <td>0.329624</td>\n",
       "      <td>-1.010306</td>\n",
       "    </tr>\n",
       "    <tr>\n",
       "      <th>2023-07-17</th>\n",
       "      <td>-0.515603</td>\n",
       "      <td>0.221219</td>\n",
       "      <td>0.430703</td>\n",
       "      <td>-0.838294</td>\n",
       "    </tr>\n",
       "    <tr>\n",
       "      <th>2023-07-18</th>\n",
       "      <td>1.380238</td>\n",
       "      <td>1.410995</td>\n",
       "      <td>1.729421</td>\n",
       "      <td>0.860220</td>\n",
       "    </tr>\n",
       "    <tr>\n",
       "      <th>2023-07-19</th>\n",
       "      <td>-1.161716</td>\n",
       "      <td>-0.164802</td>\n",
       "      <td>-0.106957</td>\n",
       "      <td>-1.708307</td>\n",
       "    </tr>\n",
       "    <tr>\n",
       "      <th>2023-07-20</th>\n",
       "      <td>1.544586</td>\n",
       "      <td>0.820278</td>\n",
       "      <td>0.717737</td>\n",
       "      <td>-0.423907</td>\n",
       "    </tr>\n",
       "    <tr>\n",
       "      <th>2023-07-21</th>\n",
       "      <td>-1.258184</td>\n",
       "      <td>0.646374</td>\n",
       "      <td>-0.675697</td>\n",
       "      <td>1.160905</td>\n",
       "    </tr>\n",
       "    <tr>\n",
       "      <th>2023-07-22</th>\n",
       "      <td>-0.714854</td>\n",
       "      <td>-2.427632</td>\n",
       "      <td>-1.582024</td>\n",
       "      <td>0.001624</td>\n",
       "    </tr>\n",
       "    <tr>\n",
       "      <th>2023-07-23</th>\n",
       "      <td>-0.432457</td>\n",
       "      <td>-0.294085</td>\n",
       "      <td>-0.107345</td>\n",
       "      <td>1.910614</td>\n",
       "    </tr>\n",
       "    <tr>\n",
       "      <th>2023-07-24</th>\n",
       "      <td>-0.134971</td>\n",
       "      <td>-0.148799</td>\n",
       "      <td>0.707677</td>\n",
       "      <td>-0.531754</td>\n",
       "    </tr>\n",
       "    <tr>\n",
       "      <th>2023-07-25</th>\n",
       "      <td>-0.011086</td>\n",
       "      <td>0.410705</td>\n",
       "      <td>0.560308</td>\n",
       "      <td>-0.591738</td>\n",
       "    </tr>\n",
       "    <tr>\n",
       "      <th>2023-07-26</th>\n",
       "      <td>1.124586</td>\n",
       "      <td>-0.607313</td>\n",
       "      <td>-1.395345</td>\n",
       "      <td>-1.027790</td>\n",
       "    </tr>\n",
       "    <tr>\n",
       "      <th>2023-07-27</th>\n",
       "      <td>0.614215</td>\n",
       "      <td>-0.162894</td>\n",
       "      <td>1.203202</td>\n",
       "      <td>0.832911</td>\n",
       "    </tr>\n",
       "    <tr>\n",
       "      <th>2023-07-28</th>\n",
       "      <td>0.202374</td>\n",
       "      <td>2.298744</td>\n",
       "      <td>-1.352961</td>\n",
       "      <td>1.009986</td>\n",
       "    </tr>\n",
       "    <tr>\n",
       "      <th>2023-07-29</th>\n",
       "      <td>0.644731</td>\n",
       "      <td>-0.763461</td>\n",
       "      <td>0.301651</td>\n",
       "      <td>-0.214705</td>\n",
       "    </tr>\n",
       "    <tr>\n",
       "      <th>2023-07-30</th>\n",
       "      <td>-0.740194</td>\n",
       "      <td>-0.093475</td>\n",
       "      <td>0.375101</td>\n",
       "      <td>1.332836</td>\n",
       "    </tr>\n",
       "    <tr>\n",
       "      <th>2023-07-31</th>\n",
       "      <td>1.659041</td>\n",
       "      <td>0.307937</td>\n",
       "      <td>-1.259877</td>\n",
       "      <td>1.139491</td>\n",
       "    </tr>\n",
       "    <tr>\n",
       "      <th>2023-08-01</th>\n",
       "      <td>-0.047063</td>\n",
       "      <td>1.943431</td>\n",
       "      <td>0.904632</td>\n",
       "      <td>-0.667405</td>\n",
       "    </tr>\n",
       "    <tr>\n",
       "      <th>2023-08-02</th>\n",
       "      <td>-2.201490</td>\n",
       "      <td>0.469261</td>\n",
       "      <td>0.809616</td>\n",
       "      <td>0.930367</td>\n",
       "    </tr>\n",
       "    <tr>\n",
       "      <th>2023-08-03</th>\n",
       "      <td>2.172881</td>\n",
       "      <td>2.006337</td>\n",
       "      <td>0.717381</td>\n",
       "      <td>-0.526970</td>\n",
       "    </tr>\n",
       "  </tbody>\n",
       "</table>\n",
       "</div>"
      ],
      "text/plain": [
       "                   A         B         C         D\n",
       "2023-07-15 -0.461642 -0.238392  0.561323 -1.045905\n",
       "2023-07-16 -0.682662 -0.131702  0.329624 -1.010306\n",
       "2023-07-17 -0.515603  0.221219  0.430703 -0.838294\n",
       "2023-07-18  1.380238  1.410995  1.729421  0.860220\n",
       "2023-07-19 -1.161716 -0.164802 -0.106957 -1.708307\n",
       "2023-07-20  1.544586  0.820278  0.717737 -0.423907\n",
       "2023-07-21 -1.258184  0.646374 -0.675697  1.160905\n",
       "2023-07-22 -0.714854 -2.427632 -1.582024  0.001624\n",
       "2023-07-23 -0.432457 -0.294085 -0.107345  1.910614\n",
       "2023-07-24 -0.134971 -0.148799  0.707677 -0.531754\n",
       "2023-07-25 -0.011086  0.410705  0.560308 -0.591738\n",
       "2023-07-26  1.124586 -0.607313 -1.395345 -1.027790\n",
       "2023-07-27  0.614215 -0.162894  1.203202  0.832911\n",
       "2023-07-28  0.202374  2.298744 -1.352961  1.009986\n",
       "2023-07-29  0.644731 -0.763461  0.301651 -0.214705\n",
       "2023-07-30 -0.740194 -0.093475  0.375101  1.332836\n",
       "2023-07-31  1.659041  0.307937 -1.259877  1.139491\n",
       "2023-08-01 -0.047063  1.943431  0.904632 -0.667405\n",
       "2023-08-02 -2.201490  0.469261  0.809616  0.930367\n",
       "2023-08-03  2.172881  2.006337  0.717381 -0.526970"
      ]
     },
     "execution_count": 24,
     "metadata": {},
     "output_type": "execute_result"
    }
   ],
   "source": [
    "df = pd.DataFrame(np.random.randn(20,4), index= index, columns= ['A', 'B', 'C', 'D']) # 20 números en 4 columnas\n",
    "df"
   ]
  },
  {
   "cell_type": "code",
   "execution_count": 25,
   "id": "f15295ea-a2f4-4a9d-bf70-62ef78d4caf5",
   "metadata": {},
   "outputs": [
    {
     "data": {
      "text/html": [
       "<div>\n",
       "<style scoped>\n",
       "    .dataframe tbody tr th:only-of-type {\n",
       "        vertical-align: middle;\n",
       "    }\n",
       "\n",
       "    .dataframe tbody tr th {\n",
       "        vertical-align: top;\n",
       "    }\n",
       "\n",
       "    .dataframe thead th {\n",
       "        text-align: right;\n",
       "    }\n",
       "</style>\n",
       "<table border=\"1\" class=\"dataframe\">\n",
       "  <thead>\n",
       "    <tr style=\"text-align: right;\">\n",
       "      <th></th>\n",
       "      <th>A</th>\n",
       "      <th>B</th>\n",
       "      <th>C</th>\n",
       "      <th>D</th>\n",
       "    </tr>\n",
       "  </thead>\n",
       "  <tbody>\n",
       "    <tr>\n",
       "      <th>2023-07-15</th>\n",
       "      <td>-0.461642</td>\n",
       "      <td>-0.238392</td>\n",
       "      <td>0.561323</td>\n",
       "      <td>-1.045905</td>\n",
       "    </tr>\n",
       "    <tr>\n",
       "      <th>2023-07-16</th>\n",
       "      <td>-0.682662</td>\n",
       "      <td>-0.131702</td>\n",
       "      <td>0.329624</td>\n",
       "      <td>-1.010306</td>\n",
       "    </tr>\n",
       "    <tr>\n",
       "      <th>2023-07-17</th>\n",
       "      <td>-0.515603</td>\n",
       "      <td>0.221219</td>\n",
       "      <td>0.430703</td>\n",
       "      <td>-0.838294</td>\n",
       "    </tr>\n",
       "  </tbody>\n",
       "</table>\n",
       "</div>"
      ],
      "text/plain": [
       "                   A         B         C         D\n",
       "2023-07-15 -0.461642 -0.238392  0.561323 -1.045905\n",
       "2023-07-16 -0.682662 -0.131702  0.329624 -1.010306\n",
       "2023-07-17 -0.515603  0.221219  0.430703 -0.838294"
      ]
     },
     "execution_count": 25,
     "metadata": {},
     "output_type": "execute_result"
    }
   ],
   "source": [
    "# Primeras filas (head)\n",
    "df.head(3) # dentro puedes poner un número y te muestra las que quieres, de serie son 5"
   ]
  },
  {
   "cell_type": "code",
   "execution_count": 26,
   "id": "24816cae-023c-4c14-b7bc-768e2d43a371",
   "metadata": {},
   "outputs": [
    {
     "data": {
      "text/html": [
       "<div>\n",
       "<style scoped>\n",
       "    .dataframe tbody tr th:only-of-type {\n",
       "        vertical-align: middle;\n",
       "    }\n",
       "\n",
       "    .dataframe tbody tr th {\n",
       "        vertical-align: top;\n",
       "    }\n",
       "\n",
       "    .dataframe thead th {\n",
       "        text-align: right;\n",
       "    }\n",
       "</style>\n",
       "<table border=\"1\" class=\"dataframe\">\n",
       "  <thead>\n",
       "    <tr style=\"text-align: right;\">\n",
       "      <th></th>\n",
       "      <th>A</th>\n",
       "      <th>B</th>\n",
       "      <th>C</th>\n",
       "      <th>D</th>\n",
       "    </tr>\n",
       "  </thead>\n",
       "  <tbody>\n",
       "    <tr>\n",
       "      <th>2023-07-31</th>\n",
       "      <td>1.659041</td>\n",
       "      <td>0.307937</td>\n",
       "      <td>-1.259877</td>\n",
       "      <td>1.139491</td>\n",
       "    </tr>\n",
       "    <tr>\n",
       "      <th>2023-08-01</th>\n",
       "      <td>-0.047063</td>\n",
       "      <td>1.943431</td>\n",
       "      <td>0.904632</td>\n",
       "      <td>-0.667405</td>\n",
       "    </tr>\n",
       "    <tr>\n",
       "      <th>2023-08-02</th>\n",
       "      <td>-2.201490</td>\n",
       "      <td>0.469261</td>\n",
       "      <td>0.809616</td>\n",
       "      <td>0.930367</td>\n",
       "    </tr>\n",
       "    <tr>\n",
       "      <th>2023-08-03</th>\n",
       "      <td>2.172881</td>\n",
       "      <td>2.006337</td>\n",
       "      <td>0.717381</td>\n",
       "      <td>-0.526970</td>\n",
       "    </tr>\n",
       "  </tbody>\n",
       "</table>\n",
       "</div>"
      ],
      "text/plain": [
       "                   A         B         C         D\n",
       "2023-07-31  1.659041  0.307937 -1.259877  1.139491\n",
       "2023-08-01 -0.047063  1.943431  0.904632 -0.667405\n",
       "2023-08-02 -2.201490  0.469261  0.809616  0.930367\n",
       "2023-08-03  2.172881  2.006337  0.717381 -0.526970"
      ]
     },
     "execution_count": 26,
     "metadata": {},
     "output_type": "execute_result"
    }
   ],
   "source": [
    "df.tail(4)"
   ]
  },
  {
   "cell_type": "markdown",
   "id": "d864cd6d-7764-4917-ab65-c1689a9f64cd",
   "metadata": {},
   "source": [
    "## Valores únicos, un filtro"
   ]
  },
  {
   "cell_type": "code",
   "execution_count": 27,
   "id": "a4577e8b-d79f-47e3-8cff-367dc8c9dfb9",
   "metadata": {},
   "outputs": [
    {
     "data": {
      "text/html": [
       "<div>\n",
       "<style scoped>\n",
       "    .dataframe tbody tr th:only-of-type {\n",
       "        vertical-align: middle;\n",
       "    }\n",
       "\n",
       "    .dataframe tbody tr th {\n",
       "        vertical-align: top;\n",
       "    }\n",
       "\n",
       "    .dataframe thead th {\n",
       "        text-align: right;\n",
       "    }\n",
       "</style>\n",
       "<table border=\"1\" class=\"dataframe\">\n",
       "  <thead>\n",
       "    <tr style=\"text-align: right;\">\n",
       "      <th></th>\n",
       "      <th>enteros</th>\n",
       "      <th>decimales</th>\n",
       "      <th>cadenas</th>\n",
       "    </tr>\n",
       "  </thead>\n",
       "  <tbody>\n",
       "    <tr>\n",
       "      <th>0</th>\n",
       "      <td>100</td>\n",
       "      <td>3.140</td>\n",
       "      <td>hola</td>\n",
       "    </tr>\n",
       "    <tr>\n",
       "      <th>1</th>\n",
       "      <td>200</td>\n",
       "      <td>2.720</td>\n",
       "      <td>adiós</td>\n",
       "    </tr>\n",
       "    <tr>\n",
       "      <th>2</th>\n",
       "      <td>300</td>\n",
       "      <td>1.618</td>\n",
       "      <td>hola</td>\n",
       "    </tr>\n",
       "    <tr>\n",
       "      <th>3</th>\n",
       "      <td>400</td>\n",
       "      <td>3.140</td>\n",
       "      <td>adiós</td>\n",
       "    </tr>\n",
       "  </tbody>\n",
       "</table>\n",
       "</div>"
      ],
      "text/plain": [
       "   enteros  decimales cadenas\n",
       "0      100      3.140    hola\n",
       "1      200      2.720   adiós\n",
       "2      300      1.618    hola\n",
       "3      400      3.140   adiós"
      ]
     },
     "execution_count": 27,
     "metadata": {},
     "output_type": "execute_result"
    }
   ],
   "source": [
    "# definir un DataFrame con información diferente\n",
    "df = pd.DataFrame({\n",
    "    'enteros': [100, 200, 300, 400],\n",
    "    'decimales': [3.14, 2.72, 1.618, 3.14],\n",
    "    'cadenas': ['hola', 'adiós', 'hola', 'adiós']\n",
    "})\n",
    "df"
   ]
  },
  {
   "cell_type": "code",
   "execution_count": 28,
   "id": "65ad43b1-4002-448b-b6e6-4fcdedc77c1f",
   "metadata": {},
   "outputs": [
    {
     "name": "stdout",
     "output_type": "stream",
     "text": [
      "[100 200 300 400]\n",
      "[3.14  2.72  1.618]\n",
      "['hola' 'adiós']\n"
     ]
    }
   ],
   "source": [
    "# array con valores únicos de una columna\n",
    "print(df['enteros'].unique())\n",
    "print(df['decimales'].unique())\n",
    "print(df['cadenas'].unique())"
   ]
  },
  {
   "cell_type": "code",
   "execution_count": 29,
   "id": "cb3793b7-8184-4dd0-813b-f85358f6fdea",
   "metadata": {},
   "outputs": [
    {
     "name": "stdout",
     "output_type": "stream",
     "text": [
      "4\n",
      "3\n",
      "2\n"
     ]
    }
   ],
   "source": [
    "# contador de valores únicos de una columna\n",
    "print(df['enteros'].nunique()) # number unique\n",
    "print(df['decimales'].nunique())\n",
    "print(df['cadenas'].nunique())"
   ]
  },
  {
   "cell_type": "code",
   "execution_count": 30,
   "id": "690522b1-735f-478b-a599-29e51c0f60aa",
   "metadata": {},
   "outputs": [
    {
     "name": "stdout",
     "output_type": "stream",
     "text": [
      "enteros\n",
      "100    1\n",
      "200    1\n",
      "300    1\n",
      "400    1\n",
      "Name: count, dtype: int64\n",
      "decimales\n",
      "3.140    2\n",
      "2.720    1\n",
      "1.618    1\n",
      "Name: count, dtype: int64\n",
      "cadenas\n",
      "hola     2\n",
      "adiós    2\n",
      "Name: count, dtype: int64\n"
     ]
    }
   ],
   "source": [
    "# DataFrame con lso valores únicos y su contador\n",
    "print(df['enteros'].value_counts())\n",
    "print(df['decimales'].value_counts())\n",
    "print(df['cadenas'].value_counts())"
   ]
  },
  {
   "cell_type": "markdown",
   "id": "3fb8675e-21ed-409b-8b28-83109bae07b1",
   "metadata": {},
   "source": [
    "## Aplicación de funciones"
   ]
  },
  {
   "cell_type": "markdown",
   "id": "409db83f",
   "metadata": {},
   "source": [
    "Aplicar un método interno de las series a una columna"
   ]
  },
  {
   "cell_type": "code",
   "execution_count": 31,
   "id": "8ac71f3b",
   "metadata": {},
   "outputs": [
    {
     "data": {
      "text/plain": [
       "np.float64(10.618)"
      ]
     },
     "execution_count": 31,
     "metadata": {},
     "output_type": "execute_result"
    }
   ],
   "source": [
    "# Método interno de las Series a la columna\n",
    "df['decimales'].sum()\n"
   ]
  },
  {
   "cell_type": "code",
   "execution_count": 32,
   "id": "4cbcd7dc",
   "metadata": {},
   "outputs": [
    {
     "data": {
      "text/plain": [
       "0    4\n",
       "1    5\n",
       "2    4\n",
       "3    5\n",
       "Name: cadenas, dtype: int64"
      ]
     },
     "execution_count": 32,
     "metadata": {},
     "output_type": "execute_result"
    }
   ],
   "source": [
    "# Aplicamos una función predefinida\n",
    "df['cadenas'].apply(len) # devuelve posición y numero de caracteres de cada una de las palabras"
   ]
  },
  {
   "cell_type": "code",
   "execution_count": 33,
   "id": "0c9d569a",
   "metadata": {},
   "outputs": [
    {
     "data": {
      "text/plain": [
       "0    200\n",
       "1    400\n",
       "2    600\n",
       "3    800\n",
       "Name: enteros, dtype: int64"
      ]
     },
     "execution_count": 33,
     "metadata": {},
     "output_type": "execute_result"
    }
   ],
   "source": [
    "# Aplicar una función definida\n",
    "def doblar(n):\n",
    "    return n*2\n",
    "\n",
    "df['enteros'].apply(doblar)"
   ]
  },
  {
   "cell_type": "code",
   "execution_count": 34,
   "id": "722d0ea8",
   "metadata": {},
   "outputs": [
    {
     "data": {
      "text/plain": [
       "0     33.333333\n",
       "1     66.666667\n",
       "2    100.000000\n",
       "3    133.333333\n",
       "Name: enteros, dtype: float64"
      ]
     },
     "execution_count": 34,
     "metadata": {},
     "output_type": "execute_result"
    }
   ],
   "source": [
    "# Aplicar una función anónima\n",
    "df['enteros'].apply(lambda n: n/3) # con lambda llamas al contexto de la función"
   ]
  },
  {
   "cell_type": "code",
   "execution_count": 35,
   "id": "fa469e86",
   "metadata": {},
   "outputs": [
    {
     "data": {
      "text/html": [
       "<div>\n",
       "<style scoped>\n",
       "    .dataframe tbody tr th:only-of-type {\n",
       "        vertical-align: middle;\n",
       "    }\n",
       "\n",
       "    .dataframe tbody tr th {\n",
       "        vertical-align: top;\n",
       "    }\n",
       "\n",
       "    .dataframe thead th {\n",
       "        text-align: right;\n",
       "    }\n",
       "</style>\n",
       "<table border=\"1\" class=\"dataframe\">\n",
       "  <thead>\n",
       "    <tr style=\"text-align: right;\">\n",
       "      <th></th>\n",
       "      <th>enteros</th>\n",
       "      <th>cadenas</th>\n",
       "    </tr>\n",
       "  </thead>\n",
       "  <tbody>\n",
       "    <tr>\n",
       "      <th>0</th>\n",
       "      <td>100</td>\n",
       "      <td>hola</td>\n",
       "    </tr>\n",
       "    <tr>\n",
       "      <th>1</th>\n",
       "      <td>200</td>\n",
       "      <td>adiós</td>\n",
       "    </tr>\n",
       "    <tr>\n",
       "      <th>2</th>\n",
       "      <td>300</td>\n",
       "      <td>hola</td>\n",
       "    </tr>\n",
       "    <tr>\n",
       "      <th>3</th>\n",
       "      <td>400</td>\n",
       "      <td>adiós</td>\n",
       "    </tr>\n",
       "  </tbody>\n",
       "</table>\n",
       "</div>"
      ],
      "text/plain": [
       "   enteros cadenas\n",
       "0      100    hola\n",
       "1      200   adiós\n",
       "2      300    hola\n",
       "3      400   adiós"
      ]
     },
     "execution_count": 35,
     "metadata": {},
     "output_type": "execute_result"
    }
   ],
   "source": [
    "# Borrar permanentemente una columna\n",
    "del df['decimales']\n",
    "df"
   ]
  },
  {
   "cell_type": "markdown",
   "id": "044c7609",
   "metadata": {},
   "source": [
    "## Recuperar índices"
   ]
  },
  {
   "cell_type": "code",
   "execution_count": 36,
   "id": "4b4aa336",
   "metadata": {},
   "outputs": [
    {
     "data": {
      "text/plain": [
       "Index(['enteros', 'cadenas'], dtype='object')"
      ]
     },
     "execution_count": 36,
     "metadata": {},
     "output_type": "execute_result"
    }
   ],
   "source": [
    "# Índices de las columnas\n",
    "df.columns"
   ]
  },
  {
   "cell_type": "code",
   "execution_count": 37,
   "id": "2e1b4cdf",
   "metadata": {},
   "outputs": [
    {
     "name": "stdout",
     "output_type": "stream",
     "text": [
      "enteros\n",
      "cadenas\n"
     ]
    }
   ],
   "source": [
    "for column in df.columns:\n",
    "    print(column)"
   ]
  },
  {
   "cell_type": "code",
   "execution_count": 38,
   "id": "81000a71",
   "metadata": {},
   "outputs": [
    {
     "data": {
      "text/plain": [
       "RangeIndex(start=0, stop=4, step=1)"
      ]
     },
     "execution_count": 38,
     "metadata": {},
     "output_type": "execute_result"
    }
   ],
   "source": [
    "# Índices de las filas\n",
    "df.index # te dice donde empieza, donde acaba y el paso que tiene"
   ]
  },
  {
   "cell_type": "code",
   "execution_count": 39,
   "id": "e38cbcab",
   "metadata": {},
   "outputs": [
    {
     "name": "stdout",
     "output_type": "stream",
     "text": [
      "0\n",
      "1\n",
      "2\n",
      "3\n"
     ]
    }
   ],
   "source": [
    "for index in df.index:\n",
    "    print(index)"
   ]
  },
  {
   "cell_type": "markdown",
   "id": "df504ea8",
   "metadata": {},
   "source": [
    "## Aplicar ordenaciones"
   ]
  },
  {
   "cell_type": "code",
   "execution_count": 40,
   "id": "ace044a7",
   "metadata": {},
   "outputs": [
    {
     "data": {
      "text/html": [
       "<div>\n",
       "<style scoped>\n",
       "    .dataframe tbody tr th:only-of-type {\n",
       "        vertical-align: middle;\n",
       "    }\n",
       "\n",
       "    .dataframe tbody tr th {\n",
       "        vertical-align: top;\n",
       "    }\n",
       "\n",
       "    .dataframe thead th {\n",
       "        text-align: right;\n",
       "    }\n",
       "</style>\n",
       "<table border=\"1\" class=\"dataframe\">\n",
       "  <thead>\n",
       "    <tr style=\"text-align: right;\">\n",
       "      <th></th>\n",
       "      <th>enteros</th>\n",
       "      <th>cadenas</th>\n",
       "    </tr>\n",
       "  </thead>\n",
       "  <tbody>\n",
       "    <tr>\n",
       "      <th>0</th>\n",
       "      <td>100</td>\n",
       "      <td>hola</td>\n",
       "    </tr>\n",
       "    <tr>\n",
       "      <th>1</th>\n",
       "      <td>200</td>\n",
       "      <td>adiós</td>\n",
       "    </tr>\n",
       "    <tr>\n",
       "      <th>2</th>\n",
       "      <td>300</td>\n",
       "      <td>hola</td>\n",
       "    </tr>\n",
       "    <tr>\n",
       "      <th>3</th>\n",
       "      <td>400</td>\n",
       "      <td>adiós</td>\n",
       "    </tr>\n",
       "  </tbody>\n",
       "</table>\n",
       "</div>"
      ],
      "text/plain": [
       "   enteros cadenas\n",
       "0      100    hola\n",
       "1      200   adiós\n",
       "2      300    hola\n",
       "3      400   adiós"
      ]
     },
     "execution_count": 40,
     "metadata": {},
     "output_type": "execute_result"
    }
   ],
   "source": [
    "# Ordenar por una columna\n",
    "df.sort_values(by='enteros')"
   ]
  },
  {
   "cell_type": "code",
   "execution_count": 41,
   "id": "ee3cf11e",
   "metadata": {},
   "outputs": [
    {
     "data": {
      "text/html": [
       "<div>\n",
       "<style scoped>\n",
       "    .dataframe tbody tr th:only-of-type {\n",
       "        vertical-align: middle;\n",
       "    }\n",
       "\n",
       "    .dataframe tbody tr th {\n",
       "        vertical-align: top;\n",
       "    }\n",
       "\n",
       "    .dataframe thead th {\n",
       "        text-align: right;\n",
       "    }\n",
       "</style>\n",
       "<table border=\"1\" class=\"dataframe\">\n",
       "  <thead>\n",
       "    <tr style=\"text-align: right;\">\n",
       "      <th></th>\n",
       "      <th>enteros</th>\n",
       "      <th>cadenas</th>\n",
       "    </tr>\n",
       "  </thead>\n",
       "  <tbody>\n",
       "    <tr>\n",
       "      <th>3</th>\n",
       "      <td>400</td>\n",
       "      <td>adiós</td>\n",
       "    </tr>\n",
       "    <tr>\n",
       "      <th>2</th>\n",
       "      <td>300</td>\n",
       "      <td>hola</td>\n",
       "    </tr>\n",
       "    <tr>\n",
       "      <th>1</th>\n",
       "      <td>200</td>\n",
       "      <td>adiós</td>\n",
       "    </tr>\n",
       "    <tr>\n",
       "      <th>0</th>\n",
       "      <td>100</td>\n",
       "      <td>hola</td>\n",
       "    </tr>\n",
       "  </tbody>\n",
       "</table>\n",
       "</div>"
      ],
      "text/plain": [
       "   enteros cadenas\n",
       "3      400   adiós\n",
       "2      300    hola\n",
       "1      200   adiós\n",
       "0      100    hola"
      ]
     },
     "execution_count": 41,
     "metadata": {},
     "output_type": "execute_result"
    }
   ],
   "source": [
    "# Ordenar de forma inversa\n",
    "df.sort_values(by='enteros', ascending= False)"
   ]
  },
  {
   "cell_type": "markdown",
   "id": "d1a4488d",
   "metadata": {},
   "source": [
    "Estos dos cambios no son de forma permanente, para hacerlo con el inplace = True"
   ]
  },
  {
   "cell_type": "code",
   "execution_count": 44,
   "id": "4183e57e",
   "metadata": {},
   "outputs": [
    {
     "data": {
      "text/html": [
       "<div>\n",
       "<style scoped>\n",
       "    .dataframe tbody tr th:only-of-type {\n",
       "        vertical-align: middle;\n",
       "    }\n",
       "\n",
       "    .dataframe tbody tr th {\n",
       "        vertical-align: top;\n",
       "    }\n",
       "\n",
       "    .dataframe thead th {\n",
       "        text-align: right;\n",
       "    }\n",
       "</style>\n",
       "<table border=\"1\" class=\"dataframe\">\n",
       "  <thead>\n",
       "    <tr style=\"text-align: right;\">\n",
       "      <th></th>\n",
       "      <th>enteros</th>\n",
       "      <th>cadenas</th>\n",
       "    </tr>\n",
       "  </thead>\n",
       "  <tbody>\n",
       "    <tr>\n",
       "      <th>3</th>\n",
       "      <td>400</td>\n",
       "      <td>adiós</td>\n",
       "    </tr>\n",
       "    <tr>\n",
       "      <th>2</th>\n",
       "      <td>300</td>\n",
       "      <td>hola</td>\n",
       "    </tr>\n",
       "    <tr>\n",
       "      <th>1</th>\n",
       "      <td>200</td>\n",
       "      <td>adiós</td>\n",
       "    </tr>\n",
       "    <tr>\n",
       "      <th>0</th>\n",
       "      <td>100</td>\n",
       "      <td>hola</td>\n",
       "    </tr>\n",
       "  </tbody>\n",
       "</table>\n",
       "</div>"
      ],
      "text/plain": [
       "   enteros cadenas\n",
       "3      400   adiós\n",
       "2      300    hola\n",
       "1      200   adiós\n",
       "0      100    hola"
      ]
     },
     "execution_count": 44,
     "metadata": {},
     "output_type": "execute_result"
    }
   ],
   "source": [
    "# Orden permanente\n",
    "df.sort_values(by='enteros', ascending= False, inplace= True)\n",
    "df"
   ]
  }
 ],
 "metadata": {
  "kernelspec": {
   "display_name": "Python 3 (ipykernel)",
   "language": "python",
   "name": "python3"
  },
  "language_info": {
   "codemirror_mode": {
    "name": "ipython",
    "version": 3
   },
   "file_extension": ".py",
   "mimetype": "text/x-python",
   "name": "python",
   "nbconvert_exporter": "python",
   "pygments_lexer": "ipython3",
   "version": "3.12.3"
  }
 },
 "nbformat": 4,
 "nbformat_minor": 5
}
