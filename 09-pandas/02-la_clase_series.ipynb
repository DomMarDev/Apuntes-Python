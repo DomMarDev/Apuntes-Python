{
 "cells": [
  {
   "cell_type": "code",
   "execution_count": 1,
   "id": "45db1f91-3c4a-42cf-8f21-99bde8cbc69c",
   "metadata": {},
   "outputs": [
    {
     "name": "stdout",
     "output_type": "stream",
     "text": [
      "Requirement already satisfied: pandas in d:\\anaconda\\lib\\site-packages (2.2.2)\n",
      "Requirement already satisfied: numpy>=1.26.0 in d:\\anaconda\\lib\\site-packages (from pandas) (1.26.4)\n",
      "Requirement already satisfied: python-dateutil>=2.8.2 in c:\\users\\alumne_tarda1\\appdata\\roaming\\python\\python312\\site-packages (from pandas) (2.9.0.post0)\n",
      "Requirement already satisfied: pytz>=2020.1 in d:\\anaconda\\lib\\site-packages (from pandas) (2024.1)\n",
      "Requirement already satisfied: tzdata>=2022.7 in d:\\anaconda\\lib\\site-packages (from pandas) (2023.3)\n",
      "Requirement already satisfied: six>=1.5 in c:\\users\\alumne_tarda1\\appdata\\roaming\\python\\python312\\site-packages (from python-dateutil>=2.8.2->pandas) (1.16.0)\n"
     ]
    }
   ],
   "source": [
    "# !pip install pandas"
   ]
  },
  {
   "cell_type": "markdown",
   "id": "60b9ff87-e6cf-417a-b964-77e839a42d56",
   "metadata": {},
   "source": [
    "Una vez instalado pandas. Se basa en los arrays de numpy, como si tuvieramos un array de 1 sóla dimensión."
   ]
  },
  {
   "cell_type": "markdown",
   "id": "035f1cb8-dfa3-4c9a-b9c6-7ce67a44b9a3",
   "metadata": {},
   "source": [
    "## La clase Series\n",
    "se parece a las arrays de numpy y nos deja tener etiquetas en los ejes"
   ]
  },
  {
   "cell_type": "markdown",
   "id": "56777edc-8518-4956-8016-50ce4bd43de4",
   "metadata": {},
   "source": [
    "El tipo de dato esencial de **Pandas** son las **Series**, una clase similar a los arrays de **Numpy**, y la diferencia es que las **Series** pueden contener etiquetas en los ejes."
   ]
  },
  {
   "cell_type": "code",
   "execution_count": 3,
   "id": "27fc70bd-de11-44b8-a194-8c99bf591823",
   "metadata": {},
   "outputs": [],
   "source": [
    "import numpy as np\n",
    "import pandas as pd"
   ]
  },
  {
   "cell_type": "markdown",
   "id": "f54c2ad2-be5f-4565-b5e9-aba005aa63e4",
   "metadata": {},
   "source": [
    "## Creación de series\n",
    "### Con Listas"
   ]
  },
  {
   "cell_type": "code",
   "execution_count": 13,
   "id": "f4051b7a-f4c5-4f4d-b134-ef03f7a4dbda",
   "metadata": {},
   "outputs": [
    {
     "data": {
      "text/plain": [
       "A     25\n",
       "B     50\n",
       "C     75\n",
       "D    100\n",
       "dtype: int64"
      ]
     },
     "execution_count": 13,
     "metadata": {},
     "output_type": "execute_result"
    }
   ],
   "source": [
    "# Creamos las etiquetas \n",
    "etiquetas = ['A', 'B', 'C', 'D']\n",
    "lista = [25,50,75,100]\n",
    "\n",
    "#Creamos una serie bássica\n",
    "#instanciamos la clase series\n",
    "pd.Series(data=lista, index= etiquetas) # en el index podemos poner el indice. argumento por asignación"
   ]
  },
  {
   "cell_type": "code",
   "execution_count": 11,
   "id": "f9af6e14-3264-412c-bace-2632c8bfd786",
   "metadata": {},
   "outputs": [
    {
     "data": {
      "text/plain": [
       "A     25\n",
       "B     50\n",
       "C     75\n",
       "D    100\n",
       "dtype: int64"
      ]
     },
     "execution_count": 11,
     "metadata": {},
     "output_type": "execute_result"
    }
   ],
   "source": [
    "# Pasando parámetros por posición\n",
    "pd.Series(lista, etiquetas)"
   ]
  },
  {
   "cell_type": "markdown",
   "id": "fe17326e-5eee-4fe4-bc0f-9f1dc799e504",
   "metadata": {},
   "source": [
    "### Con arrays"
   ]
  },
  {
   "cell_type": "code",
   "execution_count": 18,
   "id": "0e0d9d77-a79e-4c43-9766-b44052fcac81",
   "metadata": {},
   "outputs": [
    {
     "name": "stdout",
     "output_type": "stream",
     "text": [
      "[38 14 27 11]\n"
     ]
    }
   ],
   "source": [
    "array = np.random.randint(50, size=4)\n",
    "print(array)"
   ]
  },
  {
   "cell_type": "code",
   "execution_count": 20,
   "id": "bd5ceb61-11c8-4225-bf5d-faa1aae1880e",
   "metadata": {},
   "outputs": [
    {
     "data": {
      "text/plain": [
       "0    38\n",
       "1    14\n",
       "2    27\n",
       "3    11\n",
       "dtype: int32"
      ]
     },
     "execution_count": 20,
     "metadata": {},
     "output_type": "execute_result"
    }
   ],
   "source": [
    "# Serie básica del arra anterior\n",
    "pd.Series(array)"
   ]
  },
  {
   "cell_type": "code",
   "execution_count": 22,
   "id": "c2ec4bd3-baeb-4313-9ba8-f426bd6fec6d",
   "metadata": {},
   "outputs": [
    {
     "data": {
      "text/plain": [
       "A    38\n",
       "B    14\n",
       "C    27\n",
       "D    11\n",
       "dtype: int32"
      ]
     },
     "execution_count": 22,
     "metadata": {},
     "output_type": "execute_result"
    }
   ],
   "source": [
    "# Serie con array y etiquetas\n",
    "pd.Series(array, etiquetas)"
   ]
  },
  {
   "cell_type": "markdown",
   "id": "f89afaa3-301b-408f-9284-4dad19146baf",
   "metadata": {},
   "source": [
    "### Con diccionarios"
   ]
  },
  {
   "cell_type": "code",
   "execution_count": 26,
   "id": "2ffbf3c8-f85d-48e5-918f-55a915a6b934",
   "metadata": {},
   "outputs": [
    {
     "data": {
      "text/plain": [
       "A     25\n",
       "B     50\n",
       "C     75\n",
       "D    100\n",
       "dtype: int64"
      ]
     },
     "execution_count": 26,
     "metadata": {},
     "output_type": "execute_result"
    }
   ],
   "source": [
    "diccionario ={\n",
    "    'A': 25,\n",
    "    'B': 50,\n",
    "    'C': 75,\n",
    "    'D': 100    \n",
    "}\n",
    "#Series con etiquetas\n",
    "pd.Series(diccionario)"
   ]
  },
  {
   "cell_type": "markdown",
   "id": "1ccc128b-7d5d-4974-93a3-dff6bebec9e1",
   "metadata": {},
   "source": [
    "## Índices"
   ]
  },
  {
   "cell_type": "code",
   "execution_count": 30,
   "id": "bf53b57f-58f9-4f97-b669-0db5e11a3657",
   "metadata": {},
   "outputs": [
    {
     "name": "stdout",
     "output_type": "stream",
     "text": [
      "enero      100\n",
      "febrero    200\n",
      "marzo      300\n",
      "dtype: int64\n"
     ]
    }
   ],
   "source": [
    "ingresos = pd.Series([100,200,300], index= ['enero', 'febrero', 'marzo'])\n",
    "print(ingresos)"
   ]
  },
  {
   "cell_type": "code",
   "execution_count": 32,
   "id": "a2b2e45b-ff4a-44ef-a395-455ed82ab30c",
   "metadata": {},
   "outputs": [
    {
     "data": {
      "text/plain": [
       "100"
      ]
     },
     "execution_count": 32,
     "metadata": {},
     "output_type": "execute_result"
    }
   ],
   "source": [
    "# accedemos al mes de enero por el índice\n",
    "ingresos.iloc[0]"
   ]
  },
  {
   "cell_type": "code",
   "execution_count": 38,
   "id": "841ca092-97d1-4cf7-81ab-abf72e9fecd1",
   "metadata": {},
   "outputs": [
    {
     "data": {
      "text/plain": [
       "100"
      ]
     },
     "execution_count": 38,
     "metadata": {},
     "output_type": "execute_result"
    }
   ],
   "source": [
    "# accedemos por el nombre de etiqueta (mucho más cómodo)\n",
    "ingresos['enero']"
   ]
  },
  {
   "cell_type": "markdown",
   "id": "bea9ecb9-a85c-4741-8a49-c30c191848ad",
   "metadata": {},
   "source": [
    "## Métodos de las series"
   ]
  },
  {
   "cell_type": "code",
   "execution_count": 48,
   "id": "50100113-7730-4a27-8171-af4ddaed898f",
   "metadata": {},
   "outputs": [
    {
     "data": {
      "text/plain": [
       "enero      100\n",
       "febrero    150\n",
       "marzo      250\n",
       "dtype: int64"
      ]
     },
     "execution_count": 48,
     "metadata": {},
     "output_type": "execute_result"
    }
   ],
   "source": [
    "# recuerda que mismo indice para poder operar con él\n",
    "gastos = pd.Series({\n",
    "    'enero': 100,\n",
    "    'febrero': 150,\n",
    "    'marzo': 250\n",
    "})\n",
    "gastos"
   ]
  },
  {
   "cell_type": "code",
   "execution_count": 50,
   "id": "8ddf2197-2059-4722-a6e0-96e640e3a378",
   "metadata": {},
   "outputs": [
    {
     "name": "stdout",
     "output_type": "stream",
     "text": [
      "enero       0\n",
      "febrero    50\n",
      "marzo      50\n",
      "dtype: int64\n"
     ]
    }
   ],
   "source": [
    "total = ingresos.subtract(gastos)\n",
    "print(total)"
   ]
  },
  {
   "cell_type": "code",
   "execution_count": 54,
   "id": "ef6d9046-0b13-4fea-9641-2ee3ba71d608",
   "metadata": {},
   "outputs": [
    {
     "data": {
      "text/plain": [
       "enero       0\n",
       "febrero    50\n",
       "marzo      50\n",
       "dtype: int64"
      ]
     },
     "execution_count": 54,
     "metadata": {},
     "output_type": "execute_result"
    }
   ],
   "source": [
    "ingresos - gastos"
   ]
  },
  {
   "cell_type": "code",
   "execution_count": 56,
   "id": "30cd400e-c69a-4bbe-9800-f7a2f8cbd285",
   "metadata": {},
   "outputs": [
    {
     "data": {
      "text/plain": [
       "pandas.core.series.Series"
      ]
     },
     "execution_count": 56,
     "metadata": {},
     "output_type": "execute_result"
    }
   ],
   "source": [
    "# para saber Tipo de dato de una serie\n",
    "type(total) # es una instancia de panda de la clase series"
   ]
  }
 ],
 "metadata": {
  "kernelspec": {
   "display_name": "Python 3 (ipykernel)",
   "language": "python",
   "name": "python3"
  },
  "language_info": {
   "codemirror_mode": {
    "name": "ipython",
    "version": 3
   },
   "file_extension": ".py",
   "mimetype": "text/x-python",
   "name": "python",
   "nbconvert_exporter": "python",
   "pygments_lexer": "ipython3",
   "version": "3.12.4"
  }
 },
 "nbformat": 4,
 "nbformat_minor": 5
}
