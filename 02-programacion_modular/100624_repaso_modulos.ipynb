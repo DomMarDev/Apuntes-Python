{
 "cells": [
  {
   "cell_type": "markdown",
   "metadata": {},
   "source": [
    "Módulo es un script donde puedes poner funciones y declaraciones.\n",
    "\n",
    "Aprovecharlo de diferentes formas:\n",
    "    * import mombre_declarado (así importas el módulo entero)\n",
    "        - para acceder a las funciones de ese módulo:\n",
    "            - nombre_modulo.nombre.funcion()\n",
    "    * import nombre_modulo * (problema de soscribir funciones que ya tienes)\n",
    "    *from nombre_modulo funcion_especidica\n",
    "        nombre_funcion()\n",
    "\n",
    "Podemos usar Alias:\n",
    "    import mombre_declarado as alias\n",
    "    from nombre_modulo funcion_especidica as alias\n"
   ]
  },
  {
   "cell_type": "markdown",
   "metadata": {},
   "source": [
    "Si los archivos están en directorios diferentes:\n",
    "- Directorio principal con:\n",
    " - script.py\n",
    "    - carpeta modulos\n",
    "    - __ init__.py \n",
    "    - funcion_hola.py\n",
    "    (por cada nivel necesitas el __init__.py para inicializar un módulo)\n",
    "\n",
    "import modulos.funcion_hola\n",
    "\n",
    "Si en funcion_hola.py tenemos:\n",
    "\n",
    "****************************\n",
    "def saludar():\n",
    "    print('Hola')\n",
    "\n",
    "saludar()\n",
    "****************************\n",
    "\n",
    "Con funcion name para no ejecutar algo debajo:\n",
    "- if '__ name__' == '__ main__':\n",
    "-   saludar()\n",
    " - Este sólo se ejecuta desde el programa principal, no desde el importado.\n",
    "\n",
    "\n"
   ]
  },
  {
   "cell_type": "markdown",
   "metadata": {},
   "source": [
    "Para hacer el paquete, en la raiz de la carpeta principal haceos el fichero de setup. py, ponemos lo siguiente:\n",
    "- from setuptools import setup\n",
    "setup(\n",
    "    name = 'dist',\n",
    "    version = '1.0',\n",
    "    description = 'Esto es un paquede de ejemplo',\n",
    "    autor = 'Domingo Marchan',\n",
    "    mail = 'Domingo-marchan@hotmail.com',\n",
    "    url = 'www.urldedomingo.com',\n",
    "    packages = ['paquete', 'paquete.hola', 'paquete.adios'],\n",
    "    scripts = []\n",
    ")\n",
    "\n",
    "En el cmd vamos a buscar la carpeta y ponemos en el comando:\n",
    "- python setup.py sdist\n",
    "\n",
    "- Así se nos crea un paquete de distribución para python con nuestras funciones.\n",
    "\n",
    "Para instalar:\n",
    "\n",
    "- cmd: pip install nombre_del_paquete.tar.gz\n",
    "- con pip list has de encontrar el paquete instalado\n",
    "\n",
    "para desinstalar:\n",
    "- cmd: pip uninstall nombre_del_paquete\n",
    "\n",
    "Para ver el archivo descomprimido:\n",
    "- 1. tienes que coger y darle a extraer aquí al archivo .gz.tar.\n",
    "- 2. te da un archivo .tar, que vuelves a descomprimir y te da la carpeta con los archivos.\n"
   ]
  },
  {
   "cell_type": "code",
   "execution_count": null,
   "metadata": {},
   "outputs": [],
   "source": []
  }
 ],
 "metadata": {
  "language_info": {
   "name": "python"
  }
 },
 "nbformat": 4,
 "nbformat_minor": 2
}
