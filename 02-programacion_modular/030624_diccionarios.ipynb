{
 "cells": [
  {
   "cell_type": "markdown",
   "metadata": {},
   "source": [
    "# Diccionarios"
   ]
  },
  {
   "cell_type": "markdown",
   "metadata": {},
   "source": [
    "Un diccionario en Python es una colección de pares **clave-valor**. Cada clave conecta un valor y podemos usar una clave para acceder al valor asociado a la misma. El valor de una clave puede ser un número, una cadena, una lista o incluso otro diccionario."
   ]
  },
  {
   "cell_type": "markdown",
   "metadata": {},
   "source": [
    "En Python, un diccionario va entre llaves '{}', con una serie de pares *clave-valor* entre ellas."
   ]
  },
  {
   "cell_type": "code",
   "execution_count": 7,
   "metadata": {},
   "outputs": [
    {
     "data": {
      "text/plain": [
       "{'nombre': 'David', 'apellidos': 'Martín Rodriguez', 'clase': '1A'}"
      ]
     },
     "execution_count": 7,
     "metadata": {},
     "output_type": "execute_result"
    }
   ],
   "source": [
    "alumno = {'nombre': 'David', 'apellidos': 'Martín Rodriguez', 'clase': '1A'} # Variable = {'clave': 'valor'}. Además, no hay orden establecido.\n",
    "alumno"
   ]
  },
  {
   "cell_type": "code",
   "execution_count": 8,
   "metadata": {},
   "outputs": [
    {
     "data": {
      "text/plain": [
       "{'nombre': 'David', 'apellidos': 'Martín Rodriguez', 'clase': '1A'}"
      ]
     },
     "execution_count": 8,
     "metadata": {},
     "output_type": "execute_result"
    }
   ],
   "source": [
    "alumno = {\n",
    "    'nombre': 'David',\n",
    "    'apellidos': 'Martín Rodriguez',\n",
    "    'clase': '1A'\n",
    "    } # Variable = {'clave': 'valor'}. Además, no hay orden establecido.\n",
    "alumno"
   ]
  },
  {
   "cell_type": "markdown",
   "metadata": {},
   "source": [
    "## Acceso a los valores de un diccionario"
   ]
  },
  {
   "cell_type": "code",
   "execution_count": 9,
   "metadata": {},
   "outputs": [
    {
     "name": "stdout",
     "output_type": "stream",
     "text": [
      "David\n"
     ]
    }
   ],
   "source": [
    "print(alumno['nombre'])"
   ]
  },
  {
   "cell_type": "markdown",
   "metadata": {},
   "source": [
    "## Añadimos nuevos pares Clave-valor"
   ]
  },
  {
   "cell_type": "code",
   "execution_count": 10,
   "metadata": {},
   "outputs": [
    {
     "name": "stdout",
     "output_type": "stream",
     "text": [
      "{'nombre': 'David', 'apellidos': 'Martín Rodriguez', 'clase': '1A', 'curso': 'Python y analítica de datos'}\n"
     ]
    }
   ],
   "source": [
    "alumno['curso'] = 'Python y analítica de datos' #El diccionario mantiene el orden de clave-valor, todo y que no tiene índice numérico\n",
    "print(alumno)"
   ]
  },
  {
   "cell_type": "code",
   "execution_count": 11,
   "metadata": {},
   "outputs": [
    {
     "name": "stdout",
     "output_type": "stream",
     "text": [
      "{'marca': 'Renault', 'modelo': 'Captur', 'color': 'azul'}\n"
     ]
    }
   ],
   "source": [
    "# Ejemplo diccionario vacio. Se llenan al final y tienes que asignarlo cada vez.\n",
    "\n",
    "automovil = {}\n",
    "automovil['marca'] = 'Renault'\n",
    "automovil['modelo'] = 'Captur'\n",
    "automovil['color'] = 'azul'\n",
    "print(automovil)"
   ]
  },
  {
   "cell_type": "markdown",
   "metadata": {},
   "source": [
    "## Eliminar pares clave-valor"
   ]
  },
  {
   "cell_type": "code",
   "execution_count": 12,
   "metadata": {},
   "outputs": [
    {
     "name": "stdout",
     "output_type": "stream",
     "text": [
      "{'marca': 'Renault', 'modelo': 'Captur'}\n"
     ]
    }
   ],
   "source": [
    "del automovil['color']\n",
    "print(automovil)"
   ]
  },
  {
   "cell_type": "markdown",
   "metadata": {},
   "source": [
    "## Uso del método get() para acceder a los valores de un diccionario"
   ]
  },
  {
   "cell_type": "code",
   "execution_count": 13,
   "metadata": {},
   "outputs": [
    {
     "ename": "KeyError",
     "evalue": "'color'",
     "output_type": "error",
     "traceback": [
      "\u001b[1;31m---------------------------------------------------------------------------\u001b[0m",
      "\u001b[1;31mKeyError\u001b[0m                                  Traceback (most recent call last)",
      "Cell \u001b[1;32mIn[13], line 1\u001b[0m\n\u001b[1;32m----> 1\u001b[0m \u001b[38;5;28mprint\u001b[39m(\u001b[43mautomovil\u001b[49m\u001b[43m[\u001b[49m\u001b[38;5;124;43m'\u001b[39;49m\u001b[38;5;124;43mcolor\u001b[39;49m\u001b[38;5;124;43m'\u001b[39;49m\u001b[43m]\u001b[49m) \u001b[38;5;66;03m#Error que te dice que la clave no existe. ¿Cómo no generar un error? con .get()\u001b[39;00m\n",
      "\u001b[1;31mKeyError\u001b[0m: 'color'"
     ]
    }
   ],
   "source": [
    "print(automovil['color']) #Error que te dice que la clave no existe. ¿Cómo no generar un error? con .get()"
   ]
  },
  {
   "cell_type": "code",
   "execution_count": null,
   "metadata": {},
   "outputs": [
    {
     "name": "stdout",
     "output_type": "stream",
     "text": [
      "Ese argumento no es válido para este diccionario\n"
     ]
    }
   ],
   "source": [
    "valor_salida = automovil.get('color', 'Ese argumento no es válido para este diccionario') # Primer arguneto es la clave que quiero conseguir y el segundo es si no tienes la clave qué muestra.\n",
    "print(valor_salida)"
   ]
  },
  {
   "cell_type": "code",
   "execution_count": null,
   "metadata": {},
   "outputs": [
    {
     "name": "stdout",
     "output_type": "stream",
     "text": [
      "bombay\n",
      "None\n"
     ]
    }
   ],
   "source": [
    "gato = {'raza': 'bombay', 'color': 'negro'}\n",
    "print(gato['raza'])\n",
    "print(gato.get('nombre')) #None es que ese dato no está, pero luego podremos trabajar con el, no es un error. "
   ]
  },
  {
   "cell_type": "markdown",
   "metadata": {},
   "source": [
    "## Pasando bucles por un diccionario"
   ]
  },
  {
   "cell_type": "markdown",
   "metadata": {},
   "source": [
    "Pasar un bucle por todos los pares *clave-valor*. for clave, valor in diccionario.items():"
   ]
  },
  {
   "cell_type": "code",
   "execution_count": null,
   "metadata": {},
   "outputs": [
    {
     "name": "stdout",
     "output_type": "stream",
     "text": [
      "\n",
      "Clave: nombre_usuario\t\tValor: userdaro\n",
      "\n",
      "Clave: nombre\t\tValor: david\n",
      "\n",
      "Clave: appellido\t\tValor: rogel\n"
     ]
    }
   ],
   "source": [
    "usuario_0 = {\n",
    "    'nombre_usuario': 'userdaro',\n",
    "    'nombre': 'david',\n",
    "    'appellido': 'rogel'\n",
    "}\n",
    "\n",
    "for clave, valor in usuario_0.items():\n",
    "    print(f'\\nClave: {clave}\\t\\tValor: {valor}')"
   ]
  },
  {
   "cell_type": "markdown",
   "metadata": {},
   "source": [
    "### Pasando un bucle por todas las claves del diccionario"
   ]
  },
  {
   "cell_type": "code",
   "execution_count": null,
   "metadata": {},
   "outputs": [
    {
     "name": "stdout",
     "output_type": "stream",
     "text": [
      "Nombre del usuario: sara\n",
      "Nombre del usuario: eduard\n",
      "Nombre del usuario: carlos\n",
      "Nombre del usuario: helena\n",
      "\n",
      "\n",
      "Nombre del usuario: sara\n",
      "Nombre del usuario: eduard\n",
      "Nombre del usuario: carlos\n",
      "Nombre del usuario: helena\n"
     ]
    }
   ],
   "source": [
    "# Crear una encuesta con los lenguajes favoritos de alumnos\n",
    "\n",
    "encuesta = {\n",
    "    'sara': 'javascript',\n",
    "    'eduard': 'python',\n",
    "    'carlos': 'php',\n",
    "    'helena': 'c'\n",
    "}\n",
    "\n",
    "for nombre in encuesta.keys():\n",
    "    print(f'Nombre del usuario: {nombre}')\n",
    "\n",
    "# Método predeterminado de un bucle for en un diccionario es el keys\n",
    "print('\\n')\n",
    "\n",
    "for nombre in encuesta:\n",
    "    print(f'Nombre del usuario: {nombre}')"
   ]
  },
  {
   "cell_type": "code",
   "execution_count": null,
   "metadata": {},
   "outputs": [
    {
     "name": "stdout",
     "output_type": "stream",
     "text": [
      "El lenguaje favorito de sara es: javascript\n"
     ]
    }
   ],
   "source": [
    "# Podemos averiguar si existe una clave en un diccionario.\n",
    "valor = input('¿Qué usuario quiere consultar?')\n",
    "if valor in encuesta.keys():\n",
    "    print(f'El lenguaje favorito de {valor} es: {encuesta[valor]}')\n",
    "else:\n",
    "    print('El usuario no existe')"
   ]
  },
  {
   "cell_type": "code",
   "execution_count": null,
   "metadata": {},
   "outputs": [
    {
     "name": "stdout",
     "output_type": "stream",
     "text": [
      "carlos, gracias por realizar la encuesta\n",
      "eduard, gracias por realizar la encuesta\n",
      "helena, gracias por realizar la encuesta\n",
      "sara, gracias por realizar la encuesta\n"
     ]
    }
   ],
   "source": [
    "# Ordenar la salida de las claves\n",
    "for nombre in sorted(encuesta.keys()):\n",
    "    print(f'{nombre}, gracias por realizar la encuesta')"
   ]
  },
  {
   "cell_type": "markdown",
   "metadata": {},
   "source": [
    "### Pasar un bucle con todos los valores de un diccionario."
   ]
  },
  {
   "cell_type": "code",
   "execution_count": null,
   "metadata": {},
   "outputs": [
    {
     "name": "stdout",
     "output_type": "stream",
     "text": [
      "Javascript\n",
      "Python\n",
      "Java\n",
      "Python\n",
      "Javascript\n"
     ]
    }
   ],
   "source": [
    "# Esto se hace con el método values()\n",
    "lenguajes_favoritos = {\n",
    "    'david': 'javascript',\n",
    "    'sara': 'python',\n",
    "    'armand': 'java',\n",
    "    'oscar': 'python',\n",
    "    'manu': 'javascript'\n",
    "}\n",
    "\n",
    "for lenguaje in lenguajes_favoritos.values():\n",
    "    print(lenguaje.title())"
   ]
  },
  {
   "cell_type": "code",
   "execution_count": null,
   "metadata": {},
   "outputs": [
    {
     "name": "stdout",
     "output_type": "stream",
     "text": [
      "Java\n",
      "Python\n",
      "Javascript\n"
     ]
    }
   ],
   "source": [
    "#Filtramos pasando el diccionario a un conjunto. El set sólo mira valores únicos! Si hay valor repetido no lo coloca.\n",
    "\n",
    "for lenguaje in set(lenguajes_favoritos.values()):\n",
    "    print(lenguaje.title())"
   ]
  },
  {
   "cell_type": "code",
   "execution_count": null,
   "metadata": {},
   "outputs": [
    {
     "name": "stdout",
     "output_type": "stream",
     "text": [
      "<class 'dict'>\n",
      "<class 'set'>\n"
     ]
    }
   ],
   "source": [
    "# Conjntos. El método set sólo muestra valores únicos. \n",
    "lenguajes = {}\n",
    "print(type(lenguajes))\n",
    "\n",
    "lenguajes = {'javaScript', 'Python', 'Java'}\n",
    "\n",
    "lenguajes\n",
    "print(type(lenguajes))"
   ]
  },
  {
   "cell_type": "markdown",
   "metadata": {},
   "source": [
    "## Anidación"
   ]
  },
  {
   "cell_type": "markdown",
   "metadata": {},
   "source": [
    "### Una lista de diccionarios"
   ]
  },
  {
   "cell_type": "code",
   "execution_count": null,
   "metadata": {},
   "outputs": [
    {
     "name": "stdout",
     "output_type": "stream",
     "text": [
      "[{'nombre': 'david', 'apellido': 'costa', 'grupo': 'a'}, {'nombre': 'domingo', 'apellido': 'marchan', 'grupo': 'b'}, {'nombre': 'juan', 'apellido': 'martín', 'grupo': 'c'}, {'nombre': 'pepe', 'apellido': 'martín', 'grupo': 'a'}]\n"
     ]
    }
   ],
   "source": [
    "alumno_0 = {\n",
    "    'nombre': 'david',\n",
    "    'apellido': 'costa',\n",
    "    'grupo': 'a'\n",
    "}\n",
    "alumno_1 = {\n",
    "    'nombre': 'domingo',\n",
    "    'apellido': 'marchan',\n",
    "    'grupo': 'b'\n",
    "}\n",
    "alumno_2 = {\n",
    "    'nombre': 'juan',\n",
    "    'apellido': 'martín',\n",
    "    'grupo': 'c'\n",
    "}\n",
    "alumno_3 = {\n",
    "    'nombre': 'pepe',\n",
    "    'apellido': 'martín',\n",
    "    'grupo': 'a'\n",
    "}\n",
    "\n",
    "lista_alumnos = [alumno_0, alumno_1, alumno_2, alumno_3]\n",
    "print(lista_alumnos)"
   ]
  },
  {
   "cell_type": "code",
   "execution_count": null,
   "metadata": {},
   "outputs": [
    {
     "name": "stdout",
     "output_type": "stream",
     "text": [
      "{'nombre': 'david', 'apellido': 'costa', 'grupo': 'a'}\n",
      "{'nombre': 'domingo', 'apellido': 'marchan', 'grupo': 'b'}\n",
      "{'nombre': 'juan', 'apellido': 'martín', 'grupo': 'c'}\n",
      "{'nombre': 'pepe', 'apellido': 'martín', 'grupo': 'a'}\n"
     ]
    }
   ],
   "source": [
    "for alumno in lista_alumnos:\n",
    "    print(alumno)"
   ]
  },
  {
   "cell_type": "code",
   "execution_count": null,
   "metadata": {},
   "outputs": [
    {
     "name": "stdout",
     "output_type": "stream",
     "text": [
      "\n",
      "Alumno número 1:\n",
      "\tnombre: david\n",
      "\tapellido: costa\n",
      "\tgrupo: a\n",
      "\n",
      "Alumno número 2:\n",
      "\tnombre: domingo\n",
      "\tapellido: marchan\n",
      "\tgrupo: b\n",
      "\n",
      "Alumno número 3:\n",
      "\tnombre: juan\n",
      "\tapellido: martín\n",
      "\tgrupo: c\n",
      "\n",
      "Alumno número 4:\n",
      "\tnombre: pepe\n",
      "\tapellido: martín\n",
      "\tgrupo: a\n"
     ]
    }
   ],
   "source": [
    "for indice, alumno in enumerate(lista_alumnos):\n",
    "    print(f'\\nAlumno número {indice + 1}:')\n",
    "    for clave, valor in alumno.items():\n",
    "        print(f'\\t{clave}: {valor}')"
   ]
  },
  {
   "cell_type": "markdown",
   "metadata": {},
   "source": [
    "### Una lista dentro de un diccionario"
   ]
  },
  {
   "cell_type": "code",
   "execution_count": null,
   "metadata": {},
   "outputs": [],
   "source": [
    "lenguajes_favoritos = {\n",
    "    'david': ['javascript', 'php'],\n",
    "    'sara': ['python', 'C#'],\n",
    "    'juan': ['java', 'php'],\n",
    "    'oscar': ['python'],\n",
    "    'manu': ['javascript', 'php', 'python']\n",
    "}"
   ]
  },
  {
   "cell_type": "code",
   "execution_count": null,
   "metadata": {},
   "outputs": [
    {
     "name": "stdout",
     "output_type": "stream",
     "text": [
      "\n",
      "Los lenguajes favoritos del alumne David son:  javascript, php.\n",
      "\n",
      "Los lenguajes favoritos del alumne Sara son:  python, C#.\n",
      "\n",
      "Los lenguajes favoritos del alumne Juan son:  java, php.\n",
      "\n",
      "Los lenguajes favoritos del alumne Oscar son:  python.\n",
      "\n",
      "Los lenguajes favoritos del alumne Manu son:  javascript, php, python.\n"
     ]
    }
   ],
   "source": [
    "# recorremos el diccionario y la lista de valores de cada clave\n",
    "\n",
    "for nombre, lenguajes in lenguajes_favoritos.items():\n",
    "    print(f'\\nLos lenguajes favoritos del alumne {nombre.title()} son: ', end=' ')\n",
    "    salida = ', '.join(lenguaje for lenguaje in lenguajes)\n",
    "    print(salida, end='.\\n')"
   ]
  },
  {
   "cell_type": "markdown",
   "metadata": {},
   "source": [
    "### Diccionarios dentro de diccionarios"
   ]
  },
  {
   "cell_type": "markdown",
   "metadata": {},
   "source": [
    "Cuidado aquí con la sintaxis. Más de dos niveles no es recomendable."
   ]
  },
  {
   "cell_type": "code",
   "execution_count": null,
   "metadata": {},
   "outputs": [],
   "source": [
    "# Usuarios relvantes de una biblioteca\n",
    "\n",
    "usuarios = {\n",
    "    'aeinstein': {\n",
    "        'nombre': 'albert',\n",
    "        'apellido': 'einstein',\n",
    "        'universidad': 'priceton'\n",
    "    },\n",
    "    'mcurie': {\n",
    "        'nombre': 'marie',\n",
    "        'apellido': 'curie',\n",
    "        'universidad': 'paris'\n",
    "    }\n",
    "}"
   ]
  },
  {
   "cell_type": "code",
   "execution_count": null,
   "metadata": {},
   "outputs": [
    {
     "name": "stdout",
     "output_type": "stream",
     "text": [
      "\n",
      "aeinstein | {'nombre': 'albert', 'apellido': 'einstein', 'universidad': 'priceton'}\n",
      "\n",
      "mcurie | {'nombre': 'marie', 'apellido': 'curie', 'universidad': 'paris'}\n"
     ]
    }
   ],
   "source": [
    "# Accedemos al primer nivel del diccionario\n",
    "\n",
    "for clave, valor in usuarios.items():\n",
    "    print(f'\\n{clave} | {valor}')"
   ]
  },
  {
   "cell_type": "code",
   "execution_count": null,
   "metadata": {},
   "outputs": [
    {
     "name": "stdout",
     "output_type": "stream",
     "text": [
      "\n",
      "Usuario: aeinstein\n",
      "('nombre', 'albert')\n",
      "('apellido', 'einstein')\n",
      "('universidad', 'priceton')\n",
      "\n",
      "Usuario: mcurie\n",
      "('nombre', 'marie')\n",
      "('apellido', 'curie')\n",
      "('universidad', 'paris')\n"
     ]
    }
   ],
   "source": [
    "# Accedemos al segundo nivel del diccionario\n",
    "\n",
    "for user, user_info in usuarios.items(): # user y user_info son las primeras claves\n",
    "    print(f'\\nUsuario: {user}')\n",
    "    for info, datos in user_info.items():\n",
    "        print(f'{info, datos}')"
   ]
  },
  {
   "cell_type": "code",
   "execution_count": null,
   "metadata": {},
   "outputs": [
    {
     "name": "stdout",
     "output_type": "stream",
     "text": [
      "\n",
      "Usuario: aeinstein\n",
      "\tNombre completo: Albert Einstein \n",
      "\tUniversidad: Priceton \n",
      "\n",
      "Usuario: mcurie\n",
      "\tNombre completo: Marie Curie \n",
      "\tUniversidad: Paris \n"
     ]
    }
   ],
   "source": [
    "# Salida mas adecuada de cara al usuario\n",
    "\n",
    "for key, value in usuarios.items():\n",
    "    print(f'\\nUsuario: {key}')\n",
    "    print(f'\\tNombre completo: {value['nombre'].title()} {value['apellido'].title()} ')\n",
    "    print(f'\\tUniversidad: {value['universidad'].title()} ')\n",
    "    "
   ]
  },
  {
   "cell_type": "markdown",
   "metadata": {},
   "source": [
    "# Ejercicios"
   ]
  },
  {
   "cell_type": "markdown",
   "metadata": {},
   "source": [
    "1. Escribir un programa que guarde una variable el diciconario {'Euro': '€', 'Dollar': '$', 'Yen': '¥' }, pregúntale al usuario por una divisa y muestre su símbolo o un mensaje de aviso si la divisa no está en el diccionario. (Alt 190 = ¥)"
   ]
  },
  {
   "cell_type": "code",
   "execution_count": null,
   "metadata": {},
   "outputs": [
    {
     "name": "stdout",
     "output_type": "stream",
     "text": [
      "1) Euro, 2) Dollar, 3) Yen 4)Salir\n",
      "El símbolo de la divisa Euro es €\n",
      "Pulse enter para continuar\n",
      "1) Euro, 2) Dollar, 3) Yen 4)Salir\n",
      "El símbolo de la divisa Yen es ¥\n",
      "Pulse enter para continuar\n",
      "1) Euro, 2) Dollar, 3) Yen 4)Salir\n",
      "El símbolo de la divisa Euro es €\n",
      "Pulse enter para continuar\n",
      "1) Euro, 2) Dollar, 3) Yen 4)Salir\n",
      "El símbolo de la divisa Euro es €\n",
      "Pulse enter para continuar\n",
      "1) Euro, 2) Dollar, 3) Yen 4)Salir\n",
      "El símbolo de la divisa Euro es €\n",
      "Pulse enter para continuar\n",
      "1) Euro, 2) Dollar, 3) Yen 4)Salir\n",
      "Has salido del programa\n"
     ]
    }
   ],
   "source": [
    "import os               # MAL!!!!!!!!!!!!!!!!!!!!!!!!!!!!!\n",
    "\n",
    "def clear_screen():\n",
    "    os.system('cis')\n",
    "\n",
    "def pause_screen():\n",
    "    print('Pulse enter para continuar')\n",
    "    input()\n",
    "\n",
    "\n",
    "divisas = {\n",
    "    'Euro': '€',\n",
    "    'Dollar': '$',\n",
    "    'Yen': '¥' }\n",
    "\n",
    "\n",
    "while True:\n",
    "    print('1) Euro, 2) Dollar, 3) Yen 4)Salir')\n",
    "    opcion_divisas = input('Dime qué simbolo quieres correspondiente a las divisas')\n",
    "\n",
    "    match(opcion_divisas):\n",
    "        case '1':\n",
    "            opcion = 1\n",
    "            print(f'El símbolo de la divisa Euro es {divisas['Euro']}')\n",
    "            pause_screen()\n",
    "            clear_screen()\n",
    "        case '2':\n",
    "            opcion = 2\n",
    "            print(f'El símbolo de la divisa Dollar es {divisas['Dollar']}')\n",
    "            pause_screen()\n",
    "            clear_screen()            \n",
    "        case '3':\n",
    "            opcion = 3\n",
    "            print(f'El símbolo de la divisa Yen es {divisas['Yen']}')\n",
    "            pause_screen()\n",
    "            clear_screen()            \n",
    "        case '4':\n",
    "            print('Has salido del programa')\n",
    "            break\n",
    "        case _:\n",
    "            print('Opción no contemplada')\n",
    "            pause_screen()\n",
    "            clear_screen()\n"
   ]
  },
  {
   "cell_type": "code",
   "execution_count": null,
   "metadata": {},
   "outputs": [
    {
     "name": "stdout",
     "output_type": "stream",
     "text": [
      "la divisa no está en nuestra base de datos\n"
     ]
    }
   ],
   "source": [
    "# Profe\n",
    "monedas = {\n",
    "    'Euro': '€',\n",
    "    'Dollar': '$',\n",
    "    'Yen': '¥' }\n",
    "\n",
    "moneda = input('Dame el nombre de la divisa:')\n",
    "\n",
    "# Opción 1: print(monedas.get(monedas.title(), 'la divisa no está en nuestra base de datos))\n",
    "\n",
    "# Opción 2:\n",
    "\n",
    "if moneda.title() in monedas:\n",
    "    print(monedas[moneda.title()])\n",
    "else:\n",
    "    print('la divisa no está en nuestra base de datos')\n"
   ]
  },
  {
   "cell_type": "markdown",
   "metadata": {},
   "source": [
    "2. Escribir un programa que pregunte al usuario: nombre, edad, dirección y teléfono y lo guarde en un diccionario. Después debe mostrar por pantalla el mensaje < NombreUsuario> tiene < EdadUsuario> años, vive en < DirecciónUsuario> y su número de teléfono es < TeléfonoUsuario>."
   ]
  },
  {
   "cell_type": "code",
   "execution_count": 27,
   "metadata": {},
   "outputs": [
    {
     "name": "stdout",
     "output_type": "stream",
     "text": [
      "Programa que te muestra tu nombre, edad, dirección y teléfono.\n",
      " Juan tiene 37 años, vive en Barcelona y su número de teléfono es 645.\n"
     ]
    }
   ],
   "source": [
    "print('Programa que te muestra tu nombre, edad, dirección y teléfono.')\n",
    "nombre = input('Dame tu nombre')\n",
    "edad = input('Dame tu edad')\n",
    "direccion = input('Dame tu dirección')\n",
    "tel = input('Dame tu telefono')\n",
    "\n",
    "usuario = {\n",
    "    'name': nombre,\n",
    "      'age': edad,\n",
    "        'direction': direccion,\n",
    "          'telephone': tel}\n",
    "\n",
    "print(f' {usuario['name'].title()} tiene {usuario['age']} años, vive en {usuario['direction'].title()} y su número de teléfono es {usuario['telephone']}.')"
   ]
  },
  {
   "cell_type": "code",
   "execution_count": null,
   "metadata": {},
   "outputs": [],
   "source": [
    "# Profe\n",
    "\n",
    "    # Solucion 1\n",
    "nombre = input('Dame tu nombre')\n",
    "edad = input('Dame tu edad')\n",
    "direccion = input('Dame tu dirección')\n",
    "tel = input('Dame tu telefono')\n",
    "\n",
    "persona = {\n",
    "    'nombre': nombre,\n",
    "      'edad': edad,\n",
    "        'direcccion': direccion,\n",
    "          'telefono': tel}\n",
    "print(f' {persona['nombre'].title()} tiene {persona['edad']} años, vive en {persona['direcccion'].title()} y su número de teléfono es {persona['telefono']}.')"
   ]
  },
  {
   "cell_type": "markdown",
   "metadata": {},
   "source": [
    "3. Escribir un programa que guarde en un diccionario los precios de las frutas de la tabla, pregunte al usuario por una fruta, un número de kilos y muestre por pantalla el precio de ese número de kilos de fruta. Si la fruta no está en el diccionario debe mostrar un mensaje informando de ello.\n",
    "\n",
    "Fruta   precio\n",
    "- Plátano 1.35\n",
    "- Manzana 0.8\n",
    "- Pera    0.85\n",
    "- Naranja 0,7"
   ]
  },
  {
   "cell_type": "code",
   "execution_count": 53,
   "metadata": {},
   "outputs": [
    {
     "name": "stdout",
     "output_type": "stream",
     "text": [
      "Introduce un valor numérico\n"
     ]
    }
   ],
   "source": [
    "   \n",
    "def control_fruta():\n",
    "    fruta_pedida = input('¿Qué fruta quieres?').lower()\n",
    "    if fruta_pedida == 'plátano':\n",
    "        fruta_pedida == 'platano'\n",
    "    while True:#Control de excepciones hacer una operación y si se da pasar de el\n",
    "        try:\n",
    "            kilos_fruta = float(input('¿Cuántos kilos?'))\n",
    "            break\n",
    "        except ValueError: #El valor del error es ValueError\n",
    "            print('Introduce un valor numérico')\n",
    "       \n",
    "    return fruta_pedida, kilos_fruta\n",
    "\n",
    "\n",
    "frutas = {\n",
    "    'platano': 1.35,\n",
    "    'manzana': 0.8,\n",
    "    'pera': 0.85,\n",
    "    'naranja': 0.7\n",
    "}\n",
    "\n",
    "control_fruta()\n",
    "\n",
    "hay_fruta = frutas.get(fruta_pedida)\n",
    "\n",
    "if hay_fruta == None:\n",
    "    print('No tenemos esta fruta.')\n",
    "else:\n",
    "    resultado = frutas[fruta_pedida] * kilos_fruta\n",
    "    resultado = round(resultado,2)\n",
    "    print(f'{kilos_fruta} kilos de {fruta_pedida} valen {resultado} euros.')\n",
    "\n",
    "\n"
   ]
  },
  {
   "cell_type": "code",
   "execution_count": 7,
   "metadata": {},
   "outputs": [
    {
     "name": "stdout",
     "output_type": "stream",
     "text": [
      "Precio total 2.7 €.\n"
     ]
    }
   ],
   "source": [
    "# Profe\n",
    "\n",
    "# Definimos el diccionario de productos\n",
    "\n",
    "frutas = {\n",
    "    'platano': 1.35,\n",
    "    'manzana': 0.8,\n",
    "    'pera': 0.85,\n",
    "    'naranja': 0.7\n",
    "}\n",
    "\n",
    "fruta = input('¿Qué fruta quieres?').lower()\n",
    "if fruta == 'plátano':\n",
    "        fruta == 'platano'\n",
    "\n",
    "# Control de entrada de los kg\n",
    "while True:\n",
    "    try:\n",
    "            kg = float(input('Dame el número de kilos que quieres'))\n",
    "            break        \n",
    "    except ValueError:\n",
    "            print('El valor debe ser numérico')\n",
    "    \n",
    "# Operación de salida\n",
    "\n",
    "if fruta in frutas:\n",
    "        total = frutas[fruta] * kg\n",
    "        print(f'Precio total {round(total,2)} €.')\n",
    "else:\n",
    "        print('El producto elegido no está disponible')\n",
    "        \n"
   ]
  },
  {
   "cell_type": "code",
   "execution_count": 29,
   "metadata": {},
   "outputs": [
    {
     "name": "stdout",
     "output_type": "stream",
     "text": [
      "Bienvenido a la tienda\n",
      "El/La platano vale 1.35 €/kg\n",
      "El/La manzana vale 0.8 €/kg\n",
      "El/La pera vale 0.85 €/kg\n",
      "El/La naranja vale 0.7 €/kg\n",
      "\n",
      "\n",
      "El/La platano vale 1.35 €/kg\n",
      "El/La manzana vale 0.8 €/kg\n",
      "El/La pera vale 0.85 €/kg\n",
      "El/La naranja vale 0.7 €/kg\n",
      "\n",
      "\n",
      "2.0 kilos de platano valen 2.7 euros. \n",
      "\n",
      "El/La platano vale 1.35 €/kg\n",
      "El/La manzana vale 0.8 €/kg\n",
      "El/La pera vale 0.85 €/kg\n",
      "El/La naranja vale 0.7 €/kg\n",
      "\n",
      "\n",
      "Hasta luego\n"
     ]
    }
   ],
   "source": [
    "# Profe 2. Con menú en el que te salga producto y precio, 2 calcular el peso del kg y precio  3) para salir\n",
    "\n",
    "import os\n",
    "\n",
    "def clear_screen():\n",
    "    os.system('cis')\n",
    "\n",
    "def pause_screen():\n",
    "    print('Pulse enter para continuar')\n",
    "    input()\n",
    "\n",
    "\n",
    "def printar_frutas(frutas):\n",
    "    for fruta, precio in frutas.items():\n",
    "        print(f'El/La {fruta} vale {precio} €/kg')\n",
    "    print('\\n')\n",
    "\n",
    "\n",
    "\n",
    "def control_fruta():\n",
    "    fruta_pedida = input('¿Qué fruta quieres?').lower()\n",
    "\n",
    "    if fruta_pedida == 'plátano':\n",
    "        fruta_pedida = 'platano'\n",
    "    else:\n",
    "        fruta_pedida == fruta_pedida\n",
    "    \n",
    "    while True:#Control de excepciones hacer una operación y si se da pasar de el\n",
    "        try:\n",
    "            kilos_fruta = float(input('¿Cuántos kilos?'))\n",
    "            break\n",
    "        except ValueError: #El valor del error es ValueError\n",
    "            print('Introduce un valor numérico')\n",
    "    \n",
    "    hay_fruta = frutas.get(fruta_pedida)\n",
    "    if hay_fruta == None:\n",
    "                print('No tenemos esta fruta.')\n",
    "    else:\n",
    "        resultado = frutas[fruta_pedida] * kilos_fruta\n",
    "        resultado = round(resultado,2)\n",
    "        print(f'{kilos_fruta} kilos de {fruta_pedida} valen {resultado} euros. \\n')\n",
    "            \n",
    "   \n",
    "frutas = {\n",
    "    'platano': 1.35,\n",
    "    'manzana': 0.8,\n",
    "    'pera': 0.85,\n",
    "    'naranja': 0.7\n",
    "}\n",
    "print('Bienvenido a la tienda', end= '\\n')\n",
    "\n",
    "while True:\n",
    "    opcion = input('Qué quieres hacer?\\n 1) Mirar que frutas están disponibles y precio \\n 2) Seleccionar fruta y Kg')\n",
    "\n",
    "    match(opcion):\n",
    "        case '1':\n",
    "            printar_frutas(frutas)\n",
    "\n",
    "            clear_screen()\n",
    "        case '2':\n",
    "            control_fruta()\n",
    "\n",
    "            clear_screen()            \n",
    "        case '3':\n",
    "            print('Hasta luego')\n",
    "            break\n",
    "        case _:\n",
    "            print('opcion no contemplada')\n",
    "    "
   ]
  },
  {
   "cell_type": "code",
   "execution_count": 42,
   "metadata": {},
   "outputs": [
    {
     "name": "stdout",
     "output_type": "stream",
     "text": [
      "\n",
      "              1) Consultar producto\n",
      "              2) comprar producto\n",
      "              3) Salir\n",
      "              \n",
      "platano |manzana |pera |naranja |No has introducido una fruta en nuestro stock\n",
      "\n",
      "              1) Consultar producto\n",
      "              2) comprar producto\n",
      "              3) Salir\n",
      "              \n",
      "platano |manzana |pera |naranja |El total es de : 4.050000000000001\n",
      "\n",
      "              1) Consultar producto\n",
      "              2) comprar producto\n",
      "              3) Salir\n",
      "              \n",
      "Adiós\n"
     ]
    }
   ],
   "source": [
    "# Profe\n",
    "\n",
    "productos = {\n",
    "    'platano': 1.35,\n",
    "    'manzana': 0.8,\n",
    "    'pera': 0.85,\n",
    "    'naranja': 0.7\n",
    "}\n",
    "\n",
    "def consultar_precio(productos):\n",
    "    '''\n",
    "        Función para consultar el precio de los productos.\n",
    "        Entrada:\n",
    "            Diccionario productos\n",
    "        Salida:\n",
    "            Retorno del precio del producto seleccionado \n",
    "    '''\n",
    "    for resultado in productos:\n",
    "        print(f'{resultado}', end=' |')\n",
    "    fruta_consulta = input('De qué fruta desea consultar precio?: ').lower()\n",
    "\n",
    "    consulta = productos.get(fruta_consulta)\n",
    "\n",
    "    return consulta\n",
    "\n",
    "def comprar_fruta(productos):\n",
    "    '''\n",
    "        Función que calcula el total del producto adquirido\n",
    "        Entrada:\n",
    "            Diccionario de productos\n",
    "            Kg del producto\n",
    "            Valor de la fruta si esta existe en el diccionario\n",
    "        Salida:\n",
    "            Total del producto \n",
    "    '''\n",
    "    consulta = consultar_precio(productos)\n",
    "\n",
    "    if consulta != None:\n",
    "        try:\n",
    "            kg = float(input('Dame los kg que quieres'))\n",
    "            total = consulta * kg\n",
    "            print(f'El total es de : {total}')\n",
    "        except ValueError:\n",
    "            print('No has introducido un número de kg numérico')\n",
    "        \n",
    "\n",
    "\n",
    "\n",
    "\n",
    "def principal(productos):\n",
    "    while True:\n",
    "        print('''\n",
    "              1) Consultar producto\n",
    "              2) comprar producto\n",
    "              3) Salir\n",
    "              ''')\n",
    "        opcion= input('Dame la opcion')\n",
    "\n",
    "        match(opcion):\n",
    "            case '1':\n",
    "                consulta = consultar_precio(productos)\n",
    "                if consulta != None:\n",
    "                    print(f'El precio es: {consulta}')\n",
    "                else:\n",
    "                    print('No has introducido una fruta en nuestro stock')\n",
    "            case '2':\n",
    "                comprar_fruta(productos)\n",
    "            case '3':\n",
    "                print('Adiós')\n",
    "                break\n",
    "            case _:\n",
    "                print('Opción no contemplada')\n",
    "\n",
    "principal(productos)\n"
   ]
  },
  {
   "cell_type": "markdown",
   "metadata": {},
   "source": [
    "4.  Escribir un programa en Python que gestione una biblioteca. La biblioteca contiene una colección de libros y cada libro tiene un título, un autor y un año de publicación. El programa debe ofrecer las siguientes funcionalidades mediante el uso de funciones:\n",
    "\n",
    "- Añadir un nuevo libro: Se pedirá al usuario el título, el autor y el año de publicación del libro, y se añadirá a la colección.\n",
    "- Mostrar todos los libros: Se mostrarán todos los libros en la colección.\n",
    "- Buscar libros por autor: Se pedirá al usuario el nombre de un autor y se mostrarán todos los libros escritos por ese autor.\n",
    "- Eliminar un libro: Se pedirá al usuario el título de un libro y se eliminará de la colección si existe.\n",
    "- Terminar el programa: Finalizar la ejecución del programa."
   ]
  },
  {
   "cell_type": "code",
   "execution_count": null,
   "metadata": {},
   "outputs": [],
   "source": [
    "\n"
   ]
  }
 ],
 "metadata": {
  "kernelspec": {
   "display_name": "Python 3",
   "language": "python",
   "name": "python3"
  },
  "language_info": {
   "codemirror_mode": {
    "name": "ipython",
    "version": 3
   },
   "file_extension": ".py",
   "mimetype": "text/x-python",
   "name": "python",
   "nbconvert_exporter": "python",
   "pygments_lexer": "ipython3",
   "version": "3.12.3"
  }
 },
 "nbformat": 4,
 "nbformat_minor": 2
}
