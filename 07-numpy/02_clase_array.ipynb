{
 "cells": [
  {
   "cell_type": "markdown",
   "metadata": {},
   "source": [
    "# La clase array de NumPy"
   ]
  },
  {
   "cell_type": "markdown",
   "metadata": {},
   "source": [
    " Recopilar información, almacenar en estructuras como vectores(1 dimensión) o matrices (más de 2 dimensiones)\n",
    " Las listas sus funciones son limitadas, en Numpy te permite trabajar con estructuras como son los arrays o matrices."
   ]
  },
  {
   "cell_type": "markdown",
   "metadata": {},
   "source": [
    "**Numpy** nos ofrece una estructura de datos con funciones matemáticas que suplen a otras estructuras primitivas al lenguaje ocmo las *listas*. Estas estructuras se conocen como **arrays**."
   ]
  },
  {
   "cell_type": "code",
   "execution_count": 22,
   "metadata": {},
   "outputs": [
    {
     "data": {
      "text/plain": [
       "array([1, 2, 3, 4, 5])"
      ]
     },
     "execution_count": 22,
     "metadata": {},
     "output_type": "execute_result"
    }
   ],
   "source": [
    "# Importamos  numpy como np, es una convención, como es biblioteca externa no la detecta hasta que ejecutamos el codigo\n",
    "import numpy as np\n",
    "\n",
    "# amos a crear un array a partir de una lista\n",
    "array = np.array([1,2,3,4,5])\n",
    "\n",
    "# mostramos\n",
    "array"
   ]
  },
  {
   "cell_type": "code",
   "execution_count": 23,
   "metadata": {},
   "outputs": [
    {
     "name": "stdout",
     "output_type": "stream",
     "text": [
      "[1 2 3 4 5]\n"
     ]
    }
   ],
   "source": [
    "print(array)"
   ]
  },
  {
   "cell_type": "markdown",
   "metadata": {},
   "source": [
    "Se parece mucho a una lista, pero la separación es por espacios y no por comas"
   ]
  },
  {
   "cell_type": "code",
   "execution_count": 24,
   "metadata": {},
   "outputs": [
    {
     "data": {
      "text/plain": [
       "numpy.ndarray"
      ]
     },
     "execution_count": 24,
     "metadata": {},
     "output_type": "execute_result"
    }
   ],
   "source": [
    "type(array)"
   ]
  },
  {
   "cell_type": "markdown",
   "metadata": {},
   "source": [
    "Este **array** está formado por una lista simple, tiene una sola dimensión y se conoce por **vector**"
   ]
  },
  {
   "cell_type": "markdown",
   "metadata": {},
   "source": [
    "## Dimensión y forma de un array"
   ]
  },
  {
   "cell_type": "markdown",
   "metadata": {},
   "source": [
    "- **ndim** nos muestra la dimesnión del array\n",
    "- **shape** nos muestra su forma"
   ]
  },
  {
   "cell_type": "code",
   "execution_count": 25,
   "metadata": {},
   "outputs": [
    {
     "data": {
      "text/plain": [
       "1"
      ]
     },
     "execution_count": 25,
     "metadata": {},
     "output_type": "execute_result"
    }
   ],
   "source": [
    "array.ndim"
   ]
  },
  {
   "cell_type": "code",
   "execution_count": 26,
   "metadata": {},
   "outputs": [
    {
     "data": {
      "text/plain": [
       "(5,)"
      ]
     },
     "execution_count": 26,
     "metadata": {},
     "output_type": "execute_result"
    }
   ],
   "source": [
    "array.shape"
   ]
  },
  {
   "cell_type": "markdown",
   "metadata": {},
   "source": [
    "Las tuplas con un solo elemento acaban en coma siempre."
   ]
  },
  {
   "cell_type": "markdown",
   "metadata": {},
   "source": [
    "Array con lista anidada cn dos sublistas:"
   ]
  },
  {
   "cell_type": "markdown",
   "metadata": {},
   "source": [
    "vamos a crear un array a partiur de una lista anidada con dos sublistas"
   ]
  },
  {
   "cell_type": "code",
   "execution_count": 27,
   "metadata": {},
   "outputs": [
    {
     "name": "stdout",
     "output_type": "stream",
     "text": [
      "[[ 1  2  3  4  5]\n",
      " [ 6  7  8  9 10]]\n"
     ]
    }
   ],
   "source": [
    "array = np.array([\n",
    "    [1,2,3,4,5],\n",
    "    [6,7,8,9,10]\n",
    "])\n",
    "print(array)"
   ]
  },
  {
   "cell_type": "code",
   "execution_count": 28,
   "metadata": {},
   "outputs": [
    {
     "data": {
      "text/plain": [
       "2"
      ]
     },
     "execution_count": 28,
     "metadata": {},
     "output_type": "execute_result"
    }
   ],
   "source": [
    "array.ndim"
   ]
  },
  {
   "cell_type": "code",
   "execution_count": 29,
   "metadata": {},
   "outputs": [
    {
     "data": {
      "text/plain": [
       "(2, 5)"
      ]
     },
     "execution_count": 29,
     "metadata": {},
     "output_type": "execute_result"
    }
   ],
   "source": [
    "array.shape"
   ]
  },
  {
   "cell_type": "markdown",
   "metadata": {},
   "source": [
    "En una array todos las listas tienen los mismos elementos, siempre han de ser cuadradas por las dimensiones. 2 filas y 5 columnas. Matriz 2D"
   ]
  },
  {
   "cell_type": "markdown",
   "metadata": {},
   "source": [
    "## Tipos de datos a almacenar dentro de arrays"
   ]
  },
  {
   "cell_type": "code",
   "execution_count": 30,
   "metadata": {},
   "outputs": [],
   "source": [
    "array = np.array([1,2,3,4,5])"
   ]
  },
  {
   "cell_type": "code",
   "execution_count": 31,
   "metadata": {},
   "outputs": [
    {
     "data": {
      "text/plain": [
       "dtype('int64')"
      ]
     },
     "execution_count": 31,
     "metadata": {},
     "output_type": "execute_result"
    }
   ],
   "source": [
    "array.dtype # vemos el tipo de dato en ese array (el x32 o 64 depende de la aquitectura del equipo)"
   ]
  },
  {
   "cell_type": "markdown",
   "metadata": {},
   "source": [
    "Si uno de los valores de la lista es decimal, el tipo de dato del arrray cambia a decilmal (float)"
   ]
  },
  {
   "cell_type": "code",
   "execution_count": 32,
   "metadata": {},
   "outputs": [],
   "source": [
    "array = np.array([1,2,3,4,5,6.12354])"
   ]
  },
  {
   "cell_type": "code",
   "execution_count": 33,
   "metadata": {},
   "outputs": [
    {
     "data": {
      "text/plain": [
       "dtype('float64')"
      ]
     },
     "execution_count": 33,
     "metadata": {},
     "output_type": "execute_result"
    }
   ],
   "source": [
    "array.dtype"
   ]
  },
  {
   "cell_type": "markdown",
   "metadata": {},
   "source": [
    "Almacenamos cadenas (no están hechas para ello, pero se puede hacer)"
   ]
  },
  {
   "cell_type": "code",
   "execution_count": 34,
   "metadata": {},
   "outputs": [],
   "source": [
    "array = np.array(['Hola', 'hola', 'caracola'])"
   ]
  },
  {
   "cell_type": "code",
   "execution_count": 35,
   "metadata": {},
   "outputs": [
    {
     "data": {
      "text/plain": [
       "dtype('<U8')"
      ]
     },
     "execution_count": 35,
     "metadata": {},
     "output_type": "execute_result"
    }
   ],
   "source": [
    "array.dtype"
   ]
  },
  {
   "cell_type": "markdown",
   "metadata": {},
   "source": [
    "el < U8 es de unicode, si cambia es según el procesador que tengas"
   ]
  },
  {
   "cell_type": "markdown",
   "metadata": {},
   "source": [
    "Mezclando datos numéricos y cadenas de texto"
   ]
  },
  {
   "cell_type": "code",
   "execution_count": 36,
   "metadata": {},
   "outputs": [],
   "source": [
    "array = np.array(['Hola', 1234, 3.1234])"
   ]
  },
  {
   "cell_type": "code",
   "execution_count": 37,
   "metadata": {},
   "outputs": [
    {
     "data": {
      "text/plain": [
       "dtype('<U32')"
      ]
     },
     "execution_count": 37,
     "metadata": {},
     "output_type": "execute_result"
    }
   ],
   "source": [
    "array.dtype"
   ]
  },
  {
   "cell_type": "markdown",
   "metadata": {},
   "source": [
    "cambia al U32"
   ]
  },
  {
   "cell_type": "code",
   "execution_count": 38,
   "metadata": {},
   "outputs": [
    {
     "data": {
      "text/plain": [
       "array(['Hola', '1234', '3.1234'], dtype='<U32')"
      ]
     },
     "execution_count": 38,
     "metadata": {},
     "output_type": "execute_result"
    }
   ],
   "source": [
    "array # los datos que muestra es porque trabajamos con jupyter"
   ]
  },
  {
   "cell_type": "code",
   "execution_count": 39,
   "metadata": {},
   "outputs": [
    {
     "name": "stdout",
     "output_type": "stream",
     "text": [
      "['Hola' '1234' '3.1234']\n"
     ]
    }
   ],
   "source": [
    "print(array)"
   ]
  },
  {
   "cell_type": "markdown",
   "metadata": {},
   "source": [
    "En general trabaja con el formato que le vaya mejor para trabajar"
   ]
  },
  {
   "cell_type": "markdown",
   "metadata": {},
   "source": [
    "## Tablas y gráficos"
   ]
  },
  {
   "cell_type": "markdown",
   "metadata": {},
   "source": [
    "Tenemos que instalar 2 librerias más: "
   ]
  },
  {
   "cell_type": "code",
   "execution_count": 40,
   "metadata": {},
   "outputs": [
    {
     "name": "stdout",
     "output_type": "stream",
     "text": [
      "Collecting pandas\n",
      "  Downloading pandas-2.2.2-cp312-cp312-win_amd64.whl.metadata (19 kB)\n",
      "Requirement already satisfied: numpy>=1.26.0 in c:\\users\\alumne_tarda1\\appdata\\local\\programs\\python\\python312\\lib\\site-packages (from pandas) (2.0.0)\n",
      "Requirement already satisfied: python-dateutil>=2.8.2 in c:\\users\\alumne_tarda1\\appdata\\roaming\\python\\python312\\site-packages (from pandas) (2.9.0.post0)\n",
      "Collecting pytz>=2020.1 (from pandas)\n",
      "  Downloading pytz-2024.1-py2.py3-none-any.whl.metadata (22 kB)\n",
      "Collecting tzdata>=2022.7 (from pandas)\n",
      "  Downloading tzdata-2024.1-py2.py3-none-any.whl.metadata (1.4 kB)\n",
      "Requirement already satisfied: six>=1.5 in c:\\users\\alumne_tarda1\\appdata\\roaming\\python\\python312\\site-packages (from python-dateutil>=2.8.2->pandas) (1.16.0)\n",
      "Downloading pandas-2.2.2-cp312-cp312-win_amd64.whl (11.5 MB)\n",
      "   ---------------------------------------- 0.0/11.5 MB ? eta -:--:--\n",
      "   ---------------------------------------- 0.0/11.5 MB ? eta -:--:--\n",
      "   ---------------------------------------- 0.1/11.5 MB 1.3 MB/s eta 0:00:09\n",
      "    --------------------------------------- 0.2/11.5 MB 2.0 MB/s eta 0:00:06\n",
      "    --------------------------------------- 0.2/11.5 MB 1.6 MB/s eta 0:00:08\n",
      "    --------------------------------------- 0.2/11.5 MB 1.4 MB/s eta 0:00:09\n",
      "    --------------------------------------- 0.3/11.5 MB 1.4 MB/s eta 0:00:09\n",
      "   - -------------------------------------- 0.3/11.5 MB 1.2 MB/s eta 0:00:10\n",
      "   - -------------------------------------- 0.3/11.5 MB 1.1 MB/s eta 0:00:10\n",
      "   - -------------------------------------- 0.4/11.5 MB 1.1 MB/s eta 0:00:10\n",
      "   - -------------------------------------- 0.4/11.5 MB 1.1 MB/s eta 0:00:11\n",
      "   - -------------------------------------- 0.5/11.5 MB 1.1 MB/s eta 0:00:11\n",
      "   - -------------------------------------- 0.5/11.5 MB 1.0 MB/s eta 0:00:11\n",
      "   - -------------------------------------- 0.5/11.5 MB 1.0 MB/s eta 0:00:11\n",
      "   - -------------------------------------- 0.6/11.5 MB 1.0 MB/s eta 0:00:11\n",
      "   -- ------------------------------------- 0.6/11.5 MB 1.0 MB/s eta 0:00:11\n",
      "   -- ------------------------------------- 0.7/11.5 MB 1.0 MB/s eta 0:00:11\n",
      "   -- ------------------------------------- 0.7/11.5 MB 1.0 MB/s eta 0:00:11\n",
      "   -- ------------------------------------- 0.7/11.5 MB 1.0 MB/s eta 0:00:11\n",
      "   -- ------------------------------------- 0.8/11.5 MB 1.0 MB/s eta 0:00:11\n",
      "   -- ------------------------------------- 0.8/11.5 MB 1.0 MB/s eta 0:00:11\n",
      "   --- ------------------------------------ 0.9/11.5 MB 1.0 MB/s eta 0:00:11\n",
      "   --- ------------------------------------ 0.9/11.5 MB 1.0 MB/s eta 0:00:11\n",
      "   --- ------------------------------------ 1.0/11.5 MB 1.0 MB/s eta 0:00:11\n",
      "   --- ------------------------------------ 1.0/11.5 MB 1.1 MB/s eta 0:00:10\n",
      "   --- ------------------------------------ 1.1/11.5 MB 1.0 MB/s eta 0:00:10\n",
      "   --- ------------------------------------ 1.1/11.5 MB 1.1 MB/s eta 0:00:10\n",
      "   ---- ----------------------------------- 1.2/11.5 MB 1.1 MB/s eta 0:00:10\n",
      "   ---- ----------------------------------- 1.3/11.5 MB 1.1 MB/s eta 0:00:10\n",
      "   ---- ----------------------------------- 1.3/11.5 MB 1.1 MB/s eta 0:00:10\n",
      "   ---- ----------------------------------- 1.4/11.5 MB 1.1 MB/s eta 0:00:10\n",
      "   ---- ----------------------------------- 1.4/11.5 MB 1.1 MB/s eta 0:00:10\n",
      "   ----- ---------------------------------- 1.5/11.5 MB 1.1 MB/s eta 0:00:09\n",
      "   ----- ---------------------------------- 1.5/11.5 MB 1.1 MB/s eta 0:00:09\n",
      "   ----- ---------------------------------- 1.6/11.5 MB 1.1 MB/s eta 0:00:09\n",
      "   ----- ---------------------------------- 1.7/11.5 MB 1.2 MB/s eta 0:00:09\n",
      "   ------ --------------------------------- 1.7/11.5 MB 1.2 MB/s eta 0:00:09\n",
      "   ------ --------------------------------- 1.8/11.5 MB 1.2 MB/s eta 0:00:09\n",
      "   ------ --------------------------------- 1.9/11.5 MB 1.2 MB/s eta 0:00:09\n",
      "   ------ --------------------------------- 1.9/11.5 MB 1.2 MB/s eta 0:00:09\n",
      "   ------ --------------------------------- 2.0/11.5 MB 1.2 MB/s eta 0:00:08\n",
      "   ------- -------------------------------- 2.0/11.5 MB 1.2 MB/s eta 0:00:08\n",
      "   ------- -------------------------------- 2.1/11.5 MB 1.2 MB/s eta 0:00:08\n",
      "   ------- -------------------------------- 2.2/11.5 MB 1.2 MB/s eta 0:00:08\n",
      "   ------- -------------------------------- 2.2/11.5 MB 1.2 MB/s eta 0:00:08\n",
      "   ------- -------------------------------- 2.3/11.5 MB 1.2 MB/s eta 0:00:08\n",
      "   -------- ------------------------------- 2.3/11.5 MB 1.2 MB/s eta 0:00:08\n",
      "   -------- ------------------------------- 2.4/11.5 MB 1.2 MB/s eta 0:00:08\n",
      "   -------- ------------------------------- 2.5/11.5 MB 1.2 MB/s eta 0:00:08\n",
      "   --------- ------------------------------ 2.6/11.5 MB 1.3 MB/s eta 0:00:08\n",
      "   --------- ------------------------------ 2.7/11.5 MB 1.3 MB/s eta 0:00:07\n",
      "   --------- ------------------------------ 2.8/11.5 MB 1.3 MB/s eta 0:00:07\n",
      "   --------- ------------------------------ 2.9/11.5 MB 1.3 MB/s eta 0:00:07\n",
      "   ---------- ----------------------------- 2.9/11.5 MB 1.3 MB/s eta 0:00:07\n",
      "   ---------- ----------------------------- 3.1/11.5 MB 1.3 MB/s eta 0:00:07\n",
      "   ---------- ----------------------------- 3.1/11.5 MB 1.3 MB/s eta 0:00:07\n",
      "   ----------- ---------------------------- 3.2/11.5 MB 1.4 MB/s eta 0:00:07\n",
      "   ----------- ---------------------------- 3.3/11.5 MB 1.4 MB/s eta 0:00:06\n",
      "   ----------- ---------------------------- 3.4/11.5 MB 1.4 MB/s eta 0:00:06\n",
      "   ------------ --------------------------- 3.5/11.5 MB 1.4 MB/s eta 0:00:06\n",
      "   ------------ --------------------------- 3.6/11.5 MB 1.4 MB/s eta 0:00:06\n",
      "   ------------ --------------------------- 3.7/11.5 MB 1.4 MB/s eta 0:00:06\n",
      "   ------------- -------------------------- 3.8/11.5 MB 1.4 MB/s eta 0:00:06\n",
      "   ------------- -------------------------- 3.9/11.5 MB 1.5 MB/s eta 0:00:06\n",
      "   ------------- -------------------------- 4.0/11.5 MB 1.5 MB/s eta 0:00:06\n",
      "   -------------- ------------------------- 4.1/11.5 MB 1.5 MB/s eta 0:00:05\n",
      "   -------------- ------------------------- 4.3/11.5 MB 1.5 MB/s eta 0:00:05\n",
      "   --------------- ------------------------ 4.4/11.5 MB 1.5 MB/s eta 0:00:05\n",
      "   --------------- ------------------------ 4.5/11.5 MB 1.5 MB/s eta 0:00:05\n",
      "   ---------------- ----------------------- 4.7/11.5 MB 1.6 MB/s eta 0:00:05\n",
      "   ---------------- ----------------------- 4.8/11.5 MB 1.6 MB/s eta 0:00:05\n",
      "   ----------------- ---------------------- 4.9/11.5 MB 1.6 MB/s eta 0:00:05\n",
      "   ----------------- ---------------------- 5.0/11.5 MB 1.6 MB/s eta 0:00:05\n",
      "   ----------------- ---------------------- 5.1/11.5 MB 1.6 MB/s eta 0:00:04\n",
      "   ------------------ --------------------- 5.2/11.5 MB 1.6 MB/s eta 0:00:04\n",
      "   ------------------ --------------------- 5.4/11.5 MB 1.7 MB/s eta 0:00:04\n",
      "   ------------------- -------------------- 5.5/11.5 MB 1.7 MB/s eta 0:00:04\n",
      "   ------------------- -------------------- 5.6/11.5 MB 1.7 MB/s eta 0:00:04\n",
      "   ------------------- -------------------- 5.7/11.5 MB 1.7 MB/s eta 0:00:04\n",
      "   -------------------- ------------------- 5.8/11.5 MB 1.7 MB/s eta 0:00:04\n",
      "   -------------------- ------------------- 5.9/11.5 MB 1.7 MB/s eta 0:00:04\n",
      "   -------------------- ------------------- 6.0/11.5 MB 1.7 MB/s eta 0:00:04\n",
      "   --------------------- ------------------ 6.2/11.5 MB 1.8 MB/s eta 0:00:04\n",
      "   --------------------- ------------------ 6.3/11.5 MB 1.8 MB/s eta 0:00:03\n",
      "   ---------------------- ----------------- 6.4/11.5 MB 1.8 MB/s eta 0:00:03\n",
      "   ---------------------- ----------------- 6.6/11.5 MB 1.8 MB/s eta 0:00:03\n",
      "   ----------------------- ---------------- 6.7/11.5 MB 1.8 MB/s eta 0:00:03\n",
      "   ----------------------- ---------------- 6.9/11.5 MB 1.8 MB/s eta 0:00:03\n",
      "   ------------------------ --------------- 7.0/11.5 MB 1.9 MB/s eta 0:00:03\n",
      "   ------------------------ --------------- 7.2/11.5 MB 1.9 MB/s eta 0:00:03\n",
      "   ------------------------- -------------- 7.3/11.5 MB 1.9 MB/s eta 0:00:03\n",
      "   ------------------------- -------------- 7.5/11.5 MB 1.9 MB/s eta 0:00:03\n",
      "   -------------------------- ------------- 7.6/11.5 MB 1.9 MB/s eta 0:00:03\n",
      "   --------------------------- ------------ 7.8/11.5 MB 2.0 MB/s eta 0:00:02\n",
      "   --------------------------- ------------ 8.0/11.5 MB 2.0 MB/s eta 0:00:02\n",
      "   ---------------------------- ----------- 8.2/11.5 MB 2.0 MB/s eta 0:00:02\n",
      "   ----------------------------- ---------- 8.4/11.5 MB 2.0 MB/s eta 0:00:02\n",
      "   ----------------------------- ---------- 8.5/11.5 MB 2.0 MB/s eta 0:00:02\n",
      "   ------------------------------ --------- 8.7/11.5 MB 2.1 MB/s eta 0:00:02\n",
      "   ------------------------------ --------- 8.8/11.5 MB 2.1 MB/s eta 0:00:02\n",
      "   ------------------------------- -------- 9.0/11.5 MB 2.1 MB/s eta 0:00:02\n",
      "   -------------------------------- ------- 9.2/11.5 MB 2.1 MB/s eta 0:00:02\n",
      "   -------------------------------- ------- 9.4/11.5 MB 2.1 MB/s eta 0:00:01\n",
      "   --------------------------------- ------ 9.6/11.5 MB 2.2 MB/s eta 0:00:01\n",
      "   --------------------------------- ------ 9.7/11.5 MB 2.2 MB/s eta 0:00:01\n",
      "   ---------------------------------- ----- 9.9/11.5 MB 2.2 MB/s eta 0:00:01\n",
      "   ---------------------------------- ----- 10.1/11.5 MB 2.2 MB/s eta 0:00:01\n",
      "   ----------------------------------- ---- 10.3/11.5 MB 2.2 MB/s eta 0:00:01\n",
      "   ------------------------------------ --- 10.5/11.5 MB 2.3 MB/s eta 0:00:01\n",
      "   ------------------------------------- -- 10.6/11.5 MB 2.4 MB/s eta 0:00:01\n",
      "   ------------------------------------- -- 10.9/11.5 MB 2.5 MB/s eta 0:00:01\n",
      "   -------------------------------------- - 11.0/11.5 MB 2.6 MB/s eta 0:00:01\n",
      "   ---------------------------------------  11.2/11.5 MB 2.7 MB/s eta 0:00:01\n",
      "   ---------------------------------------  11.5/11.5 MB 2.8 MB/s eta 0:00:01\n",
      "   ---------------------------------------- 11.5/11.5 MB 2.7 MB/s eta 0:00:00\n",
      "Downloading pytz-2024.1-py2.py3-none-any.whl (505 kB)\n",
      "   ---------------------------------------- 0.0/505.5 kB ? eta -:--:--\n",
      "   ------------------ --------------------- 235.5/505.5 kB 7.3 MB/s eta 0:00:01\n",
      "   ---------------------------------- ----- 430.1/505.5 kB 5.4 MB/s eta 0:00:01\n",
      "   ---------------------------------------- 505.5/505.5 kB 4.5 MB/s eta 0:00:00\n",
      "Downloading tzdata-2024.1-py2.py3-none-any.whl (345 kB)\n",
      "   ---------------------------------------- 0.0/345.4 kB ? eta -:--:--\n",
      "   ---------------------- ----------------- 194.6/345.4 kB 5.9 MB/s eta 0:00:01\n",
      "   ---------------------------------------- 345.4/345.4 kB 5.4 MB/s eta 0:00:00\n",
      "Installing collected packages: pytz, tzdata, pandas\n",
      "Successfully installed pandas-2.2.2 pytz-2024.1 tzdata-2024.1\n"
     ]
    }
   ],
   "source": [
    "!pip install pandas"
   ]
  },
  {
   "cell_type": "code",
   "execution_count": 41,
   "metadata": {},
   "outputs": [
    {
     "name": "stdout",
     "output_type": "stream",
     "text": [
      "Collecting matplotlib\n",
      "  Downloading matplotlib-3.9.0-cp312-cp312-win_amd64.whl.metadata (11 kB)\n",
      "Collecting contourpy>=1.0.1 (from matplotlib)\n",
      "  Downloading contourpy-1.2.1-cp312-cp312-win_amd64.whl.metadata (5.8 kB)\n",
      "Collecting cycler>=0.10 (from matplotlib)\n",
      "  Downloading cycler-0.12.1-py3-none-any.whl.metadata (3.8 kB)\n",
      "Collecting fonttools>=4.22.0 (from matplotlib)\n",
      "  Downloading fonttools-4.53.0-cp312-cp312-win_amd64.whl.metadata (165 kB)\n",
      "     ---------------------------------------- 0.0/165.5 kB ? eta -:--:--\n",
      "     ---------------- ---------------------- 71.7/165.5 kB 2.0 MB/s eta 0:00:01\n",
      "     -------------------------------------- 165.5/165.5 kB 2.0 MB/s eta 0:00:00\n",
      "Collecting kiwisolver>=1.3.1 (from matplotlib)\n",
      "  Downloading kiwisolver-1.4.5-cp312-cp312-win_amd64.whl.metadata (6.5 kB)\n",
      "Requirement already satisfied: numpy>=1.23 in c:\\users\\alumne_tarda1\\appdata\\local\\programs\\python\\python312\\lib\\site-packages (from matplotlib) (2.0.0)\n",
      "Requirement already satisfied: packaging>=20.0 in c:\\users\\alumne_tarda1\\appdata\\roaming\\python\\python312\\site-packages (from matplotlib) (24.0)\n",
      "Requirement already satisfied: pillow>=8 in c:\\users\\alumne_tarda1\\appdata\\local\\programs\\python\\python312\\lib\\site-packages (from matplotlib) (10.3.0)\n",
      "Collecting pyparsing>=2.3.1 (from matplotlib)\n",
      "  Downloading pyparsing-3.1.2-py3-none-any.whl.metadata (5.1 kB)\n",
      "Requirement already satisfied: python-dateutil>=2.7 in c:\\users\\alumne_tarda1\\appdata\\roaming\\python\\python312\\site-packages (from matplotlib) (2.9.0.post0)\n",
      "Requirement already satisfied: six>=1.5 in c:\\users\\alumne_tarda1\\appdata\\roaming\\python\\python312\\site-packages (from python-dateutil>=2.7->matplotlib) (1.16.0)\n",
      "Downloading matplotlib-3.9.0-cp312-cp312-win_amd64.whl (8.0 MB)\n",
      "   ---------------------------------------- 0.0/8.0 MB ? eta -:--:--\n",
      "   - -------------------------------------- 0.3/8.0 MB 7.0 MB/s eta 0:00:02\n",
      "   -- ------------------------------------- 0.6/8.0 MB 5.9 MB/s eta 0:00:02\n",
      "   ------ --------------------------------- 1.3/8.0 MB 9.4 MB/s eta 0:00:01\n",
      "   --------- ------------------------------ 1.9/8.0 MB 10.1 MB/s eta 0:00:01\n",
      "   ------------ --------------------------- 2.5/8.0 MB 10.0 MB/s eta 0:00:01\n",
      "   -------------- ------------------------- 3.0/8.0 MB 10.0 MB/s eta 0:00:01\n",
      "   ----------------- ---------------------- 3.5/8.0 MB 10.0 MB/s eta 0:00:01\n",
      "   ------------------- -------------------- 4.0/8.0 MB 9.8 MB/s eta 0:00:01\n",
      "   ---------------------- ----------------- 4.5/8.0 MB 9.9 MB/s eta 0:00:01\n",
      "   ------------------------ --------------- 4.9/8.0 MB 9.7 MB/s eta 0:00:01\n",
      "   --------------------------- ------------ 5.4/8.0 MB 9.8 MB/s eta 0:00:01\n",
      "   ----------------------------- ---------- 5.9/8.0 MB 9.6 MB/s eta 0:00:01\n",
      "   ------------------------------- -------- 6.2/8.0 MB 10.0 MB/s eta 0:00:01\n",
      "   --------------------------------- ------ 6.8/8.0 MB 9.8 MB/s eta 0:00:01\n",
      "   ------------------------------------ --- 7.2/8.0 MB 9.8 MB/s eta 0:00:01\n",
      "   -------------------------------------- - 7.7/8.0 MB 9.9 MB/s eta 0:00:01\n",
      "   ---------------------------------------  8.0/8.0 MB 9.8 MB/s eta 0:00:01\n",
      "   ---------------------------------------- 8.0/8.0 MB 9.4 MB/s eta 0:00:00\n",
      "Downloading contourpy-1.2.1-cp312-cp312-win_amd64.whl (189 kB)\n",
      "   ---------------------------------------- 0.0/189.9 kB ? eta -:--:--\n",
      "   ---------------------------------------- 189.9/189.9 kB 5.8 MB/s eta 0:00:00\n",
      "Downloading cycler-0.12.1-py3-none-any.whl (8.3 kB)\n",
      "Downloading fonttools-4.53.0-cp312-cp312-win_amd64.whl (2.2 MB)\n",
      "   ---------------------------------------- 0.0/2.2 MB ? eta -:--:--\n",
      "   ------- -------------------------------- 0.4/2.2 MB 13.5 MB/s eta 0:00:01\n",
      "   ----------------- ---------------------- 1.0/2.2 MB 12.1 MB/s eta 0:00:01\n",
      "   ------------------------- -------------- 1.4/2.2 MB 9.9 MB/s eta 0:00:01\n",
      "   -------------------------------- ------- 1.8/2.2 MB 9.5 MB/s eta 0:00:01\n",
      "   ---------------------------------------  2.2/2.2 MB 9.3 MB/s eta 0:00:01\n",
      "   ---------------------------------------- 2.2/2.2 MB 7.8 MB/s eta 0:00:00\n",
      "Downloading kiwisolver-1.4.5-cp312-cp312-win_amd64.whl (56 kB)\n",
      "   ---------------------------------------- 0.0/56.0 kB ? eta -:--:--\n",
      "   ---------------------------------------- 56.0/56.0 kB 3.1 MB/s eta 0:00:00\n",
      "Downloading pyparsing-3.1.2-py3-none-any.whl (103 kB)\n",
      "   ---------------------------------------- 0.0/103.2 kB ? eta -:--:--\n",
      "   ---------------------------------------- 103.2/103.2 kB 5.8 MB/s eta 0:00:00\n",
      "Installing collected packages: pyparsing, kiwisolver, fonttools, cycler, contourpy, matplotlib\n",
      "Successfully installed contourpy-1.2.1 cycler-0.12.1 fonttools-4.53.0 kiwisolver-1.4.5 matplotlib-3.9.0 pyparsing-3.1.2\n"
     ]
    }
   ],
   "source": [
    "!pip install matplotlib"
   ]
  },
  {
   "cell_type": "markdown",
   "metadata": {},
   "source": [
    "Una vez instaladas podemos trabajar con ellas."
   ]
  },
  {
   "cell_type": "markdown",
   "metadata": {},
   "source": [
    "Ejemplo conjunto de las tres librerías"
   ]
  },
  {
   "cell_type": "code",
   "execution_count": 45,
   "metadata": {},
   "outputs": [
    {
     "data": {
      "text/html": [
       "<div>\n",
       "<style scoped>\n",
       "    .dataframe tbody tr th:only-of-type {\n",
       "        vertical-align: middle;\n",
       "    }\n",
       "\n",
       "    .dataframe tbody tr th {\n",
       "        vertical-align: top;\n",
       "    }\n",
       "\n",
       "    .dataframe thead th {\n",
       "        text-align: right;\n",
       "    }\n",
       "</style>\n",
       "<table border=\"1\" class=\"dataframe\">\n",
       "  <thead>\n",
       "    <tr style=\"text-align: right;\">\n",
       "      <th></th>\n",
       "      <th>Domingo</th>\n",
       "      <th>Albert</th>\n",
       "      <th>Enrique</th>\n",
       "    </tr>\n",
       "  </thead>\n",
       "  <tbody>\n",
       "    <tr>\n",
       "      <th>0</th>\n",
       "      <td>94</td>\n",
       "      <td>50</td>\n",
       "      <td>79</td>\n",
       "    </tr>\n",
       "    <tr>\n",
       "      <th>1</th>\n",
       "      <td>7</td>\n",
       "      <td>42</td>\n",
       "      <td>26</td>\n",
       "    </tr>\n",
       "    <tr>\n",
       "      <th>2</th>\n",
       "      <td>21</td>\n",
       "      <td>99</td>\n",
       "      <td>15</td>\n",
       "    </tr>\n",
       "    <tr>\n",
       "      <th>3</th>\n",
       "      <td>55</td>\n",
       "      <td>64</td>\n",
       "      <td>68</td>\n",
       "    </tr>\n",
       "  </tbody>\n",
       "</table>\n",
       "</div>"
      ],
      "text/plain": [
       "   Domingo  Albert  Enrique\n",
       "0       94      50       79\n",
       "1        7      42       26\n",
       "2       21      99       15\n",
       "3       55      64       68"
      ]
     },
     "execution_count": 45,
     "metadata": {},
     "output_type": "execute_result"
    }
   ],
   "source": [
    "import numpy as np\n",
    "import pandas as pd\n",
    "\n",
    "# Generamos un dataframe\n",
    "tabla = pd.DataFrame(\n",
    "    np.random.randint(0,100, size=(4,3)), # Size son las medidas (filas, columnas). Esto es porque le hemos pasado numeros aleatorios y uego le decimos la medida de la tabla. Si no ponemos size te pone 0 y 1.\n",
    "    columns = ['Domingo', 'Albert', 'Enrique']\n",
    ")\n",
    "tabla"
   ]
  },
  {
   "cell_type": "markdown",
   "metadata": {},
   "source": [
    "Importamos numpy, pandas y luego con la clase dataframe generamos la tabla. Luego le asignamos nombres a las columnas. A partir del dataframe generamos la gráfica:"
   ]
  },
  {
   "cell_type": "code",
   "execution_count": 47,
   "metadata": {},
   "outputs": [
    {
     "data": {
      "image/png": "[encoded data removed]",
      "text/plain": [
       "<Figure size 640x480 with 1 Axes>"
      ]
     },
     "metadata": {},
     "output_type": "display_data"
    }
   ],
   "source": [
    "import matplotlib.pyplot as plt # plt = modulo pyplot de matplotlib\n",
    "\n",
    "tabla.plot()\n",
    "plt.show()"
   ]
  },
  {
   "cell_type": "markdown",
   "metadata": {},
   "source": [
    "se puede guardar como png, copiar etc en el menú de arriba a derecha"
   ]
  }
 ],
 "metadata": {
  "kernelspec": {
   "display_name": "Python 3",
   "language": "python",
   "name": "python3"
  },
  "language_info": {
   "codemirror_mode": {
    "name": "ipython",
    "version": 3
   },
   "file_extension": ".py",
   "mimetype": "text/x-python",
   "name": "python",
   "nbconvert_exporter": "python",
   "pygments_lexer": "ipython3",
   "version": "3.12.3"
  }
 },
 "nbformat": 4,
 "nbformat_minor": 2
}
