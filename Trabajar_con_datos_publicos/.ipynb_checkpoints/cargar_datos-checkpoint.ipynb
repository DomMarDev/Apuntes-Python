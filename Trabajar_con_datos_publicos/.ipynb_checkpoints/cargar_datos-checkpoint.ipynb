{
 "cells": [
  {
   "cell_type": "markdown",
   "id": "8aa50316-b0b3-4c6c-ace8-8b5694a41b36",
   "metadata": {},
   "source": [
    "# 1. Cargar datos"
   ]
  },
  {
   "cell_type": "markdown",
   "id": "5592d6fd-46af-4d93-ab49-788fff1f7bdb",
   "metadata": {},
   "source": [
    "Descargar un conjunto de datos de fuentes en línea y vamos a crear visualizaciones funcionales de estos datos"
   ]
  },
  {
   "cell_type": "markdown",
   "id": "271e4aae-4666-4f75-9b9e-2008077d4be0",
   "metadata": {},
   "source": [
    "## 1.1. El formato de archivo CS"
   ]
  },
  {
   "cell_type": "markdown",
   "id": "a4343974-6aed-4655-81cd-34403415cbab",
   "metadata": {},
   "source": [
    "Una forma sencilla de guardar datos en un archivo de texto, consiste en escribirlos como una serie de valores separados por comas.\n",
    "Los archivos resultantes son archivos *CSV*"
   ]
  },
  {
   "cell_type": "markdown",
   "id": "e9dfde1a-6972-4a1b-aea3-75383eeb0b82",
   "metadata": {},
   "source": [
    "### 1.1.1. Analizar los encabezados del archivo CSV"
   ]
  },
  {
   "cell_type": "code",
   "execution_count": 25,
   "id": "45b5ee97-a153-444b-93e2-0efb5d04abf9",
   "metadata": {},
   "outputs": [
    {
     "name": "stdout",
     "output_type": "stream",
     "text": [
      "['STATION', 'NAME', 'DATE', 'TAVG', 'TMAX', 'TMIN']\n"
     ]
    }
   ],
   "source": [
    "from pathlib import Path\n",
    "import csv\n",
    "path = Path('./datos/sitka_weather.csv')\n",
    "lines = path.read_text().splitlines()\n",
    "\n",
    "reader = csv.reader(lines)\n",
    "header_rows = next(reader) # rescata la primera linea, queremos la cabecera (reader)\n",
    "print(header_rows)"
   ]
  },
  {
   "cell_type": "code",
   "execution_count": 16,
   "id": "d59f235b-b2f7-4c18-93b7-cf212e1c4e3f",
   "metadata": {},
   "outputs": [
    {
     "name": "stdout",
     "output_type": "stream",
     "text": [
      "0 STATION\n",
      "1 NAME\n",
      "2 DATE\n",
      "3 TAVG\n",
      "4 TMAX\n",
      "5 TMIN\n"
     ]
    }
   ],
   "source": [
    "for i, columna in enumerate(header_rows):\n",
    "    print(i, columna)"
   ]
  },
  {
   "cell_type": "markdown",
   "id": "02aafda3-800b-4094-b65b-3bacaeb357d4",
   "metadata": {},
   "source": [
    "Extraer temp maximas de cada día, sabemos que es con el índice 4"
   ]
  },
  {
   "cell_type": "code",
   "execution_count": 18,
   "id": "1f58026c-1036-4cf1-b888-103f47bbebff",
   "metadata": {},
   "outputs": [
    {
     "name": "stdout",
     "output_type": "stream",
     "text": [
      "[61, 60, 66, 60, 65, 59, 58, 58, 57, 60, 60, 60, 57, 58, 60, 61, 63, 63, 70, 64, 59, 63, 61, 58, 59, 64, 62, 70, 70, 73, 66]\n"
     ]
    }
   ],
   "source": [
    "temp_maximas = []\n",
    "for fila in reader:\n",
    "    maxima = int(fila[4])\n",
    "    temp_maximas.append(maxima)\n",
    "print(temp_maximas)"
   ]
  },
  {
   "cell_type": "markdown",
   "id": "c8fc0f09-3647-4479-abc1-10b02581139a",
   "metadata": {},
   "source": [
    "Trazamos un gráfico sencillo de las temperaturas áximas diarias con Matplotlib"
   ]
  },
  {
   "cell_type": "code",
   "execution_count": 5,
   "id": "f66de66b-cd1f-4998-a2bc-653eeee463df",
   "metadata": {},
   "outputs": [
    {
     "ename": "SyntaxError",
     "evalue": "invalid syntax (899023502.py, line 8)",
     "output_type": "error",
     "traceback": [
      "\u001b[1;36m  Cell \u001b[1;32mIn[5], line 8\u001b[1;36m\u001b[0m\n\u001b[1;33m    as.plot(temp_maximas, color= 'red')\u001b[0m\n\u001b[1;37m    ^\u001b[0m\n\u001b[1;31mSyntaxError\u001b[0m\u001b[1;31m:\u001b[0m invalid syntax\n"
     ]
    }
   ],
   "source": [
    "import matplotlib.pyplot as plt\n",
    "# plt.style.available\n",
    "\n",
    "# Trazamso las temperaturas máximas\n",
    "plt.style.use('seaborn-v0_8')\n",
    "fig, ax = plt.subplots(figsize=(16,9), dpi=128) # dpi = puntos por pulgada\n",
    "\n",
    "ax.plot(temp_maximas, color= 'red')\n",
    "\n",
    "# añadimos estilos\n",
    "ax.set_title('Temperaturas máximas diarias, julio 2021', fontsize= 20)\n",
    "ax.set_xlabel('', fontsize = 14)\n",
    "ax.set_ylabel('Temperatura (ºF)', fontsize = 14) # alt 176 para grados\n",
    "ax.tick_params(labelsize=12)\n",
    "plt.show()\n"
   ]
  },
  {
   "cell_type": "code",
   "execution_count": null,
   "id": "f2c98a3f-e29b-4dba-b96c-3bfb8756fec7",
   "metadata": {},
   "outputs": [],
   "source": []
  }
 ],
 "metadata": {
  "kernelspec": {
   "display_name": "Python 3 (ipykernel)",
   "language": "python",
   "name": "python3"
  },
  "language_info": {
   "codemirror_mode": {
    "name": "ipython",
    "version": 3
   },
   "file_extension": ".py",
   "mimetype": "text/x-python",
   "name": "python",
   "nbconvert_exporter": "python",
   "pygments_lexer": "ipython3",
   "version": "3.12.4"
  }
 },
 "nbformat": 4,
 "nbformat_minor": 5
}
