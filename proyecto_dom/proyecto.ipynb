{
 "cells": [
  {
   "cell_type": "markdown",
   "metadata": {},
   "source": [
    "# Proyecto"
   ]
  },
  {
   "cell_type": "markdown",
   "metadata": {},
   "source": [
    "* El proyecto se va a evaluar por evaluaciones continuas y la entrega final.\n",
    "* No se pueden usar IAs ni nada por el estilo. En caso contrario se pone un 0 al final.\n",
    "\n",
    "- Items que se valoran:\n",
    "* 1) Definición, objetivo etc -> Documento\n",
    "* 2) Se debe usar POO, Módulos, Interface, uso de biblioteca standard de Python y otras como: Pandas, Matplotlib, NumPy\n",
    "* 3) Además, se debe usar SV o JSON\n",
    "* 4) BBDD (bases de datos) - SQL\n",
    "\n",
    "- El proyecto ha de ser funcional, si no se pueden hacer todas las funciones más vale limitarlo desde un inicio."
   ]
  },
  {
   "cell_type": "markdown",
   "metadata": {},
   "source": [
    "## Primera entrega para el 28 / 06 / 24 (Viernes)"
   ]
  },
  {
   "cell_type": "markdown",
   "metadata": {},
   "source": [
    "1. Introducción:\n",
    "* Proyecto: [Nombre del proyecto]\n",
    "* Descripción: una breve descripción del proyecto, sus objetivos y su importancia.\n",
    "2. Requisitos:\n",
    "* Lista de requisitos: herramientas y bibliotecas necesarias para ejecutar el proyecto.\n",
    "3. Diseño del proyecto:\n",
    "* Descripción del diseño: una descripción de alto nivel de cómo se estructurará el código\n",
    "4. Diagrama de flujo:\n",
    "* Diagrama de flujo aproximado de la ejecución del programa. Como mínimo del script principal y una de las funcionalidades."
   ]
  }
 ],
 "metadata": {
  "language_info": {
   "name": "python"
  }
 },
 "nbformat": 4,
 "nbformat_minor": 2
}
