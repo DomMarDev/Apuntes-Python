{
 "cells": [
  {
   "cell_type": "markdown",
   "metadata": {},
   "source": [
    "No es muy potente el tkinter. Es un modulo con witgets. Ayuda a crear la interfaz gráfica, muy parecida a un explorador.\n",
    "\n",
    "Widgets han de seguir una jerarquía:\n",
    "    1) Ventana o raiz\n",
    "    2) Crear botones etc...\n",
    "    3) Entradas ..."
   ]
  },
  {
   "cell_type": "code",
   "execution_count": 2,
   "metadata": {},
   "outputs": [],
   "source": [
    "# Base de trabajo\n",
    "\n",
    "from tkinter import *\n",
    "\n",
    "# Configuración de la raiz o ventana principal (instancia de la clase Tk)\n",
    "\n",
    "root = Tk()\n",
    "\n",
    "# Bucle de la aplicación para que se ejecute todo el rato (se crea una ventana, para acabar la cierras)\n",
    "\n",
    "root.mainloop()\n",
    "\n"
   ]
  },
  {
   "cell_type": "markdown",
   "metadata": {},
   "source": [
    "Configuración de la raiz o ventana principal"
   ]
  },
  {
   "cell_type": "code",
   "execution_count": 7,
   "metadata": {},
   "outputs": [],
   "source": [
    "# Base de trabajo\n",
    "\n",
    "from tkinter import *\n",
    "\n",
    "# Configuración de la raiz o ventana principal (instancia de la clase Tk)\n",
    "\n",
    "root = Tk()\n",
    "\n",
    "# Configuramos Tk\n",
    "\n",
    "#   Configuración del título\n",
    "\n",
    "root.title('Hola Curso de Python!!!')\n",
    "\n",
    "#   Configuración de un icono. Admite formato .ico\n",
    "\n",
    "#       Comando root.iconbitmap('[ruta]')\n",
    "\n",
    "root.iconbitmap('img/teresa.ico')\n",
    "\n",
    "#   Configuración de los aspectos de dimensión de la ventana\n",
    "\n",
    "root.resizable(True, False) # Si lo pones, True = se redimensiona. False = no se redimensiona. ( en X, Y )\n",
    "\n",
    "\n",
    "# Bucle de la aplicación para que se ejecute todo el rato (se crea una ventana, para acabar la cierras)\n",
    "\n",
    "root.mainloop()"
   ]
  },
  {
   "cell_type": "code",
   "execution_count": 20,
   "metadata": {},
   "outputs": [],
   "source": [
    "# Base de trabajo\n",
    "\n",
    "from tkinter import *\n",
    "# Configuración de la raiz o ventana principal (instancia de la clase Tk)\n",
    "root = Tk()\n",
    "root.title('Domingo')\n",
    "root.resizable(1,1) # se ajuste 1 a 1\n",
    "root.iconbitmap('img/teresa.ico')\n",
    "\n",
    "# Crear un frame/contenedor/marco (no obligatorio, pero va bien para separar cosas)\n",
    "\n",
    "frame = Frame(root, width=480, height=320) # Definirlo: donde va a ir incluida, width, height\n",
    "\n",
    "# Empaquetarlo\n",
    "\n",
    "frame.pack(side='right', anchor='center') #side para donde se situe y anchor para anclarlo donde quieras\n",
    "# frame.pack(fill='both', expand='1') #Que se expanda en todo lo ancho y alto\n",
    "\n",
    "\n",
    "frame.config(cursor='pirate') # Cambiar el cursor, mirar en documentación para cual quieres.\n",
    "\n",
    "frame.config(bg= 'blue') # para cambiar el background, vale HEXaadecimal\n",
    "\n",
    "frame.config(relief='sunken') # Tipo de borde\n",
    "frame.config(bd=25) # Poner un borde\n",
    "\n",
    "\n",
    "# puedes hacer lo mismo de frame por root.\n",
    "\n",
    "root.config(cursor='arrow') # Cambiar el cursor, mirar en documentación para cual quieres.\n",
    "\n",
    "root.config(bg= 'red') # para cambiar el background, vale HEXaadecimal\n",
    "\n",
    "root.config(relief='ridge') # Tipo de borde\n",
    "root.config(bd=15) # Poner un borde\n",
    "\n",
    "# Bucle de la aplicación para que se ejecute todo el rato (se crea una ventana, para acabar la cierras)\n",
    "root.mainloop()"
   ]
  }
 ],
 "metadata": {
  "kernelspec": {
   "display_name": "Python 3",
   "language": "python",
   "name": "python3"
  },
  "language_info": {
   "codemirror_mode": {
    "name": "ipython",
    "version": 3
   },
   "file_extension": ".py",
   "mimetype": "text/x-python",
   "name": "python",
   "nbconvert_exporter": "python",
   "pygments_lexer": "ipython3",
   "version": "3.12.3"
  }
 },
 "nbformat": 4,
 "nbformat_minor": 2
}
