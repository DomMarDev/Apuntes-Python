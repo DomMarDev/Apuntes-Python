{
 "cells": [
  {
   "cell_type": "markdown",
   "metadata": {},
   "source": [
    "# Introduccion Python"
   ]
  },
  {
   "cell_type": "markdown",
   "metadata": {},
   "source": [
    "### Primer Programa De Python"
   ]
  },
  {
   "cell_type": "markdown",
   "metadata": {},
   "source": [
    "El primer programa que reaizamos en cualquier lenguaje de programacion es nuestro \"Hello World\""
   ]
  },
  {
   "cell_type": "code",
   "execution_count": 1,
   "metadata": {},
   "outputs": [
    {
     "name": "stdout",
     "output_type": "stream",
     "text": [
      "Hello World!\n"
     ]
    }
   ],
   "source": [
    "print('Hello World!')"
   ]
  },
  {
   "cell_type": "markdown",
   "metadata": {},
   "source": [
    "Generamos un error a proposito, para ver que nos dice"
   ]
  },
  {
   "cell_type": "code",
   "execution_count": 4,
   "metadata": {},
   "outputs": [
    {
     "ename": "SyntaxError",
     "evalue": "unterminated string literal (detected at line 1) (3571950873.py, line 1)",
     "output_type": "error",
     "traceback": [
      "\u001b[1;36m  Cell \u001b[1;32mIn[4], line 1\u001b[1;36m\u001b[0m\n\u001b[1;33m    print('Hello World!)\u001b[0m\n\u001b[1;37m          ^\u001b[0m\n\u001b[1;31mSyntaxError\u001b[0m\u001b[1;31m:\u001b[0m unterminated string literal (detected at line 1)\n"
     ]
    }
   ],
   "source": [
    "print('Hello World!)"
   ]
  },
  {
   "cell_type": "markdown",
   "metadata": {},
   "source": [
    "Asignar una variable el saludo y la vamos a imprimir por consola"
   ]
  },
  {
   "cell_type": "code",
   "execution_count": 6,
   "metadata": {},
   "outputs": [
    {
     "name": "stdout",
     "output_type": "stream",
     "text": [
      "Hola mundo!\n"
     ]
    }
   ],
   "source": [
    "saludo = 'Hola mundo!'\n",
    "print(saludo)"
   ]
  },
  {
   "cell_type": "markdown",
   "metadata": {},
   "source": [
    "### Variables"
   ]
  },
  {
   "cell_type": "markdown",
   "metadata": {},
   "source": [
    "Definicion de una variable:\n",
    "- En Python, una variable es una etiqueta a la que podemos asignar valores y hace referencia a un valor determinado.\n",
    "  \n",
    "  Reglas para nombrar variables:\n",
    " - Solo pueden contener letras, numeros y guiones bajos.\n",
    " - No estan permitidos los espacios (es util seguir el metodo **Camelcase**).\n",
    " - Evitar el uso de palabras clave y nombres de funcion propios del lenguaje\n",
    " - Usar nombres cortos, pero descriptivos\n",
    " - Python es **Case Sensitive**, distingue minusculas de mayusculas\n",
    "  "
   ]
  },
  {
   "cell_type": "code",
   "execution_count": 9,
   "metadata": {},
   "outputs": [
    {
     "name": "stdout",
     "output_type": "stream",
     "text": [
      "Manu\n",
      "Bienvenidos a curs de Python en CIFO Barcelona La Violeta\n"
     ]
    }
   ],
   "source": [
    "# Ejemplo de declaracion de variable\n",
    "nombre = 'Manu'\n",
    "print(nombre)\n",
    "\n",
    "mensaje = 'Bienvenidos al curso de Python en CIFO Barcelona La Violeta'\n",
    "print(mensaje)"
   ]
  },
  {
   "cell_type": "markdown",
   "metadata": {},
   "source": [
    "### Tipos de datos primitivos"
   ]
  },
  {
   "cell_type": "markdown",
   "metadata": {},
   "source": [
    "Tenemos cuatro tipos de datos primitivos\n",
    "- Numericos enteros\n",
    "- Numericos decimales o coma flotante\n",
    "- Cadenas de caracteres\n",
    "- Logicos o booleanos"
   ]
  },
  {
   "cell_type": "code",
   "execution_count": 10,
   "metadata": {},
   "outputs": [
    {
     "name": "stdout",
     "output_type": "stream",
     "text": [
      "<class 'int'>\n",
      "<class 'float'>\n",
      "<class 'str'>\n",
      "<class 'bool'>\n"
     ]
    }
   ],
   "source": [
    "# Ejemplos de tipos de datos\n",
    "numeroEntero = 50\n",
    "numeroFlotante = 2.7\n",
    "cadena = 'hola'\n",
    "valorLogico = True\n",
    "\n",
    "print(type(numeroEntero))\n",
    "print(type(numeroFlotante))\n",
    "print(type(cadena))\n",
    "print(type(valorLogico))\n"
   ]
  },
  {
   "cell_type": "markdown",
   "metadata": {},
   "source": [
    "### Datos alfanumericos (strings)"
   ]
  },
  {
   "cell_type": "markdown",
   "metadata": {},
   "source": [
    "Formas de declarar **strings**\n",
    "- 'Hola hola caracola\n",
    "- \"Hola hola caracola\"\n",
    "- 'Hola \"hola\" caracola'\n",
    "- \"Hola 'hola' \"caracola\"\n",
    "- 'Texto 'entre comillas' y no pasa nada'"
   ]
  },
  {
   "cell_type": "code",
   "execution_count": 11,
   "metadata": {},
   "outputs": [
    {
     "name": "stdout",
     "output_type": "stream",
     "text": [
      "Hola hola caracola\n",
      "Hola hola caracola\n",
      "hola \"hola\" caracola\n",
      "Hola 'hola' caracola\n",
      "Hola 'hola' caracola\n"
     ]
    }
   ],
   "source": [
    "print('Hola hola caracola')\n",
    "print(\"Hola hola caracola\")\n",
    "print('hola \"hola\" caracola')\n",
    "print(\"Hola 'hola' caracola\")\n",
    "print(\"Hola \\'hola\\' caracola\")"
   ]
  },
  {
   "cell_type": "code",
   "execution_count": 12,
   "metadata": {},
   "outputs": [
    {
     "name": "stdout",
     "output_type": "stream",
     "text": [
      "Cadena partida en varias lineas de codigo para facilitar su lectura\n"
     ]
    }
   ],
   "source": [
    "cadena = 'Cadena partida \\\n",
    "en varias lineas \\\n",
    "de codigo para facilitar su lectura'\n",
    "print(cadena)"
   ]
  },
  {
   "cell_type": "markdown",
   "metadata": {},
   "source": [
    "Cadena con saltos entre ellas"
   ]
  },
  {
   "cell_type": "code",
   "execution_count": 14,
   "metadata": {},
   "outputs": [
    {
     "name": "stdout",
     "output_type": "stream",
     "text": [
      "Cadena con \n",
      "saltos de linea \n",
      "entre palabras\n"
     ]
    }
   ],
   "source": [
    "cadena1 = 'Cadena con \\nsaltos de linea \\nentre palabras'\n",
    "print(cadena1)"
   ]
  },
  {
   "cell_type": "markdown",
   "metadata": {},
   "source": [
    "### Otra forma de escribir cadenas largas"
   ]
  },
  {
   "cell_type": "code",
   "execution_count": 16,
   "metadata": {},
   "outputs": [
    {
     "name": "stdout",
     "output_type": "stream",
     "text": [
      " Otra forma de escribir\n",
      "cadenas largas\n",
      "de varias lineas \n"
     ]
    }
   ],
   "source": [
    "cadena2 = ''' Otra forma de escribir\n",
    "cadenas largas\n",
    "de varias lineas '''\n",
    "print(cadena2)"
   ]
  },
  {
   "cell_type": "markdown",
   "metadata": {},
   "source": [
    "## Metodos con strings"
   ]
  },
  {
   "cell_type": "markdown",
   "metadata": {},
   "source": [
    "Un metodo es una accion que Python puede realizar con los datos. Cada metodo va seguido de un parentesis porque suelen requerir informacion adiciona para realizar su trabajo. En la sintaxis vamos a usar a metodologia de punto: **variable.metodo()**"
   ]
  },
  {
   "cell_type": "markdown",
   "metadata": {},
   "source": [
    "### Cambio de mayusculas y minusculas con metodos"
   ]
  },
  {
   "cell_type": "markdown",
   "metadata": {},
   "source": [
    "El metodo **tittle()** cambia cada palabra a formato titulo, con la inicial en mayusculas en todas las palabras"
   ]
  },
  {
   "cell_type": "code",
   "execution_count": 18,
   "metadata": {},
   "outputs": [
    {
     "name": "stdout",
     "output_type": "stream",
     "text": [
      "don pollo\n",
      "Don Pollo\n"
     ]
    }
   ],
   "source": [
    "name = 'don pollo'\n",
    "print(name)\n",
    "print(name.title())"
   ]
  },
  {
   "cell_type": "markdown",
   "metadata": {},
   "source": [
    "Otros metodos:\n",
    "- capitalize()\n",
    "- upper(), transforma en mayusculas la cadena\n",
    "- lower(), transforma en minusculas la cadena"
   ]
  },
  {
   "cell_type": "code",
   "execution_count": 19,
   "metadata": {},
   "outputs": [
    {
     "name": "stdout",
     "output_type": "stream",
     "text": [
      "Don pollo\n"
     ]
    }
   ],
   "source": [
    "print(name.capitalize())"
   ]
  },
  {
   "cell_type": "code",
   "execution_count": 20,
   "metadata": {},
   "outputs": [
    {
     "name": "stdout",
     "output_type": "stream",
     "text": [
      "DON POLLO\n",
      "don pollo\n"
     ]
    }
   ],
   "source": [
    "print(name.upper())\n",
    "print(name.lower())"
   ]
  },
  {
   "cell_type": "markdown",
   "metadata": {},
   "source": [
    "Otros metodos tambien son:\n",
    "- .swapcase(), invierte minusculas y mayusculas\n",
    "- .islower() y .isupper() devuelve **True** o **False**"
   ]
  },
  {
   "cell_type": "code",
   "execution_count": 21,
   "metadata": {},
   "outputs": [
    {
     "name": "stdout",
     "output_type": "stream",
     "text": [
      "aLBERTO iNSTANTANEO\n"
     ]
    }
   ],
   "source": [
    "personaje = 'Alberto Instantaneo'\n",
    "print(personaje.swapcase())"
   ]
  },
  {
   "cell_type": "code",
   "execution_count": 22,
   "metadata": {},
   "outputs": [
    {
     "name": "stdout",
     "output_type": "stream",
     "text": [
      "True\n",
      "False\n"
     ]
    }
   ],
   "source": [
    "mayuscula = 'A'\n",
    "print(mayuscula.isupper())\n",
    "print(mayuscula.islower())"
   ]
  },
  {
   "cell_type": "markdown",
   "metadata": {},
   "source": [
    "### Metodos de longitud y acceso a una string"
   ]
  },
  {
   "cell_type": "code",
   "execution_count": 32,
   "metadata": {},
   "outputs": [],
   "source": [
    "frase = 'Erase una vez'\n"
   ]
  },
  {
   "cell_type": "markdown",
   "metadata": {},
   "source": [
    "Metodo len(), nos permite calcular la longitud de la cadena de caracteres"
   ]
  },
  {
   "cell_type": "code",
   "execution_count": 33,
   "metadata": {},
   "outputs": [
    {
     "name": "stdout",
     "output_type": "stream",
     "text": [
      "13\n"
     ]
    }
   ],
   "source": [
    "print(len(frase))"
   ]
  },
  {
   "cell_type": "markdown",
   "metadata": {},
   "source": [
    "Para acceder a cada una de las posiciones de una string. Podemos usar su indice. Ejemplo: accedemos al primer caracter con la posicion 0"
   ]
  },
  {
   "cell_type": "code",
   "execution_count": 34,
   "metadata": {},
   "outputs": [
    {
     "name": "stdout",
     "output_type": "stream",
     "text": [
      "E\n"
     ]
    }
   ],
   "source": [
    "print(frase[0])"
   ]
  },
  {
   "cell_type": "markdown",
   "metadata": {},
   "source": [
    "Para acceder a la ultima posicion, cuando no conocemos la longitud de la cadena, podemos usar dos versiones."
   ]
  },
  {
   "cell_type": "code",
   "execution_count": 35,
   "metadata": {},
   "outputs": [
    {
     "name": "stdout",
     "output_type": "stream",
     "text": [
      "z\n",
      "z\n"
     ]
    }
   ],
   "source": [
    "print(frase[len(frase)-1])\n",
    "print(frase[-1])"
   ]
  },
  {
   "cell_type": "markdown",
   "metadata": {},
   "source": [
    "### Trabajando con plantillas (strings y variables)"
   ]
  },
  {
   "cell_type": "markdown",
   "metadata": {},
   "source": [
    "Para insertar el valor de una variable en una cadena, colocamos la letra **\"f\"** justo antes de abrir las comillas, y ponemos entre llaves e nombre o nombres de las variables. Python reemplazara por el valor de las variables **\"f\"** correponde aa formato y estas cadenas se llaman **\"cadenas f\"**"
   ]
  },
  {
   "cell_type": "code",
   "execution_count": 36,
   "metadata": {},
   "outputs": [
    {
     "name": "stdout",
     "output_type": "stream",
     "text": [
      "don pollo\n"
     ]
    }
   ],
   "source": [
    "firstname = 'don'\n",
    "lastname = 'pollo'\n",
    "fullname = f'{firstname} {lastname}'\n",
    "print(fullname)"
   ]
  },
  {
   "cell_type": "code",
   "execution_count": 37,
   "metadata": {},
   "outputs": [
    {
     "name": "stdout",
     "output_type": "stream",
     "text": [
      "Hello, don pollo\n"
     ]
    }
   ],
   "source": [
    "print(f'Hello, {fullname}')"
   ]
  },
  {
   "cell_type": "code",
   "execution_count": 38,
   "metadata": {},
   "outputs": [
    {
     "name": "stdout",
     "output_type": "stream",
     "text": [
      "Hello, Don Pollo\n"
     ]
    }
   ],
   "source": [
    "print(f'Hello, {fullname.title()}')"
   ]
  },
  {
   "cell_type": "code",
   "execution_count": 39,
   "metadata": {},
   "outputs": [
    {
     "name": "stdout",
     "output_type": "stream",
     "text": [
      "Hello, Don Pollo\n"
     ]
    }
   ],
   "source": [
    "message = f'Hello, {fullname.title()}'\n",
    "print(message)"
   ]
  },
  {
   "cell_type": "markdown",
   "metadata": {},
   "source": [
    "### Añadir espacipos de tabulacion y nuevas lineas"
   ]
  },
  {
   "cell_type": "markdown",
   "metadata": {},
   "source": [
    "- **\\t** añade un espacio de tabulacion\n",
    "- **\\n** añade una nueva linea"
   ]
  },
  {
   "cell_type": "code",
   "execution_count": 41,
   "metadata": {},
   "outputs": [
    {
     "name": "stdout",
     "output_type": "stream",
     "text": [
      "Python\n",
      "\tPython\n"
     ]
    }
   ],
   "source": [
    "print('Python')\n",
    "print('\\tPython')"
   ]
  },
  {
   "cell_type": "code",
   "execution_count": 42,
   "metadata": {},
   "outputs": [
    {
     "name": "stdout",
     "output_type": "stream",
     "text": [
      "Lenguajes: \n",
      "Python\n",
      "Javascript\n",
      "C#\n",
      "Lenguajes: \n",
      "\tPython\n",
      "\tJavascript\n",
      "\tc#\n"
     ]
    }
   ],
   "source": [
    "print('Lenguajes: \\nPython\\nJavascript\\nC#')\n",
    "print('Lenguajes: \\n\\tPython\\n\\tJavascript\\n\\tc#')"
   ]
  },
  {
   "cell_type": "markdown",
   "metadata": {},
   "source": [
    "### Funcion str()"
   ]
  },
  {
   "cell_type": "markdown",
   "metadata": {},
   "source": [
    "Ejemplo que nos va a generar un error"
   ]
  },
  {
   "cell_type": "code",
   "execution_count": 44,
   "metadata": {},
   "outputs": [
    {
     "ename": "TypeError",
     "evalue": "can only concatenate str (not \"int\") to str",
     "output_type": "error",
     "traceback": [
      "\u001b[1;31m---------------------------------------------------------------------------\u001b[0m",
      "\u001b[1;31mTypeError\u001b[0m                                 Traceback (most recent call last)",
      "Cell \u001b[1;32mIn[44], line 3\u001b[0m\n\u001b[0;32m      1\u001b[0m edad \u001b[39m=\u001b[39m \u001b[39m25\u001b[39m\n\u001b[0;32m      2\u001b[0m nombre \u001b[39m=\u001b[39m \u001b[39m'\u001b[39m\u001b[39mPepe\u001b[39m\u001b[39m'\u001b[39m\n\u001b[1;32m----> 3\u001b[0m frase1 \u001b[39m=\u001b[39m \u001b[39m'\u001b[39;49m\u001b[39mEl alumno\u001b[39;49m\u001b[39m'\u001b[39;49m \u001b[39m+\u001b[39;49m nombre \u001b[39m+\u001b[39;49m \u001b[39m'\u001b[39;49m\u001b[39mtiene\u001b[39;49m\u001b[39m'\u001b[39;49m \u001b[39m+\u001b[39;49m edad \u001b[39m+\u001b[39m \u001b[39m'\u001b[39m\u001b[39maños\u001b[39m\u001b[39m'\u001b[39m\n\u001b[0;32m      4\u001b[0m \u001b[39mprint\u001b[39m(frase1)\n",
      "\u001b[1;31mTypeError\u001b[0m: can only concatenate str (not \"int\") to str"
     ]
    }
   ],
   "source": [
    "edad = 25\n",
    "nombre = 'Pepe'\n",
    "frase1 = 'El alumno' + nombre + 'tiene' + edad + 'años'\n",
    "print(frase1)"
   ]
  },
  {
   "cell_type": "code",
   "execution_count": 45,
   "metadata": {},
   "outputs": [
    {
     "name": "stdout",
     "output_type": "stream",
     "text": [
      "El alumno Pepe tiene 25 años\n"
     ]
    }
   ],
   "source": [
    "frase1 = f'El alumno {nombre} tiene {edad} años'\n",
    "print(frase1)"
   ]
  },
  {
   "cell_type": "code",
   "execution_count": 48,
   "metadata": {},
   "outputs": [
    {
     "name": "stdout",
     "output_type": "stream",
     "text": [
      "El alumno Pepe tiene 25 años\n"
     ]
    }
   ],
   "source": [
    "frase2 = 'El alumno ' + nombre + ' tiene ' + str(edad) + ' años'\n",
    "print(frase2)"
   ]
  },
  {
   "cell_type": "markdown",
   "metadata": {},
   "source": [
    "### Otras operaciones"
   ]
  },
  {
   "cell_type": "markdown",
   "metadata": {},
   "source": [
    "Repetir una cadena **'n'** veces"
   ]
  },
  {
   "cell_type": "code",
   "execution_count": 52,
   "metadata": {},
   "outputs": [
    {
     "name": "stdout",
     "output_type": "stream",
     "text": [
      "ola ola ola ola ola \n"
     ]
    }
   ],
   "source": [
    "repite = 'ola '\n",
    "cancion = repite * 5\n",
    "print(cancion)"
   ]
  },
  {
   "cell_type": "markdown",
   "metadata": {},
   "source": [
    "### Otra forma de realizar plantillas con cadenas y variables"
   ]
  },
  {
   "cell_type": "markdown",
   "metadata": {},
   "source": [
    "Metodo **\".format()\"**"
   ]
  },
  {
   "cell_type": "code",
   "execution_count": 4,
   "metadata": {},
   "outputs": [
    {
     "name": "stdout",
     "output_type": "stream",
     "text": [
      "Hola, soy Pepe\n"
     ]
    }
   ],
   "source": [
    "presentacion = 'Hola, soy {}'.format('Pepe')\n",
    "print(presentacion)"
   ]
  },
  {
   "cell_type": "code",
   "execution_count": 5,
   "metadata": {},
   "outputs": [
    {
     "name": "stdout",
     "output_type": "stream",
     "text": [
      "Hola, soy Pepe\n"
     ]
    }
   ],
   "source": [
    "nombre = 'Pepe'\n",
    "presentacion = 'Hola, soy {}'.format(nombre)\n",
    "print(presentacion)"
   ]
  },
  {
   "cell_type": "code",
   "execution_count": 6,
   "metadata": {},
   "outputs": [
    {
     "name": "stdout",
     "output_type": "stream",
     "text": [
      "Hola, soy Pepe y mi mascota se llama Tommy\n"
     ]
    }
   ],
   "source": [
    "mascota = 'Tommy'\n",
    "plantilla = 'Hola, soy {} y mi mascota se llama {}'\n",
    "print(plantilla.format(nombre, mascota))"
   ]
  },
  {
   "cell_type": "code",
   "execution_count": 7,
   "metadata": {},
   "outputs": [
    {
     "name": "stdout",
     "output_type": "stream",
     "text": [
      "Hola, soy Tommy y mi mascota se llama Pepe\n"
     ]
    }
   ],
   "source": [
    "plantillaAlternativa = 'Hola, soy {1} y mi mascota se llama {0}'\n",
    "print(plantillaAlternativa.format(nombre, mascota)) "
   ]
  },
  {
   "cell_type": "markdown",
   "metadata": {},
   "source": [
    "## Slicing en las cadenas"
   ]
  },
  {
   "cell_type": "markdown",
   "metadata": {},
   "source": [
    "El **\"slicing\"** es la capacidad de las cadenas que devuelve un subconjunto **\"(substring o subcadena)\"** usando los indices **\"[inicio:fin]\"**\n",
    "- El primer indice **\"(inicio)\"** es donde empieza el substring **(se incuye ese caracter)**.\n",
    "- El segundo indice **(fin)** es donde acaba la **\"substring\"** **(se excluye ese caracter)**."
   ]
  },
  {
   "cell_type": "code",
   "execution_count": null,
   "metadata": {},
   "outputs": [],
   "source": []
  },
  {
   "cell_type": "markdown",
   "metadata": {},
   "source": [
    "Las cadenas son inmutables, no se pueden modificar. Ejemplo, vamos a intentar cambiar un caracter de la cadena anterior."
   ]
  }
 ],
 "metadata": {
  "kernelspec": {
   "display_name": "Python 3",
   "language": "python",
   "name": "python3"
  },
  "language_info": {
   "codemirror_mode": {
    "name": "ipython",
    "version": 3
   },
   "file_extension": ".py",
   "mimetype": "text/x-python",
   "name": "python",
   "nbconvert_exporter": "python",
   "pygments_lexer": "ipython3",
   "version": "3.12.3"
  },
  "orig_nbformat": 4
 },
 "nbformat": 4,
 "nbformat_minor": 2
}
