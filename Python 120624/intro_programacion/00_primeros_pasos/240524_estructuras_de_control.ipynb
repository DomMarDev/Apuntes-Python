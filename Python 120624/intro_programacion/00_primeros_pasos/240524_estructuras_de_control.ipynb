{
 "cells": [
  {
   "cell_type": "markdown",
   "metadata": {},
   "source": [
    "# Sentencias condicionales"
   ]
  },
  {
   "cell_type": "markdown",
   "metadata": {},
   "source": [
    "Las sentencias condicionales nos permiten analizar el estado actual de un programa y responder adecuadamente a dicho estado"
   ]
  },
  {
   "cell_type": "markdown",
   "metadata": {},
   "source": [
    "## Operadores relacionales"
   ]
  },
  {
   "cell_type": "markdown",
   "metadata": {},
   "source": [
    "Tenemos varios operadores relacionales o de comparación:\n",
    "\n",
    "- '==', operador de igualdad\n",
    "- '!=', operador de desigualdad\n",
    "- '<', operador de menor que\n",
    "- '>', operador de mayor que\n",
    "- '<=', operador de menor o igual a\n",
    "- '>=', operador de mayor o igual a"
   ]
  },
  {
   "cell_type": "code",
   "execution_count": 2,
   "metadata": {},
   "outputs": [
    {
     "name": "stdout",
     "output_type": "stream",
     "text": [
      "False\n",
      "True\n",
      "True\n",
      "False\n",
      "True\n",
      "False\n"
     ]
    }
   ],
   "source": [
    "# Ejemplos\n",
    "\n",
    "a = 'profesor'\n",
    "b = 'estudiante'\n",
    "\n",
    "numero1 = 10\n",
    "numero2 = 12\n",
    "\n",
    "print(a == b)\n",
    "print( a != b)\n",
    "print(numero1 <= 10)\n",
    "print(numero2 >= 14)\n",
    "print(numero1 < numero2)\n",
    "print(numero1 > numero2) \n",
    "\n",
    "#El resultado siempre será True o False, ya que es booleano"
   ]
  },
  {
   "cell_type": "markdown",
   "metadata": {},
   "source": [
    "## Operadores lógicos"
   ]
  },
  {
   "cell_type": "markdown",
   "metadata": {},
   "source": [
    "Se usan para tomar una decisión en  múltiples codiciones:\n",
    "\n",
    "- **and**, devuelve *True* si ambos operandos son *True*\n",
    "- **or**, devuelve *True* si alguno de los operandos es *True*\n",
    "- **not**, devuelve *True* si alguno de los operandos es *False*\n"
   ]
  },
  {
   "cell_type": "code",
   "execution_count": 3,
   "metadata": {},
   "outputs": [
    {
     "data": {
      "text/plain": [
       "False"
      ]
     },
     "execution_count": 3,
     "metadata": {},
     "output_type": "execute_result"
    }
   ],
   "source": [
    "# Ejemplo del uso del operador and\n",
    "\n",
    "edad1 = 32\n",
    "edad2 = 28\n",
    "\n",
    "edad1 >= 31 and edad2 >= 31 # Uno de ellos no se cumple"
   ]
  },
  {
   "cell_type": "code",
   "execution_count": 5,
   "metadata": {},
   "outputs": [
    {
     "data": {
      "text/plain": [
       "True"
      ]
     },
     "execution_count": 5,
     "metadata": {},
     "output_type": "execute_result"
    }
   ],
   "source": [
    "# Ejemplo del uso del operador or\n",
    "\n",
    "edad1 = 32\n",
    "edad2 = 28\n",
    "\n",
    "edad1 >= 31 or edad2 >= 31 # Uno de ellos se cumple"
   ]
  },
  {
   "cell_type": "markdown",
   "metadata": {},
   "source": [
    "## Condicional simple, *if*"
   ]
  },
  {
   "cell_type": "markdown",
   "metadata": {},
   "source": [
    "En toda sentencia *if* hay una expresión que se va a evaluar como verdadera (*True*) o falsa (*False*). Es lo que llamamos **prueba condicional**. El tipo más simple de senencia *if* tiene una prueba y una acción."
   ]
  },
  {
   "cell_type": "code",
   "execution_count": 6,
   "metadata": {},
   "outputs": [
    {
     "name": "stdout",
     "output_type": "stream",
     "text": [
      "BMW\n",
      "Fin del programa\n"
     ]
    }
   ],
   "source": [
    "# Ejemplo\n",
    "\n",
    "motocicletas = ['yamaha', 'ducati', 'bmw', 'honda']\n",
    "\n",
    "for moto in motocicletas:\n",
    "    if moto == 'bmw':\n",
    "        print(moto.upper())\n",
    "\n",
    "print('Fin del programa')"
   ]
  },
  {
   "cell_type": "markdown",
   "metadata": {},
   "source": [
    "## Condicional simple *if-else* "
   ]
  },
  {
   "cell_type": "markdown",
   "metadata": {},
   "source": [
    "Un bloque *if-else* es similar a una sentencia *if* simple, pero la sentencia *else* nos permite definir una acción o un conjunto de acciones que se ejecutan cuando la prueba condicional falla."
   ]
  },
  {
   "cell_type": "code",
   "execution_count": 10,
   "metadata": {},
   "outputs": [
    {
     "name": "stdout",
     "output_type": "stream",
     "text": [
      "Yamaha\n",
      "Ducati\n",
      "BMW\n",
      "Honda\n",
      "Fin del programa\n"
     ]
    }
   ],
   "source": [
    "# Ejemplo\n",
    "\n",
    "motocicletas = ['yamaha', 'ducati', 'bmw', 'honda']\n",
    "\n",
    "for moto in motocicletas:\n",
    "    if moto == 'bmw':\n",
    "        print(moto.upper())\n",
    "    else:\n",
    "        print(moto.capitalize())\n",
    "\n",
    "print('Fin del programa')"
   ]
  },
  {
   "cell_type": "markdown",
   "metadata": {},
   "source": [
    "No podemos dejar una sentencia condicional *if-else* vacía, ya que va a generar un error. En este caso, podemos usar la orden *pass*."
   ]
  },
  {
   "cell_type": "code",
   "execution_count": 13,
   "metadata": {},
   "outputs": [
    {
     "ename": "IndentationError",
     "evalue": "expected an indented block after 'if' statement on line 3 (2503669990.py, line 5)",
     "output_type": "error",
     "traceback": [
      "\u001b[1;36m  Cell \u001b[1;32mIn[13], line 5\u001b[1;36m\u001b[0m\n\u001b[1;33m    else:\u001b[0m\n\u001b[1;37m    ^\u001b[0m\n\u001b[1;31mIndentationError\u001b[0m\u001b[1;31m:\u001b[0m expected an indented block after 'if' statement on line 3\n"
     ]
    }
   ],
   "source": [
    "#Aquí sentencia vacía, da error\n",
    "\n",
    "variable3 = 10\n",
    "\n",
    "if variable3 < 10:\n",
    "    \n",
    "else:\n",
    "    print('Mensaje a mostrar')"
   ]
  },
  {
   "cell_type": "code",
   "execution_count": 1,
   "metadata": {},
   "outputs": [
    {
     "name": "stdout",
     "output_type": "stream",
     "text": [
      "Mensaje a mostrar\n"
     ]
    }
   ],
   "source": [
    "variable3 = 10\n",
    "\n",
    "if variable3 < 10:\n",
    "    pass\n",
    "else:\n",
    "    print('Mensaje a mostrar')"
   ]
  },
  {
   "cell_type": "markdown",
   "metadata": {},
   "source": [
    "Para diversas condiciones -> el if-elif-else"
   ]
  },
  {
   "cell_type": "markdown",
   "metadata": {},
   "source": [
    "## Condicional if-elif-else"
   ]
  },
  {
   "cell_type": "markdown",
   "metadata": {},
   "source": [
    "Cuando necesitamos evaluar más de dos situaciones posibles, usamos la sintaxis de Python *if-elif-else*. Esta sentencia ejecuta cada prueba condicional en el orden hasta que se pasa una. Cuando se supera esta prueba, se ejecuta el código que va con ella y se omite el resto de las pruebas."
   ]
  },
  {
   "cell_type": "code",
   "execution_count": 3,
   "metadata": {},
   "outputs": [
    {
     "name": "stdout",
     "output_type": "stream",
     "text": [
      "Ha aprobado con excelente\n",
      "Fin del programa\n"
     ]
    }
   ],
   "source": [
    "# Ejemplo\n",
    "notaAlumno = float(input('Introduzca la nota de la asignatura'))\n",
    "\n",
    "# Condicional múltiple\n",
    "\n",
    "if notaAlumno < 5:\n",
    "    print('Ha suspendido la asignatura')\n",
    "elif notaAlumno >= 5 and notaAlumno <7:\n",
    "    print('Ha aprobado con suficiente')\n",
    "elif notaAlumno >=7 and notaAlumno < 9:\n",
    "    print('Ha aprobado con notable')\n",
    "elif notaAlumno >=9 and notaAlumno <=10:\n",
    "    print('Ha aprobado con excelente')\n",
    "else:\n",
    "    print('La nota introducida no es válida')\n",
    "\n",
    "print('Fin del programa')\n"
   ]
  },
  {
   "cell_type": "markdown",
   "metadata": {},
   "source": [
    "Como anotación: El bloque else al final no es obligatorio en Python. No obliga a tener un bloque *else* al final de una cadena *if-elif*. A veces, este bloque es útil. Otras, es más claro usar una sentencia *elif* adicional que capture  la condicion que queramos."
   ]
  },
  {
   "cell_type": "markdown",
   "metadata": {},
   "source": [
    "También podemos tener el caso que queramos que se evalúe euna condicion de trás de otra, sin que salga de la cadena condicional. En este caso usaremos una cadena de sentencia *if* múltiples."
   ]
  },
  {
   "cell_type": "markdown",
   "metadata": {},
   "source": [
    "# Operador ternario o expresión condicional ( if-else)"
   ]
  },
  {
   "cell_type": "markdown",
   "metadata": {},
   "source": [
    "Tiene la siguiente sintaxis: \n",
    " - variable = Valor si cimple *if* condición *else* Valor si no cumple"
   ]
  },
  {
   "cell_type": "markdown",
   "metadata": {},
   "source": [
    "Nos sirve sobretodo si tenemos un valor o operación sencilla o retorno de una string. De forma rápida."
   ]
  },
  {
   "cell_type": "code",
   "execution_count": 5,
   "metadata": {},
   "outputs": [
    {
     "name": "stdout",
     "output_type": "stream",
     "text": [
      "Pedro es Alto\n"
     ]
    }
   ],
   "source": [
    "# Ejemplo\n",
    "\n",
    "altura = 1.72\n",
    "\n",
    "resultadoMedicion = 'Alto' if altura > 1.7 else 'Bajo'\n",
    "fraseFinal = 'Pedro es {}'.format(resultadoMedicion)\n",
    "print(fraseFinal)"
   ]
  },
  {
   "cell_type": "markdown",
   "metadata": {},
   "source": [
    "Sentencia \"switch-case\", sabes que resultado va a tener el resultado de la condición. En Pyton no la hay, pero si la sentencia match. NO ES UNA SENTENCIA CONDICIONAL!!!!"
   ]
  },
  {
   "cell_type": "markdown",
   "metadata": {},
   "source": [
    "## La sentencia *match* o Ajuste de patrones"
   ]
  },
  {
   "cell_type": "markdown",
   "metadata": {},
   "source": [
    "En Python no existe una sentencia \"switch-case\", como es el caso de otros lenguajes como JavaScript. Pero podemos hacer uso de la sentencia *match*. *Match* recibe una expresión y compara su calor con patrones sucesivos dados en uno o más bloqes *case*."
   ]
  },
  {
   "cell_type": "code",
   "execution_count": 9,
   "metadata": {},
   "outputs": [
    {
     "name": "stdout",
     "output_type": "stream",
     "text": [
      "El día introducido es Domingo\n"
     ]
    }
   ],
   "source": [
    "diaSemana = input('Introduzca el número del día de la semana')\n",
    "\n",
    "match diaSemana:\n",
    "    case '1':\n",
    "            dia = 'Lunes'\n",
    "    case '2':\n",
    "            dia = 'Martes'\n",
    "    case '3':\n",
    "            dia = 'Miercoles'\n",
    "    case '4':\n",
    "            dia = 'Jueves'\n",
    "    case '5':\n",
    "            dia = 'Viernes'\n",
    "    case '6':\n",
    "            dia = 'Sabado'\n",
    "    case '7':\n",
    "            dia = 'Domingo'\n",
    "    case _: # Guión bajo es comodin, es cualquier otro dato que introduzcas y que no esté antes. Es recomendable ponerlo para evitar error ejecución.\n",
    "            dia = 'El dia introducido no se puede procesar'\n",
    "\n",
    "print(f'El día introducido es {dia}')"
   ]
  },
  {
   "cell_type": "code",
   "execution_count": 12,
   "metadata": {},
   "outputs": [
    {
     "name": "stdout",
     "output_type": "stream",
     "text": [
      "El mes introducido tiene 30 días\n"
     ]
    }
   ],
   "source": [
    "mes = input('Introduzca el mes a evaluar').lower() # El usuario lo meterá como quiera, por eso decimos que todo sea minúsculas.\n",
    "\n",
    "match mes:\n",
    "    case 'enero' | 'marzo' | 'mayo' | 'julio' | 'agosto' | 'octubre' | 'diciembre':\n",
    "        print('El mes introducido tiene 31 días')\n",
    "    case 'abril' | 'junio' | 'septiembre' | 'noviembre':\n",
    "        print('El mes introducido tiene 30 días')\n",
    "    case 'febrero':\n",
    "        print('El mes tiene 28 o 29 días')\n",
    "    case _:\n",
    "        print('El mes introducido no existe')"
   ]
  },
  {
   "cell_type": "markdown",
   "metadata": {},
   "source": [
    "## Trabajo de sentencias condicionales en listas"
   ]
  },
  {
   "cell_type": "markdown",
   "metadata": {},
   "source": [
    "Comprobando si existe un valor en una lista. La palabra clave *in*, le indica a Python que se compruebe la existencia de un valor en una lista."
   ]
  },
  {
   "cell_type": "code",
   "execution_count": 14,
   "metadata": {},
   "outputs": [
    {
     "name": "stdout",
     "output_type": "stream",
     "text": [
      "True\n",
      "False\n"
     ]
    }
   ],
   "source": [
    "# Ejemplo\n",
    "ingredientes = ['carne picada', 'lechuga', 'bacon', 'tomate', 'cebolla']\n",
    "\n",
    "print('bacon' in ingredientes)\n",
    "print('queso' in ingredientes)"
   ]
  },
  {
   "cell_type": "markdown",
   "metadata": {},
   "source": [
    "Lo mismo podemos hacer para comprobar la *no existencia* de un valor cañadiendo el operador *not*"
   ]
  },
  {
   "cell_type": "code",
   "execution_count": 15,
   "metadata": {},
   "outputs": [
    {
     "name": "stdout",
     "output_type": "stream",
     "text": [
      "Domingo puede acceder a la clase\n",
      "Fin del programa\n"
     ]
    }
   ],
   "source": [
    "alumnosNoPresentes = ['Mohamed', 'María', 'Elisabeth']\n",
    "\n",
    "usuario = input('Introduzca el alumno del aula')\n",
    "\n",
    "if usuario not in alumnosNoPresentes: #Compruebas la no existencia sin recorrer un bucle. Al final te devuelve un true o false.\n",
    "    print(f'{usuario.title()} puede acceder a la clase')\n",
    "else:\n",
    "    print('Usted no puede acceder a la clase')\n",
    "\n",
    "print('Fin del programa')"
   ]
  },
  {
   "cell_type": "markdown",
   "metadata": {},
   "source": [
    "También podemos comprobar que una lista no esté vacía. Cuando usamos el nombre de la lista en una sentencia *if*, Python nos va a devolver *True* si la lista contiene al meos un elemento, en caso contrario devuelve un *False*."
   ]
  },
  {
   "cell_type": "code",
   "execution_count": 21,
   "metadata": {},
   "outputs": [
    {
     "name": "stdout",
     "output_type": "stream",
     "text": [
      "No podemos elaborar el plato\n",
      "Fin del programa\n"
     ]
    }
   ],
   "source": [
    "ingredientesRequeridos = []\n",
    "\n",
    "if ingredientesRequeridos: # La condicion evalua si hay datos o no (lista vacía) en la lista.\n",
    "    print('Podemos elaborar el plato')\n",
    "else:\n",
    "    print('No podemos elaborar el plato')\n",
    "\n",
    "print('Fin del programa')"
   ]
  },
  {
   "cell_type": "markdown",
   "metadata": {},
   "source": [
    "### Ejercicios de estructuras de control:"
   ]
  },
  {
   "cell_type": "markdown",
   "metadata": {},
   "source": [
    "1. Escribir un programa que  pregunte al usuario por su edad y muestre por pantalla si es mayor de edad o no."
   ]
  },
  {
   "cell_type": "code",
   "execution_count": 37,
   "metadata": {},
   "outputs": [
    {
     "name": "stdout",
     "output_type": "stream",
     "text": [
      "Tienes 18 años y eres mayor de edad\n",
      "Fin del programa\n"
     ]
    }
   ],
   "source": [
    "# Entrada de datos\n",
    "\n",
    "edad = int(input('¿Cuál es tu edad?'))\n",
    "\n",
    "if edad >= 18:\n",
    "    print(f'Tienes {edad} años y eres mayor de edad')\n",
    "else:\n",
    "    print(f'Tienes {edad} años y no eres mayor de edad')\n",
    "\n",
    "print('Fin del programa')\n"
   ]
  },
  {
   "cell_type": "code",
   "execution_count": 38,
   "metadata": {},
   "outputs": [
    {
     "name": "stdout",
     "output_type": "stream",
     "text": [
      "Usted es mayor de edad\n",
      "Fin del programa\n"
     ]
    }
   ],
   "source": [
    "# Profe solución 2, controlando entrada\n",
    "\n",
    "edad = input('Introduzca su edad')\n",
    "control = edad.isdigit() # para saber si esta entrada lo pasa a un valor numérico, devulve un True si lo es. isupper, islower para mayuscula y minúscula.\n",
    "\n",
    "if control: # Primera forma de control de excepciones con *if*\n",
    "    edad = int(edad)\n",
    "    if edad < 18:\n",
    "        print('Usted es menor de edad')\n",
    "    else:\n",
    "        print('Usted es mayor de edad')\n",
    "else:\n",
    "    print('Introduzca un dato numérico, por favor')\n",
    "\n",
    "print('Fin del programa')"
   ]
  },
  {
   "cell_type": "markdown",
   "metadata": {},
   "source": [
    "2. Escribir un programa que almacene la cadena de carácteres contraseña en una variable, pregunte al usuario por la contraseña e imprima por pantalla si la contraseña introducida por el usuario coincide con la guardada en la variable sin tener en cuenta mayúsculas y minúsculas."
   ]
  },
  {
   "cell_type": "code",
   "execution_count": 42,
   "metadata": {},
   "outputs": [
    {
     "name": "stdout",
     "output_type": "stream",
     "text": [
      "La contraseña introducida \" juan123 \" no es igual a la anterior\n"
     ]
    }
   ],
   "source": [
    "# Entrada de datos\n",
    "\n",
    "contrasena = str(input('introduce una contraseña')).lower()\n",
    "\n",
    "contrasenaNueva = str(input('Dame de nuevo la contraseña')).lower()\n",
    "\n",
    "if contrasenaNueva == contrasena:\n",
    "    print('La contraseña nueva {} coincide con la antigua que es {}'.format(contrasenaNueva, contrasena))\n",
    "else:\n",
    "    print(f'La contraseña introducida \" {contrasenaNueva} \" no es igual a la anterior')"
   ]
  },
  {
   "cell_type": "code",
   "execution_count": 44,
   "metadata": {},
   "outputs": [
    {
     "name": "stdout",
     "output_type": "stream",
     "text": [
      "La contraseña no es válida, no puede pasar\n",
      "Fin del programa\n"
     ]
    }
   ],
   "source": [
    "# Profe\n",
    "contrasena = 'contraseña'\n",
    "loginUsuario = input('Introduzca una contraseña')\n",
    "\n",
    "if loginUsuario.lower() == contrasena:\n",
    "    print('la contraseña es válida, puede pasar')\n",
    "else:\n",
    "    print('La contraseña no es válida, no puede pasar')\n",
    "\n",
    "print('Fin del programa')"
   ]
  },
  {
   "cell_type": "markdown",
   "metadata": {},
   "source": [
    "3. Escribir un programa que pida al usuario dos números y muestre por pantalla su división. Si el divisior es cero, el programa debe mostrar un error."
   ]
  },
  {
   "cell_type": "code",
   "execution_count": 69,
   "metadata": {},
   "outputs": [
    {
     "name": "stdout",
     "output_type": "stream",
     "text": [
      "No has introducido números\n",
      "Fin del programa\n"
     ]
    }
   ],
   "source": [
    "\n",
    "num1 = input('Dame el numero a dividir')\n",
    "controlnum1 = num1.isdigit() # el isdigit no puedes meterle números con comas, porque lo interpreta como string\n",
    "\n",
    "num2 = input('Dame el divisor')\n",
    "controlnum2 = num2.isdigit()\n",
    "\n",
    "if controlnum1 and controlnum2:    \n",
    "    num1 = float(num1)\n",
    "    num2 = float(num2)\n",
    "    if num2 == 0:\n",
    "        print(' El divisor es 0, no puedes dividir por 0')\n",
    "    else:\n",
    "        division = num1 / num2\n",
    "        print(f'El resultado de la división es {round(division,3)}')\n",
    "else:\n",
    "    print('No has introducido números')  \n",
    "\n",
    "          \n",
    "print('Fin del programa')"
   ]
  },
  {
   "cell_type": "code",
   "execution_count": 74,
   "metadata": {},
   "outputs": [
    {
     "name": "stdout",
     "output_type": "stream",
     "text": [
      "El resultado de dividir 158.0 entre 17.0 es: 9.29\n"
     ]
    }
   ],
   "source": [
    "# Profe\n",
    "\n",
    "dividendo = float(input('Dame el número a dividir'))\n",
    "divisor = float(input('Intoduzca el otro número'))\n",
    "\n",
    "if divisor != 0:\n",
    "    division = dividendo / divisor\n",
    "    print('El resultado de dividir {} entre {} es: {}'.format(dividendo, divisor, round(division,2)))\n",
    "else:\n",
    "    print('Error, no se puede dividir por 0')\n"
   ]
  },
  {
   "cell_type": "markdown",
   "metadata": {},
   "source": [
    "4. Haz una calculadora básica que pida al usuario dos valores, y Según la opción que desean, realizar la operación:\n",
    "\n",
    " - Si es 1 entonces debemos ver el resultado de a + b\n",
    " - Si es 2 entonces debemos ver el resultado de a * b\n",
    " - Si es 3 entonces debemos ver el resultado de a - b\n",
    " - Si es 4 entonces debemos ver el resultado de a / b"
   ]
  },
  {
   "cell_type": "code",
   "execution_count": 7,
   "metadata": {},
   "outputs": [
    {
     "name": "stdout",
     "output_type": "stream",
     "text": [
      "El resultado de la suma ente 10.0 y 2.0 es 12.0\n"
     ]
    }
   ],
   "source": [
    "num1 = float(input('Dame el valor del número A'))\n",
    "num2 = float(input('Dame el valor del número B'))\n",
    "opcion = input('Dame que quieres hacer 1) suma 2) multiplicación 3) resta 4) división')\n",
    "\n",
    "match opcion:\n",
    "     case '1':\n",
    "          suma = num1 + num2\n",
    "          print(f'El resultado de la suma ente {num1} y {num2} es {suma}')\n",
    "     case '2':\n",
    "         multiplicacion= num1 * num2\n",
    "         print(f'El resultado de la multiplicación ente {num1} y {num2} es {multiplicacion}')\n",
    "     case '3':\n",
    "         resta = num1 - num2\n",
    "         print(f'El resultado de la resta ente {num1} y {num2} es {resta}')\n",
    "     case '4':\n",
    "         division = num1 / num2\n",
    "         print(f'El resultado de la suma ente {num1} y {num2} es {division}')\n",
    "     case _:\n",
    "        print('No has escogido ninguna opción')\n",
    "\n"
   ]
  },
  {
   "cell_type": "code",
   "execution_count": 6,
   "metadata": {},
   "outputs": [
    {
     "name": "stdout",
     "output_type": "stream",
     "text": [
      "El resultado de la multiplicacion es: 20\n"
     ]
    }
   ],
   "source": [
    "# Profe\n",
    "\n",
    "# Entrada de datos, sólo numeros enteros\n",
    "\n",
    "num1 = input('Introduzca el primer número')\n",
    "num2 = input('Introduzca el segundo número')\n",
    "\n",
    "# Control para que sean valores enteros\n",
    "\n",
    "if not(num1.isdigit()) and not (num2.isdigit()):\n",
    "    print('Uno de los valores no es numérico y no puedo realizar ninguna operación')\n",
    "else:\n",
    "    num1 = int(num1)\n",
    "    num2 = int(num2)\n",
    "    prompt = 'Introduzca una de las siguientes operaciones a realizar'\n",
    "    prompt += '\\n+, *, -, /: ' # el + = es para concatenar. Es lo mismo que poner prompt + toda la cadena\n",
    "    operacion = input(prompt)\n",
    "    match operacion:\n",
    "        case '+':\n",
    "            control = 'suma'\n",
    "            resultado = num1 + num2\n",
    "        case '*':\n",
    "            control = 'multiplicacion'\n",
    "            resultado = num1 * num2\n",
    "        case '-':\n",
    "            control = 'resta'\n",
    "            resultado = num1 - num2\n",
    "        case '/':\n",
    "            if num2 == 0:\n",
    "                print('No se puede realizar la división por 0')\n",
    "                control = 'Error'\n",
    "                resultado = 'Error'\n",
    "            else:\n",
    "                control = 'division'\n",
    "                resultado = num1 / num2\n",
    "        case _:\n",
    "            print('la operación seleccionada no está contemplada')\n",
    "            control = 'Error'\n",
    "            resultado = 'Error'\n",
    "\n",
    "print(f'El resultado de la {control} es: {resultado}')     "
   ]
  },
  {
   "cell_type": "code",
   "execution_count": 10,
   "metadata": {},
   "outputs": [
    {
     "name": "stdout",
     "output_type": "stream",
     "text": [
      "La operación seleccionada no está contemplada\n",
      "El resultado de la error es: error\n"
     ]
    }
   ],
   "source": [
    "# Con if-elif-else\n",
    "\n",
    "num1 = input('Introduzca el primer número')\n",
    "num2 = input('Introduzca el segundo número')\n",
    "\n",
    "# Control para que sean valores enteros\n",
    "\n",
    "if not(num1.isdigit()) and not (num2.isdigit()):\n",
    "    print('Uno de los valores no es numérico y no puedo realizar ninguna operación')\n",
    "else:\n",
    "    num1 = int(num1)\n",
    "    num2 = int(num2)\n",
    "    prompt = 'Introduzca una de las siguientes operaciones a realizar'\n",
    "    prompt += '\\n+, *, -, /: ' # el + = es para concatenar. Es lo mismo que poner prompt + toda la cadena\n",
    "    operacion = input(prompt)\n",
    "    if operacion == '+':\n",
    "        control = 'suma'\n",
    "        resultado = num1 + num2\n",
    "    elif operacion == '*':\n",
    "        control = 'multiplicación'\n",
    "        resultado = num1 * num2\n",
    "    elif operacion == '-':\n",
    "        control = 'resta'\n",
    "        resultado = num1 - num2\n",
    "    elif operacion == '/':\n",
    "        control = 'resta'\n",
    "        if num2 == 0:\n",
    "            print('No se puede realizar la división')\n",
    "            control = 'error'\n",
    "            resultado = 'error'\n",
    "        else:\n",
    "            control = 'división'\n",
    "            resultado = num1 / num2\n",
    "    else:\n",
    "        print('La operación seleccionada no está contemplada')\n",
    "        control = 'error'\n",
    "        resultado = 'error'\n",
    "    \n",
    "\n",
    "print(f'El resultado de la {control} es: {resultado}') "
   ]
  }
 ],
 "metadata": {
  "kernelspec": {
   "display_name": "Python 3",
   "language": "python",
   "name": "python3"
  },
  "language_info": {
   "codemirror_mode": {
    "name": "ipython",
    "version": 3
   },
   "file_extension": ".py",
   "mimetype": "text/x-python",
   "name": "python",
   "nbconvert_exporter": "python",
   "pygments_lexer": "ipython3",
   "version": "3.12.3"
  }
 },
 "nbformat": 4,
 "nbformat_minor": 2
}
