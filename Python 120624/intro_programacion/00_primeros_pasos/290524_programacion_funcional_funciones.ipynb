{
 "cells": [
  {
   "cell_type": "markdown",
   "metadata": {},
   "source": [
    "# Introducción a la programación funcional"
   ]
  },
  {
   "cell_type": "markdown",
   "metadata": {},
   "source": [
    "Una función es un bloque de código que tiene asociado un nombre, de forma que cada vez que se quiera ejecutar el bloque de código, basta con invocar el nombre de la función."
   ]
  },
  {
   "cell_type": "markdown",
   "metadata": {},
   "source": [
    "Para declarar una función usamos las siguiente sintaxis:"
   ]
  },
  {
   "cell_type": "code",
   "execution_count": null,
   "metadata": {},
   "outputs": [],
   "source": [
    "def <nombre_funcion>(<parámetros>):\n",
    "    bloque de código\n",
    "    return <objeto>"
   ]
  },
  {
   "cell_type": "code",
   "execution_count": 1,
   "metadata": {},
   "outputs": [
    {
     "name": "stdout",
     "output_type": "stream",
     "text": [
      "Hello\n"
     ]
    }
   ],
   "source": [
    "# Ejemplo de uso\n",
    "\n",
    "# declaración de la función\n",
    "\n",
    "def saludo():\n",
    "    print('Hello')\n",
    "\n",
    "# llamada a la función\n",
    "\n",
    "saludo()"
   ]
  },
  {
   "cell_type": "markdown",
   "metadata": {},
   "source": [
    "## Parámetros y argumentos de una función"
   ]
  },
  {
   "cell_type": "markdown",
   "metadata": {},
   "source": [
    "Una función puede recibir vaores cuando se invoca a través de unas variables conocidas como **parámetros*, que se definen entre los paréntesis en la declaraci´n de la función. En el cuerpo de la función se pueden usar estos parámetros como si fuesen variables."
   ]
  },
  {
   "cell_type": "markdown",
   "metadata": {},
   "source": [
    "Los valores qué se pasan a la función en una invocación concreta de lla, se conocen como *argumentos* y se asocian a los p*parámetros* de la declaración de la función. (ESTAS defin entran en examen!)"
   ]
  },
  {
   "cell_type": "code",
   "execution_count": 2,
   "metadata": {},
   "outputs": [
    {
     "name": "stdout",
     "output_type": "stream",
     "text": [
      "Bienvenido al curso de Python Domingo\n"
     ]
    }
   ],
   "source": [
    "#Ejemplo\n",
    "def bienvenida(nombre):\n",
    "    print(f'Bienvenido al curso de Python {nombre}')\n",
    "\n",
    "bienvenida(input('introduzca su nombre, por favor'))"
   ]
  },
  {
   "cell_type": "markdown",
   "metadata": {},
   "source": [
    "Los argumentos se pueden pasar de dos formas:\n",
    "\n",
    " - **Argumentos posicionales**: se asocian a los parámetros de la función en el mismo orden que aparecen en la definición de la función.\n",
    " - **Argumentos nominales**: se indican explicitamente el nombre del parámetro al que se asocia un argumento de la forma <paràmetro = argumento>"
   ]
  },
  {
   "cell_type": "code",
   "execution_count": 3,
   "metadata": {},
   "outputs": [
    {
     "name": "stdout",
     "output_type": "stream",
     "text": [
      "Bienvenido/a al curso de Python, David Martin\n",
      "Bienvenido/a al curso de Python, Raúl Rodriguez\n"
     ]
    }
   ],
   "source": [
    "def bienvenida(nombre, apellido):\n",
    "    print(f'Bienvenido/a al curso de Python, {nombre} {apellido}')\n",
    "\n",
    "# argumentos posicionales\n",
    "\n",
    "bienvenida('David', 'Martin')\n",
    "\n",
    "# argumentos nominales\n",
    "\n",
    "bienvenida(apellido = 'Rodriguez', nombre ='Raúl')"
   ]
  },
  {
   "cell_type": "markdown",
   "metadata": {},
   "source": [
    "En la definición de la función podemos asignar a cada parámetro un argumento por defecto, de forma que si se invoca a la función sin proporcionar ningún argumento para ese parámetro, se utilice el **argumento por defecto**. De esta forma, evitamos errores de ejecución."
   ]
  },
  {
   "cell_type": "code",
   "execution_count": 4,
   "metadata": {},
   "outputs": [
    {
     "ename": "TypeError",
     "evalue": "saludoInicial() missing 1 required positional argument: 'lenguaje'",
     "output_type": "error",
     "traceback": [
      "\u001b[1;31m---------------------------------------------------------------------------\u001b[0m",
      "\u001b[1;31mTypeError\u001b[0m                                 Traceback (most recent call last)",
      "Cell \u001b[1;32mIn[4], line 4\u001b[0m\n\u001b[0;32m      1\u001b[0m \u001b[38;5;28;01mdef\u001b[39;00m \u001b[38;5;21msaludoInicial\u001b[39m(nombre, lenguaje):\n\u001b[0;32m      2\u001b[0m     \u001b[38;5;28mprint\u001b[39m(\u001b[38;5;124mf\u001b[39m\u001b[38;5;124m'\u001b[39m\u001b[38;5;124mBienvenido al curso de \u001b[39m\u001b[38;5;132;01m{\u001b[39;00mlenguaje\u001b[38;5;132;01m}\u001b[39;00m\u001b[38;5;124m, \u001b[39m\u001b[38;5;132;01m{\u001b[39;00mnombre\u001b[38;5;132;01m}\u001b[39;00m\u001b[38;5;124m'\u001b[39m)\n\u001b[1;32m----> 4\u001b[0m \u001b[43msaludoInicial\u001b[49m\u001b[43m(\u001b[49m\u001b[38;5;124;43m'\u001b[39;49m\u001b[38;5;124;43mGerard\u001b[39;49m\u001b[38;5;124;43m'\u001b[39;49m\u001b[43m)\u001b[49m\n",
      "\u001b[1;31mTypeError\u001b[0m: saludoInicial() missing 1 required positional argument: 'lenguaje'"
     ]
    }
   ],
   "source": [
    "def saludoInicial(nombre, lenguaje):\n",
    "    print(f'Bienvenido al curso de {lenguaje}, {nombre}') # Si no te introduce el parámetro de lenguaje te da error\n",
    "\n",
    "saludoInicial('Gerard')"
   ]
  },
  {
   "cell_type": "code",
   "execution_count": 6,
   "metadata": {},
   "outputs": [
    {
     "name": "stdout",
     "output_type": "stream",
     "text": [
      "Bienvenido al curso de Python, Gerard\n",
      "Bienvenido al curso de JavaScript, Susana\n"
     ]
    }
   ],
   "source": [
    "def saludoInicial2(nombre, lenguaje= 'Python'):\n",
    "    print(f'Bienvenido al curso de {lenguaje}, {nombre}')\n",
    "\n",
    "saludoInicial2('Gerard')\n",
    "saludoInicial2('Susana', 'JavaScript') # Esto por si se equivoca el usuario y no te pasa el segundo argumento"
   ]
  },
  {
   "cell_type": "markdown",
   "metadata": {},
   "source": [
    "También es posible pasar un número variable de argumentos aun sólo paraámetro. Esto se pude realizar de la siguiente forma:\n",
    "- \\***parametro**: se antepone un * al nombre de parámetro y en la invocación de la función se pasa el número variable de argumentos separados por comas. Los argumentos, se guardan en una lista que se asoca al  parámetro."
   ]
  },
  {
   "cell_type": "code",
   "execution_count": 11,
   "metadata": {},
   "outputs": [
    {
     "name": "stdout",
     "output_type": "stream",
     "text": [
      "Hoy tenemos para comer: pasta, hamburguesa, ensalada, "
     ]
    }
   ],
   "source": [
    "def menu(*platos):\n",
    "    print('Hoy tenemos para comer:', end=' ')\n",
    "    for plato in platos:\n",
    "        print(plato, end=', ')\n",
    "\n",
    "menu('pasta', 'hamburguesa', 'ensalada') # aquí le pasamos una serie de strings"
   ]
  },
  {
   "cell_type": "code",
   "execution_count": 10,
   "metadata": {},
   "outputs": [
    {
     "name": "stdout",
     "output_type": "stream",
     "text": [
      "Ingredientes para el bizcocho: azucar, huevos, harina\n"
     ]
    }
   ],
   "source": [
    "# Pasando una lista como parámetro\n",
    "def ingredientes(lista):\n",
    "    print('Ingredientes para el bizcocho:', end=' ') #el end=' ' lo que hace es sustituir el salto de line por defecto por un espacio\n",
    "    print(', '.join(lista))\n",
    "\n",
    "lista = ['azucar', 'huevos', 'harina']\n",
    "\n",
    "ingredientes(lista)"
   ]
  },
  {
   "cell_type": "markdown",
   "metadata": {},
   "source": [
    "## Ámbito de los parámetros y variables de una función"
   ]
  },
  {
   "cell_type": "markdown",
   "metadata": {},
   "source": [
    "Los parámetros y las variabels declaradas dentro de la función son de **ámbito local** (**local scope**), sólo son accesibles durante la ejecución de la función.  Cuando ésta termina su ejecución, no se puede acceder a ellas."
   ]
  },
  {
   "cell_type": "markdown",
   "metadata": {},
   "source": [
    "Las variables que se definen fuera de la función, son de **ámbito local** y pueden ser accesibles desde dentro de la función."
   ]
  },
  {
   "cell_type": "code",
   "execution_count": 15,
   "metadata": {},
   "outputs": [
    {
     "name": "stdout",
     "output_type": "stream",
     "text": [
      "a\n",
      "Lola\n"
     ]
    },
    {
     "ename": "NameError",
     "evalue": "name 'nombre' is not defined",
     "output_type": "error",
     "traceback": [
      "\u001b[1;31m---------------------------------------------------------------------------\u001b[0m",
      "\u001b[1;31mNameError\u001b[0m                                 Traceback (most recent call last)",
      "Cell \u001b[1;32mIn[15], line 15\u001b[0m\n\u001b[0;32m     12\u001b[0m     \u001b[38;5;28mprint\u001b[39m(nombre)\n\u001b[0;32m     14\u001b[0m prueba()\n\u001b[1;32m---> 15\u001b[0m \u001b[38;5;28mprint\u001b[39m(\u001b[43mnombre\u001b[49m)\n",
      "\u001b[1;31mNameError\u001b[0m: name 'nombre' is not defined"
     ]
    }
   ],
   "source": [
    "# Ejemplo de variable global\n",
    "dato = 'a'\n",
    "\n",
    "def test():\n",
    "    print(dato)\n",
    "\n",
    "test()\n",
    "\n",
    "# Ejemplo de variable local\n",
    "def prueba():\n",
    "    nombre = 'Lola'\n",
    "    print(nombre)\n",
    "\n",
    "prueba()\n",
    "print(nombre) # Esto generará un error porque la variable no se encuentra fuera de la función."
   ]
  },
  {
   "cell_type": "code",
   "execution_count": 17,
   "metadata": {},
   "outputs": [
    {
     "name": "stdout",
     "output_type": "stream",
     "text": [
      "Acosta\n",
      "Martín\n"
     ]
    }
   ],
   "source": [
    "# variables local y global con el mismo nombre, son variables diferentes\n",
    "\n",
    "apellido = 'Martín'\n",
    "\n",
    "def usuario():\n",
    "    apellido = 'Acosta'\n",
    "    print(apellido)\n",
    "\n",
    "usuario()\n",
    "\n",
    "print(apellido)"
   ]
  },
  {
   "cell_type": "markdown",
   "metadata": {},
   "source": [
    "## Retorno de una función"
   ]
  },
  {
   "cell_type": "markdown",
   "metadata": {},
   "source": [
    "Una función puede devolver un objeto de cualquier tipo tras su invocación. Para ello, el objeto a devolver tiene que escribirse detrás de la palabra reservada **return**. Si no se indica ningún objeto, la función no devolverá nada."
   ]
  },
  {
   "cell_type": "code",
   "execution_count": 18,
   "metadata": {},
   "outputs": [
    {
     "name": "stdout",
     "output_type": "stream",
     "text": [
      "3.0\n"
     ]
    }
   ],
   "source": [
    "# Ejemplo (sólo obteniendo un valor)\n",
    "\n",
    "def area_triangulo(base, altura):\n",
    "    return base * altura / 2\n",
    "\n",
    "print(area_triangulo(2,3))"
   ]
  },
  {
   "cell_type": "code",
   "execution_count": 23,
   "metadata": {},
   "outputs": [
    {
     "name": "stdout",
     "output_type": "stream",
     "text": [
      "[1, 2, 3, 4, 5]\n",
      "1\n"
     ]
    }
   ],
   "source": [
    "#retorno de un objeto lista\n",
    "def devolucion():\n",
    "    return [1,2,3,4,5]\n",
    "\n",
    "print(devolucion())\n",
    "print(devolucion()[0]) # Puedes retornar elementos de la lista"
   ]
  },
  {
   "cell_type": "markdown",
   "metadata": {},
   "source": [
    "Una característica interesante que tiene Python, es que podemos realizar un retorno múltiple de valores separados por comas."
   ]
  },
  {
   "cell_type": "code",
   "execution_count": 24,
   "metadata": {},
   "outputs": [
    {
     "name": "stdout",
     "output_type": "stream",
     "text": [
      "('Una cadena de texto', 50, [1, 2, 3, 4, 5])\n"
     ]
    }
   ],
   "source": [
    "# retorno múltiple\n",
    "\n",
    "def devoluciones():\n",
    "    return 'Una cadena de texto', 50, [1,2,3,4,5]\n",
    "\n",
    "print(devoluciones()) # te devuelve una tupla con distintas estructuras"
   ]
  },
  {
   "cell_type": "markdown",
   "metadata": {},
   "source": [
    "El resultado es el retorno de una tupla inmutable, que posteriormente podemos reasignar a distintas variables."
   ]
  },
  {
   "cell_type": "code",
   "execution_count": 25,
   "metadata": {},
   "outputs": [
    {
     "name": "stdout",
     "output_type": "stream",
     "text": [
      "Una cadena de texto\n",
      "50\n",
      "[1, 2, 3, 4, 5]\n"
     ]
    }
   ],
   "source": [
    "cadena, numero, lista = devoluciones() #Esto es un unpacking\n",
    "print(cadena)\n",
    "print(numero)\n",
    "print(lista)"
   ]
  },
  {
   "cell_type": "markdown",
   "metadata": {},
   "source": [
    "## Documentación de funciones"
   ]
  },
  {
   "cell_type": "markdown",
   "metadata": {},
   "source": [
    "Una práctica MUY RECOMENDABLE cuando se define una función es describir lo que esa función hace cn un comentario. En Pyhon esto se hace con un **docstring**, que es un tipo de comentario especial que se hace en la línea siguiente al encabezado de la función entre comillas simples o dobles (tres). Después, podemos acceder a la documentación de esa función invocando al comando *help*"
   ]
  },
  {
   "cell_type": "code",
   "execution_count": 27,
   "metadata": {},
   "outputs": [
    {
     "name": "stdout",
     "output_type": "stream",
     "text": [
      "Help on function area_triangulo in module __main__:\n",
      "\n",
      "area_triangulo(base, altura)\n",
      "    Función que calcula el área de un triángulo\n",
      "\n",
      "    Parámetros:\n",
      "    -base: número real con la base del triángulo\n",
      "    -altura: número real con la altura del triángulo\n",
      "\n",
      "    Salida:\n",
      "    -número real con el área del triángulo de base y altura especificada\n",
      "\n"
     ]
    }
   ],
   "source": [
    "def area_triangulo(base, altura):\n",
    "    '''\n",
    "        Función que calcula el área de un triángulo\n",
    "\n",
    "        Parámetros:\n",
    "        -base: número real con la base del triángulo\n",
    "        -altura: número real con la altura del triángulo\n",
    "\n",
    "        Salida:\n",
    "        -número real con el área del triángulo de base y altura especificada\n",
    "    '''\n",
    "    return base * altura / 2\n",
    "\n",
    "help(area_triangulo)"
   ]
  },
  {
   "cell_type": "markdown",
   "metadata": {},
   "source": [
    "## Ejercicios"
   ]
  },
  {
   "cell_type": "markdown",
   "metadata": {},
   "source": [
    "1. Escribir una función que calcule el total de una factura tras aplicarle el IVA. La función debe recibir la cantidad sin IVA y el porcentaje de IVA a aplicar, y devolver el total de la factura. Si se invoca la función sin pasarle el porcentaje de IVA, deberá aplicar un 21 %."
   ]
  },
  {
   "cell_type": "code",
   "execution_count": 53,
   "metadata": {},
   "outputs": [
    {
     "name": "stdout",
     "output_type": "stream",
     "text": [
      "1100.0\n",
      "1210.0\n",
      "Help on function invoice in module __main__:\n",
      "\n",
      "invoice(subtotal, iva=21)\n",
      "    Función que aplica el IVA a una factura\n",
      "\n",
      "    Parámetros:\n",
      "    - Subtotal: la cantidad de la factura sin iva\n",
      "    - IVA: el porcentaje de IVA, por defecto 21 %\n",
      "\n",
      "    Salida:\n",
      "    - número real con el total de la factura una vez aplicado el IVA\n",
      "\n"
     ]
    }
   ],
   "source": [
    "def invoice(subtotal, iva=21):\n",
    "    '''\n",
    "         Función que aplica el IVA a una factura\n",
    "         \n",
    "         Parámetros:\n",
    "         - Subtotal: la cantidad de la factura sin iva\n",
    "         - IVA: el porcentaje de IVA, por defecto 21 %\n",
    "         \n",
    "         Salida:\n",
    "         - número real con el total de la factura una vez aplicado el IVA         \n",
    "    '''\n",
    "    return subtotal + subtotal * iva / 100\n",
    "\n",
    "print(invoice(1000, 10)) # Aquí le damos el subtotal y el IVA\n",
    "print(invoice(1000)) # Aquí sólo le damos el subtotal\n",
    "help(invoice)\n",
    "\n"
   ]
  },
  {
   "cell_type": "markdown",
   "metadata": {},
   "source": [
    "2. Escribir una funcion que calcule el área de un circulo y otra que calcule el volumen de un cilindro usando la primera función."
   ]
  },
  {
   "cell_type": "code",
   "execution_count": 80,
   "metadata": {},
   "outputs": [
    {
     "name": "stdout",
     "output_type": "stream",
     "text": [
      "El area del círculo es: 314.15000000000003 cm2\n",
      "El volumen del cilindro es: 6283.000000000001 cm3\n"
     ]
    }
   ],
   "source": [
    "radio = float(input('Dame el radio del circulo en cm'))\n",
    "hight = float(input('Dame la altura del cilindro en cm'))\n",
    "\n",
    "def cercleArea(radio, pi=3.1415):\n",
    "    '''\n",
    "        Función que calcula el área de un circulo\n",
    "\n",
    "        Parámetros:\n",
    "        - radio: radio de un circulo\n",
    "        - pi: el número pi\n",
    "\n",
    "        Salida: \n",
    "        - número real con el área de un circulo\n",
    "    '''\n",
    "    return radio ** 2 * pi\n",
    "\n",
    "\n",
    "print('El area del círculo es: ' + str(cercleArea(radio)) + ' cm2')\n",
    "\n",
    "def cilinderVolume(hight, cercleArea):\n",
    "    '''\n",
    "        Función que calcula el volumen de un cilindro\n",
    "\n",
    "        Parámetros:\n",
    "        - area de la base: area del circulo\n",
    "        - hight: altura del cilindro\n",
    "\n",
    "        Salida: \n",
    "        - número real con el volumen de un cilindro\n",
    "    '''\n",
    "    return hight * cercleArea\n",
    "\n",
    "print('El volumen del cilindro es: ' + str(cilinderVolume(hight, cercleArea(radio))) + ' cm3')"
   ]
  },
  {
   "cell_type": "code",
   "execution_count": 79,
   "metadata": {},
   "outputs": [
    {
     "name": "stdout",
     "output_type": "stream",
     "text": [
      "6283.000000000001\n"
     ]
    }
   ],
   "source": [
    "# Profe\n",
    "\n",
    "def area_circulo(radio):\n",
    "    '''\n",
    "        Función que calcula el área de un circulo\n",
    "\n",
    "        Parámetros:\n",
    "        - radio: numero real con el radio de un circulo\n",
    "        \n",
    "        Salida: \n",
    "        - número real con el área de un circulo\n",
    "    '''\n",
    "    PI = 3.1415\n",
    "    return PI * radio ** 2\n",
    "\n",
    "def volumen_cilindro(radio, altura):\n",
    "    '''\n",
    "        Función que calcula el volumen de un cilindro\n",
    "\n",
    "        Parámetros:\n",
    "        - radio: radio de un cilindro\n",
    "        - altura: numero real de la altura de un cilindro\n",
    "\n",
    "        Salida: \n",
    "        - número real del volumen del cilindro\n",
    "    '''\n",
    "    return area_circulo(radio) * altura\n",
    "\n",
    "print(volumen_cilindro(10,20))"
   ]
  },
  {
   "cell_type": "markdown",
   "metadata": {},
   "source": [
    "3. Escribir una función que reciba una muestra de números en una lista y devuelva otra lista con sus cuadrados."
   ]
  },
  {
   "cell_type": "code",
   "execution_count": 157,
   "metadata": {},
   "outputs": [
    {
     "name": "stdout",
     "output_type": "stream",
     "text": [
      " El resultado de elevar al cuadrado los números de 2, 3, 4, 5, 6 es 4, 9, 16, 25, 36\n"
     ]
    }
   ],
   "source": [
    "\n",
    "listaNumeros =[2,3,4,5,6]\n",
    "\n",
    "def squareNumbers(listaDeNumeros):\n",
    "    '''\n",
    "        Función que calcula los cuadrados de una lista dada\n",
    "\n",
    "        Parámetros:\n",
    "        - lista: lista con los valores que queremos elevar al cuadrado\n",
    "        - squares: nueva lista donde se guardaran los cuadrados\n",
    "\n",
    "        Salida: \n",
    "        - lista con los cuadrados de los valores dados en lista\n",
    "\n",
    "    '''\n",
    "    squares = []\n",
    "\n",
    "    for numerosLista in listaDeNumeros:\n",
    "        square= numerosLista ** 2\n",
    "        squares.append(square)\n",
    "    \n",
    "    return squares\n",
    "    \n",
    "        \n",
    "\n",
    "print(f' El resultado de elevar al cuadrado los números de {(', '.join(str(numeroLista) for numeroLista in listaNumeros))} es {(', '.join(str(numeroListaSquare) for numeroListaSquare in squareNumbers(listaNumeros)))}')"
   ]
  },
  {
   "cell_type": "code",
   "execution_count": 138,
   "metadata": {},
   "outputs": [
    {
     "name": "stdout",
     "output_type": "stream",
     "text": [
      "1, 4, 9, 16, 25\n",
      "1, 4, 9, 16, 25\n"
     ]
    }
   ],
   "source": [
    "# Profe\n",
    "\n",
    "def square(sample):\n",
    "    ''' \n",
    "        Funcion que calcula los cuadrados de una lista de números\n",
    "\n",
    "        parámetros:\n",
    "        - sample: lista de números\n",
    "\n",
    "        Salida:\n",
    "        - devuelve una listacon los cuadrados de los números de sample\n",
    "        \n",
    "    '''\n",
    "    list = []\n",
    "\n",
    "    for i in sample:\n",
    "        list.append(i**2)\n",
    "    return list\n",
    "\n",
    "squares = square([1,2,3,4,5])\n",
    "print(', '.join(str(i) for i in squares))\n",
    "\n",
    "print(', '.join(str(i) for i in square([1,2,3,4,5])))"
   ]
  },
  {
   "cell_type": "markdown",
   "metadata": {},
   "source": [
    "4. Escribir dos funciones que permitan calcular:\n",
    "\n",
    "La cantidad de segundos en un tiempo dado en horas, minutos y segundos. La cantidad de horas, minutos  y segundos de un tiempo dado en segundos. Escribe un programa principal con un menú donde se pueda elegir la opción de convertir a segundos, convertir a horas, minutos y segundos o salir del programa."
   ]
  },
  {
   "cell_type": "code",
   "execution_count": 8,
   "metadata": {},
   "outputs": [
    {
     "name": "stdout",
     "output_type": "stream",
     "text": [
      "¿Qué quieres hacer? Escribe una opción\n",
      "    1) pasar de horas, minutos y segundos a segundos\n",
      "    2) pasar de segundos a horas, minutos y segundos\n",
      "    3) Salir\n",
      " 10800 segundos\n",
      "¿Qué quieres hacer? Escribe una opción\n",
      "    1) pasar de horas, minutos y segundos a segundos\n",
      "    2) pasar de segundos a horas, minutos y segundos\n",
      "    3) Salir\n",
      "Fin del programa\n"
     ]
    }
   ],
   "source": [
    "control = True\n",
    "\n",
    "def calcularSegundos(horas, minutos,segundos):\n",
    "               resultado = f' {horas * 3600 + minutos * 60 + segundos} segundos'\n",
    "               return resultado\n",
    "\n",
    "def calcularHms(segundos_entrada):\n",
    "               horas = int(segundos_entrada/3600)\n",
    "               minutos = int((segundos_entrada/60) % 60)\n",
    "               segundos = int(segundos_entrada % 60)\n",
    "               resultado = (f' {horas} horas, {minutos} minutos, {segundos} segundos')\n",
    "               return resultado\n",
    "\n",
    "while (control):\n",
    "     \n",
    "     \n",
    "     print(\"\"\"¿Qué quieres hacer? Escribe una opción\n",
    "    1) pasar de horas, minutos y segundos a segundos\n",
    "    2) pasar de segundos a horas, minutos y segundos\n",
    "    3) Salir\"\"\")\n",
    "     opcion= input('Dame un valor del 1, 2 o 3')\n",
    "     if opcion == '1': # Opcion del menú para pasar de horas, minutos y segundos a segundos\n",
    "          horas = int(input('Dame los horas que quieras convertir'))\n",
    "          minutos = int(input('Dame los minutos que quieras convertir'))\n",
    "          segundos = int(input('Dame los segundos que quieras convertir'))\n",
    "\n",
    "          \n",
    "          print(calcularSegundos(horas, minutos, segundos))\n",
    "          \n",
    "     if opcion == '2': # Opcion del menú para pasar de segundos a horas, minutos y segundos\n",
    "          segundos_entrada = int(input('Dame los segundos'))\n",
    "          \n",
    "          print(calcularHms(segundos_entrada))\n",
    "     if opcion == '3':\n",
    "            control = False\n",
    "\n",
    "print('Fin del programa')"
   ]
  },
  {
   "cell_type": "code",
   "execution_count": 10,
   "metadata": {},
   "outputs": [
    {
     "name": "stdout",
     "output_type": "stream",
     "text": [
      " \n",
      "            1. Convertir a segundos\n",
      "            2. Convertir a horas, minutos y segundos\n",
      "            3. Salir\n",
      "        \n",
      "Los segundos correspondientes son: 10800 segundos\n",
      " \n",
      "            1. Convertir a segundos\n",
      "            2. Convertir a horas, minutos y segundos\n",
      "            3. Salir\n",
      "        \n",
      "Fin del programa\n"
     ]
    }
   ],
   "source": [
    "# Profe\n",
    "\n",
    "# primero hacer el programa principal, lo podemos poner dentro de una función\n",
    "\n",
    "# Espacio para ñas funciones de conversión\n",
    "\n",
    "def comprobar_datos(*datos): #Aquí de momento no sabemos la cantidad de datos a calcular, por eso ponemos *\n",
    "    flag =True #Para comprobar si el dato introducido es digito o no, al no serlo la flag se vuelve false.\n",
    "    for dato in datos:\n",
    "        if not(dato.isdigit()):\n",
    "            flag = False\n",
    "    return flag\n",
    "\n",
    "def convertir_a_segundos(h, m, s):\n",
    "    segundos = h * 3600 + m*60 + s\n",
    "    return segundos\n",
    "\n",
    "def convertir_a_hms(s):\n",
    "    horas = s // 3600\n",
    "    s = s - horas * 3600\n",
    "    minutos = s // 60 # esto es la división entera\n",
    "    s= s - minutos * 60\n",
    "    segundos = s\n",
    "    return(horas, minutos, segundos) # Esto retorna una tupla\n",
    " \n",
    "def principal():\n",
    "    ''' \n",
    "        Programa principal\n",
    "    '''\n",
    "    while True:\n",
    "        prompt = ''' \n",
    "            1. Convertir a segundos\n",
    "            2. Convertir a horas, minutos y segundos\n",
    "            3. Salir\n",
    "        '''\n",
    "        print(prompt)\n",
    "\n",
    "        opcion = input('Introduzca una opción: ')\n",
    "\n",
    "        match opcion:\n",
    "            case '1':\n",
    "                # print('Opción 1')\n",
    "                horas = (input('Dame los horas que quieras convertir'))\n",
    "                minutos = (input('Dame los minutos que quieras convertir'))\n",
    "                segundos = (input('Dame los segundos que quieras convertir'))\n",
    "                if comprobar_datos(horas, minutos, segundos):#control de entrada\n",
    "                    horas= int(horas)\n",
    "                    minutos = int(minutos)\n",
    "                    segundos = int(segundos)\n",
    "                    print(f'Los segundos correspondientes son: {convertir_a_segundos(horas, minutos, segundos)} segundos')\n",
    "                else:\n",
    "                    print('Alguno de los datos introducidos no es un valor numérico')\n",
    "\n",
    "            case '2':\n",
    "                # print('Opción 2')\n",
    "                segundos = input('Introduce los segundos')\n",
    "                if comprobar_datos(segundos):#control de entrada\n",
    "                    segundos = int(segundos)\n",
    "                    resultado = convertir_a_hms(segundos)\n",
    "                    print(f'El resultado es: {resultado[0]} horas, {resultado[1]}, {resultado[2]} segundos') # los indices son los elementos de la tupla\n",
    "                else:\n",
    "                    print('El dato introducido no es un valor numérico')\n",
    "            case '3':\n",
    "                break\n",
    "            case _:\n",
    "                print('La opción no está contemplada')\n",
    "    print('Fin del programa')\n",
    "\n",
    "\n",
    "# Llamada al programa principal\n",
    "principal()"
   ]
  },
  {
   "cell_type": "markdown",
   "metadata": {},
   "source": [
    "5. Crear una subrutina llamada \"Login\", que recibe un nombre de usuario y una contraseña y te devuelve Verdadero si el nombre de usuario es \"usuario1\" y la contraseña es \"asdasd\". Además recibe el número de intentos que se ha intentado hacer login y si no se ha podido hacer login incremente este valor.\n",
    "\n",
    "Crear un programa principal donde se pida un nombre de usuario y una contraseña y se intente hacer login, solamente tenemos tres oportunidades para intentarlo."
   ]
  },
  {
   "cell_type": "code",
   "execution_count": 49,
   "metadata": {},
   "outputs": [
    {
     "name": "stdout",
     "output_type": "stream",
     "text": [
      "Ha entrado al sistema en 1 intentos\n"
     ]
    }
   ],
   "source": [
    "# Función login\n",
    "def login(nombre, password):\n",
    "    if nombre == 'usuario1' and password == 'asdasd':\n",
    "        return True\n",
    "    else:\n",
    "        return False\n",
    "    \n",
    "def principal():\n",
    "    intentos = 1\n",
    "    while intentos <= 3:\n",
    "        usuario = input('Introduce un nombre de usuario: ')\n",
    "        clave = input('Introduce una contraseña: ')\n",
    "\n",
    "        if login(usuario, clave):\n",
    "            break\n",
    "        else:\n",
    "            print(f'Vuelva a intentarlo, le quedan {3 - intentos} intentos') \n",
    "            intentos += 1\n",
    "    \n",
    "    if intentos <= 3:\n",
    "        print(f'Ha entrado al sistema en {intentos} intentos')\n",
    "    else:\n",
    "        print('No ha podido entrar al sistema') \n",
    "\n",
    "principal()"
   ]
  },
  {
   "cell_type": "markdown",
   "metadata": {},
   "source": [
    "6. Crear una función que calcule el MCD de dos número por el método de Euclides. El método de Euclides es el siguiente:\n",
    "* Se divide el número mayor por el número menor.\n",
    "* Si la división es exacta, el divisor es el MCD.\n",
    "* Si la división no es exacta, dividimos el divisor entre el resto obtenido y se continua de esta forma hasta obtener una división exacta, siendo el último divisor el MCD.\n",
    "\n",
    "Crea un programa principal que lea dos números enteros y muestre el MCD."
   ]
  },
  {
   "cell_type": "code",
   "execution_count": 48,
   "metadata": {},
   "outputs": [
    {
     "name": "stdout",
     "output_type": "stream",
     "text": [
      "MCD: 1\n"
     ]
    }
   ],
   "source": [
    "# Funcion para calcular el MCD\n",
    "def calcular_mcd(numeros):\n",
    "    numero_mayor= max(numeros)\n",
    "    numero_menor= min(numeros)\n",
    "\n",
    "    resto= numero_mayor % numero_menor\n",
    "    division= numero_mayor // numero_menor\n",
    "\n",
    "    if resto == 0:\n",
    "        return numero_menor\n",
    "    elif division == 1:\n",
    "        return 1\n",
    "    else:\n",
    "        calcular_mcd([numero_menor, resto])\n",
    "\n",
    "    \n",
    "#Programa principal\n",
    "\n",
    "def principal():\n",
    "    numero1= int(input('Escribe el numero:'))\n",
    "    numero2= int(input('Escribe el numero:'))\n",
    "    lista_numeros = [numero1, numero2]\n",
    "    print(f'MCD: {calcular_mcd(lista_numeros)}')\n",
    "\n",
    "principal()"
   ]
  }
 ],
 "metadata": {
  "kernelspec": {
   "display_name": "Python 3",
   "language": "python",
   "name": "python3"
  },
  "language_info": {
   "codemirror_mode": {
    "name": "ipython",
    "version": 3
   },
   "file_extension": ".py",
   "mimetype": "text/x-python",
   "name": "python",
   "nbconvert_exporter": "python",
   "pygments_lexer": "ipython3",
   "version": "3.12.3"
  }
 },
 "nbformat": 4,
 "nbformat_minor": 2
}
