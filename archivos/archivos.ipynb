{
 "cells": [
  {
   "cell_type": "markdown",
   "metadata": {},
   "source": [
    "# Archivos"
   ]
  },
  {
   "cell_type": "markdown",
   "metadata": {},
   "source": [
    "## Leer un archivo"
   ]
  },
  {
   "cell_type": "markdown",
   "metadata": {},
   "source": [
    "dentro de datos tenemos prueba.txt"
   ]
  },
  {
   "cell_type": "code",
   "execution_count": null,
   "metadata": {},
   "outputs": [],
   "source": [
    "from pathlib import Path #Importamos la clase Path de la librería pathlib\n",
    "\n",
    "path = Path('datos/prueba.txt') #El argumento de la clase Path tiene la localización del archivo\n",
    "\n",
    "contenido = path.read_text(encoding='utf-8') # Codificación de acentos etc, la internacional es la utf-8\n",
    "\n",
    "print(contenido)"
   ]
  },
  {
   "cell_type": "markdown",
   "metadata": {},
   "source": [
    "Lectura línea a línea"
   ]
  },
  {
   "cell_type": "code",
   "execution_count": null,
   "metadata": {},
   "outputs": [],
   "source": [
    "from pathlib import Path #Importamos la clase Path de la librería pathlib\n",
    "\n",
    "path = Path('datos/prueba.txt') #El argumento de la clase Path tiene la localización del archivo\n",
    "\n",
    "contenido = path.read_text(encoding='utf-8')\n",
    "\n",
    "lineas = contenido.splitlines()\n",
    "\n",
    "for linea in lineas:\n",
    "    print(linea)"
   ]
  },
  {
   "cell_type": "markdown",
   "metadata": {},
   "source": [
    "También podemos analizar si existe en el archivo alguna cadena en concreto"
   ]
  },
  {
   "cell_type": "code",
   "execution_count": 7,
   "metadata": {},
   "outputs": [
    {
     "name": "stdout",
     "output_type": "stream",
     "text": [
      "La cadena no existe!\n"
     ]
    }
   ],
   "source": [
    "from pathlib import Path #Importamos la clase Path de la librería pathlib\n",
    "\n",
    "path = Path('datos/prueba.txt') #El argumento de la clase Path tiene la localización del archivo\n",
    "\n",
    "contenido = path.read_text(encoding='utf-8')\n",
    "\n",
    "lineaArchivo = []\n",
    "lineas = contenido.splitlines() # Te devuelve una lista con cada línea como elemento\n",
    "\n",
    "for linea in lineas:\n",
    "    lineaArchivo.append(linea)\n",
    "\n",
    "# print(lineaArchivo)\n",
    "consulta = input('Introduzca la cadena a consultar')\n",
    "\n",
    "if consulta in lineaArchivo:\n",
    "    print('La cadena existe!')\n",
    "else:\n",
    "    print('La cadena no existe!')"
   ]
  },
  {
   "cell_type": "code",
   "execution_count": 8,
   "metadata": {},
   "outputs": [
    {
     "name": "stdout",
     "output_type": "stream",
     "text": [
      "La consulta existe\n",
      "La consulta no esiste!\n",
      "La consulta no esiste!\n",
      "La consulta no esiste!\n",
      "La consulta no esiste!\n"
     ]
    }
   ],
   "source": [
    "consulta = input('Introduzca la cadena a consultar:') # te dice donde está si pones una palabra de una línea, como \"Primera\"\n",
    "for linea in lineas:\n",
    "    if consulta in linea:\n",
    "        print('La consulta existe')\n",
    "    else:\n",
    "        print('La consulta no esiste!')"
   ]
  },
  {
   "cell_type": "code",
   "execution_count": 12,
   "metadata": {},
   "outputs": [
    {
     "name": "stdout",
     "output_type": "stream",
     "text": [
      "La consulta existe en la siguiente línea:\n",
      "Cuarta linea de texto del archivo\n"
     ]
    }
   ],
   "source": [
    "consulta = input('Introduzca la cadena a consultar:')\n",
    "for linea in lineas:\n",
    "    if consulta in linea:\n",
    "        print('La consulta existe en la siguiente línea:')\n",
    "        print(f'{linea}')"
   ]
  },
  {
   "cell_type": "markdown",
   "metadata": {},
   "source": [
    "## Escribir en un archivo"
   ]
  },
  {
   "cell_type": "markdown",
   "metadata": {},
   "source": [
    "Lo primero es definir la ruta"
   ]
  },
  {
   "cell_type": "code",
   "execution_count": 14,
   "metadata": {},
   "outputs": [
    {
     "name": "stdout",
     "output_type": "stream",
     "text": [
      "Texto añadido correctamente.\n"
     ]
    }
   ],
   "source": [
    "# from pathlib import Path\n",
    "nuevaRuta = Path('datos/archivo_escritura.txt')\n",
    "texto = input('Introduzca datos a escribir en el archivo: ')\n",
    "\n",
    "nuevaRuta.write_text(f'{texto}\\n', encoding = 'utf-8') # Busca el archivo y escribe, si no lo hay lo crea y escribe. Problema de sobreescritura ahora si vuelves a correrlo.\n",
    "print('Texto añadido correctamente.')"
   ]
  },
  {
   "cell_type": "markdown",
   "metadata": {},
   "source": [
    "Evitar sobreescritura con:"
   ]
  },
  {
   "cell_type": "code",
   "execution_count": 17,
   "metadata": {},
   "outputs": [],
   "source": [
    "# from pathlib import Path\n",
    "nuevaRuta = Path('datos/archivo_escritura.txt')\n",
    "texto = input('Introduzca datos a escribir en el archivo: ')\n",
    "# mode 'append'\n",
    "with nuevaRuta.open(mode='a', encoding = 'utf-8') as file: \n",
    "    file.write(f'{texto}\\n')"
   ]
  },
  {
   "cell_type": "code",
   "execution_count": 18,
   "metadata": {},
   "outputs": [
    {
     "name": "stdout",
     "output_type": "stream",
     "text": [
      "Domingo está escribiendo\n",
      "Domingo está escribiendo\n",
      "de nuevo vuelve a escribir\n",
      "\n"
     ]
    }
   ],
   "source": [
    "textoLeido = nuevaRuta.read_text(encoding='utf-8')\n",
    "print(textoLeido)"
   ]
  },
  {
   "cell_type": "markdown",
   "metadata": {},
   "source": [
    "Es importante saber si el archivo se cierra"
   ]
  },
  {
   "cell_type": "code",
   "execution_count": 24,
   "metadata": {},
   "outputs": [
    {
     "name": "stdout",
     "output_type": "stream",
     "text": [
      "Archivo cerrado? False\n",
      "Archivo cerrado? True\n"
     ]
    }
   ],
   "source": [
    "# from pathlib import Path\n",
    "nuevaRuta = Path('datos/archivo_escritura.txt')\n",
    "texto = input('Introduzca datos a escribir en el archivo: ')\n",
    "\n",
    "# mode a = append . with abre el archivo y lo cierra al acabar.\n",
    "with nuevaRuta.open(mode='a', encoding = 'utf-8') as file: # Lo almacena dentro de una variable a la que llamamos file.\n",
    "    file.write(f'{texto}\\n')\n",
    "    print(f'Archivo cerrado? {file.closed}') #.closed es una propiedad y retorna True o False si está el archivo abierto o cerrado.\n",
    "\n",
    "print(f'Archivo cerrado? {file.closed}') # Cuando se acaba el bloque with cierra el archivo."
   ]
  },
  {
   "cell_type": "markdown",
   "metadata": {},
   "source": [
    "## Creando exepciones"
   ]
  },
  {
   "cell_type": "markdown",
   "metadata": {},
   "source": [
    "Qué pasa si el archivo que buscamos pues no lo encuentre, podemos crear excepciones:"
   ]
  },
  {
   "cell_type": "code",
   "execution_count": 25,
   "metadata": {},
   "outputs": [
    {
     "name": "stdout",
     "output_type": "stream",
     "text": [
      "Lo sentimos, el archivo archivo_escritura.txt no existe!\n"
     ]
    }
   ],
   "source": [
    "# from pathlib import Path\n",
    "\n",
    "archivo = Path('archivo_escritura.txt')\n",
    "\n",
    "try:\n",
    "    contenido = archivo.read_text(encoding='utf-8')\n",
    "except FileNotFoundError:\n",
    "    print(f'Lo sentimos, el archivo {archivo} no existe!')"
   ]
  },
  {
   "cell_type": "markdown",
   "metadata": {},
   "source": [
    "Creando una ruta absoluta (hasta ahora relativas)"
   ]
  },
  {
   "cell_type": "code",
   "execution_count": 26,
   "metadata": {},
   "outputs": [
    {
     "name": "stdout",
     "output_type": "stream",
     "text": [
      "d:\\python\\Apuntes-Python\\archivos\\datos\\archivo_escritura.txt\n"
     ]
    }
   ],
   "source": [
    "import os\n",
    "\n",
    "def ruta():\n",
    "    ruta_relativa = 'datos/archivo_escritura.txt'\n",
    "    \n",
    "    # del sistema operativo coges el path y path absoluto de la ruta relativa\n",
    "    ruta_absoluta = os.path.abspath(ruta_relativa) # abspath = método que te da la ruta absoluta \n",
    "    return ruta_absoluta\n",
    "\n",
    "print(ruta())"
   ]
  },
  {
   "cell_type": "markdown",
   "metadata": {},
   "source": [
    "Analizando un archivo de texto. Accedemos con la ruta absoluta anterior"
   ]
  },
  {
   "cell_type": "code",
   "execution_count": 28,
   "metadata": {},
   "outputs": [
    {
     "name": "stdout",
     "output_type": "stream",
     "text": [
      "El número de palabras del texto es: 15\n"
     ]
    }
   ],
   "source": [
    "archivoTexto = Path(ruta())\n",
    "\n",
    "# print(archivoTexto)\n",
    "\n",
    "try:\n",
    "    contenidoTexto = archivoTexto.read_text(encoding='utf-8')\n",
    "except FileNotFoundError:\n",
    "    print(f'Lo siento, el archivo {archivoTexto} no se encuentra.')\n",
    "else:\n",
    "    palabras = len(contenidoTexto.split())\n",
    "    print(f'El número de palabras del texto es: {palabras}')\n",
    "\n",
    "# Para contar letras haces un split y luego quitas los espacios haciendo una string con join."
   ]
  },
  {
   "cell_type": "markdown",
   "metadata": {},
   "source": [
    "## Formato JSON"
   ]
  },
  {
   "cell_type": "markdown",
   "metadata": {},
   "source": [
    "módulo de JSON de Python para escribir y leer:"
   ]
  },
  {
   "cell_type": "markdown",
   "metadata": {},
   "source": [
    "### json.dumps()"
   ]
  },
  {
   "cell_type": "code",
   "execution_count": 30,
   "metadata": {},
   "outputs": [
    {
     "data": {
      "text/plain": [
       "72"
      ]
     },
     "execution_count": 30,
     "metadata": {},
     "output_type": "execute_result"
    }
   ],
   "source": [
    "from pathlib import Path\n",
    "import json\n",
    "\n",
    "numeros =[1,2,3,4,5,6,7,8,9,0]\n",
    "\n",
    "archivo = Path('datos/numeros.json')\n",
    "\n",
    "contenidos = json.dumps(numeros, indent = 4) # json.dumps() pasar de formato lista a json. indent = 4 para que sea más leible\n",
    "\n",
    "archivo.write_text(contenidos)"
   ]
  },
  {
   "cell_type": "markdown",
   "metadata": {},
   "source": [
    "Leemos un JSON"
   ]
  },
  {
   "cell_type": "code",
   "execution_count": 31,
   "metadata": {},
   "outputs": [
    {
     "name": "stdout",
     "output_type": "stream",
     "text": [
      "<class 'str'>\n",
      "<class 'list'>\n"
     ]
    }
   ],
   "source": [
    "contenidos = archivo.read_text(encoding= 'utf-8')\n",
    "print(type(contenidos)) # es class str, es un json\n",
    "resultado = json.loads(contenidos)\n",
    "print(type(resultado)) # Aquí te retorna el formato para trabajar con python, una lista "
   ]
  },
  {
   "cell_type": "markdown",
   "metadata": {},
   "source": [
    "Para trabajar con diccionarios es muy útil!"
   ]
  },
  {
   "cell_type": "code",
   "execution_count": 37,
   "metadata": {},
   "outputs": [
    {
     "data": {
      "text/plain": [
       "49"
      ]
     },
     "execution_count": 37,
     "metadata": {},
     "output_type": "execute_result"
    }
   ],
   "source": [
    "from pathlib import Path\n",
    "import json\n",
    "\n",
    "usuario = {\n",
    "    'nombre': 'Manu',\n",
    "    'apellido': 'Plaza'\n",
    "}\n",
    "\n",
    "archivoUsuarios = Path('datos/datos_usuario.json')\n",
    "\n",
    "contenido = json.dumps(usuario, indent= 4, sort_keys=True) # sort keys ordenar en funcion de la clave de las entradas, True para que ordene y False para que no.\n",
    "\n",
    "archivoUsuarios.write_text(contenido)"
   ]
  },
  {
   "cell_type": "code",
   "execution_count": 38,
   "metadata": {},
   "outputs": [
    {
     "name": "stdout",
     "output_type": "stream",
     "text": [
      "{'apellido': 'Plaza', 'nombre': 'Manu'}\n"
     ]
    }
   ],
   "source": [
    "# Para leerlo pasarlo\n",
    "contenidoUsuarios = archivoUsuarios.read_text(encoding='utf-8')\n",
    "\n",
    "resultadoUsuarios = json.loads(contenidoUsuarios)\n",
    "print(resultadoUsuarios)"
   ]
  },
  {
   "cell_type": "markdown",
   "metadata": {},
   "source": [
    "Cojo archivo, subo a memoria, trabajas con el y lo vuelves a guardar."
   ]
  },
  {
   "cell_type": "markdown",
   "metadata": {},
   "source": [
    "Ejercicio 1: Hacer un script para introducir datos a una lista de diccionarios hasta que quieras, lo guardemos en una lista json y luego lo vamos a visualizar."
   ]
  },
  {
   "cell_type": "code",
   "execution_count": 3,
   "metadata": {},
   "outputs": [
    {
     "name": "stdout",
     "output_type": "stream",
     "text": [
      "Persona añadida correctamente.\n",
      "Persona añadida correctamente.\n",
      "[{'apellido': 'marchan', 'nombre': 'domingo'}, {'apellido': 'marchan', 'nombre': 'david'}]\n"
     ]
    }
   ],
   "source": [
    "from pathlib import Path\n",
    "import json\n",
    "\n",
    "nuevaRutaEjercicio1 = Path('datos/ejercicio1.json')\n",
    "\n",
    "diccionarioPersonas = []\n",
    "\n",
    "while True:\n",
    "    opcion = input('Quieres introducir una nueva persona? 1) Sí 2) No')\n",
    "    if opcion == '1':\n",
    "        nombre = input('Dame un nombre: ')\n",
    "\n",
    "        apellido = input('Dame un apellido: ')\n",
    "        \n",
    "        diccionarioPersonas.append({'nombre': nombre, 'apellido': apellido})\n",
    "\n",
    "        print('Persona añadida correctamente.')\n",
    "        \n",
    "    elif opcion == '2':\n",
    "        break\n",
    "    else:\n",
    "        print('Opción no contemplada.')\n",
    "\n",
    "contenido = json.dumps(diccionarioPersonas, indent= 4, sort_keys=True)\n",
    "\n",
    "nuevaRutaEjercicio1.write_text(contenido)\n",
    "\n",
    "nuevaRutaEjercicio1 = nuevaRutaEjercicio1.read_text(encoding='utf-8')\n",
    "\n",
    "resultadoUsuarios = json.loads(nuevaRutaEjercicio1)\n",
    "print(resultadoUsuarios)"
   ]
  }
 ],
 "metadata": {
  "kernelspec": {
   "display_name": "Python 3",
   "language": "python",
   "name": "python3"
  },
  "language_info": {
   "codemirror_mode": {
    "name": "ipython",
    "version": 3
   },
   "file_extension": ".py",
   "mimetype": "text/x-python",
   "name": "python",
   "nbconvert_exporter": "python",
   "pygments_lexer": "ipython3",
   "version": "3.11.9"
  }
 },
 "nbformat": 4,
 "nbformat_minor": 2
}
