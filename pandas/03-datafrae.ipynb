{
 "cells": [
  {
   "cell_type": "markdown",
   "id": "e99d3d8d-abe2-4c73-89f5-a7ec635fb643",
   "metadata": {},
   "source": [
    "# La clase DataFrame"
   ]
  },
  {
   "cell_type": "code",
   "execution_count": 2,
   "id": "1b637c60-ec77-4684-89dd-bf758fb01004",
   "metadata": {},
   "outputs": [
    {
     "name": "stdout",
     "output_type": "stream",
     "text": [
      "[[-5 -3 -2 -5]\n",
      " [-8 -5 -5 -4]\n",
      " [ 6  5  1  9]\n",
      " [ 4 -2 -5  7]]\n"
     ]
    }
   ],
   "source": [
    "# Creamos un dataframe\n",
    "import pandas as pd\n",
    "import numpy as np\n",
    "\n",
    "array = np.random.randint(-10,10, size= (4,4))\n",
    "print(array)"
   ]
  },
  {
   "cell_type": "code",
   "execution_count": 73,
   "id": "f9297bb1-be03-4238-ae5c-36fb213fe917",
   "metadata": {},
   "outputs": [
    {
     "name": "stdout",
     "output_type": "stream",
     "text": [
      "   W  X  Y  Z\n",
      "A -5 -3 -2 -5\n",
      "B -8 -5 -5 -4\n",
      "C  6  5  1  9\n",
      "D  4 -2 -5  7\n"
     ]
    }
   ],
   "source": [
    "df = pd.DataFrame(array, index= ['A', 'B', 'C', 'D'], columns= ['W', 'X', 'Y', 'Z'])\n",
    "print(df)"
   ]
  },
  {
   "cell_type": "code",
   "execution_count": 10,
   "id": "fd471dd8-98e7-4267-af94-1ce89eb07458",
   "metadata": {},
   "outputs": [
    {
     "data": {
      "text/plain": [
       "pandas.core.frame.DataFrame"
      ]
     },
     "execution_count": 10,
     "metadata": {},
     "output_type": "execute_result"
    }
   ],
   "source": [
    "type(df) # es un frame de la clase dataframe de pandas"
   ]
  },
  {
   "cell_type": "markdown",
   "id": "dc045f86-5875-459b-8881-e1479c87f80e",
   "metadata": {},
   "source": [
    "## Trabajando con DataFrames"
   ]
  },
  {
   "cell_type": "markdown",
   "id": "47ee6fe3-a6fa-449f-afc6-1bfd317df9ce",
   "metadata": {},
   "source": [
    "Podemos consultar una columna mediante su nombre"
   ]
  },
  {
   "cell_type": "code",
   "execution_count": 12,
   "id": "ce9cc3b5-d4ae-4d37-8e11-0d7e70fed217",
   "metadata": {},
   "outputs": [
    {
     "data": {
      "text/plain": [
       "A    -3\n",
       "B,   -5\n",
       "C     5\n",
       "D    -2\n",
       "Name: X, dtype: int32"
      ]
     },
     "execution_count": 12,
     "metadata": {},
     "output_type": "execute_result"
    }
   ],
   "source": [
    "df['X']"
   ]
  },
  {
   "cell_type": "code",
   "execution_count": 14,
   "id": "08065ff0-72a4-4e8b-8099-7fccd874909b",
   "metadata": {},
   "outputs": [
    {
     "data": {
      "text/plain": [
       "pandas.core.series.Series"
      ]
     },
     "execution_count": 14,
     "metadata": {},
     "output_type": "execute_result"
    }
   ],
   "source": [
    "type(df['X']) #es una serie de pandas, cada columna, por lo tanto, lo será"
   ]
  },
  {
   "cell_type": "markdown",
   "id": "891f9ec0-f559-4aba-a0aa-e619c68f122c",
   "metadata": {},
   "source": [
    "Añadir una columna"
   ]
  },
  {
   "cell_type": "code",
   "execution_count": 75,
   "id": "ae5aba3b-07fe-49f7-bfce-076db6eb905c",
   "metadata": {},
   "outputs": [
    {
     "data": {
      "text/html": [
       "<div>\n",
       "<style scoped>\n",
       "    .dataframe tbody tr th:only-of-type {\n",
       "        vertical-align: middle;\n",
       "    }\n",
       "\n",
       "    .dataframe tbody tr th {\n",
       "        vertical-align: top;\n",
       "    }\n",
       "\n",
       "    .dataframe thead th {\n",
       "        text-align: right;\n",
       "    }\n",
       "</style>\n",
       "<table border=\"1\" class=\"dataframe\">\n",
       "  <thead>\n",
       "    <tr style=\"text-align: right;\">\n",
       "      <th></th>\n",
       "      <th>W</th>\n",
       "      <th>X</th>\n",
       "      <th>Y</th>\n",
       "      <th>Z</th>\n",
       "      <th>TOTAL</th>\n",
       "    </tr>\n",
       "  </thead>\n",
       "  <tbody>\n",
       "    <tr>\n",
       "      <th>A</th>\n",
       "      <td>-5</td>\n",
       "      <td>-3</td>\n",
       "      <td>-2</td>\n",
       "      <td>-5</td>\n",
       "      <td>-15</td>\n",
       "    </tr>\n",
       "    <tr>\n",
       "      <th>B</th>\n",
       "      <td>-8</td>\n",
       "      <td>-5</td>\n",
       "      <td>-5</td>\n",
       "      <td>-4</td>\n",
       "      <td>-22</td>\n",
       "    </tr>\n",
       "    <tr>\n",
       "      <th>C</th>\n",
       "      <td>6</td>\n",
       "      <td>5</td>\n",
       "      <td>1</td>\n",
       "      <td>9</td>\n",
       "      <td>21</td>\n",
       "    </tr>\n",
       "    <tr>\n",
       "      <th>D</th>\n",
       "      <td>4</td>\n",
       "      <td>-2</td>\n",
       "      <td>-5</td>\n",
       "      <td>7</td>\n",
       "      <td>4</td>\n",
       "    </tr>\n",
       "  </tbody>\n",
       "</table>\n",
       "</div>"
      ],
      "text/plain": [
       "   W  X  Y  Z  TOTAL\n",
       "A -5 -3 -2 -5    -15\n",
       "B -8 -5 -5 -4    -22\n",
       "C  6  5  1  9     21\n",
       "D  4 -2 -5  7      4"
      ]
     },
     "execution_count": 75,
     "metadata": {},
     "output_type": "execute_result"
    }
   ],
   "source": [
    "df['TOTAL'] = df['W']+ df['X']+ df['Y']+ df['Z']\n",
    "df"
   ]
  },
  {
   "cell_type": "markdown",
   "id": "bdbd88dc-98e0-4272-9cc4-9242ac48c418",
   "metadata": {},
   "source": [
    "Borrar una columna"
   ]
  },
  {
   "cell_type": "code",
   "execution_count": 77,
   "id": "afa44d6a-b235-4001-a96b-4546fe8496ca",
   "metadata": {},
   "outputs": [
    {
     "data": {
      "text/html": [
       "<div>\n",
       "<style scoped>\n",
       "    .dataframe tbody tr th:only-of-type {\n",
       "        vertical-align: middle;\n",
       "    }\n",
       "\n",
       "    .dataframe tbody tr th {\n",
       "        vertical-align: top;\n",
       "    }\n",
       "\n",
       "    .dataframe thead th {\n",
       "        text-align: right;\n",
       "    }\n",
       "</style>\n",
       "<table border=\"1\" class=\"dataframe\">\n",
       "  <thead>\n",
       "    <tr style=\"text-align: right;\">\n",
       "      <th></th>\n",
       "      <th>W</th>\n",
       "      <th>X</th>\n",
       "      <th>Y</th>\n",
       "      <th>Z</th>\n",
       "    </tr>\n",
       "  </thead>\n",
       "  <tbody>\n",
       "    <tr>\n",
       "      <th>A</th>\n",
       "      <td>-5</td>\n",
       "      <td>-3</td>\n",
       "      <td>-2</td>\n",
       "      <td>-5</td>\n",
       "    </tr>\n",
       "    <tr>\n",
       "      <th>B</th>\n",
       "      <td>-8</td>\n",
       "      <td>-5</td>\n",
       "      <td>-5</td>\n",
       "      <td>-4</td>\n",
       "    </tr>\n",
       "    <tr>\n",
       "      <th>C</th>\n",
       "      <td>6</td>\n",
       "      <td>5</td>\n",
       "      <td>1</td>\n",
       "      <td>9</td>\n",
       "    </tr>\n",
       "    <tr>\n",
       "      <th>D</th>\n",
       "      <td>4</td>\n",
       "      <td>-2</td>\n",
       "      <td>-5</td>\n",
       "      <td>7</td>\n",
       "    </tr>\n",
       "  </tbody>\n",
       "</table>\n",
       "</div>"
      ],
      "text/plain": [
       "   W  X  Y  Z\n",
       "A -5 -3 -2 -5\n",
       "B -8 -5 -5 -4\n",
       "C  6  5  1  9\n",
       "D  4 -2 -5  7"
      ]
     },
     "execution_count": 77,
     "metadata": {},
     "output_type": "execute_result"
    }
   ],
   "source": [
    "df.drop('TOTAL', axis= 1) # no modifica el original, elimina la columna\n"
   ]
  },
  {
   "cell_type": "code",
   "execution_count": 79,
   "id": "9c75fc5e-fca5-4492-9c81-f77b780016ed",
   "metadata": {},
   "outputs": [
    {
     "data": {
      "text/html": [
       "<div>\n",
       "<style scoped>\n",
       "    .dataframe tbody tr th:only-of-type {\n",
       "        vertical-align: middle;\n",
       "    }\n",
       "\n",
       "    .dataframe tbody tr th {\n",
       "        vertical-align: top;\n",
       "    }\n",
       "\n",
       "    .dataframe thead th {\n",
       "        text-align: right;\n",
       "    }\n",
       "</style>\n",
       "<table border=\"1\" class=\"dataframe\">\n",
       "  <thead>\n",
       "    <tr style=\"text-align: right;\">\n",
       "      <th></th>\n",
       "      <th>W</th>\n",
       "      <th>X</th>\n",
       "      <th>Y</th>\n",
       "      <th>Z</th>\n",
       "      <th>TOTAL</th>\n",
       "    </tr>\n",
       "  </thead>\n",
       "  <tbody>\n",
       "    <tr>\n",
       "      <th>A</th>\n",
       "      <td>-5</td>\n",
       "      <td>-3</td>\n",
       "      <td>-2</td>\n",
       "      <td>-5</td>\n",
       "      <td>-15</td>\n",
       "    </tr>\n",
       "    <tr>\n",
       "      <th>B</th>\n",
       "      <td>-8</td>\n",
       "      <td>-5</td>\n",
       "      <td>-5</td>\n",
       "      <td>-4</td>\n",
       "      <td>-22</td>\n",
       "    </tr>\n",
       "    <tr>\n",
       "      <th>C</th>\n",
       "      <td>6</td>\n",
       "      <td>5</td>\n",
       "      <td>1</td>\n",
       "      <td>9</td>\n",
       "      <td>21</td>\n",
       "    </tr>\n",
       "    <tr>\n",
       "      <th>D</th>\n",
       "      <td>4</td>\n",
       "      <td>-2</td>\n",
       "      <td>-5</td>\n",
       "      <td>7</td>\n",
       "      <td>4</td>\n",
       "    </tr>\n",
       "  </tbody>\n",
       "</table>\n",
       "</div>"
      ],
      "text/plain": [
       "   W  X  Y  Z  TOTAL\n",
       "A -5 -3 -2 -5    -15\n",
       "B -8 -5 -5 -4    -22\n",
       "C  6  5  1  9     21\n",
       "D  4 -2 -5  7      4"
      ]
     },
     "execution_count": 79,
     "metadata": {},
     "output_type": "execute_result"
    }
   ],
   "source": [
    "df"
   ]
  },
  {
   "cell_type": "code",
   "execution_count": 81,
   "id": "460afed8-32a5-44b6-9ca9-717e4feee29e",
   "metadata": {},
   "outputs": [
    {
     "data": {
      "text/html": [
       "<div>\n",
       "<style scoped>\n",
       "    .dataframe tbody tr th:only-of-type {\n",
       "        vertical-align: middle;\n",
       "    }\n",
       "\n",
       "    .dataframe tbody tr th {\n",
       "        vertical-align: top;\n",
       "    }\n",
       "\n",
       "    .dataframe thead th {\n",
       "        text-align: right;\n",
       "    }\n",
       "</style>\n",
       "<table border=\"1\" class=\"dataframe\">\n",
       "  <thead>\n",
       "    <tr style=\"text-align: right;\">\n",
       "      <th></th>\n",
       "      <th>W</th>\n",
       "      <th>X</th>\n",
       "      <th>Y</th>\n",
       "      <th>Z</th>\n",
       "    </tr>\n",
       "  </thead>\n",
       "  <tbody>\n",
       "    <tr>\n",
       "      <th>A</th>\n",
       "      <td>-5</td>\n",
       "      <td>-3</td>\n",
       "      <td>-2</td>\n",
       "      <td>-5</td>\n",
       "    </tr>\n",
       "    <tr>\n",
       "      <th>B</th>\n",
       "      <td>-8</td>\n",
       "      <td>-5</td>\n",
       "      <td>-5</td>\n",
       "      <td>-4</td>\n",
       "    </tr>\n",
       "    <tr>\n",
       "      <th>C</th>\n",
       "      <td>6</td>\n",
       "      <td>5</td>\n",
       "      <td>1</td>\n",
       "      <td>9</td>\n",
       "    </tr>\n",
       "    <tr>\n",
       "      <th>D</th>\n",
       "      <td>4</td>\n",
       "      <td>-2</td>\n",
       "      <td>-5</td>\n",
       "      <td>7</td>\n",
       "    </tr>\n",
       "  </tbody>\n",
       "</table>\n",
       "</div>"
      ],
      "text/plain": [
       "   W  X  Y  Z\n",
       "A -5 -3 -2 -5\n",
       "B -8 -5 -5 -4\n",
       "C  6  5  1  9\n",
       "D  4 -2 -5  7"
      ]
     },
     "execution_count": 81,
     "metadata": {},
     "output_type": "execute_result"
    }
   ],
   "source": [
    "# Para que el borrado sea permanente\n",
    "df.drop('TOTAL', axis= 1, inplace= True)\n",
    "df"
   ]
  },
  {
   "cell_type": "code",
   "execution_count": null,
   "id": "7dd95b0e-6fb7-4f59-9a38-713c2ea2c1a1",
   "metadata": {},
   "outputs": [],
   "source": [
    "Borrar una fila\n"
   ]
  },
  {
   "cell_type": "code",
   "execution_count": 85,
   "id": "dadda2cd-c1fd-4df8-9cea-5e063186c622",
   "metadata": {},
   "outputs": [
    {
     "data": {
      "text/html": [
       "<div>\n",
       "<style scoped>\n",
       "    .dataframe tbody tr th:only-of-type {\n",
       "        vertical-align: middle;\n",
       "    }\n",
       "\n",
       "    .dataframe tbody tr th {\n",
       "        vertical-align: top;\n",
       "    }\n",
       "\n",
       "    .dataframe thead th {\n",
       "        text-align: right;\n",
       "    }\n",
       "</style>\n",
       "<table border=\"1\" class=\"dataframe\">\n",
       "  <thead>\n",
       "    <tr style=\"text-align: right;\">\n",
       "      <th></th>\n",
       "      <th>W</th>\n",
       "      <th>X</th>\n",
       "      <th>Y</th>\n",
       "      <th>Z</th>\n",
       "    </tr>\n",
       "  </thead>\n",
       "  <tbody>\n",
       "    <tr>\n",
       "      <th>A</th>\n",
       "      <td>-5</td>\n",
       "      <td>-3</td>\n",
       "      <td>-2</td>\n",
       "      <td>-5</td>\n",
       "    </tr>\n",
       "    <tr>\n",
       "      <th>B</th>\n",
       "      <td>-8</td>\n",
       "      <td>-5</td>\n",
       "      <td>-5</td>\n",
       "      <td>-4</td>\n",
       "    </tr>\n",
       "    <tr>\n",
       "      <th>C</th>\n",
       "      <td>6</td>\n",
       "      <td>5</td>\n",
       "      <td>1</td>\n",
       "      <td>9</td>\n",
       "    </tr>\n",
       "  </tbody>\n",
       "</table>\n",
       "</div>"
      ],
      "text/plain": [
       "   W  X  Y  Z\n",
       "A -5 -3 -2 -5\n",
       "B -8 -5 -5 -4\n",
       "C  6  5  1  9"
      ]
     },
     "execution_count": 85,
     "metadata": {},
     "output_type": "execute_result"
    }
   ],
   "source": [
    "df.drop('D', axis= 0) # con inplace = True la borras definitivamente"
   ]
  },
  {
   "cell_type": "markdown",
   "id": "e913ffc6-9d45-4cc5-9087-4369fb38684a",
   "metadata": {},
   "source": [
    "## Seleccionar filas"
   ]
  },
  {
   "cell_type": "code",
   "execution_count": 89,
   "id": "1a338909-5754-44d6-ab3f-8382f20970fe",
   "metadata": {},
   "outputs": [
    {
     "data": {
      "text/plain": [
       "W    6\n",
       "X    5\n",
       "Y    1\n",
       "Z    9\n",
       "Name: C, dtype: int32"
      ]
     },
     "execution_count": 89,
     "metadata": {},
     "output_type": "execute_result"
    }
   ],
   "source": [
    "df.loc['C']"
   ]
  },
  {
   "cell_type": "code",
   "execution_count": 93,
   "id": "f18d9daf-9795-4a19-9a5a-59a03a2e9595",
   "metadata": {},
   "outputs": [
    {
     "data": {
      "text/plain": [
       "W    6\n",
       "X    5\n",
       "Y    1\n",
       "Z    9\n",
       "Name: C, dtype: int32"
      ]
     },
     "execution_count": 93,
     "metadata": {},
     "output_type": "execute_result"
    }
   ],
   "source": [
    "df.iloc[2]"
   ]
  },
  {
   "cell_type": "markdown",
   "id": "92464024-b517-4cc5-9eeb-806616ad67b1",
   "metadata": {},
   "source": [
    "## Seleccionar una subtabla (subset)"
   ]
  },
  {
   "cell_type": "code",
   "execution_count": 95,
   "id": "c858eae5-6ae2-4845-b825-49ee4f5db08b",
   "metadata": {},
   "outputs": [
    {
     "data": {
      "text/plain": [
       "9"
      ]
     },
     "execution_count": 95,
     "metadata": {},
     "output_type": "execute_result"
    }
   ],
   "source": [
    "# Fila C y la columna Z\n",
    "df.loc['C', 'Z']"
   ]
  },
  {
   "cell_type": "code",
   "execution_count": 97,
   "id": "0b2a4be4-0630-4126-bfd6-a27fe61f79f6",
   "metadata": {},
   "outputs": [
    {
     "data": {
      "text/html": [
       "<div>\n",
       "<style scoped>\n",
       "    .dataframe tbody tr th:only-of-type {\n",
       "        vertical-align: middle;\n",
       "    }\n",
       "\n",
       "    .dataframe tbody tr th {\n",
       "        vertical-align: top;\n",
       "    }\n",
       "\n",
       "    .dataframe thead th {\n",
       "        text-align: right;\n",
       "    }\n",
       "</style>\n",
       "<table border=\"1\" class=\"dataframe\">\n",
       "  <thead>\n",
       "    <tr style=\"text-align: right;\">\n",
       "      <th></th>\n",
       "      <th>W</th>\n",
       "      <th>Y</th>\n",
       "    </tr>\n",
       "  </thead>\n",
       "  <tbody>\n",
       "    <tr>\n",
       "      <th>A</th>\n",
       "      <td>-5</td>\n",
       "      <td>-2</td>\n",
       "    </tr>\n",
       "    <tr>\n",
       "      <th>B</th>\n",
       "      <td>-8</td>\n",
       "      <td>-5</td>\n",
       "    </tr>\n",
       "  </tbody>\n",
       "</table>\n",
       "</div>"
      ],
      "text/plain": [
       "   W  Y\n",
       "A -5 -2\n",
       "B -8 -5"
      ]
     },
     "execution_count": 97,
     "metadata": {},
     "output_type": "execute_result"
    }
   ],
   "source": [
    "# Filas A,B columnas W,Y\n",
    "df.loc[['A', 'B'],['W', 'Y']]"
   ]
  },
  {
   "cell_type": "markdown",
   "id": "ae7453d1-6f05-4942-8aa0-83dd63b33b2f",
   "metadata": {},
   "source": [
    "## Selección condicional"
   ]
  },
  {
   "cell_type": "code",
   "execution_count": 99,
   "id": "054b996b-3d64-4b8b-895b-4f262d48d86c",
   "metadata": {},
   "outputs": [
    {
     "data": {
      "text/html": [
       "<div>\n",
       "<style scoped>\n",
       "    .dataframe tbody tr th:only-of-type {\n",
       "        vertical-align: middle;\n",
       "    }\n",
       "\n",
       "    .dataframe tbody tr th {\n",
       "        vertical-align: top;\n",
       "    }\n",
       "\n",
       "    .dataframe thead th {\n",
       "        text-align: right;\n",
       "    }\n",
       "</style>\n",
       "<table border=\"1\" class=\"dataframe\">\n",
       "  <thead>\n",
       "    <tr style=\"text-align: right;\">\n",
       "      <th></th>\n",
       "      <th>W</th>\n",
       "      <th>X</th>\n",
       "      <th>Y</th>\n",
       "      <th>Z</th>\n",
       "    </tr>\n",
       "  </thead>\n",
       "  <tbody>\n",
       "    <tr>\n",
       "      <th>A</th>\n",
       "      <td>-5</td>\n",
       "      <td>-3</td>\n",
       "      <td>-2</td>\n",
       "      <td>-5</td>\n",
       "    </tr>\n",
       "    <tr>\n",
       "      <th>B</th>\n",
       "      <td>-8</td>\n",
       "      <td>-5</td>\n",
       "      <td>-5</td>\n",
       "      <td>-4</td>\n",
       "    </tr>\n",
       "    <tr>\n",
       "      <th>C</th>\n",
       "      <td>6</td>\n",
       "      <td>5</td>\n",
       "      <td>1</td>\n",
       "      <td>9</td>\n",
       "    </tr>\n",
       "    <tr>\n",
       "      <th>D</th>\n",
       "      <td>4</td>\n",
       "      <td>-2</td>\n",
       "      <td>-5</td>\n",
       "      <td>7</td>\n",
       "    </tr>\n",
       "  </tbody>\n",
       "</table>\n",
       "</div>"
      ],
      "text/plain": [
       "   W  X  Y  Z\n",
       "A -5 -3 -2 -5\n",
       "B -8 -5 -5 -4\n",
       "C  6  5  1  9\n",
       "D  4 -2 -5  7"
      ]
     },
     "execution_count": 99,
     "metadata": {},
     "output_type": "execute_result"
    }
   ],
   "source": [
    "df"
   ]
  },
  {
   "cell_type": "code",
   "execution_count": 103,
   "id": "456b459d-918f-4d5d-a19e-2cf2b01ab0ad",
   "metadata": {},
   "outputs": [
    {
     "data": {
      "text/html": [
       "<div>\n",
       "<style scoped>\n",
       "    .dataframe tbody tr th:only-of-type {\n",
       "        vertical-align: middle;\n",
       "    }\n",
       "\n",
       "    .dataframe tbody tr th {\n",
       "        vertical-align: top;\n",
       "    }\n",
       "\n",
       "    .dataframe thead th {\n",
       "        text-align: right;\n",
       "    }\n",
       "</style>\n",
       "<table border=\"1\" class=\"dataframe\">\n",
       "  <thead>\n",
       "    <tr style=\"text-align: right;\">\n",
       "      <th></th>\n",
       "      <th>W</th>\n",
       "      <th>X</th>\n",
       "      <th>Y</th>\n",
       "      <th>Z</th>\n",
       "    </tr>\n",
       "  </thead>\n",
       "  <tbody>\n",
       "    <tr>\n",
       "      <th>A</th>\n",
       "      <td>False</td>\n",
       "      <td>False</td>\n",
       "      <td>False</td>\n",
       "      <td>False</td>\n",
       "    </tr>\n",
       "    <tr>\n",
       "      <th>B</th>\n",
       "      <td>False</td>\n",
       "      <td>False</td>\n",
       "      <td>False</td>\n",
       "      <td>False</td>\n",
       "    </tr>\n",
       "    <tr>\n",
       "      <th>C</th>\n",
       "      <td>True</td>\n",
       "      <td>True</td>\n",
       "      <td>True</td>\n",
       "      <td>True</td>\n",
       "    </tr>\n",
       "    <tr>\n",
       "      <th>D</th>\n",
       "      <td>True</td>\n",
       "      <td>False</td>\n",
       "      <td>False</td>\n",
       "      <td>True</td>\n",
       "    </tr>\n",
       "  </tbody>\n",
       "</table>\n",
       "</div>"
      ],
      "text/plain": [
       "       W      X      Y      Z\n",
       "A  False  False  False  False\n",
       "B  False  False  False  False\n",
       "C   True   True   True   True\n",
       "D   True  False  False   True"
      ]
     },
     "execution_count": 103,
     "metadata": {},
     "output_type": "execute_result"
    }
   ],
   "source": [
    "df > 0 # devuelve true o false en función de condición"
   ]
  },
  {
   "cell_type": "code",
   "execution_count": 109,
   "id": "c4b74acb-6f6b-47d7-b9d8-ab663a5ffa47",
   "metadata": {},
   "outputs": [
    {
     "data": {
      "text/html": [
       "<div>\n",
       "<style scoped>\n",
       "    .dataframe tbody tr th:only-of-type {\n",
       "        vertical-align: middle;\n",
       "    }\n",
       "\n",
       "    .dataframe tbody tr th {\n",
       "        vertical-align: top;\n",
       "    }\n",
       "\n",
       "    .dataframe thead th {\n",
       "        text-align: right;\n",
       "    }\n",
       "</style>\n",
       "<table border=\"1\" class=\"dataframe\">\n",
       "  <thead>\n",
       "    <tr style=\"text-align: right;\">\n",
       "      <th></th>\n",
       "      <th>W</th>\n",
       "      <th>X</th>\n",
       "      <th>Y</th>\n",
       "      <th>Z</th>\n",
       "    </tr>\n",
       "  </thead>\n",
       "  <tbody>\n",
       "    <tr>\n",
       "      <th>A</th>\n",
       "      <td>NaN</td>\n",
       "      <td>NaN</td>\n",
       "      <td>NaN</td>\n",
       "      <td>NaN</td>\n",
       "    </tr>\n",
       "    <tr>\n",
       "      <th>B</th>\n",
       "      <td>NaN</td>\n",
       "      <td>NaN</td>\n",
       "      <td>NaN</td>\n",
       "      <td>NaN</td>\n",
       "    </tr>\n",
       "    <tr>\n",
       "      <th>C</th>\n",
       "      <td>6.0</td>\n",
       "      <td>5.0</td>\n",
       "      <td>1.0</td>\n",
       "      <td>9.0</td>\n",
       "    </tr>\n",
       "    <tr>\n",
       "      <th>D</th>\n",
       "      <td>4.0</td>\n",
       "      <td>NaN</td>\n",
       "      <td>NaN</td>\n",
       "      <td>7.0</td>\n",
       "    </tr>\n",
       "  </tbody>\n",
       "</table>\n",
       "</div>"
      ],
      "text/plain": [
       "     W    X    Y    Z\n",
       "A  NaN  NaN  NaN  NaN\n",
       "B  NaN  NaN  NaN  NaN\n",
       "C  6.0  5.0  1.0  9.0\n",
       "D  4.0  NaN  NaN  7.0"
      ]
     },
     "execution_count": 109,
     "metadata": {},
     "output_type": "execute_result"
    }
   ],
   "source": [
    "# devuelve los valores de los registros si cumplen una condición\n",
    "df[df>0] # devuelve nulo los que no cumple"
   ]
  },
  {
   "cell_type": "code",
   "execution_count": 111,
   "id": "1016f37d-694e-4fd1-ba9c-9f4d9dea9250",
   "metadata": {},
   "outputs": [
    {
     "data": {
      "text/html": [
       "<div>\n",
       "<style scoped>\n",
       "    .dataframe tbody tr th:only-of-type {\n",
       "        vertical-align: middle;\n",
       "    }\n",
       "\n",
       "    .dataframe tbody tr th {\n",
       "        vertical-align: top;\n",
       "    }\n",
       "\n",
       "    .dataframe thead th {\n",
       "        text-align: right;\n",
       "    }\n",
       "</style>\n",
       "<table border=\"1\" class=\"dataframe\">\n",
       "  <thead>\n",
       "    <tr style=\"text-align: right;\">\n",
       "      <th></th>\n",
       "      <th>W</th>\n",
       "      <th>X</th>\n",
       "      <th>Y</th>\n",
       "      <th>Z</th>\n",
       "    </tr>\n",
       "  </thead>\n",
       "  <tbody>\n",
       "    <tr>\n",
       "      <th>C</th>\n",
       "      <td>6</td>\n",
       "      <td>5</td>\n",
       "      <td>1</td>\n",
       "      <td>9</td>\n",
       "    </tr>\n",
       "  </tbody>\n",
       "</table>\n",
       "</div>"
      ],
      "text/plain": [
       "   W  X  Y  Z\n",
       "C  6  5  1  9"
      ]
     },
     "execution_count": 111,
     "metadata": {},
     "output_type": "execute_result"
    }
   ],
   "source": [
    "# valor de los registros cuando X > 0\n",
    "df[df['X'] > 0]"
   ]
  },
  {
   "cell_type": "code",
   "execution_count": 115,
   "id": "c3d5e351-e23e-43d4-9036-ef55eb4b0c80",
   "metadata": {},
   "outputs": [
    {
     "data": {
      "text/html": [
       "<div>\n",
       "<style scoped>\n",
       "    .dataframe tbody tr th:only-of-type {\n",
       "        vertical-align: middle;\n",
       "    }\n",
       "\n",
       "    .dataframe tbody tr th {\n",
       "        vertical-align: top;\n",
       "    }\n",
       "\n",
       "    .dataframe thead th {\n",
       "        text-align: right;\n",
       "    }\n",
       "</style>\n",
       "<table border=\"1\" class=\"dataframe\">\n",
       "  <thead>\n",
       "    <tr style=\"text-align: right;\">\n",
       "      <th></th>\n",
       "      <th>Y</th>\n",
       "      <th>Z</th>\n",
       "    </tr>\n",
       "  </thead>\n",
       "  <tbody>\n",
       "    <tr>\n",
       "      <th>C</th>\n",
       "      <td>1</td>\n",
       "      <td>9</td>\n",
       "    </tr>\n",
       "  </tbody>\n",
       "</table>\n",
       "</div>"
      ],
      "text/plain": [
       "   Y  Z\n",
       "C  1  9"
      ]
     },
     "execution_count": 115,
     "metadata": {},
     "output_type": "execute_result"
    }
   ],
   "source": [
    "# ahora sólo los valores de la columna Y y Z\n",
    "df[df['X'] > 0][['Y', 'Z']] # se puede añadir condicionales con operador or o and"
   ]
  },
  {
   "cell_type": "markdown",
   "id": "e813de91-6371-4aea-a47b-2a99d611fee8",
   "metadata": {},
   "source": [
    "## Modificar los índices"
   ]
  },
  {
   "cell_type": "code",
   "execution_count": 119,
   "id": "4aa2d9f5-502b-41cb-90ab-84ec055af8e0",
   "metadata": {},
   "outputs": [],
   "source": [
    "# creamos un nuevo dataframe\n",
    "array = np.random.uniform(-10, 10, size= [4,4])\n",
    "df = pd.DataFrame(array, index= ['A', 'B', 'C', 'D'], columns= ['W', 'X', 'Y', 'Z'])"
   ]
  },
  {
   "cell_type": "code",
   "execution_count": 121,
   "id": "dd659390-497f-45ec-ad49-09d17cb8e595",
   "metadata": {},
   "outputs": [
    {
     "data": {
      "text/html": [
       "<div>\n",
       "<style scoped>\n",
       "    .dataframe tbody tr th:only-of-type {\n",
       "        vertical-align: middle;\n",
       "    }\n",
       "\n",
       "    .dataframe tbody tr th {\n",
       "        vertical-align: top;\n",
       "    }\n",
       "\n",
       "    .dataframe thead th {\n",
       "        text-align: right;\n",
       "    }\n",
       "</style>\n",
       "<table border=\"1\" class=\"dataframe\">\n",
       "  <thead>\n",
       "    <tr style=\"text-align: right;\">\n",
       "      <th></th>\n",
       "      <th>W</th>\n",
       "      <th>X</th>\n",
       "      <th>Y</th>\n",
       "      <th>Z</th>\n",
       "    </tr>\n",
       "  </thead>\n",
       "  <tbody>\n",
       "    <tr>\n",
       "      <th>A</th>\n",
       "      <td>-7.212774</td>\n",
       "      <td>7.313248</td>\n",
       "      <td>-5.131160</td>\n",
       "      <td>2.890111</td>\n",
       "    </tr>\n",
       "    <tr>\n",
       "      <th>B</th>\n",
       "      <td>0.102957</td>\n",
       "      <td>0.159991</td>\n",
       "      <td>5.026325</td>\n",
       "      <td>-2.023941</td>\n",
       "    </tr>\n",
       "    <tr>\n",
       "      <th>C</th>\n",
       "      <td>3.477626</td>\n",
       "      <td>-9.850022</td>\n",
       "      <td>8.415997</td>\n",
       "      <td>-6.502085</td>\n",
       "    </tr>\n",
       "    <tr>\n",
       "      <th>D</th>\n",
       "      <td>8.793928</td>\n",
       "      <td>-1.107442</td>\n",
       "      <td>3.746837</td>\n",
       "      <td>-4.322999</td>\n",
       "    </tr>\n",
       "  </tbody>\n",
       "</table>\n",
       "</div>"
      ],
      "text/plain": [
       "          W         X         Y         Z\n",
       "A -7.212774  7.313248 -5.131160  2.890111\n",
       "B  0.102957  0.159991  5.026325 -2.023941\n",
       "C  3.477626 -9.850022  8.415997 -6.502085\n",
       "D  8.793928 -1.107442  3.746837 -4.322999"
      ]
     },
     "execution_count": 121,
     "metadata": {},
     "output_type": "execute_result"
    }
   ],
   "source": [
    "df"
   ]
  },
  {
   "cell_type": "code",
   "execution_count": 151,
   "id": "93823d13-a9da-453f-be94-43062a97d92b",
   "metadata": {},
   "outputs": [
    {
     "data": {
      "text/html": [
       "<div>\n",
       "<style scoped>\n",
       "    .dataframe tbody tr th:only-of-type {\n",
       "        vertical-align: middle;\n",
       "    }\n",
       "\n",
       "    .dataframe tbody tr th {\n",
       "        vertical-align: top;\n",
       "    }\n",
       "\n",
       "    .dataframe thead th {\n",
       "        text-align: right;\n",
       "    }\n",
       "</style>\n",
       "<table border=\"1\" class=\"dataframe\">\n",
       "  <thead>\n",
       "    <tr style=\"text-align: right;\">\n",
       "      <th></th>\n",
       "      <th>W</th>\n",
       "      <th>X</th>\n",
       "      <th>Y</th>\n",
       "      <th>Z</th>\n",
       "      <th>CODIGOS</th>\n",
       "    </tr>\n",
       "    <tr>\n",
       "      <th>CODIGOS</th>\n",
       "      <th></th>\n",
       "      <th></th>\n",
       "      <th></th>\n",
       "      <th></th>\n",
       "      <th></th>\n",
       "    </tr>\n",
       "  </thead>\n",
       "  <tbody>\n",
       "    <tr>\n",
       "      <th>AA</th>\n",
       "      <td>-7.212774</td>\n",
       "      <td>7.313248</td>\n",
       "      <td>-5.131160</td>\n",
       "      <td>2.890111</td>\n",
       "      <td>AA</td>\n",
       "    </tr>\n",
       "    <tr>\n",
       "      <th>BB</th>\n",
       "      <td>0.102957</td>\n",
       "      <td>0.159991</td>\n",
       "      <td>5.026325</td>\n",
       "      <td>-2.023941</td>\n",
       "      <td>BB</td>\n",
       "    </tr>\n",
       "    <tr>\n",
       "      <th>CC</th>\n",
       "      <td>3.477626</td>\n",
       "      <td>-9.850022</td>\n",
       "      <td>8.415997</td>\n",
       "      <td>-6.502085</td>\n",
       "      <td>CC</td>\n",
       "    </tr>\n",
       "    <tr>\n",
       "      <th>DD</th>\n",
       "      <td>8.793928</td>\n",
       "      <td>-1.107442</td>\n",
       "      <td>3.746837</td>\n",
       "      <td>-4.322999</td>\n",
       "      <td>DD</td>\n",
       "    </tr>\n",
       "  </tbody>\n",
       "</table>\n",
       "</div>"
      ],
      "text/plain": [
       "                W         X         Y         Z CODIGOS\n",
       "CODIGOS                                                \n",
       "AA      -7.212774  7.313248 -5.131160  2.890111      AA\n",
       "BB       0.102957  0.159991  5.026325 -2.023941      BB\n",
       "CC       3.477626 -9.850022  8.415997 -6.502085      CC\n",
       "DD       8.793928 -1.107442  3.746837 -4.322999      DD"
      ]
     },
     "execution_count": 151,
     "metadata": {},
     "output_type": "execute_result"
    }
   ],
   "source": [
    "# añadimos una nueva serie o columna\n",
    "df['CODIGOS'] = ['AA', 'BB', 'CC', 'DD']\n",
    "df"
   ]
  },
  {
   "cell_type": "code",
   "execution_count": 153,
   "id": "9ae7894d-4c14-41b0-a464-27db320ebac8",
   "metadata": {},
   "outputs": [
    {
     "data": {
      "text/html": [
       "<div>\n",
       "<style scoped>\n",
       "    .dataframe tbody tr th:only-of-type {\n",
       "        vertical-align: middle;\n",
       "    }\n",
       "\n",
       "    .dataframe tbody tr th {\n",
       "        vertical-align: top;\n",
       "    }\n",
       "\n",
       "    .dataframe thead th {\n",
       "        text-align: right;\n",
       "    }\n",
       "</style>\n",
       "<table border=\"1\" class=\"dataframe\">\n",
       "  <thead>\n",
       "    <tr style=\"text-align: right;\">\n",
       "      <th></th>\n",
       "      <th>W</th>\n",
       "      <th>X</th>\n",
       "      <th>Y</th>\n",
       "      <th>Z</th>\n",
       "    </tr>\n",
       "    <tr>\n",
       "      <th>CODIGOS</th>\n",
       "      <th></th>\n",
       "      <th></th>\n",
       "      <th></th>\n",
       "      <th></th>\n",
       "    </tr>\n",
       "  </thead>\n",
       "  <tbody>\n",
       "    <tr>\n",
       "      <th>AA</th>\n",
       "      <td>-7.212774</td>\n",
       "      <td>7.313248</td>\n",
       "      <td>-5.131160</td>\n",
       "      <td>2.890111</td>\n",
       "    </tr>\n",
       "    <tr>\n",
       "      <th>BB</th>\n",
       "      <td>0.102957</td>\n",
       "      <td>0.159991</td>\n",
       "      <td>5.026325</td>\n",
       "      <td>-2.023941</td>\n",
       "    </tr>\n",
       "    <tr>\n",
       "      <th>CC</th>\n",
       "      <td>3.477626</td>\n",
       "      <td>-9.850022</td>\n",
       "      <td>8.415997</td>\n",
       "      <td>-6.502085</td>\n",
       "    </tr>\n",
       "    <tr>\n",
       "      <th>DD</th>\n",
       "      <td>8.793928</td>\n",
       "      <td>-1.107442</td>\n",
       "      <td>3.746837</td>\n",
       "      <td>-4.322999</td>\n",
       "    </tr>\n",
       "  </tbody>\n",
       "</table>\n",
       "</div>"
      ],
      "text/plain": [
       "                W         X         Y         Z\n",
       "CODIGOS                                        \n",
       "AA      -7.212774  7.313248 -5.131160  2.890111\n",
       "BB       0.102957  0.159991  5.026325 -2.023941\n",
       "CC       3.477626 -9.850022  8.415997 -6.502085\n",
       "DD       8.793928 -1.107442  3.746837 -4.322999"
      ]
     },
     "execution_count": 153,
     "metadata": {},
     "output_type": "execute_result"
    }
   ],
   "source": [
    "#substituimos los índices de las filas\n",
    "df.set_index('CODIGOS')"
   ]
  },
  {
   "cell_type": "code",
   "execution_count": 155,
   "id": "ad375a80-b2b9-4560-8188-0134eeb42950",
   "metadata": {},
   "outputs": [
    {
     "data": {
      "text/html": [
       "<div>\n",
       "<style scoped>\n",
       "    .dataframe tbody tr th:only-of-type {\n",
       "        vertical-align: middle;\n",
       "    }\n",
       "\n",
       "    .dataframe tbody tr th {\n",
       "        vertical-align: top;\n",
       "    }\n",
       "\n",
       "    .dataframe thead th {\n",
       "        text-align: right;\n",
       "    }\n",
       "</style>\n",
       "<table border=\"1\" class=\"dataframe\">\n",
       "  <thead>\n",
       "    <tr style=\"text-align: right;\">\n",
       "      <th></th>\n",
       "      <th>W</th>\n",
       "      <th>X</th>\n",
       "      <th>Y</th>\n",
       "      <th>Z</th>\n",
       "      <th>CODIGOS</th>\n",
       "    </tr>\n",
       "    <tr>\n",
       "      <th>CODIGOS</th>\n",
       "      <th></th>\n",
       "      <th></th>\n",
       "      <th></th>\n",
       "      <th></th>\n",
       "      <th></th>\n",
       "    </tr>\n",
       "  </thead>\n",
       "  <tbody>\n",
       "    <tr>\n",
       "      <th>AA</th>\n",
       "      <td>-7.212774</td>\n",
       "      <td>7.313248</td>\n",
       "      <td>-5.131160</td>\n",
       "      <td>2.890111</td>\n",
       "      <td>AA</td>\n",
       "    </tr>\n",
       "    <tr>\n",
       "      <th>BB</th>\n",
       "      <td>0.102957</td>\n",
       "      <td>0.159991</td>\n",
       "      <td>5.026325</td>\n",
       "      <td>-2.023941</td>\n",
       "      <td>BB</td>\n",
       "    </tr>\n",
       "    <tr>\n",
       "      <th>CC</th>\n",
       "      <td>3.477626</td>\n",
       "      <td>-9.850022</td>\n",
       "      <td>8.415997</td>\n",
       "      <td>-6.502085</td>\n",
       "      <td>CC</td>\n",
       "    </tr>\n",
       "    <tr>\n",
       "      <th>DD</th>\n",
       "      <td>8.793928</td>\n",
       "      <td>-1.107442</td>\n",
       "      <td>3.746837</td>\n",
       "      <td>-4.322999</td>\n",
       "      <td>DD</td>\n",
       "    </tr>\n",
       "  </tbody>\n",
       "</table>\n",
       "</div>"
      ],
      "text/plain": [
       "                W         X         Y         Z CODIGOS\n",
       "CODIGOS                                                \n",
       "AA      -7.212774  7.313248 -5.131160  2.890111      AA\n",
       "BB       0.102957  0.159991  5.026325 -2.023941      BB\n",
       "CC       3.477626 -9.850022  8.415997 -6.502085      CC\n",
       "DD       8.793928 -1.107442  3.746837 -4.322999      DD"
      ]
     },
     "execution_count": 155,
     "metadata": {},
     "output_type": "execute_result"
    }
   ],
   "source": [
    "df"
   ]
  },
  {
   "cell_type": "code",
   "execution_count": 157,
   "id": "cb82ac07-0c27-409d-bf0a-57d3bb32cf3e",
   "metadata": {},
   "outputs": [
    {
     "data": {
      "text/html": [
       "<div>\n",
       "<style scoped>\n",
       "    .dataframe tbody tr th:only-of-type {\n",
       "        vertical-align: middle;\n",
       "    }\n",
       "\n",
       "    .dataframe tbody tr th {\n",
       "        vertical-align: top;\n",
       "    }\n",
       "\n",
       "    .dataframe thead th {\n",
       "        text-align: right;\n",
       "    }\n",
       "</style>\n",
       "<table border=\"1\" class=\"dataframe\">\n",
       "  <thead>\n",
       "    <tr style=\"text-align: right;\">\n",
       "      <th></th>\n",
       "      <th>W</th>\n",
       "      <th>X</th>\n",
       "      <th>Y</th>\n",
       "      <th>Z</th>\n",
       "    </tr>\n",
       "    <tr>\n",
       "      <th>CODIGOS</th>\n",
       "      <th></th>\n",
       "      <th></th>\n",
       "      <th></th>\n",
       "      <th></th>\n",
       "    </tr>\n",
       "  </thead>\n",
       "  <tbody>\n",
       "    <tr>\n",
       "      <th>AA</th>\n",
       "      <td>-7.212774</td>\n",
       "      <td>7.313248</td>\n",
       "      <td>-5.131160</td>\n",
       "      <td>2.890111</td>\n",
       "    </tr>\n",
       "    <tr>\n",
       "      <th>BB</th>\n",
       "      <td>0.102957</td>\n",
       "      <td>0.159991</td>\n",
       "      <td>5.026325</td>\n",
       "      <td>-2.023941</td>\n",
       "    </tr>\n",
       "    <tr>\n",
       "      <th>CC</th>\n",
       "      <td>3.477626</td>\n",
       "      <td>-9.850022</td>\n",
       "      <td>8.415997</td>\n",
       "      <td>-6.502085</td>\n",
       "    </tr>\n",
       "    <tr>\n",
       "      <th>DD</th>\n",
       "      <td>8.793928</td>\n",
       "      <td>-1.107442</td>\n",
       "      <td>3.746837</td>\n",
       "      <td>-4.322999</td>\n",
       "    </tr>\n",
       "  </tbody>\n",
       "</table>\n",
       "</div>"
      ],
      "text/plain": [
       "                W         X         Y         Z\n",
       "CODIGOS                                        \n",
       "AA      -7.212774  7.313248 -5.131160  2.890111\n",
       "BB       0.102957  0.159991  5.026325 -2.023941\n",
       "CC       3.477626 -9.850022  8.415997 -6.502085\n",
       "DD       8.793928 -1.107442  3.746837 -4.322999"
      ]
     },
     "execution_count": 157,
     "metadata": {},
     "output_type": "execute_result"
    }
   ],
   "source": [
    "df.set_index('CODIGOS', inplace = True) # para que quede definitivo usamos el inplace\n",
    "df"
   ]
  },
  {
   "cell_type": "code",
   "execution_count": 159,
   "id": "59f3a012-18d1-41b1-b5ee-20d5556ab140",
   "metadata": {},
   "outputs": [
    {
     "data": {
      "text/plain": [
       "W   -7.212774\n",
       "X    7.313248\n",
       "Y   -5.131160\n",
       "Z    2.890111\n",
       "Name: AA, dtype: float64"
      ]
     },
     "execution_count": 159,
     "metadata": {},
     "output_type": "execute_result"
    }
   ],
   "source": [
    "# hacemos una consulta con el nuevo índice\n",
    "df.loc['AA']"
   ]
  },
  {
   "cell_type": "markdown",
   "id": "112ff337-b0c5-4cd4-ae2f-cbe4659eec0c",
   "metadata": {},
   "source": [
    "## Reset de índices (índices por defecto)"
   ]
  },
  {
   "cell_type": "code",
   "execution_count": 161,
   "id": "0d3e1806-f696-465b-bf69-b3c41a4a63b8",
   "metadata": {},
   "outputs": [
    {
     "data": {
      "text/html": [
       "<div>\n",
       "<style scoped>\n",
       "    .dataframe tbody tr th:only-of-type {\n",
       "        vertical-align: middle;\n",
       "    }\n",
       "\n",
       "    .dataframe tbody tr th {\n",
       "        vertical-align: top;\n",
       "    }\n",
       "\n",
       "    .dataframe thead th {\n",
       "        text-align: right;\n",
       "    }\n",
       "</style>\n",
       "<table border=\"1\" class=\"dataframe\">\n",
       "  <thead>\n",
       "    <tr style=\"text-align: right;\">\n",
       "      <th></th>\n",
       "      <th>W</th>\n",
       "      <th>X</th>\n",
       "      <th>Y</th>\n",
       "      <th>Z</th>\n",
       "    </tr>\n",
       "  </thead>\n",
       "  <tbody>\n",
       "    <tr>\n",
       "      <th>0</th>\n",
       "      <td>-7.212774</td>\n",
       "      <td>7.313248</td>\n",
       "      <td>-5.131160</td>\n",
       "      <td>2.890111</td>\n",
       "    </tr>\n",
       "    <tr>\n",
       "      <th>1</th>\n",
       "      <td>0.102957</td>\n",
       "      <td>0.159991</td>\n",
       "      <td>5.026325</td>\n",
       "      <td>-2.023941</td>\n",
       "    </tr>\n",
       "    <tr>\n",
       "      <th>2</th>\n",
       "      <td>3.477626</td>\n",
       "      <td>-9.850022</td>\n",
       "      <td>8.415997</td>\n",
       "      <td>-6.502085</td>\n",
       "    </tr>\n",
       "    <tr>\n",
       "      <th>3</th>\n",
       "      <td>8.793928</td>\n",
       "      <td>-1.107442</td>\n",
       "      <td>3.746837</td>\n",
       "      <td>-4.322999</td>\n",
       "    </tr>\n",
       "  </tbody>\n",
       "</table>\n",
       "</div>"
      ],
      "text/plain": [
       "          W         X         Y         Z\n",
       "0 -7.212774  7.313248 -5.131160  2.890111\n",
       "1  0.102957  0.159991  5.026325 -2.023941\n",
       "2  3.477626 -9.850022  8.415997 -6.502085\n",
       "3  8.793928 -1.107442  3.746837 -4.322999"
      ]
     },
     "execution_count": 161,
     "metadata": {},
     "output_type": "execute_result"
    }
   ],
   "source": [
    "df.reset_index(drop= True, inplace= True)\n",
    "df"
   ]
  }
 ],
 "metadata": {
  "kernelspec": {
   "display_name": "Python 3 (ipykernel)",
   "language": "python",
   "name": "python3"
  },
  "language_info": {
   "codemirror_mode": {
    "name": "ipython",
    "version": 3
   },
   "file_extension": ".py",
   "mimetype": "text/x-python",
   "name": "python",
   "nbconvert_exporter": "python",
   "pygments_lexer": "ipython3",
   "version": "3.12.4"
  }
 },
 "nbformat": 4,
 "nbformat_minor": 5
}
