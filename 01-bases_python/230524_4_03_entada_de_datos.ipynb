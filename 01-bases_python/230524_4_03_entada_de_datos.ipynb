{
 "cells": [
  {
   "cell_type": "markdown",
   "metadata": {},
   "source": [
    "# Leyendo valores por teclado"
   ]
  },
  {
   "cell_type": "markdown",
   "metadata": {},
   "source": [
    "Las entradas de datos se pueden conseguir con la instrucción *input()* que lee y devuelve una cadena o *string* ***************************"
   ]
  },
  {
   "cell_type": "code",
   "execution_count": 3,
   "metadata": {},
   "outputs": [
    {
     "name": "stdout",
     "output_type": "stream",
     "text": [
      "manu\n"
     ]
    }
   ],
   "source": [
    "# Entrada asignada a la variable valor\n",
    "valor = input()\n",
    "print(valor)"
   ]
  },
  {
   "cell_type": "code",
   "execution_count": 4,
   "metadata": {},
   "outputs": [
    {
     "name": "stdout",
     "output_type": "stream",
     "text": [
      "<class 'str'>\n"
     ]
    }
   ],
   "source": [
    "# Hacemos la entrada numérica\n",
    "valor = input()\n",
    "print(type(valor))"
   ]
  },
  {
   "cell_type": "code",
   "execution_count": 5,
   "metadata": {},
   "outputs": [
    {
     "data": {
      "text/plain": [
       "'manu'"
      ]
     },
     "execution_count": 5,
     "metadata": {},
     "output_type": "execute_result"
    }
   ],
   "source": [
    "valor # aquí lo muestra entre comillas"
   ]
  },
  {
   "cell_type": "code",
   "execution_count": 6,
   "metadata": {},
   "outputs": [
    {
     "ename": "TypeError",
     "evalue": "can only concatenate str (not \"int\") to str",
     "output_type": "error",
     "traceback": [
      "\u001b[1;31m---------------------------------------------------------------------------\u001b[0m",
      "\u001b[1;31mTypeError\u001b[0m                                 Traceback (most recent call last)",
      "Cell \u001b[1;32mIn[6], line 2\u001b[0m\n\u001b[0;32m      1\u001b[0m \u001b[38;5;66;03m#Sumamos a la cadena un valor numérico\u001b[39;00m\n\u001b[1;32m----> 2\u001b[0m resultado \u001b[38;5;241m=\u001b[39m \u001b[43mvalor\u001b[49m\u001b[43m \u001b[49m\u001b[38;5;241;43m+\u001b[39;49m\u001b[38;5;241;43m100\u001b[39;49m\n\u001b[0;32m      3\u001b[0m resultado\n",
      "\u001b[1;31mTypeError\u001b[0m: can only concatenate str (not \"int\") to str"
     ]
    }
   ],
   "source": [
    "#Sumamos a la cadena un valor numérico, sale error\n",
    "resultado = valor +100\n",
    "resultado"
   ]
  },
  {
   "cell_type": "markdown",
   "metadata": {},
   "source": [
    "Para hacer un cambio de tipo (*casting*) podemos hacer uso de la función int() o float()\n"
   ]
  },
  {
   "cell_type": "code",
   "execution_count": null,
   "metadata": {},
   "outputs": [],
   "source": [
    "valor= input('introduce un número entero:')\n",
    "print(type(valor))"
   ]
  },
  {
   "cell_type": "code",
   "execution_count": 1,
   "metadata": {},
   "outputs": [
    {
     "ename": "NameError",
     "evalue": "name 'valor' is not defined",
     "output_type": "error",
     "traceback": [
      "\u001b[1;31m---------------------------------------------------------------------------\u001b[0m",
      "\u001b[1;31mNameError\u001b[0m                                 Traceback (most recent call last)",
      "Cell \u001b[1;32mIn[1], line 1\u001b[0m\n\u001b[1;32m----> 1\u001b[0m valor \u001b[38;5;241m=\u001b[39m \u001b[38;5;28mint\u001b[39m(\u001b[43mvalor\u001b[49m)\n\u001b[0;32m      2\u001b[0m \u001b[38;5;28mprint\u001b[39m(\u001b[38;5;28mtype\u001b[39m(valor))\n",
      "\u001b[1;31mNameError\u001b[0m: name 'valor' is not defined"
     ]
    }
   ],
   "source": [
    "valor = int(valor)\n",
    "print(type(valor))"
   ]
  },
  {
   "cell_type": "code",
   "execution_count": null,
   "metadata": {},
   "outputs": [],
   "source": [
    "#cambio a tipo decimal o flotante\n",
    "\n",
    "decimal = input('Introduce un número decimal:')\n",
    "decimal = float(decimal)\n",
    "print(type(decimal))"
   ]
  },
  {
   "cell_type": "code",
   "execution_count": 7,
   "metadata": {},
   "outputs": [
    {
     "name": "stdout",
     "output_type": "stream",
     "text": [
      "<class 'int'>\n",
      "13\n"
     ]
    }
   ],
   "source": [
    "# Código simplificado (esta es la más correcta de hacer) Para string o cadena es str, int para entero y float para decimal\n",
    "entradaNumerica = int(input('Introduzca entrada numérica:'))\n",
    "print(type(entradaNumerica))\n",
    "print(entradaNumerica)\n"
   ]
  },
  {
   "cell_type": "markdown",
   "metadata": {},
   "source": [
    "# Ejercicios:"
   ]
  },
  {
   "cell_type": "markdown",
   "metadata": {},
   "source": [
    "1. Escribir un programa que pregunte el nombre del usuario en la consola y un número entero e imprima por pantalla en líneas distintas el nombre del usuario tantas veces como el número introducido."
   ]
  },
  {
   "cell_type": "code",
   "execution_count": 5,
   "metadata": {},
   "outputs": [
    {
     "name": "stdout",
     "output_type": "stream",
     "text": [
      "Dame el nombre de usuario y un número entero\n",
      "Domingo\n",
      "Domingo\n",
      "Domingo\n",
      "\n"
     ]
    }
   ],
   "source": [
    "print('Dame el nombre de usuario y un número entero')\n",
    "usuario = str(input())\n",
    "numeroEntero = int(input())\n",
    "\n",
    "print((usuario + '\\n') * numeroEntero)"
   ]
  },
  {
   "cell_type": "code",
   "execution_count": 7,
   "metadata": {},
   "outputs": [
    {
     "name": "stdout",
     "output_type": "stream",
     "text": [
      "Dom\n",
      "Dom\n",
      "Dom\n",
      "\n"
     ]
    }
   ],
   "source": [
    "#profe\n",
    "#Entrada de datos\n",
    "nombreUsuario =input('Escriba su nombre, por favor')\n",
    "repeticiones = int(input('Escribe el número de veces que se repite'))\n",
    "\n",
    "#Salida de datos\n",
    "print((nombreUsuario + '\\n') * repeticiones) # Con '/n' te salta de línea"
   ]
  },
  {
   "cell_type": "markdown",
   "metadata": {},
   "source": [
    "Si tienes que leer la dirección del archivo, para no tener en cuenta el \\ y te lo lea literal, usas el raw -> r'\\n'"
   ]
  },
  {
   "cell_type": "markdown",
   "metadata": {},
   "source": [
    "2. Escribir un programa que pregunte el nombre completo del usuario en la consola y después muestre por pantalla el nombre completo del usuario tres veces, una con todas la letras minúsculas, otra con todas las letras mayúsculas y otra solo con la primera letra del nombre y de los apellidos en mayúscula. El usuario puede introducir su nombre combinanod mayúsculas y minúsculas como quiera."
   ]
  },
  {
   "cell_type": "code",
   "execution_count": 11,
   "metadata": {},
   "outputs": [
    {
     "name": "stdout",
     "output_type": "stream",
     "text": [
      "domingo marchan\n",
      " DOMINGO MARCHAN\n",
      " Domingo Marchan\n",
      "\n"
     ]
    }
   ],
   "source": [
    "# lower, upper, capitalize, title\n",
    "#Entrada de datos\n",
    "nombreUsuario = str(input('Escriba su nombre y apellidas para que lo repita de tres formas distintas'))\n",
    "\n",
    "# Salida de datos\n",
    "print(nombreUsuario.lower() + '\\n' , nombreUsuario.upper() + '\\n' , nombreUsuario.title() + '\\n' )\n",
    "\n",
    "# O bien\n",
    "#print(nombreUsuario.lower()) y el resto debajo"
   ]
  },
  {
   "cell_type": "markdown",
   "metadata": {},
   "source": [
    "3. Escribe un programa que pregunte el nombre del usuario en la consola y después de que el usuario lo introduzca muestre por pantalla 'NOMBRE' tiene 'n' letras, donde 'NOMBRE' es el nombre del usuario en mayúsculas y 'n' es el número de letras que tienen el nombre"
   ]
  },
  {
   "cell_type": "code",
   "execution_count": 17,
   "metadata": {},
   "outputs": [
    {
     "name": "stdout",
     "output_type": "stream",
     "text": [
      "DOMINGO tiene 7 letras\n",
      "DOMINGO, tiene 7 letras.\n"
     ]
    }
   ],
   "source": [
    "#Entrada de datos\n",
    "nombreUsuario = str(input('Introduce tu nombre:')) # Profe: nombreUsuario = input('Introduzca su nombre, por favor')\n",
    "\n",
    "# Salida de datos\n",
    "print(nombreUsuario.upper() + ' tiene ' + str(len(nombreUsuario)) + ' letras')\n",
    "\n",
    "#Profe salidas\n",
    "\n",
    "print('{}, tiene {} letras.'.format (nombreUsuario.upper(), str(len(nombreUsuario))))"
   ]
  },
  {
   "cell_type": "markdown",
   "metadata": {},
   "source": [
    "4. Escribir un programa que pida al usuario que introduzca una frase en la consola y muestre por pantalla la frase invertida."
   ]
  },
  {
   "cell_type": "code",
   "execution_count": 3,
   "metadata": {},
   "outputs": [
    {
     "name": "stdout",
     "output_type": "stream",
     "text": [
      "odnum aloH\n"
     ]
    }
   ],
   "source": [
    "#Entrada de datos\n",
    "frase = input('Introduce una frase, que te la devuelvo invertida')\n",
    "\n",
    "fraseInvertida = frase[::-1] # [inico final paso], si no pones nada (que es poner :), te coge la posición\n",
    "\n",
    "# Salida de datos\n",
    "\n",
    "print(fraseInvertida)"
   ]
  },
  {
   "cell_type": "code",
   "execution_count": 2,
   "metadata": {},
   "outputs": [
    {
     "name": "stdout",
     "output_type": "stream",
     "text": [
      "odnum aloH\n"
     ]
    }
   ],
   "source": [
    "# Profe\n",
    "\n",
    "#Entrada de datos\n",
    "\n",
    "frase = input('Introduzca una frase a invertir:')\n",
    "\n",
    "# Salida de datos\n",
    "print(frase[::-1])\n"
   ]
  },
  {
   "cell_type": "code",
   "execution_count": 1,
   "metadata": {},
   "outputs": [
    {
     "name": "stdout",
     "output_type": "stream",
     "text": [
      "mundo Hola\n"
     ]
    }
   ],
   "source": [
    "#Otra solución que no invierta todo\n",
    "frase = input('Introduzca una frase a invertir:')\n",
    "listaFrase = frase.split(' ') # le estás asignando un espacio para separar palabras. split recorre la frase \n",
    "print(' '.join(listaFrase[::-1])) # con split conviertes una string en lista de datos y con join al revés(lista a string). *********, tienes que tener en cuenta el separador, en este caso el espacio."
   ]
  },
  {
   "cell_type": "markdown",
   "metadata": {},
   "source": [
    "5. Escribir un programa que pida al usuario que introduzca una frase en la consola y una vocal, y después muestre por pantalla la misma frase, pero con la vocal introducida en mayúscla.\n",
    "\n",
    "\n",
    "-Método .replace(datoACambiar, datoSustituto)\n",
    "\n"
   ]
  },
  {
   "cell_type": "code",
   "execution_count": 19,
   "metadata": {},
   "outputs": [
    {
     "name": "stdout",
     "output_type": "stream",
     "text": [
      "DOmingO\n"
     ]
    }
   ],
   "source": [
    "# Entrada de datos\n",
    "\n",
    "frase = input('Dame una frase')\n",
    "vocal = input('Dame una vocal a sustituir').lower() \n",
    "\n",
    "# el .lower para volvera minúscula, porque es lo mejor para trabajar en entradas\n",
    "\n",
    "# Proceso\n",
    "\n",
    "fraseCambiada = frase.replace(vocal, vocal.upper())\n",
    "\n",
    "print(fraseCambiada)"
   ]
  },
  {
   "cell_type": "markdown",
   "metadata": {},
   "source": [
    "6.Escribir un programa que le solicite al usuario el lado de un cuadrado, calcule su área y la imprima por consola."
   ]
  },
  {
   "cell_type": "code",
   "execution_count": 34,
   "metadata": {},
   "outputs": [
    {
     "name": "stdout",
     "output_type": "stream",
     "text": [
      "El área del cuadrado con lado 3 es 9\n"
     ]
    }
   ],
   "source": [
    "# Entrada de datos\n",
    "lado = float(input('Dame el lado de un cadrado para calcularte el área de este'))\n",
    "\n",
    "# Proceso\n",
    "\n",
    "area = lado * lado\n",
    "\n",
    "# Salida\n",
    "print('El área del cuadrado con lado ' + str(lado) + ' es ' + str(area))\n"
   ]
  },
  {
   "cell_type": "code",
   "execution_count": 38,
   "metadata": {},
   "outputs": [
    {
     "name": "stdout",
     "output_type": "stream",
     "text": [
      "El área del cuadrado de lado 3.0 cm, es 9.0 cm2\n",
      "El área del cuadrado de lado 3.0cm, es 9.0 cm2\n"
     ]
    }
   ],
   "source": [
    "# Profe\n",
    "\n",
    "#Entrada de datos\n",
    "\n",
    "lado = float(input('introduzca el valor del cuadrado en cm'))\n",
    "\n",
    "area = lado ** 2\n",
    "\n",
    "print('El área del cuadrado de lado {} cm, es {} cm2'.format(lado,area))\n",
    "print(f'El área del cuadrado de lado {lado}cm, es {area} cm2')"
   ]
  },
  {
   "cell_type": "markdown",
   "metadata": {},
   "source": [
    "7. Escribir un programa que almacene las asignaturas de un curso (por ejemplo: Matemáticas, Física, Química, Historia y Lengua) en una lista y la muestre por pantalla."
   ]
  },
  {
   "cell_type": "code",
   "execution_count": 63,
   "metadata": {},
   "outputs": [
    {
     "name": "stdout",
     "output_type": "stream",
     "text": [
      "Matemáticas\n",
      "Física\n",
      "Química\n",
      "Lengua\n",
      "Fin del programa\n"
     ]
    }
   ],
   "source": [
    "# Crear la lista\n",
    "asignaturas = 'Matemáticas,Física,Química,Lengua'\n",
    "asignaturas = asignaturas.split(',')\n",
    "\n",
    "#print(asignaturas)\n",
    "#Mostramos las asignaturas recorriendo la lista\n",
    "for asignatura in asignaturas:\n",
    "    print(asignatura)\n",
    "\n",
    "print('Fin del programa')"
   ]
  },
  {
   "cell_type": "markdown",
   "metadata": {},
   "source": [
    "8. Escribir un programa que alamacene las asignaturas de un curso (por ejemplo Matemáticas, Física, Química, Historia y Lengua) en una lista, pregunte al usuario la nota que ha sacado en cada asignatura, y después las muestre por pantalla con el mensaje \"En **asignatura** has sacado **nota** donde **asignatura** es cada una de las asignaturas de la lista y **nota** cada una de las correspondientes notas introducidas por el usuario."
   ]
  },
  {
   "cell_type": "code",
   "execution_count": 6,
   "metadata": {},
   "outputs": [
    {
     "name": "stdout",
     "output_type": "stream",
     "text": [
      "En Matemáticas, ha obtenido la puntuación 7.0\n",
      "En Física, ha obtenido la puntuación 8.0\n",
      "En Química, ha obtenido la puntuación 9.0\n",
      "En Historia, ha obtenido la puntuación 5.0\n",
      "En Lengua, ha obtenido la puntuación 6.0\n",
      "Fin del programa\n"
     ]
    }
   ],
   "source": [
    "#declaración de la lista para almacenar asignaturas \n",
    "asignaturas = 'Matemáticas,Física,Química,Historia,Lengua'\n",
    "asignaturas = asignaturas.split(',')\n",
    "\n",
    "#Declaración de una lista para almacenar notas\n",
    "notas = []\n",
    "\n",
    "#Iteración para ir introduciendo la nota a la asignatura\n",
    "for i in asignaturas:\n",
    "    nota = float(input('Dame la nota de la asignatura del alumno en {} '.format(i)))\n",
    "    notas.append(nota)\n",
    "\n",
    "# Salida del programa\n",
    "\n",
    "for i in range(len(notas)):\n",
    "    print('En {}, ha obtenido la puntuación {}'.format(asignaturas[i], notas[i]))\n",
    "    \n",
    "\n",
    "\n",
    "print('Fin del programa')\n",
    "\n",
    "\n",
    "\n"
   ]
  },
  {
   "cell_type": "markdown",
   "metadata": {},
   "source": [
    "9. Escribir un programa que pregunte al usuario los números ganadores de la lotería primitiva, los almacene un una lista y los muestre por pantalla ordenados de menor a mayor."
   ]
  },
  {
   "cell_type": "code",
   "execution_count": 16,
   "metadata": {},
   "outputs": [
    {
     "name": "stdout",
     "output_type": "stream",
     "text": [
      "El resultado de la lotería es [1, 4, 5, 6, 8, 9]\n",
      "Fin del programa\n"
     ]
    }
   ],
   "source": [
    "# Hacemos una lista, donde se guardaran los 6 números\n",
    "numeros = '1,2,3,4,5,6'\n",
    "numeros = numeros.split(',')\n",
    "\n",
    "resultado = []\n",
    "\n",
    "for numero in numeros:\n",
    "    numero = int(input('Dame el {} número de la lotería'.format(numero)))\n",
    "    resultado.append(numero)\n",
    "    resultado.sort()\n",
    "    \n",
    "\n",
    "print('El resultado de la lotería es {}'.format(resultado))\n",
    "\n",
    "\n",
    "print('Fin del programa')\n"
   ]
  },
  {
   "cell_type": "code",
   "execution_count": 15,
   "metadata": {},
   "outputs": [
    {
     "name": "stdout",
     "output_type": "stream",
     "text": [
      "La combinación ganadora es: 1,2,4,5,8,9\n"
     ]
    }
   ],
   "source": [
    "#Profe\n",
    "\n",
    "# Declaración de la lista vacia\n",
    "\n",
    "combinacion = []\n",
    "\n",
    "# Asignamos valores a la lista\n",
    "for i in range(6):\n",
    "    combinacion.append(int(input(f'Introduce el número {i+1} ganador')))\n",
    "\n",
    "# Ordenamos la lista en orden ascendente\n",
    "combinacion.sort()\n",
    "\n",
    "# Salida de datos\n",
    "\n",
    "salida = ','.join(str(i) for i in combinacion) # el str(i) pasa de valor numérico a string\n",
    "\n",
    "print(f'La combinación ganadora es: {salida}')\n"
   ]
  }
 ],
 "metadata": {
  "kernelspec": {
   "display_name": "Python 3",
   "language": "python",
   "name": "python3"
  },
  "language_info": {
   "codemirror_mode": {
    "name": "ipython",
    "version": 3
   },
   "file_extension": ".py",
   "mimetype": "text/x-python",
   "name": "python",
   "nbconvert_exporter": "python",
   "pygments_lexer": "ipython3",
   "version": "3.11.9"
  }
 },
 "nbformat": 4,
 "nbformat_minor": 2
}
