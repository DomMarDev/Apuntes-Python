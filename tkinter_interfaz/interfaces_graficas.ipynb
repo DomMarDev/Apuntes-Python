{
 "cells": [
  {
   "cell_type": "markdown",
   "metadata": {},
   "source": [
    "No es muy potente el tkinter. Es un modulo con witgets. Ayuda a crear la interfaz gráfica, muy parecida a un explorador.\n",
    "\n",
    "Widgets han de seguir una jerarquía:\n",
    "    1) Ventana o raiz\n",
    "    2) Crear botones etc...\n",
    "    3) Entradas ..."
   ]
  },
  {
   "cell_type": "code",
   "execution_count": 2,
   "metadata": {},
   "outputs": [],
   "source": [
    "# Base de trabajo\n",
    "\n",
    "from tkinter import *\n",
    "\n",
    "# Configuración de la raiz o ventana principal (instancia de la clase Tk)\n",
    "\n",
    "root = Tk()\n",
    "\n",
    "# Bucle de la aplicación para que se ejecute todo el rato (se crea una ventana, para acabar la cierras)\n",
    "\n",
    "root.mainloop()\n",
    "\n"
   ]
  },
  {
   "cell_type": "markdown",
   "metadata": {},
   "source": [
    "Configuración de la raiz o ventana principal"
   ]
  },
  {
   "cell_type": "code",
   "execution_count": 7,
   "metadata": {},
   "outputs": [],
   "source": [
    "# Base de trabajo\n",
    "\n",
    "from tkinter import *\n",
    "\n",
    "# Configuración de la raiz o ventana principal (instancia de la clase Tk)\n",
    "\n",
    "root = Tk()\n",
    "\n",
    "# Configuramos Tk\n",
    "\n",
    "#   Configuración del título\n",
    "\n",
    "root.title('Hola Curso de Python!!!')\n",
    "\n",
    "#   Configuración de un icono. Admite formato .ico\n",
    "\n",
    "#       Comando root.iconbitmap('[ruta]')\n",
    "\n",
    "root.iconbitmap('img/teresa.ico')\n",
    "\n",
    "#   Configuración de los aspectos de dimensión de la ventana\n",
    "\n",
    "root.resizable(True, False) # Si lo pones, True = se redimensiona. False = no se redimensiona. ( en X, Y )\n",
    "\n",
    "\n",
    "# Bucle de la aplicación para que se ejecute todo el rato (se crea una ventana, para acabar la cierras)\n",
    "\n",
    "root.mainloop()"
   ]
  },
  {
   "cell_type": "code",
   "execution_count": 20,
   "metadata": {},
   "outputs": [],
   "source": [
    "# Base de trabajo\n",
    "\n",
    "from tkinter import *\n",
    "# Configuración de la raiz o ventana principal (instancia de la clase Tk)\n",
    "root = Tk()\n",
    "root.title('Domingo')\n",
    "root.resizable(1,1) # se ajuste 1 a 1\n",
    "root.iconbitmap('img/teresa.ico')\n",
    "\n",
    "# Crear un frame/contenedor/marco (no obligatorio, pero va bien para separar cosas)\n",
    "\n",
    "frame = Frame(root, width=480, height=320) # Definirlo: donde va a ir incluida, width, height\n",
    "\n",
    "# Empaquetarlo\n",
    "\n",
    "frame.pack(side='right', anchor='center') #side para donde se situe y anchor para anclarlo donde quieras\n",
    "# frame.pack(fill='both', expand='1') #Que se expanda en todo lo ancho y alto\n",
    "\n",
    "\n",
    "frame.config(cursor='pirate') # Cambiar el cursor, mirar en documentación para cual quieres.\n",
    "\n",
    "frame.config(bg= 'blue') # para cambiar el background, vale HEXaadecimal\n",
    "\n",
    "frame.config(relief='sunken') # Tipo de borde\n",
    "frame.config(bd=25) # Poner un borde\n",
    "\n",
    "\n",
    "# puedes hacer lo mismo de frame por root.\n",
    "\n",
    "root.config(cursor='arrow') # Cambiar el cursor, mirar en documentación para cual quieres.\n",
    "\n",
    "root.config(bg= 'red') # para cambiar el background, vale HEXaadecimal\n",
    "\n",
    "root.config(relief='ridge') # Tipo de borde\n",
    "root.config(bd=15) # Poner un borde\n",
    "\n",
    "# Bucle de la aplicación para que se ejecute todo el rato (se crea una ventana, para acabar la cierras)\n",
    "root.mainloop()"
   ]
  },
  {
   "cell_type": "markdown",
   "metadata": {},
   "source": [
    "Widget label (etiqueta) para texto estático:"
   ]
  },
  {
   "cell_type": "code",
   "execution_count": 7,
   "metadata": {},
   "outputs": [],
   "source": [
    "# Base de trabajo\n",
    "\n",
    "from tkinter import *\n",
    "\n",
    "# Configuración de la raiz o ventana principal (instancia de la clase Tk)\n",
    "\n",
    "root = Tk()\n",
    "root.iconbitmap('img/teresa.ico')\n",
    "\n",
    "\n",
    "#Configurar marco inicial\n",
    "# frame = Frame(root, width=480, height=320)\n",
    "\n",
    "# frame.pack()\n",
    "\n",
    "# frame.config(bg='#ff0000')\n",
    "\n",
    "\n",
    "# Configuraciçon de etiqueta\n",
    "\n",
    "# label = Label(frame, text='Hola, buenos días!')\n",
    "# label.pack()\n",
    "# label.place(x=0, y=0) #Para ponerlo donde quieras, los números són pixeles\n",
    "\n",
    "Label(root, text= 'Hola, bienvenido!').pack(side='left', anchor='n') # anchor es n de norte, s de sud...\n",
    "label = Label(root, text= 'Hola mundo!')\n",
    "\n",
    "# modificamos los parametros de label\n",
    "\n",
    "label.pack(anchor= 'center')\n",
    "label.config(bg='blue',\n",
    "             fg= 'red',\n",
    "             font= ('Verdana', 24)\n",
    "             )\n",
    "\n",
    "Label(root, text= 'Otro texto').pack(anchor='se')\n",
    "\n",
    "\n",
    "# Bucle de la aplicación para que se ejecute todo el rato (se crea una ventana, para acabar la cierras)\n",
    "\n",
    "root.mainloop()"
   ]
  },
  {
   "cell_type": "markdown",
   "metadata": {},
   "source": [
    "Variables dinámicas: dependiendo de como se ejecute qué valor coge"
   ]
  },
  {
   "cell_type": "code",
   "execution_count": 10,
   "metadata": {},
   "outputs": [],
   "source": [
    "# Base de trabajo\n",
    "\n",
    "from tkinter import *\n",
    "\n",
    "# Configuración de la raiz o ventana principal (instancia de la clase Tk)\n",
    "\n",
    "root = Tk()\n",
    "\n",
    "\n",
    "# Se declaran justo debajo de la raiz\n",
    "\n",
    "#Variable dinámica\n",
    "\n",
    "texto = StringVar() #Clase de tkinter que genera etiqueta de forma dinámica (valor que luego le decimos de la stringbar)\n",
    "texto.set('Otra etiqueta de texto!!!') # método set\n",
    "\n",
    "#Configuración de la etiqueta\n",
    "\n",
    "Label(root, text='Hola mundo!').pack()\n",
    "label = Label(root, text='Otro hola') #Esta es la que está por defecto\n",
    "\n",
    "label.pack()\n",
    "\n",
    "label.config(bg='green',\n",
    "             fg= 'red',\n",
    "             font= ('Calibri',12) )\n",
    "\n",
    "label.config(textvariable=texto)\n",
    "\n",
    "# Bucle de la aplicación para que se ejecute todo el rato (se crea una ventana, para acabar la cierras)\n",
    "\n",
    "root.mainloop()"
   ]
  },
  {
   "cell_type": "markdown",
   "metadata": {},
   "source": [
    "Imagenes a las etiquetas:\n",
    "Tkinter puede llevar imagenes"
   ]
  },
  {
   "cell_type": "code",
   "execution_count": 11,
   "metadata": {},
   "outputs": [
    {
     "ename": "TclError",
     "evalue": "couldn't open \"img/ghandi.png\": no such file or directory",
     "output_type": "error",
     "traceback": [
      "\u001b[1;31m---------------------------------------------------------------------------\u001b[0m",
      "\u001b[1;31mTclError\u001b[0m                                  Traceback (most recent call last)",
      "Cell \u001b[1;32mIn[11], line 10\u001b[0m\n\u001b[0;32m      7\u001b[0m root \u001b[38;5;241m=\u001b[39m Tk()\n\u001b[0;32m      9\u001b[0m \u001b[38;5;66;03m#Imagen en una etiqueta\u001b[39;00m\n\u001b[1;32m---> 10\u001b[0m imagen\u001b[38;5;241m=\u001b[39m \u001b[43mPhotoImage\u001b[49m\u001b[43m(\u001b[49m\u001b[43mfile\u001b[49m\u001b[38;5;241;43m=\u001b[39;49m\u001b[38;5;124;43m'\u001b[39;49m\u001b[38;5;124;43mimg/ghandi.png\u001b[39;49m\u001b[38;5;124;43m'\u001b[39;49m\u001b[43m)\u001b[49m \u001b[38;5;66;03m# En formato gif o PNG\u001b[39;00m\n\u001b[0;32m     11\u001b[0m Label(root, image \u001b[38;5;241m=\u001b[39m ghandi, bd\u001b[38;5;241m=\u001b[39m\u001b[38;5;241m0\u001b[39m)\u001b[38;5;241m.\u001b[39mpack(side\u001b[38;5;241m=\u001b[39m\u001b[38;5;124m'\u001b[39m\u001b[38;5;124mright\u001b[39m\u001b[38;5;124m'\u001b[39m, anchor\u001b[38;5;241m=\u001b[39m\u001b[38;5;124m'\u001b[39m\u001b[38;5;124mcenter\u001b[39m\u001b[38;5;124m'\u001b[39m)\n\u001b[0;32m     14\u001b[0m \u001b[38;5;66;03m# Bucle de la aplicación para que se ejecute todo el rato (se crea una ventana, para acabar la cierras)\u001b[39;00m\n",
      "File \u001b[1;32mc:\\Users\\Alumne_tarda1\\AppData\\Local\\Programs\\Python\\Python312\\Lib\\tkinter\\__init__.py:4151\u001b[0m, in \u001b[0;36mPhotoImage.__init__\u001b[1;34m(self, name, cnf, master, **kw)\u001b[0m\n\u001b[0;32m   4146\u001b[0m \u001b[38;5;28;01mdef\u001b[39;00m \u001b[38;5;21m__init__\u001b[39m(\u001b[38;5;28mself\u001b[39m, name\u001b[38;5;241m=\u001b[39m\u001b[38;5;28;01mNone\u001b[39;00m, cnf\u001b[38;5;241m=\u001b[39m{}, master\u001b[38;5;241m=\u001b[39m\u001b[38;5;28;01mNone\u001b[39;00m, \u001b[38;5;241m*\u001b[39m\u001b[38;5;241m*\u001b[39mkw):\n\u001b[0;32m   4147\u001b[0m \u001b[38;5;250m    \u001b[39m\u001b[38;5;124;03m\"\"\"Create an image with NAME.\u001b[39;00m\n\u001b[0;32m   4148\u001b[0m \n\u001b[0;32m   4149\u001b[0m \u001b[38;5;124;03m    Valid resource names: data, format, file, gamma, height, palette,\u001b[39;00m\n\u001b[0;32m   4150\u001b[0m \u001b[38;5;124;03m    width.\"\"\"\u001b[39;00m\n\u001b[1;32m-> 4151\u001b[0m     \u001b[43mImage\u001b[49m\u001b[38;5;241;43m.\u001b[39;49m\u001b[38;5;21;43m__init__\u001b[39;49m\u001b[43m(\u001b[49m\u001b[38;5;28;43mself\u001b[39;49m\u001b[43m,\u001b[49m\u001b[43m \u001b[49m\u001b[38;5;124;43m'\u001b[39;49m\u001b[38;5;124;43mphoto\u001b[39;49m\u001b[38;5;124;43m'\u001b[39;49m\u001b[43m,\u001b[49m\u001b[43m \u001b[49m\u001b[43mname\u001b[49m\u001b[43m,\u001b[49m\u001b[43m \u001b[49m\u001b[43mcnf\u001b[49m\u001b[43m,\u001b[49m\u001b[43m \u001b[49m\u001b[43mmaster\u001b[49m\u001b[43m,\u001b[49m\u001b[43m \u001b[49m\u001b[38;5;241;43m*\u001b[39;49m\u001b[38;5;241;43m*\u001b[39;49m\u001b[43mkw\u001b[49m\u001b[43m)\u001b[49m\n",
      "File \u001b[1;32mc:\\Users\\Alumne_tarda1\\AppData\\Local\\Programs\\Python\\Python312\\Lib\\tkinter\\__init__.py:4098\u001b[0m, in \u001b[0;36mImage.__init__\u001b[1;34m(self, imgtype, name, cnf, master, **kw)\u001b[0m\n\u001b[0;32m   4096\u001b[0m \u001b[38;5;28;01mfor\u001b[39;00m k, v \u001b[38;5;129;01min\u001b[39;00m cnf\u001b[38;5;241m.\u001b[39mitems():\n\u001b[0;32m   4097\u001b[0m     options \u001b[38;5;241m=\u001b[39m options \u001b[38;5;241m+\u001b[39m (\u001b[38;5;124m'\u001b[39m\u001b[38;5;124m-\u001b[39m\u001b[38;5;124m'\u001b[39m\u001b[38;5;241m+\u001b[39mk, v)\n\u001b[1;32m-> 4098\u001b[0m \u001b[38;5;28;43mself\u001b[39;49m\u001b[38;5;241;43m.\u001b[39;49m\u001b[43mtk\u001b[49m\u001b[38;5;241;43m.\u001b[39;49m\u001b[43mcall\u001b[49m\u001b[43m(\u001b[49m\u001b[43m(\u001b[49m\u001b[38;5;124;43m'\u001b[39;49m\u001b[38;5;124;43mimage\u001b[39;49m\u001b[38;5;124;43m'\u001b[39;49m\u001b[43m,\u001b[49m\u001b[43m \u001b[49m\u001b[38;5;124;43m'\u001b[39;49m\u001b[38;5;124;43mcreate\u001b[39;49m\u001b[38;5;124;43m'\u001b[39;49m\u001b[43m,\u001b[49m\u001b[43m \u001b[49m\u001b[43mimgtype\u001b[49m\u001b[43m,\u001b[49m\u001b[43m \u001b[49m\u001b[43mname\u001b[49m\u001b[43m,\u001b[49m\u001b[43m)\u001b[49m\u001b[43m \u001b[49m\u001b[38;5;241;43m+\u001b[39;49m\u001b[43m \u001b[49m\u001b[43moptions\u001b[49m\u001b[43m)\u001b[49m\n\u001b[0;32m   4099\u001b[0m \u001b[38;5;28mself\u001b[39m\u001b[38;5;241m.\u001b[39mname \u001b[38;5;241m=\u001b[39m name\n",
      "\u001b[1;31mTclError\u001b[0m: couldn't open \"img/ghandi.png\": no such file or directory"
     ]
    }
   ],
   "source": [
    "# Base de trabajo\n",
    "\n",
    "from tkinter import *\n",
    "\n",
    "# Configuración de la raiz o ventana principal (instancia de la clase Tk)\n",
    "\n",
    "root = Tk()\n",
    "\n",
    "#Imagen en una etiqueta\n",
    "imagen= PhotoImage(file='img/ghandi.png') # En formato gif o PNG\n",
    "Label(root, image = ghandi, bd=0).pack(side='right', anchor='center')\n",
    "\n",
    "\n",
    "# Bucle de la aplicación para que se ejecute todo el rato (se crea una ventana, para acabar la cierras)\n",
    "\n",
    "root.mainloop()"
   ]
  },
  {
   "cell_type": "code",
   "execution_count": null,
   "metadata": {},
   "outputs": [],
   "source": [
    "Mejorando la salida"
   ]
  },
  {
   "cell_type": "code",
   "execution_count": 36,
   "metadata": {},
   "outputs": [],
   "source": [
    "# Base de trabajo\n",
    "\n",
    "from tkinter import *\n",
    "\n",
    "# Configuración de la raiz o ventana principal (instancia de la clase Tk)\n",
    "\n",
    "root = Tk()\n",
    "frame= Frame(root, width=480, height=320)\n",
    "frame.pack(fill='both', expand=1)\n",
    "\n",
    "#Imagen en una etiqueta\n",
    "imagen= PhotoImage(file='img/pato.png') # En formato gif o PNG\n",
    "Label(root, image = imagen, bd=0).pack(fill='both', expand=1)\n",
    "\n",
    "\n",
    "# Bucle de la aplicación para que se ejecute todo el rato (se crea una ventana, para acabar la cierras)\n",
    "\n",
    "root.mainloop()"
   ]
  },
  {
   "cell_type": "markdown",
   "metadata": {},
   "source": [
    "Widget Entry (campos de texto), son por defecto una string"
   ]
  },
  {
   "cell_type": "code",
   "execution_count": 35,
   "metadata": {},
   "outputs": [],
   "source": [
    "# Base de trabajo\n",
    "\n",
    "from tkinter import *\n",
    "\n",
    "# Configuración de la raiz o ventana principal (instancia de la clase Tk)\n",
    "\n",
    "root = Tk()\n",
    "#Configuración del campo de entrada\n",
    "\n",
    "# Algo está mal\n",
    "\n",
    "#Creamos un marco 1\n",
    "frame1 = Frame(root)\n",
    "frame1.pack()\n",
    "\n",
    "entry1 = Entry(frame1)\n",
    "entry1.pack(side= 'right')\n",
    "\n",
    "label1= Label(frame1, text= 'Nombre')\n",
    "label1.pack(side='left')\n",
    "\n",
    "\n",
    "#Creamos un marco 2\n",
    "frame2 = Frame(root)\n",
    "frame2.pack()\n",
    "\n",
    "entry2 = Entry(frame2)\n",
    "entry2.pack(side= 'right')\n",
    "\n",
    "label2= Label(frame2, text= 'Apellidos')\n",
    "label2.pack(side='left')\n",
    "\n",
    "# Bucle de la aplicación para que se ejecute todo el rato (se crea una ventana, para acabar la cierras)\n",
    "\n",
    "root.mainloop()"
   ]
  },
  {
   "cell_type": "markdown",
   "metadata": {},
   "source": [
    "Alinear como si fuera una tabla:"
   ]
  },
  {
   "cell_type": "code",
   "execution_count": 32,
   "metadata": {},
   "outputs": [],
   "source": [
    "# Base de trabajo\n",
    "\n",
    "from tkinter import *\n",
    "\n",
    "# Configuración de la raiz o ventana principal (instancia de la clase Tk)\n",
    "\n",
    "root = Tk()\n",
    "\n",
    "entry1 = Entry(root)\n",
    "entry1.grid(row=0, column=1)\n",
    "entry1.config(justify='right')\n",
    "\n",
    "label1= Label(root, text = 'Nombre')\n",
    "label1.grid(row=0, column=0, sticky='w', padx=5, pady=5) # Sticky que se pegue a la izq y que tenga releno o pad a x e y\n",
    "\n",
    "\n",
    "entry2 = Entry(root)\n",
    "entry2.grid(row=1, column=1)\n",
    "entry2.config(justify='right')\n",
    "\n",
    "label2= Label(root, text = 'Apellido')\n",
    "label2.grid(row=1, column=0, sticky='w', padx=5, pady=5) # Sticky que se pegue a la izq y que tenga releno o pad a x e y\n",
    "\n",
    "\n",
    "\n",
    "\n",
    "\n",
    "# Bucle de la aplicación para que se ejecute todo el rato (se crea una ventana, para acabar la cierras)\n",
    "\n",
    "root.mainloop()\n"
   ]
  },
  {
   "cell_type": "markdown",
   "metadata": {},
   "source": [
    "Widget Button\n",
    "widget para gestionar eventos"
   ]
  },
  {
   "cell_type": "code",
   "execution_count": 37,
   "metadata": {},
   "outputs": [
    {
     "name": "stdout",
     "output_type": "stream",
     "text": [
      "Hola Mundo!\n",
      "Hola Mundo!\n"
     ]
    }
   ],
   "source": [
    "# Base de trabajo\n",
    "\n",
    "from tkinter import *\n",
    "\n",
    "#Definir que hará el boton\n",
    "\n",
    "#Definir una función que se va a ejecutar cuando hagamos click en el botón\n",
    "\n",
    "def hola():\n",
    "    print('Hola Mundo!')\n",
    "\n",
    "# Configuración de la raiz o ventana principal (instancia de la clase Tk)\n",
    "\n",
    "root = Tk()\n",
    "\n",
    "# Configurar el botón\n",
    "\n",
    "boton = Button(root, text = 'Click!', command= hola)\n",
    "boton.pack()\n",
    "\n",
    "\n",
    "# Bucle de la aplicación para que se ejecute todo el rato (se crea una ventana, para acabar la cierras)\n",
    "\n",
    "root.mainloop()"
   ]
  }
 ],
 "metadata": {
  "kernelspec": {
   "display_name": "Python 3",
   "language": "python",
   "name": "python3"
  },
  "language_info": {
   "codemirror_mode": {
    "name": "ipython",
    "version": 3
   },
   "file_extension": ".py",
   "mimetype": "text/x-python",
   "name": "python",
   "nbconvert_exporter": "python",
   "pygments_lexer": "ipython3",
   "version": "3.12.3"
  }
 },
 "nbformat": 4,
 "nbformat_minor": 2
}
