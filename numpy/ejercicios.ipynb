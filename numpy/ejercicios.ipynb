{
 "cells": [
  {
   "cell_type": "markdown",
   "metadata": {},
   "source": [
    "# Ejercicios"
   ]
  },
  {
   "cell_type": "markdown",
   "metadata": {},
   "source": [
    "## Ejercicio 1"
   ]
  },
  {
   "cell_type": "markdown",
   "metadata": {},
   "source": [
    "1) Crea dos arrays de Numpy de tamaño 10 con números aleatorios entre 1 y 100. realiza las siguientes operaciones:\n",
    "\n",
    "- Suma los dos arrays\n",
    "- Resta el segundo array del primero\n",
    "- Multiplica los dos arrays\n",
    "- Divide el primer array por el segundo\n",
    "- Encuentra el máximo y el mínimo de cara array"
   ]
  },
  {
   "cell_type": "code",
   "execution_count": 9,
   "metadata": {},
   "outputs": [
    {
     "name": "stdout",
     "output_type": "stream",
     "text": [
      "Array 1\n",
      "[15 10 10 39 14 25 54 97  4 74]\n",
      "Array 2\n",
      "[51  2 37  2  7 86  5 50 59 15]\n",
      "Suma\n",
      "[ 66  12  47  41  21 111  59 147  63  89]\n",
      "Resta\n",
      "[-36   8 -27  37   7 -61  49  47 -55  59]\n",
      "Multiplicación\n",
      "[ 765   20  370   78   98 2150  270 4850  236 1110]\n",
      "División\n",
      "[ 0.29411765  5.          0.27027027 19.5         2.          0.29069767\n",
      " 10.8         1.94        0.06779661  4.93333333]\n",
      "Máximo array 1\n",
      "97\n",
      "Máximo array 2\n",
      "86\n",
      "Mínimo array 1\n",
      "4\n",
      "Máínimo array 2\n",
      "2\n"
     ]
    }
   ],
   "source": [
    "import numpy as np\n",
    "\n",
    "arr_1 = np.random.randint(1,100, 10)\n",
    "arr_2 = np.random.randint(1,100, 10)\n",
    "print('Array 1')\n",
    "print(arr_1)\n",
    "print('Array 2')\n",
    "print(arr_2)\n",
    "\n",
    "# Suma\n",
    "print('Suma')\n",
    "print(arr_1 + arr_2)\n",
    "\n",
    "# Resta\n",
    "print('Resta')\n",
    "print(arr_1 - arr_2)\n",
    "\n",
    "# Multiplicación\n",
    "print('Multiplicación')\n",
    "print(arr_1 * arr_2)\n",
    "\n",
    "# División\n",
    "print('División')\n",
    "print(arr_1 / arr_2)\n",
    "\n",
    "# Máximos y mínimos\n",
    "print('Máximo array 1')\n",
    "print(arr_1.max())\n",
    "print('Máximo array 2')\n",
    "print(arr_2.max())\n",
    "print('Mínimo array 1')\n",
    "print(arr_1.min())\n",
    "print('Máínimo array 2')\n",
    "print(arr_2.min())"
   ]
  },
  {
   "cell_type": "markdown",
   "metadata": {},
   "source": [
    "## Ejercicio 2"
   ]
  },
  {
   "cell_type": "markdown",
   "metadata": {},
   "source": [
    "Crea un array de 100 números aleatorios con una distribución normal (media=0, desviacion estándar=1). Luego realiza las siguientes tareas:\n",
    "1. Calcular la media y la desviacion estandar del array\n",
    "2. Filtra los elementos que son mayores que 1.\n",
    "3. Encuentra el valor máximo y minimo del array filtrado"
   ]
  },
  {
   "cell_type": "code",
   "execution_count": 10,
   "metadata": {},
   "outputs": [
    {
     "name": "stdout",
     "output_type": "stream",
     "text": [
      "Array:\n",
      "[ 0.48252579  1.19812535 -0.78360306  0.98924344  0.78663116  0.23402423\n",
      " -0.94573764 -0.28833041  1.01868411  0.50558618 -0.46831188  0.23828616\n",
      " -1.38846876  1.51600082  0.72612473  1.38742716 -0.70614962  0.88323852\n",
      "  1.14034785 -1.82990953 -0.82564823  0.78908864  0.60751659  0.85193549\n",
      " -0.82041672 -0.89760996  0.56186646 -1.07818235 -0.57662721 -0.27513733\n",
      " -1.69133225  1.5123644   0.0048732   0.70404996 -0.40701986 -0.64013965\n",
      " -0.63634193  0.56247468 -0.92617143  2.04263425  0.8112732  -1.31467196\n",
      "  0.57687588  3.25043891  0.34243516 -1.49916125 -0.02063941 -0.78394055\n",
      " -1.07216983  0.99290408 -0.88187917  0.11697253  0.74712781 -1.96525248\n",
      "  1.03766529  1.19812837  0.87287844  1.40980194  0.02493973  0.23828459\n",
      " -0.93573505  0.07765917 -0.63698921 -2.1972564  -0.03620181  1.39349735\n",
      "  0.75814328 -0.28405787  1.54027946  0.12068992 -0.99599748  0.41430926\n",
      "  0.85679356 -0.80655038  0.48051555 -0.5012733  -1.16960975 -0.04978303\n",
      " -0.98125591 -0.43033338  0.01992443 -0.0833536   0.94746078 -0.85875625\n",
      " -0.61522319  2.20281603 -0.57916001  0.22670154  0.87380234 -1.25728356\n",
      " -0.11757335  1.03779027 -0.73913232  0.81661486  0.10497541 -0.7333669\n",
      "  0.39312039  0.90330429 -1.00137928  1.36089848]\n",
      "\n",
      "Media:\n",
      "0.07158946961552747\n",
      "\n",
      "Desviación estandar:\n",
      "0.9908240063986861\n",
      "\n",
      "Elementos mayores que 1:\n",
      "[0.07158947 1.19812535 0.07158947 0.07158947 0.07158947 0.07158947\n",
      " 0.07158947 0.07158947 1.01868411 0.07158947 0.07158947 0.07158947\n",
      " 0.07158947 1.51600082 0.07158947 1.38742716 0.07158947 0.07158947\n",
      " 1.14034785 0.07158947 0.07158947 0.07158947 0.07158947 0.07158947\n",
      " 0.07158947 0.07158947 0.07158947 0.07158947 0.07158947 0.07158947\n",
      " 0.07158947 1.5123644  0.07158947 0.07158947 0.07158947 0.07158947\n",
      " 0.07158947 0.07158947 0.07158947 2.04263425 0.07158947 0.07158947\n",
      " 0.07158947 3.25043891 0.07158947 0.07158947 0.07158947 0.07158947\n",
      " 0.07158947 0.07158947 0.07158947 0.07158947 0.07158947 0.07158947\n",
      " 1.03766529 1.19812837 0.07158947 1.40980194 0.07158947 0.07158947\n",
      " 0.07158947 0.07158947 0.07158947 0.07158947 0.07158947 1.39349735\n",
      " 0.07158947 0.07158947 1.54027946 0.07158947 0.07158947 0.07158947\n",
      " 0.07158947 0.07158947 0.07158947 0.07158947 0.07158947 0.07158947\n",
      " 0.07158947 0.07158947 0.07158947 0.07158947 0.07158947 0.07158947\n",
      " 0.07158947 2.20281603 0.07158947 0.07158947 0.07158947 0.07158947\n",
      " 0.07158947 1.03779027 0.07158947 0.07158947 0.07158947 0.07158947\n",
      " 0.07158947 0.07158947 0.07158947 1.36089848]\n",
      "\n",
      "Valor máximo y mínimo del array filtrado:\n",
      "3.25043891403805\n",
      "0.07158946961552747\n"
     ]
    }
   ],
   "source": [
    "import numpy as np\n",
    "print('Array:')\n",
    "arr_3 = np.random.normal(size=100)\n",
    "print(arr_3)\n",
    "print(f'\\nMedia:')\n",
    "print(arr_3.mean())\n",
    "print(f'\\nDesviación estandar:')\n",
    "print(arr_3.std())\n",
    "print(f'\\nElementos mayores que 1:')\n",
    "arr_4 =np.where(arr_3 <1, arr_3.mean(), arr_3)\n",
    "print(arr_4)\n",
    "print(f'\\nValor máximo y mínimo del array filtrado:')\n",
    "print(arr_4.max())\n",
    "print(arr_4.min())\n"
   ]
  }
 ],
 "metadata": {
  "kernelspec": {
   "display_name": "Python 3",
   "language": "python",
   "name": "python3"
  },
  "language_info": {
   "codemirror_mode": {
    "name": "ipython",
    "version": 3
   },
   "file_extension": ".py",
   "mimetype": "text/x-python",
   "name": "python",
   "nbconvert_exporter": "python",
   "pygments_lexer": "ipython3",
   "version": "3.11.9"
  }
 },
 "nbformat": 4,
 "nbformat_minor": 2
}
