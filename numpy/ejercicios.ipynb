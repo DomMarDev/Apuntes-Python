{
 "cells": [
  {
   "cell_type": "markdown",
   "metadata": {},
   "source": [
    "# Ejercicios"
   ]
  },
  {
   "cell_type": "markdown",
   "metadata": {},
   "source": [
    "## Ejercicio 1"
   ]
  },
  {
   "cell_type": "markdown",
   "metadata": {},
   "source": [
    "1) Crea dos arrays de Numpy de tamaño 10 con números aleatorios entre 1 y 100. realiza las siguientes operaciones:\n",
    "\n",
    "- Suma los dos arrays\n",
    "- Resta el segundo array del primero\n",
    "- Multiplica los dos arrays\n",
    "- Divide el primer array por el segundo\n",
    "- Encuentra el máximo y el mínimo de cara array"
   ]
  },
  {
   "cell_type": "code",
   "execution_count": 9,
   "metadata": {},
   "outputs": [
    {
     "name": "stdout",
     "output_type": "stream",
     "text": [
      "Array 1\n",
      "[15 10 10 39 14 25 54 97  4 74]\n",
      "Array 2\n",
      "[51  2 37  2  7 86  5 50 59 15]\n",
      "Suma\n",
      "[ 66  12  47  41  21 111  59 147  63  89]\n",
      "Resta\n",
      "[-36   8 -27  37   7 -61  49  47 -55  59]\n",
      "Multiplicación\n",
      "[ 765   20  370   78   98 2150  270 4850  236 1110]\n",
      "División\n",
      "[ 0.29411765  5.          0.27027027 19.5         2.          0.29069767\n",
      " 10.8         1.94        0.06779661  4.93333333]\n",
      "Máximo array 1\n",
      "97\n",
      "Máximo array 2\n",
      "86\n",
      "Mínimo array 1\n",
      "4\n",
      "Máínimo array 2\n",
      "2\n"
     ]
    }
   ],
   "source": [
    "import numpy as np\n",
    "\n",
    "arr_1 = np.random.randint(1,100, 10)\n",
    "arr_2 = np.random.randint(1,100, 10)\n",
    "print('Array 1')\n",
    "print(arr_1)\n",
    "print('Array 2')\n",
    "print(arr_2)\n",
    "\n",
    "# Suma\n",
    "print('Suma')\n",
    "print(arr_1 + arr_2)\n",
    "\n",
    "# Resta\n",
    "print('Resta')\n",
    "print(arr_1 - arr_2)\n",
    "\n",
    "# Multiplicación\n",
    "print('Multiplicación')\n",
    "print(arr_1 * arr_2)\n",
    "\n",
    "# División\n",
    "print('División')\n",
    "print(arr_1 / arr_2)\n",
    "\n",
    "# Máximos y mínimos\n",
    "print('Máximo array 1')\n",
    "print(arr_1.max())\n",
    "print('Máximo array 2')\n",
    "print(arr_2.max())\n",
    "print('Mínimo array 1')\n",
    "print(arr_1.min())\n",
    "print('Máínimo array 2')\n",
    "print(arr_2.min())"
   ]
  },
  {
   "cell_type": "code",
   "execution_count": 2,
   "metadata": {},
   "outputs": [
    {
     "name": "stdout",
     "output_type": "stream",
     "text": [
      "[ 33  56   7 100   4  34   2  37   2  30]\n",
      "[52 46 54 40 12 55  4  8 45  4]\n",
      "Array1: [ 33  56   7 100   4  34   2  37   2  30]\n",
      "Array2: [52 46 54 40 12 55  4  8 45  4]\n",
      "Suma: [ 85 102  61 140  16  89   6  45  47  34]\n",
      "Resta: [ 19 -10  47 -60   8  21   2 -29  43 -26]\n",
      "Multipl: [1716 2576  378 4000   48 1870    8  296   90  120]\n",
      "Divis: [0.63461538 1.2173913  0.12962963 2.5        0.33333333 0.61818182\n",
      " 0.5        4.625      0.04444444 7.5       ]\n",
      "Max array1: 100\n",
      "Min array1: 2\n",
      "Max array2: 55\n",
      "Min array2: 4\n"
     ]
    }
   ],
   "source": [
    "# Profe\n",
    "import numpy as np\n",
    "\n",
    "# creamos dos arrays de tamaño 10 con num aleatorios entre 1 y 100\n",
    "array1 = np.random.randint(1,101, size=10)\n",
    "array2 = np.random.randint(1,101, size=10)\n",
    "\n",
    "print(array1)\n",
    "print(array2)\n",
    "\n",
    "#operaciones\n",
    "suma = np.add(array1, array2)\n",
    "resta = np.subtract(array2, array1)\n",
    "multi = np.multiply(array1, array2)\n",
    "divi = np.divide(array1, array2)\n",
    "\n",
    "# max y min\n",
    "max_array1 = np.max(array1)\n",
    "min_array1 = np.min(array1)\n",
    "max_array2 = np.max(array2)\n",
    "min_array2 = np.min(array2)\n",
    "\n",
    "# salida\n",
    "print(f'Array1: {array1}')\n",
    "print(f'Array2: {array2}')\n",
    "print(f'Suma: {suma}')\n",
    "print(f'Resta: {resta}')\n",
    "print(f'Multipl: {multi}')\n",
    "print(f'Divis: {divi}')\n",
    "print(f'Max array1: {max_array1}')\n",
    "print(f'Min array1: {min_array1}')\n",
    "print(f'Max array2: {max_array2}')\n",
    "print(f'Min array2: {min_array2}')"
   ]
  },
  {
   "cell_type": "markdown",
   "metadata": {},
   "source": [
    "## Ejercicio 2"
   ]
  },
  {
   "cell_type": "markdown",
   "metadata": {},
   "source": [
    "Crea un array de 100 números aleatorios con una distribución normal (media=0, desviacion estándar=1). Luego realiza las siguientes tareas:\n",
    "1. Calcular la media y la desviacion estandar del array\n",
    "2. Filtra los elementos que son mayores que 1.\n",
    "3. Encuentra el valor máximo y minimo del array filtrado"
   ]
  },
  {
   "cell_type": "code",
   "execution_count": 3,
   "metadata": {},
   "outputs": [
    {
     "name": "stdout",
     "output_type": "stream",
     "text": [
      "Array:\n",
      "[ 0.24032716 -2.86666198  0.85384724  0.01418937 -0.28889335  1.85291949\n",
      " -0.30688381  0.14549461  0.19666231  0.06826678  0.56440157  0.46105033\n",
      " -0.45376625  1.10105135  1.71173625 -0.50780443 -1.56217185 -0.22405737\n",
      " -0.41729436 -0.97205598  2.10761818 -1.04700831  0.74770552 -1.82386498\n",
      "  2.65068461 -0.46327549 -0.32977448  0.18629437  0.22349076 -0.32723217\n",
      " -0.65901833 -0.01740928  1.39323891  0.93171407  0.82001691  1.03741447\n",
      " -0.21365014  0.61532051  1.06333144 -1.38178603  1.56334633 -2.03225009\n",
      " -0.64904789 -0.83523624 -0.21111817  0.04263789 -0.93246045  2.5508652\n",
      "  0.48066957 -0.90940338 -0.10219763  2.35911286  0.51769373  0.17129628\n",
      "  0.81725316 -0.02720131  0.81369484  0.21869945 -1.19354264 -0.62857918\n",
      "  0.72720146  1.08354726  0.97515052 -2.14122529 -0.39038251  0.63768905\n",
      " -1.52219931  0.90455769  0.63203206 -1.38064143 -1.31610672 -2.3946111\n",
      "  1.42124313 -0.20137181  0.11139141 -1.05396803 -1.85497165 -0.13903018\n",
      "  0.06088123 -1.07661817  0.75184589 -2.59344856  1.43771671  0.54358746\n",
      "  1.00029163 -0.25668879  1.6003841  -0.52459357 -0.67912219  0.48447106\n",
      "  0.94979023  0.78305689 -1.18417313  1.31617333  0.73437213  0.02207815\n",
      "  0.44711396  0.16436717 -0.22932119  0.81032324]\n",
      "\n",
      "Media:\n",
      "0.05799192083765257\n",
      "\n",
      "Desviación estandar:\n",
      "1.0983986141227478\n",
      "\n",
      "Elementos mayores que 1:\n",
      "[0.         0.         0.         0.         0.         1.85291949\n",
      " 0.         0.         0.         0.         0.         0.\n",
      " 0.         1.10105135 1.71173625 0.         0.         0.\n",
      " 0.         0.         2.10761818 0.         0.         0.\n",
      " 2.65068461 0.         0.         0.         0.         0.\n",
      " 0.         0.         1.39323891 0.         0.         1.03741447\n",
      " 0.         0.         1.06333144 0.         1.56334633 0.\n",
      " 0.         0.         0.         0.         0.         2.5508652\n",
      " 0.         0.         0.         2.35911286 0.         0.\n",
      " 0.         0.         0.         0.         0.         0.\n",
      " 0.         1.08354726 0.         0.         0.         0.\n",
      " 0.         0.         0.         0.         0.         0.\n",
      " 1.42124313 0.         0.         0.         0.         0.\n",
      " 0.         0.         0.         0.         1.43771671 0.\n",
      " 1.00029163 0.         1.6003841  0.         0.         0.\n",
      " 0.         0.         0.         1.31617333 0.         0.\n",
      " 0.         0.         0.         0.        ]\n",
      "\n",
      "Valor máximo y mínimo del array filtrado:\n",
      "2.650684606893889\n",
      "0.05799192083765257\n"
     ]
    }
   ],
   "source": [
    "import numpy as np\n",
    "print('Array:')\n",
    "arr_3 = np.random.normal(size=100)\n",
    "print(arr_3)\n",
    "print(f'\\nMedia:')\n",
    "print(arr_3.mean())\n",
    "print(f'\\nDesviación estandar:')\n",
    "print(arr_3.std())\n",
    "print(f'\\nElementos mayores que 1:')\n",
    "arr_4 =np.where(arr_3 <1, 0, arr_3)\n",
    "print(arr_4)\n",
    "arr_4 =np.where(arr_3 <1, arr_3.mean(), arr_3)\n",
    "print(f'\\nValor máximo y mínimo del array filtrado:')\n",
    "print(arr_4.max())\n",
    "print(arr_4.min())"
   ]
  },
  {
   "cell_type": "code",
   "execution_count": 4,
   "metadata": {},
   "outputs": [
    {
     "name": "stdout",
     "output_type": "stream",
     "text": [
      "Array original: [-0.39241417 -0.92682756  0.32617031  1.09751655 -0.60919056  0.53835549\n",
      " -1.08533511  1.58013719  2.38059921  1.16799212 -1.89914973 -1.09306787\n",
      " -1.13609055 -0.36108656  1.79052712 -0.03334599 -0.11434584 -1.32892871\n",
      " -0.31713961 -0.133822   -0.3148317   1.93929543 -0.4154916  -0.16327861\n",
      "  1.27410275  0.04215323 -0.29516279 -1.76299849 -0.08365004 -1.1906508\n",
      "  0.23194484  1.0187596   0.29956564 -1.29716862 -0.98174913  0.9348366\n",
      "  1.2506033  -1.07208226  0.32103526  0.23583849 -0.69098336 -0.47927372\n",
      " -1.24075939 -0.68285011  2.73958708  1.02243863  0.95541153  1.02710186\n",
      "  0.31024458  1.4635611   0.15685127  0.07661729 -0.42865013  1.41571631\n",
      " -1.41654183  0.77622567  0.69641476 -1.28961885  1.63124706  0.14825202\n",
      " -0.23185081  0.95174733 -0.25516995 -0.31133753  0.45933833 -0.10131353\n",
      " -1.03528696 -0.3271595   2.65860097 -0.8820369  -0.93175108 -0.32690062\n",
      " -0.52181535 -0.25457172 -0.6071533  -0.61284551 -0.07990291 -0.11612735\n",
      " -0.67240785  0.22418543  0.4042874  -0.36829075  0.01241336  0.11444982\n",
      " -0.3321514   0.25831543 -0.11651669  0.44910609 -0.68261785 -0.70724096\n",
      " -0.05646805  0.95532149 -0.44770659  0.49569122  0.33117358 -0.50743809\n",
      "  1.27946646 -1.13767012  0.72111112  0.52878807]\n",
      "Media array original: 0.038328813501221845\n",
      "Desviación estandar array original: 0.937845605882036\n",
      "Elementos mayores que 1: [1.09751655 1.58013719 2.38059921 1.16799212 1.79052712 1.93929543\n",
      " 1.27410275 1.0187596  1.2506033  2.73958708 1.02243863 1.02710186\n",
      " 1.4635611  1.41571631 1.63124706 2.65860097 1.27946646]\n",
      "Max array filtrado: 2.7395870811257055\n",
      "Min array filtrado: 1.018759600942688\n"
     ]
    }
   ],
   "source": [
    "# Profe\n",
    "import numpy as np\n",
    "\n",
    "# creamos el array\n",
    "array = np.random.normal(loc= 0, scale=1, size=100)\n",
    "\n",
    "# calculamos la media y la desviacion estandar\n",
    "media = np.mean(array)\n",
    "desv_stand = np.std(array)\n",
    "\n",
    "# Filtramos los elementos mayores que 1 (los dos métodos hacen lo mismo)\n",
    "\n",
    "indice = np.where(array>1)\n",
    "filtro1 = array[indice]\n",
    "\n",
    "filtro2= array[array>1]\n",
    "\n",
    "# Calculamos el valor máximo y el valor mínimo del array filtrado\n",
    "max_filtro = np.max(filtro2)\n",
    "min_filtro = np.min(filtro1)\n",
    "\n",
    "# salida\n",
    "\n",
    "print(f'Array original: {array}')\n",
    "print(f'Media array original: {media}')\n",
    "print(f'Desviación estandar array original: {desv_stand}')\n",
    "print(f'Elementos mayores que 1: {filtro1}')\n",
    "print(f'Max array filtrado: {max_filtro}')\n",
    "print(f'Min array filtrado: {min_filtro}')"
   ]
  }
 ],
 "metadata": {
  "kernelspec": {
   "display_name": "Python 3",
   "language": "python",
   "name": "python3"
  },
  "language_info": {
   "codemirror_mode": {
    "name": "ipython",
    "version": 3
   },
   "file_extension": ".py",
   "mimetype": "text/x-python",
   "name": "python",
   "nbconvert_exporter": "python",
   "pygments_lexer": "ipython3",
   "version": "3.12.3"
  }
 },
 "nbformat": 4,
 "nbformat_minor": 2
}
