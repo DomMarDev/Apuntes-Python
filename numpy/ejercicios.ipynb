{
 "cells": [
  {
   "cell_type": "markdown",
   "metadata": {},
   "source": [
    "# Ejercicios"
   ]
  },
  {
   "cell_type": "markdown",
   "metadata": {},
   "source": [
    "## Ejercicio 1"
   ]
  },
  {
   "cell_type": "markdown",
   "metadata": {},
   "source": [
    "1) Crea dos arrays de Numpy de tamaño 10 con números aleatorios entre 1 y 100. realiza las siguientes operaciones:\n",
    "\n",
    "- Suma los dos arrays\n",
    "- Resta el segundo array del primero\n",
    "- Multiplica los dos arrays\n",
    "- Divide el primer array por el segundo\n",
    "- Encuentra el máximo y el mínimo de cara array"
   ]
  },
  {
   "cell_type": "code",
   "execution_count": 9,
   "metadata": {},
   "outputs": [
    {
     "name": "stdout",
     "output_type": "stream",
     "text": [
      "Array 1\n",
      "[15 10 10 39 14 25 54 97  4 74]\n",
      "Array 2\n",
      "[51  2 37  2  7 86  5 50 59 15]\n",
      "Suma\n",
      "[ 66  12  47  41  21 111  59 147  63  89]\n",
      "Resta\n",
      "[-36   8 -27  37   7 -61  49  47 -55  59]\n",
      "Multiplicación\n",
      "[ 765   20  370   78   98 2150  270 4850  236 1110]\n",
      "División\n",
      "[ 0.29411765  5.          0.27027027 19.5         2.          0.29069767\n",
      " 10.8         1.94        0.06779661  4.93333333]\n",
      "Máximo array 1\n",
      "97\n",
      "Máximo array 2\n",
      "86\n",
      "Mínimo array 1\n",
      "4\n",
      "Máínimo array 2\n",
      "2\n"
     ]
    }
   ],
   "source": [
    "import numpy as np\n",
    "\n",
    "arr_1 = np.random.randint(1,100, 10)\n",
    "arr_2 = np.random.randint(1,100, 10)\n",
    "print('Array 1')\n",
    "print(arr_1)\n",
    "print('Array 2')\n",
    "print(arr_2)\n",
    "\n",
    "# Suma\n",
    "print('Suma')\n",
    "print(arr_1 + arr_2)\n",
    "\n",
    "# Resta\n",
    "print('Resta')\n",
    "print(arr_1 - arr_2)\n",
    "\n",
    "# Multiplicación\n",
    "print('Multiplicación')\n",
    "print(arr_1 * arr_2)\n",
    "\n",
    "# División\n",
    "print('División')\n",
    "print(arr_1 / arr_2)\n",
    "\n",
    "# Máximos y mínimos\n",
    "print('Máximo array 1')\n",
    "print(arr_1.max())\n",
    "print('Máximo array 2')\n",
    "print(arr_2.max())\n",
    "print('Mínimo array 1')\n",
    "print(arr_1.min())\n",
    "print('Máínimo array 2')\n",
    "print(arr_2.min())"
   ]
  }
 ],
 "metadata": {
  "kernelspec": {
   "display_name": "Python 3",
   "language": "python",
   "name": "python3"
  },
  "language_info": {
   "codemirror_mode": {
    "name": "ipython",
    "version": 3
   },
   "file_extension": ".py",
   "mimetype": "text/x-python",
   "name": "python",
   "nbconvert_exporter": "python",
   "pygments_lexer": "ipython3",
   "version": "3.12.3"
  }
 },
 "nbformat": 4,
 "nbformat_minor": 2
}
