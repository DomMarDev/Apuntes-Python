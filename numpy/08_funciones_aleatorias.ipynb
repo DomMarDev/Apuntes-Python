{
 "cells": [
  {
   "cell_type": "markdown",
   "metadata": {},
   "source": [
    "# Funciones aleatorias"
   ]
  },
  {
   "cell_type": "markdown",
   "metadata": {},
   "source": [
    "Dentro de numpy generar array aleatorios y aleatorios con permutaciones"
   ]
  },
  {
   "cell_type": "markdown",
   "metadata": {},
   "source": [
    "## Generando datos aleatorios"
   ]
  },
  {
   "cell_type": "code",
   "execution_count": 27,
   "metadata": {},
   "outputs": [],
   "source": [
    "import numpy as np"
   ]
  },
  {
   "cell_type": "code",
   "execution_count": 28,
   "metadata": {},
   "outputs": [
    {
     "data": {
      "text/plain": [
       "0.04068838205606329"
      ]
     },
     "execution_count": 28,
     "metadata": {},
     "output_type": "execute_result"
    }
   ],
   "source": [
    "# número decimal entre 0 y 1\n",
    "np.random.rand()"
   ]
  },
  {
   "cell_type": "code",
   "execution_count": 29,
   "metadata": {},
   "outputs": [
    {
     "data": {
      "text/plain": [
       "array([0.46506579, 0.10330972, 0.36423317, 0.62970856])"
      ]
     },
     "execution_count": 29,
     "metadata": {},
     "output_type": "execute_result"
    }
   ],
   "source": [
    "# generando un vector o array 1D entre 0 y 1\n",
    "np.random.rand(4)"
   ]
  },
  {
   "cell_type": "code",
   "execution_count": 30,
   "metadata": {},
   "outputs": [
    {
     "data": {
      "text/plain": [
       "array([[0.87281555, 0.23869883],\n",
       "       [0.16386155, 0.66640859],\n",
       "       [0.23641526, 0.44384001],\n",
       "       [0.74814663, 0.39019426]])"
      ]
     },
     "execution_count": 30,
     "metadata": {},
     "output_type": "execute_result"
    }
   ],
   "source": [
    "# generar un array 2D de decimales entre 0 y 1\n",
    "np.random.rand(4,2) # elementos, dimensiones"
   ]
  },
  {
   "cell_type": "code",
   "execution_count": 31,
   "metadata": {},
   "outputs": [
    {
     "data": {
      "text/plain": [
       "array([[[9.69996662, 4.71594485, 4.1976361 ],\n",
       "        [5.45440864, 3.66326759, 2.28028219],\n",
       "        [5.31608779, 2.2319478 , 9.65529709]],\n",
       "\n",
       "       [[6.33520543, 9.84414177, 5.86223014],\n",
       "        [2.81968417, 8.15836868, 3.85432846],\n",
       "        [5.13290234, 4.70580513, 4.00060015]],\n",
       "\n",
       "       [[3.43557136, 8.71731998, 2.23319992],\n",
       "        [4.38699387, 9.58248446, 7.50492354],\n",
       "        [3.32341055, 1.37254311, 8.41908412]]])"
      ]
     },
     "execution_count": 31,
     "metadata": {},
     "output_type": "execute_result"
    }
   ],
   "source": [
    "# generar un array 3D de decimales entre 0 y N\n",
    "np.random.uniform(10, size= [3,3,3]) # generas una array con numeros random y le pasas las dimensiones del array"
   ]
  },
  {
   "cell_type": "code",
   "execution_count": 32,
   "metadata": {},
   "outputs": [
    {
     "data": {
      "text/plain": [
       "array([[[[ 6.89783705,  6.99235563],\n",
       "         [-8.6001626 ,  2.32076577]],\n",
       "\n",
       "        [[-8.50718997,  2.49973686],\n",
       "         [ 6.06923456, -9.57384197]]],\n",
       "\n",
       "\n",
       "       [[[ 8.16544533, -7.52764447],\n",
       "         [ 0.3280514 ,  9.92113087]],\n",
       "\n",
       "        [[ 2.12945746,  9.05321928],\n",
       "         [ 8.48005539,  5.6995457 ]]]])"
      ]
     },
     "execution_count": 32,
     "metadata": {},
     "output_type": "execute_result"
    }
   ],
   "source": [
    "# generar un array 4D de decimales en -N y N\n",
    "np.random.uniform(-10, 10,  size=[2,2,2,2])"
   ]
  },
  {
   "cell_type": "code",
   "execution_count": 33,
   "metadata": {},
   "outputs": [
    {
     "data": {
      "text/plain": [
       "7"
      ]
     },
     "execution_count": 33,
     "metadata": {},
     "output_type": "execute_result"
    }
   ],
   "source": [
    "# Número entero entre 0 y N\n",
    "np.random.randint(10)"
   ]
  },
  {
   "cell_type": "code",
   "execution_count": 34,
   "metadata": {},
   "outputs": [
    {
     "data": {
      "text/plain": [
       "array([[2, 5],\n",
       "       [1, 9],\n",
       "       [1, 6]], dtype=int32)"
      ]
     },
     "execution_count": 34,
     "metadata": {},
     "output_type": "execute_result"
    }
   ],
   "source": [
    "#array de enteros entre 0 y N\n",
    "np.random.randint(10, size = [3,2])"
   ]
  },
  {
   "cell_type": "code",
   "execution_count": 35,
   "metadata": {},
   "outputs": [
    {
     "data": {
      "text/plain": [
       "array([[-5,  9],\n",
       "       [-8, -9],\n",
       "       [-1,  8]], dtype=int32)"
      ]
     },
     "execution_count": 35,
     "metadata": {},
     "output_type": "execute_result"
    }
   ],
   "source": [
    "# array de enteros entre -N y N\n",
    "np.random.randint(-10, 10, size= [3,2])"
   ]
  },
  {
   "cell_type": "code",
   "execution_count": 36,
   "metadata": {},
   "outputs": [
    {
     "data": {
      "text/plain": [
       "array([-0.63396211, -0.27315745, -0.52990164,  0.07538758,  0.20388475,\n",
       "        0.40825255, -1.03007319,  2.57303675,  0.61732373,  0.10417035,\n",
       "       -1.79730838,  1.51962024,  1.39185676, -0.6828428 , -0.33963651,\n",
       "       -0.59829837, -0.63580803, -1.07369919, -0.14004954, -0.14559162])"
      ]
     },
     "execution_count": 36,
     "metadata": {},
     "output_type": "execute_result"
    }
   ],
   "source": [
    "# array uniforme = campana de gauss, con curva gausiana\n",
    "np.random.normal(size=20) # es un vector"
   ]
  },
  {
   "cell_type": "markdown",
   "metadata": {},
   "source": [
    "## Permutaciones"
   ]
  },
  {
   "cell_type": "code",
   "execution_count": 37,
   "metadata": {},
   "outputs": [
    {
     "data": {
      "text/plain": [
       "array([0, 1, 2, 3, 4, 5, 6, 7, 8, 9])"
      ]
     },
     "execution_count": 37,
     "metadata": {},
     "output_type": "execute_result"
    }
   ],
   "source": [
    "arr = np.arange(10)\n",
    "arr"
   ]
  },
  {
   "cell_type": "code",
   "execution_count": 38,
   "metadata": {},
   "outputs": [
    {
     "data": {
      "text/plain": [
       "array([3, 0, 2, 9, 5, 8, 4, 1, 7, 6])"
      ]
     },
     "execution_count": 38,
     "metadata": {},
     "output_type": "execute_result"
    }
   ],
   "source": [
    "# desordenar un array\n",
    "np.random.shuffle(arr)\n",
    "arr"
   ]
  },
  {
   "cell_type": "code",
   "execution_count": 39,
   "metadata": {},
   "outputs": [
    {
     "data": {
      "text/plain": [
       "array([ 6, 10,  4,  0, 11,  9,  8,  7,  2,  5, 14,  3, 12, 13,  1],\n",
       "      dtype=int32)"
      ]
     },
     "execution_count": 39,
     "metadata": {},
     "output_type": "execute_result"
    }
   ],
   "source": [
    "# generar una secuencia permutada a partir de un número\n",
    "np.random.permutation(15) # esto sería hacer un range + shuffle"
   ]
  }
 ],
 "metadata": {
  "kernelspec": {
   "display_name": "Python 3",
   "language": "python",
   "name": "python3"
  },
  "language_info": {
   "codemirror_mode": {
    "name": "ipython",
    "version": 3
   },
   "file_extension": ".py",
   "mimetype": "text/x-python",
   "name": "python",
   "nbconvert_exporter": "python",
   "pygments_lexer": "ipython3",
   "version": "3.12.3"
  }
 },
 "nbformat": 4,
 "nbformat_minor": 2
}
