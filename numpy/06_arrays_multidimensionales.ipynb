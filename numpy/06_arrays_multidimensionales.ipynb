{
 "cells": [
  {
   "cell_type": "markdown",
   "metadata": {},
   "source": [
    "# Arrays multidimensionales"
   ]
  },
  {
   "cell_type": "markdown",
   "metadata": {},
   "source": [
    "## Índices de 2D (2 Dimensiones)"
   ]
  },
  {
   "cell_type": "code",
   "execution_count": 46,
   "metadata": {},
   "outputs": [
    {
     "data": {
      "text/plain": [
       "array([[ 0,  5, 10],\n",
       "       [15, 20, 25],\n",
       "       [30, 35, 40]])"
      ]
     },
     "execution_count": 46,
     "metadata": {},
     "output_type": "execute_result"
    }
   ],
   "source": [
    "import numpy as np\n",
    "\n",
    "arr_2d = np.array(\n",
    "    [\n",
    "        [0,5,10],\n",
    "        [15,20,25],\n",
    "        [30,35,40]\n",
    "    ])\n",
    "\n",
    "arr_2d"
   ]
  },
  {
   "cell_type": "code",
   "execution_count": 47,
   "metadata": {},
   "outputs": [
    {
     "data": {
      "text/plain": [
       "array([ 0,  5, 10])"
      ]
     },
     "execution_count": 47,
     "metadata": {},
     "output_type": "execute_result"
    }
   ],
   "source": [
    "# Llamamos al índice de la primera fila\n",
    "arr_2d[0]"
   ]
  },
  {
   "cell_type": "code",
   "execution_count": 48,
   "metadata": {},
   "outputs": [
    {
     "data": {
      "text/plain": [
       "np.int64(0)"
      ]
     },
     "execution_count": 48,
     "metadata": {},
     "output_type": "execute_result"
    }
   ],
   "source": [
    "# Primera fila primera columna\n",
    "arr_2d[0][0] # lo que hay entre paraentesis es el valor"
   ]
  },
  {
   "cell_type": "code",
   "execution_count": 49,
   "metadata": {},
   "outputs": [
    {
     "data": {
      "text/plain": [
       "np.int64(40)"
      ]
     },
     "execution_count": 49,
     "metadata": {},
     "output_type": "execute_result"
    }
   ],
   "source": [
    "#última fila de la ultima columna\n",
    "arr_2d[-1][-1] # \"son el eje X y el eje Y de la tabla\""
   ]
  },
  {
   "cell_type": "markdown",
   "metadata": {},
   "source": [
    "## Slicing de 2D\n",
    " pones los indices y los separas por coma. Para hacer slicing en tablas o arrays 2D, doblamos los índices de inicio y fin separándolos con comas"
   ]
  },
  {
   "cell_type": "code",
   "execution_count": 50,
   "metadata": {},
   "outputs": [
    {
     "data": {
      "text/plain": [
       "array([[ 0,  5, 10],\n",
       "       [15, 20, 25],\n",
       "       [30, 35, 40]])"
      ]
     },
     "execution_count": 50,
     "metadata": {},
     "output_type": "execute_result"
    }
   ],
   "source": [
    "# Subarray con todas las filas y columnas\n",
    "arr_2d[:,:] #El primer dato son filas y el segundo columnas"
   ]
  },
  {
   "cell_type": "code",
   "execution_count": 51,
   "metadata": {},
   "outputs": [
    {
     "data": {
      "text/plain": [
       "array([[ 0,  5, 10],\n",
       "       [15, 20, 25]])"
      ]
     },
     "execution_count": 51,
     "metadata": {},
     "output_type": "execute_result"
    }
   ],
   "source": [
    "# Subarray de las dos primeras filas\n",
    "arr_2d[:2,:]"
   ]
  },
  {
   "cell_type": "code",
   "execution_count": 52,
   "metadata": {},
   "outputs": [
    {
     "data": {
      "text/plain": [
       "array([[ 0],\n",
       "       [15],\n",
       "       [30]])"
      ]
     },
     "execution_count": 52,
     "metadata": {},
     "output_type": "execute_result"
    }
   ],
   "source": [
    "# subarray de la primera columna\n",
    "arr_2d[:,:1]"
   ]
  },
  {
   "cell_type": "markdown",
   "metadata": {},
   "source": [
    "Se pueden pasar bucles for etc, como si fueran colecciones"
   ]
  },
  {
   "cell_type": "markdown",
   "metadata": {},
   "source": [
    "## Arrays 3D y más dimensiones"
   ]
  },
  {
   "cell_type": "markdown",
   "metadata": {},
   "source": [
    "Para trabajar con arrays de más de 2 dimensiones vamos a anidar niveles de profundidad"
   ]
  },
  {
   "cell_type": "markdown",
   "metadata": {},
   "source": [
    "Vamos a crear un array 3D paso a paso"
   ]
  },
  {
   "cell_type": "code",
   "execution_count": 53,
   "metadata": {},
   "outputs": [
    {
     "data": {
      "text/plain": [
       "array([1, 2])"
      ]
     },
     "execution_count": 53,
     "metadata": {},
     "output_type": "execute_result"
    }
   ],
   "source": [
    "import numpy as np\n",
    "\n",
    "# primer nivel\n",
    "arr_1d = np.array([1,2])\n",
    "\n",
    "arr_1d"
   ]
  },
  {
   "cell_type": "code",
   "execution_count": 54,
   "metadata": {},
   "outputs": [
    {
     "data": {
      "text/plain": [
       "array([[1, 2],\n",
       "       [3, 4]])"
      ]
     },
     "execution_count": 54,
     "metadata": {},
     "output_type": "execute_result"
    }
   ],
   "source": [
    "# segundo nivel (2 x 2 = 4 elementos)\n",
    "arr_2d = np.array(\n",
    "    [\n",
    "        [1,2],\n",
    "        [3,4]\n",
    "    ])\n",
    "\n",
    "arr_2d"
   ]
  },
  {
   "cell_type": "code",
   "execution_count": 55,
   "metadata": {},
   "outputs": [
    {
     "data": {
      "text/plain": [
       "array([[[1, 2],\n",
       "        [3, 4]],\n",
       "\n",
       "       [[5, 6],\n",
       "        [7, 8]]])"
      ]
     },
     "execution_count": 55,
     "metadata": {},
     "output_type": "execute_result"
    }
   ],
   "source": [
    "# tercer nivel (2 x 2 x 2 = 8 elementos)\n",
    "arr_3d = np.array(\n",
    "    [\n",
    "        [\n",
    "            [1,2],\n",
    "            [3,4]\n",
    "        ],\n",
    "        [\n",
    "            [5,6],\n",
    "            [7,8] \n",
    "        ]\n",
    "    ]\n",
    ")\n",
    "\n",
    "arr_3d"
   ]
  },
  {
   "cell_type": "code",
   "execution_count": 56,
   "metadata": {},
   "outputs": [
    {
     "data": {
      "text/plain": [
       "array([[[[1, 2],\n",
       "         [3, 4]]],\n",
       "\n",
       "\n",
       "       [[[5, 6],\n",
       "         [7, 8]]],\n",
       "\n",
       "\n",
       "       [[[1, 2],\n",
       "         [3, 4]]],\n",
       "\n",
       "\n",
       "       [[[5, 6],\n",
       "         [7, 8]]]])"
      ]
     },
     "execution_count": 56,
     "metadata": {},
     "output_type": "execute_result"
    }
   ],
   "source": [
    "# cuarto nivel (2 x 2 x 2 x 2 = 16 elementos)\n",
    "arr_4d = np.array(\n",
    "    [\n",
    "        [\n",
    "            [\n",
    "                [1,2],\n",
    "                [3,4]\n",
    "            ]\n",
    "        ],\n",
    "        [\n",
    "            [\n",
    "                [5,6],\n",
    "                [7,8] \n",
    "            ]\n",
    "        ],\n",
    "        [\n",
    "            [\n",
    "                [9,10],\n",
    "                [11,12]\n",
    "            ]\n",
    "        ],\n",
    "        [\n",
    "            [\n",
    "                [13,14],\n",
    "                [15,16] \n",
    "            ]\n",
    "        ]\n",
    "    ]\n",
    ")\n",
    "arr_4d"
   ]
  },
  {
   "cell_type": "code",
   "execution_count": 57,
   "metadata": {},
   "outputs": [
    {
     "data": {
      "text/plain": [
       "array([[[0., 0., 0.],\n",
       "        [0., 0., 0.],\n",
       "        [0., 0., 0.]],\n",
       "\n",
       "       [[0., 0., 0.],\n",
       "        [0., 0., 0.],\n",
       "        [0., 0., 0.]],\n",
       "\n",
       "       [[0., 0., 0.],\n",
       "        [0., 0., 0.],\n",
       "        [0., 0., 0.]]])"
      ]
     },
     "execution_count": 57,
     "metadata": {},
     "output_type": "execute_result"
    }
   ],
   "source": [
    "# array pregenerada de ceros\n",
    "arr_3d = np.zeros([3,3,3])\n",
    "arr_3d"
   ]
  },
  {
   "cell_type": "code",
   "execution_count": 58,
   "metadata": {},
   "outputs": [
    {
     "data": {
      "text/plain": [
       "array([[[[1., 1., 1., 1.],\n",
       "         [1., 1., 1., 1.],\n",
       "         [1., 1., 1., 1.],\n",
       "         [1., 1., 1., 1.]],\n",
       "\n",
       "        [[1., 1., 1., 1.],\n",
       "         [1., 1., 1., 1.],\n",
       "         [1., 1., 1., 1.],\n",
       "         [1., 1., 1., 1.]],\n",
       "\n",
       "        [[1., 1., 1., 1.],\n",
       "         [1., 1., 1., 1.],\n",
       "         [1., 1., 1., 1.],\n",
       "         [1., 1., 1., 1.]],\n",
       "\n",
       "        [[1., 1., 1., 1.],\n",
       "         [1., 1., 1., 1.],\n",
       "         [1., 1., 1., 1.],\n",
       "         [1., 1., 1., 1.]]],\n",
       "\n",
       "\n",
       "       [[[1., 1., 1., 1.],\n",
       "         [1., 1., 1., 1.],\n",
       "         [1., 1., 1., 1.],\n",
       "         [1., 1., 1., 1.]],\n",
       "\n",
       "        [[1., 1., 1., 1.],\n",
       "         [1., 1., 1., 1.],\n",
       "         [1., 1., 1., 1.],\n",
       "         [1., 1., 1., 1.]],\n",
       "\n",
       "        [[1., 1., 1., 1.],\n",
       "         [1., 1., 1., 1.],\n",
       "         [1., 1., 1., 1.],\n",
       "         [1., 1., 1., 1.]],\n",
       "\n",
       "        [[1., 1., 1., 1.],\n",
       "         [1., 1., 1., 1.],\n",
       "         [1., 1., 1., 1.],\n",
       "         [1., 1., 1., 1.]]],\n",
       "\n",
       "\n",
       "       [[[1., 1., 1., 1.],\n",
       "         [1., 1., 1., 1.],\n",
       "         [1., 1., 1., 1.],\n",
       "         [1., 1., 1., 1.]],\n",
       "\n",
       "        [[1., 1., 1., 1.],\n",
       "         [1., 1., 1., 1.],\n",
       "         [1., 1., 1., 1.],\n",
       "         [1., 1., 1., 1.]],\n",
       "\n",
       "        [[1., 1., 1., 1.],\n",
       "         [1., 1., 1., 1.],\n",
       "         [1., 1., 1., 1.],\n",
       "         [1., 1., 1., 1.]],\n",
       "\n",
       "        [[1., 1., 1., 1.],\n",
       "         [1., 1., 1., 1.],\n",
       "         [1., 1., 1., 1.],\n",
       "         [1., 1., 1., 1.]]],\n",
       "\n",
       "\n",
       "       [[[1., 1., 1., 1.],\n",
       "         [1., 1., 1., 1.],\n",
       "         [1., 1., 1., 1.],\n",
       "         [1., 1., 1., 1.]],\n",
       "\n",
       "        [[1., 1., 1., 1.],\n",
       "         [1., 1., 1., 1.],\n",
       "         [1., 1., 1., 1.],\n",
       "         [1., 1., 1., 1.]],\n",
       "\n",
       "        [[1., 1., 1., 1.],\n",
       "         [1., 1., 1., 1.],\n",
       "         [1., 1., 1., 1.],\n",
       "         [1., 1., 1., 1.]],\n",
       "\n",
       "        [[1., 1., 1., 1.],\n",
       "         [1., 1., 1., 1.],\n",
       "         [1., 1., 1., 1.],\n",
       "         [1., 1., 1., 1.]]]])"
      ]
     },
     "execution_count": 58,
     "metadata": {},
     "output_type": "execute_result"
    }
   ],
   "source": [
    "# array pregenerada de unos de 4D\n",
    "arr_4d = np.ones([4,4,4,4])\n",
    "arr_4d"
   ]
  },
  {
   "cell_type": "markdown",
   "metadata": {},
   "source": [
    "Podemos usar **reshape()** para reformar dimensiones y tamaños"
   ]
  },
  {
   "cell_type": "code",
   "execution_count": 59,
   "metadata": {},
   "outputs": [
    {
     "data": {
      "text/plain": [
       "array([[0, 1, 2],\n",
       "       [3, 4, 5],\n",
       "       [6, 7, 8]])"
      ]
     },
     "execution_count": 59,
     "metadata": {},
     "output_type": "execute_result"
    }
   ],
   "source": [
    "# reshape de un rango con 9 elementos en una matriz de 3 x 3\n",
    "arr_2d = np.arange(9).reshape(3,3) # de 3 dimensiones ?\n",
    "arr_2d"
   ]
  },
  {
   "cell_type": "code",
   "execution_count": 60,
   "metadata": {},
   "outputs": [
    {
     "data": {
      "text/plain": [
       "array([[[ 0,  1,  2],\n",
       "        [ 3,  4,  5],\n",
       "        [ 6,  7,  8]],\n",
       "\n",
       "       [[ 9, 10, 11],\n",
       "        [12, 13, 14],\n",
       "        [15, 16, 17]],\n",
       "\n",
       "       [[18, 19, 20],\n",
       "        [21, 22, 23],\n",
       "        [24, 25, 26]]])"
      ]
     },
     "execution_count": 60,
     "metadata": {},
     "output_type": "execute_result"
    }
   ],
   "source": [
    "# reshape de 27 elementos 3 x 3 x 3\n",
    "arr_3d = np.arange(27).reshape(3,3,3)\n",
    "arr_3d"
   ]
  },
  {
   "cell_type": "code",
   "execution_count": 62,
   "metadata": {},
   "outputs": [
    {
     "data": {
      "text/plain": [
       "array([[[39, 63, 86],\n",
       "        [81, 94, 47],\n",
       "        [22, 51, 66]],\n",
       "\n",
       "       [[53, 84, 89],\n",
       "        [86, 44, 32],\n",
       "        [26, 58,  7]],\n",
       "\n",
       "       [[21, 10,  2],\n",
       "        [19, 22, 40],\n",
       "        [11, 81, 41]]], dtype=int32)"
      ]
     },
     "execution_count": 62,
     "metadata": {},
     "output_type": "execute_result"
    }
   ],
   "source": [
    "# generando un array de 3 dimensiones de números aleatórios del 1 al 100\n",
    "arr_3d = np.random.randint(1,100,(27)).reshape(3,3,3)\n",
    "arr_3d"
   ]
  },
  {
   "cell_type": "code",
   "execution_count": 64,
   "metadata": {},
   "outputs": [
    {
     "data": {
      "text/plain": [
       "array([[[[94, 28, 36, 77],\n",
       "         [52, 88, 44, 57],\n",
       "         [ 3, 57, 96, 68],\n",
       "         [46, 47, 29, 23]],\n",
       "\n",
       "        [[32, 52, 23, 16],\n",
       "         [94, 31, 21, 52],\n",
       "         [67, 22, 91, 15],\n",
       "         [81, 92, 42, 55]],\n",
       "\n",
       "        [[48, 75, 61, 10],\n",
       "         [58, 32, 40, 28],\n",
       "         [28, 79, 38, 14],\n",
       "         [16, 54,  9, 84]],\n",
       "\n",
       "        [[93, 18, 34, 92],\n",
       "         [ 8, 69, 67, 49],\n",
       "         [99, 18, 33, 79],\n",
       "         [17, 56, 34, 56]]],\n",
       "\n",
       "\n",
       "       [[[67, 40, 81, 28],\n",
       "         [64, 13, 27, 12],\n",
       "         [56, 42, 91, 73],\n",
       "         [17, 56, 76, 19]],\n",
       "\n",
       "        [[24, 34,  5, 32],\n",
       "         [94, 79, 85, 14],\n",
       "         [14, 17, 66, 14],\n",
       "         [41, 84, 29, 89]],\n",
       "\n",
       "        [[14,  2, 89,  3],\n",
       "         [19, 96, 44, 74],\n",
       "         [65, 99, 85, 63],\n",
       "         [37, 14, 30, 61]],\n",
       "\n",
       "        [[88, 33, 66, 52],\n",
       "         [72, 86, 54, 58],\n",
       "         [ 3, 54, 10, 81],\n",
       "         [79, 97, 22, 92]]],\n",
       "\n",
       "\n",
       "       [[[63, 88, 65, 64],\n",
       "         [69, 34, 20, 32],\n",
       "         [60, 63,  1, 73],\n",
       "         [31, 59, 33, 17]],\n",
       "\n",
       "        [[37, 50, 44, 55],\n",
       "         [99, 94, 61, 73],\n",
       "         [25, 59,  3, 77],\n",
       "         [80,  5, 49, 76]],\n",
       "\n",
       "        [[21, 10, 67,  6],\n",
       "         [74, 74, 82, 97],\n",
       "         [23, 16, 39,  5],\n",
       "         [23, 52, 47, 38]],\n",
       "\n",
       "        [[70, 44, 15, 94],\n",
       "         [ 5, 92, 26, 59],\n",
       "         [81, 40, 21, 87],\n",
       "         [75, 12, 31, 94]]],\n",
       "\n",
       "\n",
       "       [[[77, 33, 51, 40],\n",
       "         [54, 65, 33, 55],\n",
       "         [ 1, 94, 85, 11],\n",
       "         [15, 82,  4, 47]],\n",
       "\n",
       "        [[77, 11, 16, 71],\n",
       "         [62, 27, 54, 64],\n",
       "         [28, 94, 77, 13],\n",
       "         [89, 91, 62, 97]],\n",
       "\n",
       "        [[63, 23, 69, 48],\n",
       "         [82, 35, 47, 36],\n",
       "         [33, 14, 46,  2],\n",
       "         [50, 42, 45, 26]],\n",
       "\n",
       "        [[37, 60, 42, 76],\n",
       "         [79, 85, 78, 29],\n",
       "         [67, 64,  9, 33],\n",
       "         [36, 41, 56, 88]]]], dtype=int32)"
      ]
     },
     "execution_count": 64,
     "metadata": {},
     "output_type": "execute_result"
    }
   ],
   "source": [
    "# array 4D de números aleatorios en columnas de 4 elementos\n",
    "arr_4d = np.random.randint(1,100,(256)).reshape(4,4,4,4)\n",
    "arr_4d"
   ]
  }
 ],
 "metadata": {
  "kernelspec": {
   "display_name": "Python 3",
   "language": "python",
   "name": "python3"
  },
  "language_info": {
   "codemirror_mode": {
    "name": "ipython",
    "version": 3
   },
   "file_extension": ".py",
   "mimetype": "text/x-python",
   "name": "python",
   "nbconvert_exporter": "python",
   "pygments_lexer": "ipython3",
   "version": "3.12.3"
  }
 },
 "nbformat": 4,
 "nbformat_minor": 2
}
